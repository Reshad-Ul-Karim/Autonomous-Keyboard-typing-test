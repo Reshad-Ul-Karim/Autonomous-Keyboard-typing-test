{
  "nbformat": 4,
  "nbformat_minor": 0,
  "metadata": {
    "colab": {
      "provenance": [],
      "gpuType": "T4",
      "machine_shape": "hm"
    },
    "kernelspec": {
      "name": "python3",
      "display_name": "Python 3"
    },
    "language_info": {
      "name": "python"
    },
    "accelerator": "GPU"
  },
  "cells": [
    {
      "cell_type": "code",
      "execution_count": null,
      "metadata": {
        "colab": {
          "base_uri": "https://localhost:8080/"
        },
        "id": "2zmcBaQdyO1A",
        "outputId": "6a368b28-955a-4373-abb3-d1c9497f3099"
      },
      "outputs": [
        {
          "output_type": "stream",
          "name": "stdout",
          "text": [
            "Mounted at /content/drive\n"
          ]
        }
      ],
      "source": [
        "from google.colab import drive\n",
        "drive.mount('/content/drive')\n"
      ]
    },
    {
      "cell_type": "code",
      "source": [
        "!pip install ultralytics  # If using YOLOv5 or YOLOv8, install Ultralytics\n"
      ],
      "metadata": {
        "colab": {
          "base_uri": "https://localhost:8080/"
        },
        "id": "hmHMCJJMzK8H",
        "outputId": "3d638154-b378-4efe-df73-4d02e3208c65"
      },
      "execution_count": null,
      "outputs": [
        {
          "output_type": "stream",
          "name": "stdout",
          "text": [
            "Collecting ultralytics\n",
            "  Downloading ultralytics-8.3.27-py3-none-any.whl.metadata (35 kB)\n",
            "Requirement already satisfied: numpy>=1.23.0 in /usr/local/lib/python3.10/dist-packages (from ultralytics) (1.26.4)\n",
            "Requirement already satisfied: matplotlib>=3.3.0 in /usr/local/lib/python3.10/dist-packages (from ultralytics) (3.7.1)\n",
            "Requirement already satisfied: opencv-python>=4.6.0 in /usr/local/lib/python3.10/dist-packages (from ultralytics) (4.10.0.84)\n",
            "Requirement already satisfied: pillow>=7.1.2 in /usr/local/lib/python3.10/dist-packages (from ultralytics) (10.4.0)\n",
            "Requirement already satisfied: pyyaml>=5.3.1 in /usr/local/lib/python3.10/dist-packages (from ultralytics) (6.0.2)\n",
            "Requirement already satisfied: requests>=2.23.0 in /usr/local/lib/python3.10/dist-packages (from ultralytics) (2.32.3)\n",
            "Requirement already satisfied: scipy>=1.4.1 in /usr/local/lib/python3.10/dist-packages (from ultralytics) (1.13.1)\n",
            "Requirement already satisfied: torch>=1.8.0 in /usr/local/lib/python3.10/dist-packages (from ultralytics) (2.4.1+cu121)\n",
            "Requirement already satisfied: torchvision>=0.9.0 in /usr/local/lib/python3.10/dist-packages (from ultralytics) (0.19.1+cu121)\n",
            "Requirement already satisfied: tqdm>=4.64.0 in /usr/local/lib/python3.10/dist-packages (from ultralytics) (4.66.5)\n",
            "Requirement already satisfied: psutil in /usr/local/lib/python3.10/dist-packages (from ultralytics) (5.9.5)\n",
            "Requirement already satisfied: py-cpuinfo in /usr/local/lib/python3.10/dist-packages (from ultralytics) (9.0.0)\n",
            "Requirement already satisfied: pandas>=1.1.4 in /usr/local/lib/python3.10/dist-packages (from ultralytics) (2.1.4)\n",
            "Requirement already satisfied: seaborn>=0.11.0 in /usr/local/lib/python3.10/dist-packages (from ultralytics) (0.13.1)\n",
            "Collecting ultralytics-thop>=2.0.0 (from ultralytics)\n",
            "  Downloading ultralytics_thop-2.0.10-py3-none-any.whl.metadata (9.4 kB)\n",
            "Requirement already satisfied: contourpy>=1.0.1 in /usr/local/lib/python3.10/dist-packages (from matplotlib>=3.3.0->ultralytics) (1.3.0)\n",
            "Requirement already satisfied: cycler>=0.10 in /usr/local/lib/python3.10/dist-packages (from matplotlib>=3.3.0->ultralytics) (0.12.1)\n",
            "Requirement already satisfied: fonttools>=4.22.0 in /usr/local/lib/python3.10/dist-packages (from matplotlib>=3.3.0->ultralytics) (4.53.1)\n",
            "Requirement already satisfied: kiwisolver>=1.0.1 in /usr/local/lib/python3.10/dist-packages (from matplotlib>=3.3.0->ultralytics) (1.4.7)\n",
            "Requirement already satisfied: packaging>=20.0 in /usr/local/lib/python3.10/dist-packages (from matplotlib>=3.3.0->ultralytics) (24.1)\n",
            "Requirement already satisfied: pyparsing>=2.3.1 in /usr/local/lib/python3.10/dist-packages (from matplotlib>=3.3.0->ultralytics) (3.1.4)\n",
            "Requirement already satisfied: python-dateutil>=2.7 in /usr/local/lib/python3.10/dist-packages (from matplotlib>=3.3.0->ultralytics) (2.8.2)\n",
            "Requirement already satisfied: pytz>=2020.1 in /usr/local/lib/python3.10/dist-packages (from pandas>=1.1.4->ultralytics) (2024.2)\n",
            "Requirement already satisfied: tzdata>=2022.1 in /usr/local/lib/python3.10/dist-packages (from pandas>=1.1.4->ultralytics) (2024.1)\n",
            "Requirement already satisfied: charset-normalizer<4,>=2 in /usr/local/lib/python3.10/dist-packages (from requests>=2.23.0->ultralytics) (3.3.2)\n",
            "Requirement already satisfied: idna<4,>=2.5 in /usr/local/lib/python3.10/dist-packages (from requests>=2.23.0->ultralytics) (3.10)\n",
            "Requirement already satisfied: urllib3<3,>=1.21.1 in /usr/local/lib/python3.10/dist-packages (from requests>=2.23.0->ultralytics) (2.2.3)\n",
            "Requirement already satisfied: certifi>=2017.4.17 in /usr/local/lib/python3.10/dist-packages (from requests>=2.23.0->ultralytics) (2024.8.30)\n",
            "Requirement already satisfied: filelock in /usr/local/lib/python3.10/dist-packages (from torch>=1.8.0->ultralytics) (3.16.1)\n",
            "Requirement already satisfied: typing-extensions>=4.8.0 in /usr/local/lib/python3.10/dist-packages (from torch>=1.8.0->ultralytics) (4.12.2)\n",
            "Requirement already satisfied: sympy in /usr/local/lib/python3.10/dist-packages (from torch>=1.8.0->ultralytics) (1.13.3)\n",
            "Requirement already satisfied: networkx in /usr/local/lib/python3.10/dist-packages (from torch>=1.8.0->ultralytics) (3.3)\n",
            "Requirement already satisfied: jinja2 in /usr/local/lib/python3.10/dist-packages (from torch>=1.8.0->ultralytics) (3.1.4)\n",
            "Requirement already satisfied: fsspec in /usr/local/lib/python3.10/dist-packages (from torch>=1.8.0->ultralytics) (2024.6.1)\n",
            "Requirement already satisfied: six>=1.5 in /usr/local/lib/python3.10/dist-packages (from python-dateutil>=2.7->matplotlib>=3.3.0->ultralytics) (1.16.0)\n",
            "Requirement already satisfied: MarkupSafe>=2.0 in /usr/local/lib/python3.10/dist-packages (from jinja2->torch>=1.8.0->ultralytics) (2.1.5)\n",
            "Requirement already satisfied: mpmath<1.4,>=1.1.0 in /usr/local/lib/python3.10/dist-packages (from sympy->torch>=1.8.0->ultralytics) (1.3.0)\n",
            "Downloading ultralytics-8.3.27-py3-none-any.whl (878 kB)\n",
            "\u001b[2K   \u001b[90m━━━━━━━━━━━━━━━━━━━━━━━━━━━━━━━━━━━━━━━━\u001b[0m \u001b[32m879.0/879.0 kB\u001b[0m \u001b[31m16.4 MB/s\u001b[0m eta \u001b[36m0:00:00\u001b[0m\n",
            "\u001b[?25hDownloading ultralytics_thop-2.0.10-py3-none-any.whl (26 kB)\n",
            "Installing collected packages: ultralytics-thop, ultralytics\n",
            "Successfully installed ultralytics-8.3.27 ultralytics-thop-2.0.10\n"
          ]
        }
      ]
    },
    {
      "cell_type": "code",
      "source": [
        "import os\n",
        "\n",
        "# Define paths\n",
        "train_path = '/content/drive/MyDrive/merged_dataset2/train/images'\n",
        "val_path = '/content/drive/MyDrive/merged_dataset2/valid/images'\n",
        "test_path = '/content/drive/MyDrive/merged_dataset2/test/images'\n",
        "\n",
        "# Check if directories exist and list contents\n",
        "for path in [train_path, val_path, test_path]:\n",
        "    if os.path.exists(path):\n",
        "        print(f\"Contents of {path}:\")\n",
        "        print(os.listdir(path))\n",
        "    else:\n",
        "        print(f\"Directory {path} does not exist.\")\n"
      ],
      "metadata": {
        "colab": {
          "base_uri": "https://localhost:8080/"
        },
        "id": "bfUhx8wIRHIn",
        "outputId": "1c8d8695-87b2-4470-f91a-fd6be013c0d1"
      },
      "execution_count": null,
      "outputs": [
        {
          "output_type": "stream",
          "name": "stdout",
          "text": [
            "Contents of /content/drive/MyDrive/merged_dataset2/train/images:\n",
            "['keyboard-3_jpg.rf.606c0906fed0bce4fdfcbab34153c7fe.jpg', '61k0Q8JLCEL-_AC_SY355__jpg.rf.fd7de75b99797d0f045848f379e7beab.jpg', '10327_jpg.rf.c50249be7abe7bfa13c5e18a945fa60d.jpg', '41Pa-wY5l6L-_AC__jpg.rf.3871e52b65fe49f1554b500b0ab7a772.jpg', '61gVIcDeneL-_AC_SY450__jpg.rf.eff2f28ae3ef180701cbe24e3d1e47e7.jpg', '10381_jpg.rf.44ba70a365604e34341b9f9409960323.jpg', '10467_jpg.rf.f5c66b301853580a198ca9dac8e7f7d6.jpg', '10401_png.rf.4cfd0b33fbc66f881e8e47fa5f8730cd.jpg', '63_jpg.rf.9af03c1e3a6c7379cc46617d842394d5.jpg', '10386_jpg.rf.5920c45696186082ed6024e4f3cb60a8.jpg', 'Computer-keyboard-108_jpg.rf.91e55d95eda3c41c974b86854715c151.jpg', '41RLf48XWmS-_AC_SY350__jpg.rf.fbad2f9f27b8c1440b44e848a5195a4a.jpg', 'Computer-keyboard-8_jpg.rf.f896951cd9a6d817fd7e4583130c9915.jpg', '34796068_jpg.rf.ad53372fa2beb1fb41fc8d23fbf24205.jpg', '7_jpg.rf.18473f870466a86ec36453a14ddb7f6a.jpg', 'Computer-keyboard-179_jpg.rf.dc1bde74b38b8def0b0b1d55a4ee5421.jpg', '10112_jpg.rf.8fecf53f31aee8c3a88463fb866faa77.jpg', 'Computer-keyboard-122_jpg.rf.12ea26cdee06c64138d0f25fb4df259a.jpg', '10450_jpg.rf.5e7a5c4804906c1316571f4f42773535.jpg', 'Computer-keyboard-95_jpg.rf.a92ac1206af9704b2d2f352d70b4dfed.jpg', '10066_jpg.rf.b0781704d6618a28010985edb5e118eb.jpg', '10289_jpg.rf.1d4f9ee5656c26b5ab394193b8eb696d.jpg', '1-37_jpg.rf.0cafca734b3683f3d1163f15248b1191.jpg', '3fcb20047e8e9c03cd8fb3f0bc5317ee_jpg.rf.d542acb16101efe34344578b68e75b53.jpg', '77_jpg.rf.4acfa0748a3e0c9f4a1b4045d7bb47b6.jpg', '74_jpg.rf.0a9fb308ae6531dcf6d83349a3b3a85c.jpg', 'PXL_20231021_013802465_jpg.rf.719fbaff1e3b402e0850c8ed6612c4dd.jpg', '10353_jpg.rf.381dfa4c16d6cbbaa8f39f13900676d8.jpg', '10345_jpg.rf.20b30e38142f171ede9edc7b87002645.jpg', '10409_jpg.rf.cd3c4896b86ae3f6b349c8fdc44fdf8a.jpg', '62389a291c98b4697cb4ae05_Untitled-1_jpg.rf.0dd8787ca20f7e4f39332099c506ee43.jpg', '70_jpg.rf.f3a5f468774ef96589015bb3c4d5d795.jpg', '10388_jpg.rf.ba06fcbb5ae9c459731975d22c6208ff.jpg', 'Computer-keyboard-158_jpg.rf.2681ffded3be91ecd7e468516c8b0b17.jpg', '61gVIcDeneL-_AC_SY450__jpg.rf.58c72a644f06445d95eb931fb3df5631.jpg', '5b89105ec5d6571b4b251b02ea66b71f_jpg.rf.41ca5c3c6bdd0864895eeb4d123065e6.jpg', '10137_jpg.rf.172df7c7859fee38a249ae4fc6023601.jpg', '619Uo2IeHML-_SY355__jpg.rf.bf5a707595bbae06582fe980c7a2038e.jpg', 'Computer-keyboard-164_jpg.rf.b4c03fd10bd39fdbe6381e55049b2716.jpg', '5b89105ec5d6571b4b251b02ea66b71f_jpg.rf.b0c84c8d342ad04794eb2f9aba611486.jpg', '10357_jpg.rf.c09f251d0e53d6443bbbad221076e349.jpg', '79_jpg.rf.72957932f4c2edb32039dc92cb203313.jpg', '10428_jpg.rf.42f42357a69d156e972715af78fdc6ad.jpg', '10019_png.rf.6797d42302088d0d8e8ca12e8de37a41.jpg', 'keyboard-70_jpg.rf.f84d09f7a588d52a6e574bbdc4d0dbf2.jpg', '7_jpg.rf.e78b68b42548ce62dc85e66e272f585f.jpg', '53_jpg.rf.12e5d9cf508ed47e9cb0760cb72097c9.jpg', '41Pa-wY5l6L-_AC__jpg.rf.0d6f03dbd6dcf3a7cdcca94ea35c5c91.jpg', '10009_jpg.rf.db6fcadfc018dec53c05add3b4b05462.jpg', '10498_jpg.rf.0119d24e7ac0446d9ecfd88009a81034.jpg', '63_jpg.rf.aec736959e0ac4802ecc9b0ccc62ec0f.jpg', '10435_jpg.rf.014e953fa6634c250497d0fceb349d5b.jpg', '3516092-40_jpg.rf.195b883e9ba101bf161cca3bf8d6a78f.jpg', '10366_jpg.rf.407c707023d3c0a518c4aa1f08853c9e.jpg', '41RLf48XWmS-_AC_SY350__jpg.rf.b5af7fc9ec38b24decc78324ca59ca06.jpg', '49_jpg.rf.b605af0e74c790093ca03fd56a3590b6.jpg', '71cngLX2xuL-_AC_SL1500__jpg.rf.6593c64a99ccf167042dd32413a75747.jpg', 'Computer-keyboard-126_jpg.rf.d342affd586e7277bcfc293ab6605806.jpg', '10319_jpg.rf.92687b53ff56d8fa78893fa869a840bb.jpg', 'Computer-keyboard-143_jpg.rf.2759ace641cd42735f723595a2b4ca3f.jpg', '65_jpg.rf.cf91cdc199b839e961568f3559e74867.jpg', '52_jpg.rf.5136e4fabe4e265f51af9f42bbfd52ee.jpg', '51QUDw-0SmL-_AC__jpg.rf.5facb7d6a2a10e8e48ed1038809881a1.jpg', 'Computer-keyboard-116_jpg.rf.2d602407f5164665f6e08c3585620050.jpg', '097855115324-teclado-logitech-touch-inalambrico-alfanumerico-negro_jpg.rf.240c9f4c8bffddb7562b97ee114c3511.jpg', 'PXL_20231021_013355452_jpg.rf.084b26c4a57d82a436888e9eaca4a2d4.jpg', 'Computer-keyboard-185_jpg.rf.115eab03c552a6b6f8bb47f8e48bfa12.jpg', '71-b-tuK1TL-_AC_US1200__jpg.rf.5cf0dbe7380174a9c09dac8e1ae41456.jpg', '10276_jpg.rf.df5e1b5a8eeff51fe7ca28a1e1a5b07b.jpg', 'Computer-keyboard-191_jpg.rf.be516034339ec0f1591d6234d2ae5a5d.jpg', '61f4e728Nabca1830-jpg-q70_jpg.rf.3fe6441e4efd93267831f997a8a4db07.jpg', 'Computer-keyboard-48_jpg.rf.416591e7b1b82238054177757f0d7a84.jpg', '10281_jpg.rf.8f047d3fa86ee1e381ed1be2940997fd.jpg', '10589_jpeg.rf.ff9cac6ec829556d810acd5e791ecb45.jpg', '10312_jpg.rf.77411df012d3525c273f264834b8f012.jpg', 'Computer-keyboard-167_jpg.rf.b9dc873dca57ab30712018d93c6dfc05.jpg', '0a862300443753f7f0b773365f2ace11_jpg.rf.b37f38e8db1b365cc804ee9d3d0803d4.jpg', 'Computer-keyboard-98_jpg.rf.747072c521d79074fbfee17652b0ba07.jpg', '619Uo2IeHML-_SY355__jpg.rf.d89509fcc52f1bb53880c7b72eace03a.jpg', '47_jpg.rf.1e102e8053f8d8772e7d9f638f32028b.jpg', '10512_jpg.rf.309b7b884b5833e0c9ad8bd57319efdf.jpg', 'Computer-keyboard-38_jpg.rf.2f0be2556b95d95b6640ad5465dee45d.jpg', '10296_jpg.rf.7a3bc75217f197960e85c22ee5084538.jpg', '10199_jpg.rf.6f30f70144e2c6c5d4233cead9885411.jpg', 'Computer-keyboard-44_jpg.rf.a81b957569b777589fd8dcb47966dbf6.jpg', '62_jpg.rf.67c026ee8b7489849d889cd73cf3e12b.jpg', 'keyboard-50_jpg.rf.7067dd8794bb8c424582ef6b445ccd07.jpg', 'Computer-keyboard-146_jpg.rf.150708342e5320ecd6e99bdec88bdc92.jpg', '10141_jpg.rf.51d15cc7f7adf2601ac43840f30c8cfd.jpg', '61I96wLF8ML-_AC_SY450__jpg.rf.4b75de9066a03598adceb4121cb46be9.jpg', 'Computer-keyboard-43_jpg.rf.be3de4856d370c525d775ce8b23ee3c5.jpg', '10485_jpg.rf.7f3a3ff1d621584dfd60944b7675d3af.jpg', '10120_jpg.rf.d27247eb53deb206e3a4d95d2db1a742.jpg', '10175_jpeg.rf.47e96bcee0939e3e31b6b23c4b9d1b22.jpg', '10479_jpg.rf.c4ec89787c0a0fac28a3cc72dce73f88.jpg', '57_jpg.rf.757c1a938e40554b52433a87291100a3.jpg', 'keyboard-66_jpg.rf.ef2721e7000fc68c190715215549c3ec.jpg', '619Uo2IeHML-_SY355__jpg.rf.fac1034fb5a7e0b1b1eaf7f8a21d83b1.jpg', '10468_jpg.rf.fb3fdba213fa3f5f82d062477bcda12d.jpg', '10079_jpg.rf.605d76455ba5a8a5bcb2b9737d785ded.jpg', 'Computer-keyboard-23_jpg.rf.7cc0be828d29adaa705db4822619bbe4.jpg', 'Computer-keyboard-154_jpg.rf.656180859c4ca9021e8a88d466c7e974.jpg', '10157_jpg.rf.bff32922eb2bb4e88016419e046a3bb7.jpg', '40_jpg.rf.9b1d2b11d6d1b9b946e9f09bf65e7c60.jpg', 'Computer-keyboard-120_jpg.rf.a1da2027c2afc862b28d358cd5c58bcf.jpg', '79_jpg.rf.aa0dd2f539f5fdbfdd0abc2d40b0d368.jpg', 'Computer-keyboard-90_jpg.rf.8998e7d34c952179c8bc32fb13780c80.jpg', '616yoFQZRdL-_AC_SS450__jpg.rf.20c296083dc9e8bd9a811afbdffd17f8.jpg', '10096_jpg.rf.9390aa66b0ebb2d400f7cdf5ec10f0b9.jpg', '10432_jpg.rf.572476001fb3c8a625833d1731963849.jpg', '10133_jpg.rf.12ea3c7e74f7bd52ed1f0968dccf57d0.jpg', 'Computer-keyboard-13_jpg.rf.9a5a2177f887d28d7c5be0faa33196f1.jpg', '51HbMlTip8L_jpg.rf.c8a6642f379210591cc193c22c751e83.jpg', '51_jpg.rf.903f010df77d43a308a292cd4dc8b8a7.jpg', '3516092-40_jpg.rf.b03dcb5e8dd4005cd2c25fc54bce7369.jpg', '10547_jpg.rf.4f36365a35b54b1ce68c5c73d85682ea.jpg', '10537_jpg.rf.d3fc79de73fad2803d9ac36000cdfb1c.jpg', 'Computer-keyboard-188_jpg.rf.ae25a38d426e15f5f28c43fd68b7ded4.jpg', 'Computer-keyboard-34_jpg.rf.5c7869c440d3440eb66f251d97a130a5.jpg', '61f4e728Nabca1830-jpg-q70_jpg.rf.3c49e3ae75907026fd399868b47c083c.jpg', '10372_jpg.rf.5fa75422afdb14d380f1a8d551fb6763.jpg', '612-TEDv7OL-_SX679__jpg.rf.3821aa9fe2e77bb80efdf1d8158b3a69.jpg', '10503_jpg.rf.5382f43a92d30fadbd2743e584c80428.jpg', '41RLf48XWmS-_AC_SY350__jpg.rf.c40b369dd071a6209ca3cea90a6958bd.jpg', '34796068_jpg.rf.27c5a88e6e67db918eda71c87002e3df.jpg', '10494_jpg.rf.25119e05bb8dbd06bcf03fb9bd24d506.jpg', '34796068_jpg.rf.a1aa0c4116acd856485683b7cfe57fa6.jpg', '71-b-tuK1TL-_AC_US1200__jpg.rf.0c669f2ed5e49d8eb1ae19155f0f434b.jpg', '10469_jpg.rf.53e070cd42e6f534cb3b14f38846d652.jpg', '10014_jpg.rf.189e151855f15f14ca8737efa544897b.jpg', '1-42_jpg.rf.b86972111835920ff5ef6125fc926da9.jpg', '64_jpg.rf.547c57651bc265bebc62e1b7c3ae16a1.jpg', 'PXL_20231021_013817345_jpg.rf.38a9a5531baa4b4e9d83850905703166.jpg', '1-42_jpg.rf.44165f914e654e0bb59e1ce6a9454043.jpg', 'keyboard-16_jpg.rf.30353e4c0217b707f54715e9475ba41e.jpg', '3fcb20047e8e9c03cd8fb3f0bc5317ee_jpg.rf.fde82d51efed20a312530457d5264d3d.jpg', '10581_jpeg.rf.9a2dc14e7014fcb648c2212cadf1ad28.jpg', '10325_jpg.rf.a327c64c72d302c422217bf1f5d7ccb8.jpg', '34796068_jpg.rf.2bf6e90f342bd90293792e85666d32e9.jpg', '61uLb4jFqoS-_AC_SY450__jpg.rf.040ae99f44b8c8d9a88886ef470691c6.jpg', '10529_jpg.rf.06456a215a10029fad3b4a54708fae21.jpg', '41Pa-wY5l6L-_AC__jpg.rf.d38b28cf4169a153b115b93d8ff514e6.jpg', '10135_jpg.rf.18197686d8cb232263e37075ab62af3c.jpg', '10050_jpg.rf.f6db9e98741ce0d7e59b0b0514bd6d31.jpg', '1-42_jpg.rf.6e5917bfa0822f83929cec4897aa8468.jpg', '10509_jpg.rf.cb5b3989db96bc6e46e9c1009b4c846e.jpg', '10272_jpg.rf.1861522f9cdde4d15ffa563553cd6086.jpg', 'Computer-keyboard-114_jpg.rf.adf9fe69e0d21e844541636f8ebc706e.jpg', '10592_jpeg.rf.7386aa5aab344f3942693ca6858be0f8.jpg', 'Computer-keyboard-74_jpg.rf.b3997304bac21ea91a96299ff226ed50.jpg', '40_jpg.rf.8b2cff5eb8ac84803540f92658b20932.jpg', '10178_jpeg.rf.3e06922d5b770b4ef3f9f75fd269ec81.jpg', 'PXL_20231021_013810382_jpg.rf.a908ceef0a42b11937aa1a66bb5ff7b5.jpg', 'Computer-keyboard-46_jpg.rf.930464c002449c02f5fddd04c7bc3c6e.jpg', '10277_jpg.rf.e75aea7c1affc2c82385d85d142a9311.jpg', '5_jpg.rf.6ed0be4c1c85701cba31ddaed155234a.jpg', 'Computer-keyboard-26_jpg.rf.55198fd688059acc3fa54dc2c26a750b.jpg', '10181_jpeg.rf.4ba3620a2d4f6da78302e8872755132a.jpg', '38_jpg.rf.30ffaf79a5ab10967badb5922be77614.jpg', '10470_jpg.rf.4f754299e84e7e174c9cbe208ef4ee86.jpg', '710xZexM4sL-_AC_SY355__jpg.rf.f767809e584605890d1c1705dd7debad.jpg', 'Computer-keyboard-99_jpg.rf.f17c5e9431f703ba9eb223182d119dad.jpg', '1-42_jpg.rf.8f3b23096b159f2cd12e78cc51955980.jpg', '10541_jpg.rf.3632d5aa2ee7ca1c47921e764c766fae.jpg', '10180_jpeg.rf.18e9d85d3e60e89d11891112921fdc00.jpg', '10071_jpg.rf.faa1e5ed778acf058b2d81477cd26803.jpg', 'Computer-keyboard-196_jpg.rf.ad2ea19135642a81ee2760fb22dfe569.jpg', '10129_jpg.rf.9a0960b88c40d350825ccb3d90871ab6.jpg', 'Computer-keyboard-142_jpg.rf.98b759cc31c6ebac849b791fd257ea06.jpg', 'Computer-keyboard-101_jpg.rf.064fca8b6798fb7c6be4f7a9b655a053.jpg', '7_jpg.rf.221c25100dbdd306e53fdc24c6acc22e.jpg', 'Computer-keyboard-35_jpg.rf.dcc0c9ae8480f44cc079a99d5824144e.jpg', 'PXL_20231021_013605547_jpg.rf.c31292d35532ceef8379cd3fd550f1a5.jpg', 'Computer-keyboard-16_jpg.rf.7b1ef44a63af1d0ac5ca0c6aa939b6d1.jpg', '10476_jpg.rf.f4c14b5f4bda1811ba82398d81b905f0.jpg', '10052_jpg.rf.fb269d5e2a5f13e638268945b9fd2d4d.jpg', '10142_jpg.rf.828e54cec2b26e7a4d048ca1c359c05d.jpg', 'Computer-keyboard-156_jpg.rf.2fd3ba2467a2ed1f924aaa23a03a0cc8.jpg', '10393_jpg.rf.5cf81c16eeebca7b1090391e46682fec.jpg', '46_jpg.rf.2fd690793ee9983ce588c9f38de1207a.jpg', 'Computer-keyboard-187_jpg.rf.b0abc30087d2c3f2336f10945a20ca78.jpg', '10418_png.rf.cc57de93395a748e432c4e83ff9dd09a.jpg', '10171_jpeg.rf.143e38e4767e2d29259e0c94b5294bd5.jpg', 'PXL_20231021_013737231_jpg.rf.a83acb4abbacfcc678231214ff001f4f.jpg', '51QUDw-0SmL-_AC__jpg.rf.06f04fbe405e652530e97cf20098013b.jpg', '10200_jpg.rf.35aed10014fd40154b6e257c2727fcf2.jpg', '10501_jpg.rf.5ae7f8482213ce1e9a8efe1f3c24cc1b.jpg', '71cngLX2xuL-_AC_SL1500__jpg.rf.d86dd0fc0cea04cdb076a30d927c770b.jpg', '4_jpg.rf.5f9636e05d2313e77db5f878ffc178fe.jpg', 'keyboard-28_jpg.rf.d0d66c93a16e701fba394b562e15d514.jpg', 'keyboard-67_jpg.rf.656cdd06c33ec29840a08450f30aec43.jpg', 'keyboard-72_jpg.rf.082a0c1cc0f4376e5e483cd977e439be.jpg', '5_jpg.rf.035d79e5dc6b35a6f6137a1643880a28.jpg', '61gyG58sVSS-_AC_SS450__jpg.rf.a4f7768060e544e2e65a44cab8771024.jpg', 'Computer-keyboard-28_jpg.rf.f929633ed876eec57ae0e174def6fb3a.jpg', '10045_jpg.rf.34e7c963dcdaf6d6aa0445019b3b4ce7.jpg', '61uUiPHWwxS_jpg.rf.2b1f4e5f4aea6e5ceb80f0a49784403c.jpg', '10161_jpg.rf.806fbbf598a71e64a3cc07fdb0d36c9d.jpg', '10229_png.rf.697ef73baa34fc6505670f41eedaeef1.jpg', 'Computer-keyboard-109_jpg.rf.7b0245698fbc3092fc45e534704928fe.jpg', 'Computer-keyboard-53_jpg.rf.7c6cb2ae9fab42e07aa5166cef557c00.jpg', 'Computer-keyboard-11_jpg.rf.0241883b5e32527bf5caea8406120d97.jpg', '619Uo2IeHML-_SY355__jpg.rf.f06c096a66b092040cb9ac64000e4c10.jpg', '10559_jpg.rf.de033d77503ee1f265289bac26b4a2cd.jpg', 'Computer-keyboard-200_jpg.rf.3fa816136b76ff6d62cd48b661189b22.jpg', '39_jpg.rf.2b7b31d0d9a747847ad472928a7a0d21.jpg', '10452_jpg.rf.45fbac63cf9b01a30762b377dc0c0ac7.jpg', '10560_jpg.rf.a66976cbc45b57b81abf03c6f1bb59ce.jpg', 'Computer-keyboard-115_jpg.rf.f1ff0990cd341439b00ed48b5b61084f.jpg', '70_jpg.rf.47514897b56fae428c8cfd25b4eab978.jpg', '10090_jpg.rf.4b355cfdae6b29d0ccdb6e0a3e78440f.jpg', 'Computer-keyboard-47_jpg.rf.b46a91954a8cac010afa72e1a473fe05.jpg', '10558_jpeg.rf.74ca9102e0758d84b3239b676561e572.jpg', '10543_jpg.rf.a4d9e701be73faebecb7c91ea243946b.jpg', '10087_jpg.rf.813e1ce6ec7961ecfe0ebc634990e87e.jpg', '10127_png.rf.a3af4d3f172573386c1235a0e2d9bd24.jpg', 'Computer-keyboard-131_jpg.rf.4057d7760b9aad6a227f427f7ad38baf.jpg', '710xZexM4sL-_AC_SY355__jpg.rf.10c80a185d310f0d742b96fecf9dd829.jpg', '10322_jpg.rf.7c2ac6dd204da8f0ea443bf4f1324915.jpg', '1440533g213-prodigy-gaming-keyboard__1__33dc7f51d85e4ea3b8d18e5ad4508c9b_jpg.rf.0115f08d8fbf22a4599e96159dc2cb59.jpg', '0a862300443753f7f0b773365f2ace11_jpg.rf.e3ea3fd2635b1d152bd628cf16c54638.jpg', '10374_jpg.rf.4a3724be7a9ee4da81b781a1f90342ac.jpg', '41bS3vmqoOL-_AC__jpg.rf.44d23a3aee8ed8a5f9be735ae372ed3d.jpg', '10027_jpg.rf.61aaf24985491b0c8ba1acb6f50fb5a8.jpg', '616yoFQZRdL-_AC_SS450__jpg.rf.440fa75b89ee465f00e6bffcebcdcc9d.jpg', '77_jpg.rf.b02ad2e3dc00b59eebb149e9b0364c55.jpg', 'Computer-keyboard-75_jpg.rf.a5e6d777432cd3eb9074a8d9c1e03cee.jpg', 'Computer-keyboard-102_jpg.rf.83a91f7fcc42fb11a0373274b4c31b83.jpg', '10557_jpg.rf.e7750f712f4941d8464a5ecd9a330847.jpg', '10486_jpg.rf.6946fdcd79e30854b7d4005bcf67e967.jpg', '097855115324-teclado-logitech-touch-inalambrico-alfanumerico-negro_jpg.rf.fc0afd656ccf265ded930e698ad2ab72.jpg', 'Computer-keyboard-130_jpg.rf.eac55b378dbfeb76dee7992f05fb1517.jpg', '41xmKGlZJ7L-_SL500__jpg.rf.7e2155e264caff8a561a17541dad5233.jpg', '10575_jpeg.rf.9b69de470b012c665df1401c7fc64114.jpg', 'Computer-keyboard-163_jpg.rf.d0d09828d6b1991f1682a7ed36dbe80c.jpg', '10313_jpg.rf.86694c7d0e006f1a898ea0732928c0db.jpg', '75_jpg.rf.df642e0a224a4e91a1e1cfcceaf21230.jpg', 'Computer-keyboard-182_jpg.rf.7cfe0fcdebf8beab9f7f12adfd677aa5.jpg', '77_jpg.rf.85f7efaf149c88dc7a687616744dc334.jpg', '10005_jpg.rf.ad7ea0d7727ac681b4829def0734fff9.jpg', 'PXL_20231021_013336844_jpg.rf.db57aabc2a4566261d17d8f413aecfa6.jpg', '10149_jpg.rf.362c990c267e0b9fba3028fc5d52a6d1.jpg', '10113_jpg.rf.37c46502e876c9633a6df918d2cbfde8.jpg', '10378_jpg.rf.5f0110f140d7c199b34d980e729b0835.jpg', '10299_jpg.rf.455e9563774a539cc68ffc5899ff4ced.jpg', 'keyboard-5_jpg.rf.fddae168d4adc5ac1ee6271133cbc83d.jpg', '10104_jpg.rf.e98ed7e6261b9686ea132da78967e4e8.jpg', '10300_jpg.rf.ac52fa88ecb9eaacb923fbffde632e19.jpg', '61k0Q8JLCEL-_AC_SY355__jpg.rf.4254cab776477fc3773c89b3ff5137e9.jpg', '10376_jpg.rf.23d482ed896878e53814377e5a250c94.jpg', '10305_jpg.rf.044d36edb4814d57393beea5913d1991.jpg', '10368_jpg.rf.bb77db01096c19acd73be2633af0e0d1.jpg', '5b89105ec5d6571b4b251b02ea66b71f_jpg.rf.1f5df0e6178a9e2a098bd94ef16fab6d.jpg', '55_jpg.rf.a06f876beaac59bf79cdb51a1038a758.jpg', 'keyboard-17_jpg.rf.aa419770fc9919c2697ecf5c532bd467.jpg', '10208_jpg.rf.f21a33df691588bf4ee5f144ffa498fb.jpg', '10459_jpg.rf.57193c5ebc111913166b3ca9c4645a9b.jpg', '10584_jpeg.rf.e2751270446ebaaa81ea2098b75500e5.jpg', 'Computer-keyboard-107_jpg.rf.f9ed9781a638bdd76141ba607de8a155.jpg', '43082-970_jpg.rf.e9b4702e9ebee6697c017a05a1bd1299.jpg', '15179407541504840-jpg-gallery-big-iext53317928_jpg.rf.299cb0f79389ba7108790509bc7d082d.jpg', '10139_jpg.rf.efbacfe9ac4ff36ad9c27fb6324a0ef9.jpg', '10586_jpeg.rf.0c150f30e7ea9a5a2e8451a25f1e6125.jpg', 'Computer-keyboard-104_jpg.rf.ba89c97f49f635118bad3c7b3218d2bf.jpg', '612-TEDv7OL-_SX679__jpg.rf.acec0fbee75f8d0d06e06c7e28dfc448.jpg', '3fcb20047e8e9c03cd8fb3f0bc5317ee_jpg.rf.a2527dc36a01588ec93619da087b4081.jpg', 'Computer-keyboard-79_jpg.rf.5f4f158010abab2f4c5a61e5535fc90e.jpg', 'Computer-keyboard-106_jpg.rf.5c7a2e90360919e4aa23e9b2771d4fbd.jpg', 'Computer-keyboard-2_jpg.rf.761cf3bf2d3e41c613596bad7dec9fd2.jpg', '51QUDw-0SmL-_AC__jpg.rf.a155ab03d36ad9728c4e6e40d56a07e2.jpg', '61k0Q8JLCEL-_AC_SY355__jpg.rf.44e0c2f44c4180ba37a0bf86a7519856.jpg', '10413_jpg.rf.175da8485870e6ef717ebc1af1a445a5.jpg', 'PXL_20231021_013552392_jpg.rf.a050e6884a540cca9cc3c2d13c7dca85.jpg', '72_jpg.rf.5dbf30015458eb2396f52ae06411cefb.jpg', 'Computer-keyboard-150_jpg.rf.7b5579684398de41739d389262f856c3.jpg', '74_jpg.rf.0e3921ae7d1c34051eb8c6af8b7b5e35.jpg', 'keyboard-52_jpg.rf.bc10408005fbbea6f5a0046ecb5565c1.jpg', 'keyboard-71_jpg.rf.89f7fd67531e8f07b5d6940a7b5a7b80.jpg', '62389a291c98b4697cb4ae05_Untitled-1_jpg.rf.abd1fa6e9fd265dcafc0a9dbd8c5c15b.jpg', '10496_jpg.rf.28f51906839f20349bd025062fc976f6.jpg', 'keyboard-12_jpg.rf.c2d1b735ab1a974d8a7730f33c959155.jpg', 'Computer-keyboard-177_jpg.rf.ee7f9f8c6c3cdf0cbe22cbc3deaca25b.jpg', 'keyboard-61_jpg.rf.2c8b12a23fe54eff6e9eb579992d581e.jpg', 'Computer-keyboard-144_jpg.rf.ff85bddb6f4b258daeef646cad135e96.jpg', '10270_png.rf.ec02b8792eecdfb89a635aed01a50873.jpg', '38_jpg.rf.b8f3df3ac9e28b09bae5435e215e7332.jpg', 'Computer-keyboard-86_jpg.rf.8d217685f7bde4251ea0e3e5d4ff4136.jpg', '10324_jpg.rf.7ba5c71a36ed09c84ef08f07228c7647.jpg', '-_jpg.rf.98e9fd979e2acd8aed27d95c1bb6b72f.jpg', '41Pa-wY5l6L-_AC__jpg.rf.b71d36191b3ad14c9a965d63fe33e246.jpg', '612-TEDv7OL-_SX679__jpg.rf.be7a898c521b1a7399d5b3972a8530e1.jpg', '10088_jpg.rf.fbd4eb8a5d8bf4eedba2875928339529.jpg', '10002_jpg.rf.fc4e6bb852b80c35281f7a683805b96b.jpg', '23-333-046-02_jpg.rf.c42718f6667ff2b8377ffceb5e18b924.jpg', 'Computer-keyboard-139_jpg.rf.acf5fb511c3c21368e724ed8c1e7bb47.jpg', '10155_jpg.rf.a78a540cc6848ab049bd1b0c0dce8eb5.jpg', '78_jpg.rf.53b495b9ef0fc641fc1dda8871dcd1c0.jpg', '10548_jpg.rf.c59820621791caafb18a9cff543a6877.jpg', '10336_jpg.rf.dc7b31bd12ef19b1a1840e66bb6c1aa1.jpg', '160441-photos-keyboard-free-photo_jpg.rf.f0aa2302fce13ceee22d44679b170d95.jpg', 'image_4566_png.rf.2a9de924061b5dd6a9fb569652c35b53.jpg', 'image_4812_png.rf.ec79ff292f23794c950e7122d8b7bfa4.jpg', 'image_4408_png.rf.6d2f1366f088bc97027e6f34ff449525.jpg', 'image_4142_png.rf.6290ba4a412e5aab3f33216a414f5642.jpg', 'image_4945_png.rf.745d1eda5d6a49f2b435ff31a43872cb.jpg', 'image_4753_png.rf.4822edfc59cb7197e314c127c9fe7694.jpg', 'image_4587_png.rf.8c1f0229cb2ce5d29a5e1b3575e526f2.jpg', 'image_4446_png.rf.fa16062389caaa25716841cffe7e9493.jpg', 'image_4614_png.rf.9be47df08f58940ca41892221c2547d6.jpg', 'image_4105_png.rf.4bbd7711948725abc45970c1192f0ce8.jpg', 'image_4742_png.rf.87883bcab7addf10504e49b1660a424f.jpg', 'image_4227_png.rf.da6dac1df92f2b9c9034452e7da32aa2.jpg', 'image_4847_png.rf.118f58a68fc6766b796fa57767802bf4.jpg', 'image_4215_png.rf.ff7c677536c6ffd5962f77db9fdad3eb.jpg', 'image_4602_png.rf.5bc7347c8cd5249e669f700b00a10bff.jpg', 'image_4352_png.rf.8d64b9ad97e025b08b53bd1fabac0686.jpg', 'image_4097_png.rf.c302232c9301044a784317e10974316f.jpg', 'image_4836_png.rf.e19b54e8e634be52bc232fd9c8269028.jpg', 'image_4739_png.rf.c7fc432c6f31c8b04da8a8c334c164b3.jpg', 'image_4472_png.rf.0ecaf312c9b7ef4bc2c44a49cf9240b2.jpg', 'image_4071_png.rf.96632be450da403296e25e8b6bd12582.jpg', 'image_4269_png.rf.f0fd7253ee12c5bbc68992b6f7ab9d5c.jpg', 'image_4932_png.rf.2b6216e9275ef9d43c8e2a619518d6bf.jpg', 'image_4709_png.rf.52383902d86419bd5e59783fdef86431.jpg', 'image_4510_png.rf.8a54d5b6c1fba692e84b02903e591281.jpg', 'image_4346_png.rf.c5c2c88ffd7327353a9871f10cdc488c.jpg', 'image_4464_png.rf.e3660775c6243a65855af1f8174459ac.jpg', 'image_4865_png.rf.19a257932a736f09c750ba3e3c1ee633.jpg', 'image_4816_png.rf.1ef7165f18b231d52b12bf868e29052a.jpg', 'image_4382_png.rf.0fea09571b5b18bd8fc7824069ffef00.jpg', 'image_4211_png.rf.131feafc3dcf4059967a786aab757769.jpg', 'image_4851_png.rf.be15ebd50c22c8d620c0ad36083e99ef.jpg', 'image_4849_png.rf.8409405646f5349499db0c088724168d.jpg', 'image_4428_png.rf.ffa44806e9a31c4a654882cac9745f67.jpg', 'image_4339_png.rf.681016a7463633ef0ab6d3f9e4dcb0ea.jpg', 'image_4076_png.rf.6e23d1494f3f6b1db1318897ca02409a.jpg', 'image_4410_png.rf.55dfbfd785723389cb24e08c7c635ef2.jpg', 'image_4777_png.rf.1e3d4aad64d1f2c47135907c668b9548.jpg', 'image_4318_png.rf.d46ecea2f7afa4a4561305c2f148f121.jpg', 'image_4467_png.rf.cc59792df901a00cb9349bc22d292e2b.jpg', 'image_4989_png.rf.f8360a083289c52cd066f172f344ee04.jpg', 'image_4532_png.rf.3a516993b0bf4634344ff92bb02198ac.jpg', 'image_4101_png.rf.ab3200539429d176c725f195ec6e8e6e.jpg', 'image_4568_png.rf.22ffc44fdcbd65bd9795b3fb0da2caed.jpg', 'image_4931_png.rf.49443ca4e5c5f5f439c921df7e85ccb7.jpg', 'image_4239_png.rf.2526c5452aa19c382e00f976d71ef466.jpg', 'image_4540_png.rf.a2dff47342d2afa3dc95ac703f4d68d7.jpg', 'image_4048_png.rf.160ba67ad766757127c405ee63e79a80.jpg', 'image_4720_png.rf.71db823fde49e417b9dd6082f3403c5d.jpg', 'image_4761_png.rf.8d429b8ec93c41aef80abf1aaa8f66ae.jpg', 'image_4955_png.rf.653d8635e2c0bf2267975ff6be99d6ab.jpg', 'image_4517_png.rf.420069548738508ba9a2215468cb2dce.jpg', 'image_4305_png.rf.dd5b8df246a3091343c2bbb20b82dcba.jpg', 'image_4867_png.rf.fe471d8302a53a3d579c0d9569b321d7.jpg', 'image_4638_png.rf.bd3dccaec1ffb14a97d411ae92420c40.jpg', 'image_4460_png.rf.78c66f179ac06f476c0685024b951e27.jpg', 'image_4547_png.rf.57bf51bd931a8dbf34b97881b6ed2f69.jpg', 'image_4620_png.rf.ca705b83816ee0fa427a46965d5ba587.jpg', 'image_4537_png.rf.9bfe1ea162b800294a7ab64f8b6ee245.jpg', 'image_4035_png.rf.af1d37d06564c0e21c9df2afbf1ae141.jpg', 'image_4907_png.rf.0ecd457bdab8dc975e03c7fdf371b7d6.jpg', 'image_4675_png.rf.4e67a668813533b55029911ab374a682.jpg', 'image_4672_png.rf.d27b2d8101ae864177804e6e49e755e7.jpg', 'image_4725_png.rf.eba16bd33d3049101eb442e72201866e.jpg', 'image_4205_png.rf.aa891f5cfdc2f2256a2c688eac30fbab.jpg', 'image_4841_png.rf.d19a68b69b5e853cf09d6538aeba2e94.jpg', 'image_4846_png.rf.c845f015b5f40b234f272d08fe2b5342.jpg', 'image_4185_png.rf.06b01347ac8a9580a4bfd734785575b2.jpg', 'image_4952_png.rf.1b31b2c8730e5accb1b8b262070b0509.jpg', 'image_4664_png.rf.524cce2500b5310070a7a2c731be1c3c.jpg', 'image_4236_png.rf.e293a95702e400639e3f2ce22878b3f3.jpg', 'image_4730_png.rf.4e54f2a5d600efb6d081d0c4e86012ae.jpg', 'image_4089_png.rf.336543d25cfe291024800f1273c9eb1f.jpg', 'image_4916_png.rf.645641769f5e23bb5657605d44ee06a5.jpg', 'image_4431_png.rf.07ed5992bbf990692413eb095045a877.jpg', 'image_4906_png.rf.cadc7dd87e35d3f269a3a7270ae8906a.jpg', 'image_4054_png.rf.fe88bc6ae82eb7afad7ef6c4a4ff33bf.jpg', 'image_4833_png.rf.0a050afe1d8d26d3388a9cc7de923c8f.jpg', 'image_4336_png.rf.a94c032ba8a1226fe4c37d4f16ffde78.jpg', 'image_4728_png.rf.a9457bbdefa5afa502eddb9e33774259.jpg', 'image_4782_png.rf.b2f74d35a00df13846c34ed08993ac93.jpg', 'image_4996_png.rf.6f8f64f71e446179b077052111754776.jpg', 'image_4769_png.rf.ae8f725143bf26fd9ce3685b950daacb.jpg', 'image_4098_png.rf.374247f50969aa652f41a002726970f4.jpg', 'image_4037_png.rf.f96d709e3982c69de650684f1940fd5d.jpg', 'image_4763_png.rf.339b52e631879cf687a951e54cec6e63.jpg', 'image_4734_png.rf.1999f752451d83a0a9364df6dbd588e4.jpg', 'image_4565_png.rf.b9698a1d4f10f638d5f2e3a24543e3c9.jpg', 'image_4823_png.rf.343eb7755c28a0e675b32186d50161bf.jpg', 'image_4426_png.rf.de7183f28af0329be18f0f599379d2a3.jpg', 'image_4251_png.rf.e29c9b64723a5c3afaf1071d0b40dd33.jpg', 'image_4705_png.rf.0d8555689412e0f56a20bdb5bde53ea8.jpg', 'image_4640_png.rf.b6f79e88b6f61a629e013291d9d7ddfc.jpg', 'image_4184_png.rf.4cdce0f5e06c426b1d2e6765ce87dd38.jpg', 'image_4584_png.rf.17bda6ec84a5e0b004ef32e615bba8cc.jpg', 'image_4122_png.rf.d96551200615b0712df088eb8b231cff.jpg', 'image_4281_png.rf.033f01d233d05ef723d5883c38696f78.jpg', 'image_4553_png.rf.4fcf8787ce5a0dcc806375d80bc79abf.jpg', 'image_4448_png.rf.f418ab5919e33134f38a8c3aa7ffe367.jpg', 'image_4092_png.rf.e77600fd46f8d963d97eb8fb73cc7b94.jpg', 'image_4286_png.rf.f48aebef4dcb5ec505b732eac199dca8.jpg', 'image_4024_png.rf.b1413b452671ed26630a6986ea22b232.jpg', 'image_4233_png.rf.3f77df2da896a7d5e141c089c6005754.jpg', 'image_4512_png.rf.cb186af9c310f990b651d175e609cf10.jpg', 'image_4287_png.rf.cf94de1915cf5084841fd8dd87b6e72d.jpg', 'image_4056_png.rf.2897cf4211576955cc143dd21b1e2cf9.jpg', 'image_4068_png.rf.9499372fe2d7e1c762491885b801d621.jpg', 'image_4567_png.rf.e372301d9e6a145ea630eaa690e0ab10.jpg', 'image_4843_png.rf.750c6737f73ecbe8d8520cb19acfbf7e.jpg', 'image_4031_png.rf.4d242b16a56dcbced2b3aaa64470f056.jpg', 'image_4608_png.rf.ee1ffdd830362f41a5f8c8f711639b12.jpg', 'image_4904_png.rf.d27a19496ed42d9a85b1752f0fa30df6.jpg', 'image_4319_png.rf.aa38a19bc9a6860867cc502ddedb6d7b.jpg', 'image_4756_png.rf.de5a09c4007baf32604f0c98b394b0da.jpg', 'image_4819_png.rf.37eefb690154ff453cc5efe62da8534b.jpg', 'image_4910_png.rf.b898c13ecc862c008b18d42d55d91124.jpg', 'image_4327_png.rf.66bad16b4d9193724d41b91f94726cc0.jpg', 'image_4285_png.rf.b73711434d09da4c799b3606c4cb4562.jpg', 'image_4120_png.rf.a9169a8d5404f561f6b577db6abb5224.jpg', 'image_4493_png.rf.7107b48b7f268d6593127d8a734e53fd.jpg', 'image_4736_png.rf.64642800d597b3ed377feea8dd5d3237.jpg', 'image_4420_png.rf.d5442f50eece3d9969bc2b2ca482a4b2.jpg', 'image_4613_png.rf.7ac9106ffbe80472bdeed8da435f53af.jpg', 'image_4786_png.rf.0d553d519d5fb172f3783415360eb467.jpg', 'image_4789_png.rf.82aa12d667c157666a0cdd4aded71161.jpg', 'image_4856_png.rf.27b830babbc3398e324825b00a027b82.jpg', 'image_4997_png.rf.6a95b531e1727ab9d211e800207dffd8.jpg', 'image_4181_png.rf.1f7076b50308f2939ab04de269ccbdd0.jpg', 'image_4870_png.rf.9cc002bc4462f0202e8ec9f309229913.jpg', 'image_4045_png.rf.e83086aa873a93aa02a71b9e9c1df398.jpg', 'image_4852_png.rf.5121f4ae1e6e568ca8d30fd0269a299b.jpg', 'image_4754_png.rf.9756e9e3af3bce60a3c856ec597da3c0.jpg', 'image_4477_png.rf.db9e1bdc0a8c0e04e9898aee824c0835.jpg', 'image_4138_png.rf.51a2206f94963be163061dce1fc59f1f.jpg', 'image_4503_png.rf.932aa08c21782567ae1d3611b5a82f16.jpg', 'image_4794_png.rf.c7db22e22e3d52aedf80e1e6d1f891fe.jpg', 'image_4362_png.rf.b5b093e4750e1cd6d2fe014fe8495821.jpg', 'image_4183_png.rf.524126959ac8060f663f1e7427ea02f9.jpg', 'image_4950_png.rf.c595c5ae945960116aa4c3db3c115951.jpg', 'image_4855_png.rf.573759b658e405e9572ee9ba677df099.jpg', 'image_4349_png.rf.5d025b3ad6bb52fb07b5d29580943704.jpg', 'image_4263_png.rf.fe48dcf37d3346a03e335f1d49afa022.jpg', 'image_4009_png.rf.d2a89cc42401968f4114c8d08011a8fa.jpg', 'image_4992_png.rf.2a3d6f31c4081a263b0ed1aa7336d1f6.jpg', 'image_4609_png.rf.5989fcd49de30f29c017f2819a40367a.jpg', 'image_4201_png.rf.d7cebca4039a058dd00d045ef0017a4e.jpg', 'image_4190_png.rf.dd6657fbd6c1b08a3da1334e87feb037.jpg', 'image_4447_png.rf.62bae8e49a5e8152845427a0f452b428.jpg', 'image_4949_png.rf.460e6fec4437fb0dcd6801ec115dab28.jpg', 'image_4117_png.rf.7a48be30b4e9e220a62eef504200aeef.jpg', 'image_4834_png.rf.aa82a54a03a9254b73b43fcb97df9fcb.jpg', 'image_4563_png.rf.71f235289c5449d2fb568e847c3b5242.jpg', 'image_4407_png.rf.5a7595582d180c52c2d8df230532e8d6.jpg', 'image_4192_png.rf.bff67facc454eb8aee729ab6971a0221.jpg', 'image_4220_png.rf.da9e88ddfb88bd0e203c3a82f3afb003.jpg', 'image_4897_png.rf.c2166f646d08a90292adac50dd9cb585.jpg', 'image_4180_png.rf.f29cc8ff4365ce94a61a47b6562bc960.jpg', 'image_4541_png.rf.403951f13b0b5c5399d4eb9a55959af0.jpg', 'image_4501_png.rf.cdb7cea62f01c70bb2691f26eb773cad.jpg', 'image_4008_png.rf.0cdb8b541f7772393ca0466c6369cc24.jpg', 'image_4564_png.rf.8d35fc9034754fae0d29fee107d4cfd6.jpg', 'image_4225_png.rf.fdfadd08a3eabfd86e81cd1b85a07efa.jpg', 'image_4764_png.rf.5b2696efcb31a852be0401397370b052.jpg', 'image_4401_png.rf.142e6fdc084bb449f19fbcbd315d26af.jpg', 'image_4882_png.rf.3548e4c19acaac08c266410eacf43e67.jpg', 'image_4977_png.rf.d5e7732ef8542740413fb47395eff272.jpg', 'image_4170_png.rf.5cdabe95630fc1cca37c1005d3b8538c.jpg', 'image_4061_png.rf.fba631ebf1411d2ae60a7c6d3bae4dce.jpg', 'image_4074_png.rf.2504d7dfebdfbe8c40012e4eea96878b.jpg', 'image_4912_png.rf.711f3409be1f4294ad91d73e05541533.jpg', 'image_4197_png.rf.6872168a7ce3479229b6b359b6f13430.jpg', 'image_4962_png.rf.20e5cdefbd2fab91f9a704146f8e7f4b.jpg', 'image_4110_png.rf.9aa94c0a85e4b09da3eae821be011bb4.jpg', 'image_4773_png.rf.8829e88b25e2df02a4e41757e4e62ab6.jpg', 'image_4392_png.rf.df8a7895a2e5cc91963a3710d4f1fe81.jpg', 'image_4631_png.rf.f75465674396955a81b75c7dba535ab0.jpg', 'image_4274_png.rf.0f435ba5d0221fdd8879d0ea5ea012bc.jpg', 'image_4958_png.rf.0d8c6127a065942fd631e57a17b99428.jpg', 'image_4255_png.rf.0be43d9e390c8eb57bef0386cc5806a7.jpg', 'image_4829_png.rf.c0aac02b770366de970bf64b460e3e12.jpg', 'image_4981_png.rf.fe78c18dda1c82279b81cff97f0390bc.jpg', 'image_4718_png.rf.fe6fe4c8e701a7ed7ba8e160e626d21c.jpg', 'image_4750_png.rf.75380bd7b730ef578e45de9862de7ff9.jpg', 'image_4069_png.rf.fac096bed810ca097eb8b61d91d52a01.jpg', 'image_4206_png.rf.11ef43695c011c602acee2e4e64c5783.jpg', 'image_4656_png.rf.2baf575e10b9fdb120a845857c641878.jpg', 'image_4990_png.rf.a40d167bf64ae5094364881e2b0d7374.jpg', 'image_4878_png.rf.49499c6ce26873971d2b2c0ad5afe671.jpg', 'image_4147_png.rf.41436cfeae0ddc45f7a3860d8ee80e3c.jpg', 'image_4678_png.rf.23190cfe32934147735b247f0da9d509.jpg', 'image_4043_png.rf.5b5d0832c1f4ad7ff941c3e0c93120ae.jpg', 'image_4497_png.rf.7cab17ab63e30d1170dd533f9f30e9d7.jpg', 'image_4986_png.rf.16b019fbb4e3588f7621b40e40d3cb4c.jpg', 'image_4154_png.rf.0a9e8d15b663555a55a471f20d0042ef.jpg', 'image_4328_png.rf.91072f18e2cf2a90ada14960d9414d8d.jpg', 'image_4066_png.rf.f9005afd6314f9222cf951dbb113f910.jpg', 'image_4452_png.rf.ceef0f486ed5ac53f2e51ac61adc27a5.jpg', 'image_4091_png.rf.317180516a5168974226157c40c80edd.jpg', 'image_4326_png.rf.d9c30542d608f57095b1053cf83014c8.jpg', 'image_4436_png.rf.fba56156c19709bb47d406925a31b881.jpg', 'image_4644_png.rf.641472a5238e264464193c2c6298eff7.jpg', 'image_4562_png.rf.3bf8d0f949f23cef52d94e41ad01d7e7.jpg', 'image_4995_png.rf.b6951da892d253374e526737efd89f3c.jpg', 'image_4603_png.rf.f007bda9e21e998766a8dda3f35f4936.jpg', 'image_4237_png.rf.b5ac4c1f5c932d6622b83f238d558a37.jpg', 'image_4111_png.rf.5621aff2f51d675cbb2e7e1d59f1c00a.jpg', 'image_4549_png.rf.ff2b8300b7c32751c7713f1396e51c21.jpg', 'image_4653_png.rf.1f61f316df24f1aeb1824a70f76e1308.jpg', 'image_4355_png.rf.6abcb95e8b0b96f98cd4dfd2dd192fcd.jpg', 'image_4599_png.rf.895534168726348c3c242a006c230403.jpg', 'image_4629_png.rf.8f43fbbc4ce372ae117301a7fd36429e.jpg', 'image_4063_png.rf.b7b96e1be3274a3c2f92d6fd2c233db0.jpg', 'image_4953_png.rf.7901ccee04aa7e9dddb873fbff8a4dad.jpg', 'image_4804_png.rf.ca2eec01a3186d51eb9ce2aae6bef1af.jpg', 'image_4791_png.rf.c491e970a45997ce310437088220a7a4.jpg', 'image_4487_png.rf.f8aaf7580ac65a4c2855b56a527ef89a.jpg', 'image_4902_png.rf.bb65c2fa4ebf0f4fff14d29144297bfc.jpg', 'image_4911_png.rf.be545c17abf752a08bdfea7fd93f2bfb.jpg', 'image_4113_png.rf.dddaa43cb137c57d17ccdbb02c9ceeaa.jpg', 'image_4175_png.rf.0d46b0feb4e9bbcd1d3a5aaf012043ba.jpg', 'image_4561_png.rf.d484ca62701accd3e2e9b077ec6f8d3a.jpg', 'image_4133_png.rf.c7d49580e5d346e5ca9e7d52828ac785.jpg', 'image_4088_png.rf.0edef17372e78951b59b8ca42086a271.jpg', 'image_4520_png.rf.0dd50e7d7411f897baa3588787369bb2.jpg', 'image_4747_png.rf.0ef9cb56070a24a3527fba1dfe4096f9.jpg', 'image_4787_png.rf.e8ca82715c768e0b0db2d17f7d55b245.jpg', 'image_4204_png.rf.d85282c1b1281677e92c49bf29ce09c2.jpg', 'image_4845_png.rf.bcfd417ac4241b497836cf86c2584f0c.jpg', 'image_4034_png.rf.a578674bffce4136f8a0662e6f53ad8f.jpg', 'image_4337_png.rf.1f6e94f4b6cb08c29665c01713171f1d.jpg', 'image_4721_png.rf.27af0f686ac89e001308a4b5ffb06fc0.jpg', 'image_4708_png.rf.b423f95845ce90df3d5622c2b29a3287.jpg', 'image_4394_png.rf.5c4910aaca83766fbdbd9d47d0ea6b3c.jpg', 'image_4915_png.rf.50d62e4f6e2c891c7a9debc87e229b1b.jpg', 'image_4187_png.rf.9ca280f912f147c2fa484861046f52df.jpg', 'image_4490_png.rf.6bc477ffa50e9b11b5414dd5868bf6f6.jpg', 'image_4210_png.rf.818f4093f0dcabf13f43112470ae88a7.jpg', 'image_4312_png.rf.4a1f257c277a36a787b417bf14aeb828.jpg', 'image_4835_png.rf.f0049f6d9664f80db9e8a7f3a50efe04.jpg', 'image_4248_png.rf.2effae217db0f60556a973c1219ed90c.jpg', 'image_4607_png.rf.447c9659ff0e9c04a2a846f1fb755a96.jpg', 'image_4723_png.rf.a9812b67c408b28372f63299f28cb241.jpg', 'image_4998_png.rf.061358fc1abfd7c940d040034cda1edf.jpg', 'image_4714_png.rf.be661070c818956a48775d651d843101.jpg', 'image_4881_png.rf.c1521eb662ce2c68f10d8d5f4adca28e.jpg', 'image_4526_png.rf.430214e1ab51f7947369bf0e8566442a.jpg', 'image_4065_png.rf.d5e74d0abbc91469103bf36508abfcc4.jpg', 'image_4058_png.rf.bae85e5901e97d1ba9c22ff7927ce50c.jpg', 'image_4775_png.rf.55a63b4e4e8f219f8f8a675f75c698d2.jpg', 'image_4689_png.rf.404d8b75ae5022e42ecc4afdb566a6c6.jpg', 'image_4300_png.rf.70505b6ee703013c45a5ed375bad42e4.jpg', 'image_4600_png.rf.f7ea8f3037414c1b20c44f866f4b358e.jpg', 'image_4722_png.rf.700bfb9106aeebca80aa1afcc4c1c42a.jpg', 'image_4223_png.rf.faafb52aaa6e4cf0067a9223f25bce0b.jpg', 'image_4624_png.rf.43d66affaa186a6d54a1daad37c9491b.jpg', 'image_4052_png.rf.fcc627a9b89b997fc435318ebead98d1.jpg', 'image_4570_png.rf.1b6e522376c0efc67d823f8ff02e3f8c.jpg', 'image_4801_png.rf.abe4fb7ab15725bd49e63efe19e08a1b.jpg', 'image_4868_png.rf.71ac71aa310c600fa3e9131d72db8c9b.jpg', 'image_4811_png.rf.72883022bf6a181d0078bd39398b30b3.jpg', 'image_4758_png.rf.a6120b001312ac21250b6f8179ac510c.jpg', 'image_4070_png.rf.26d9ca8db77b1969db413c644bca7bfc.jpg', 'image_4673_png.rf.81e8dc80e6d59c06ffd01b587d61242d.jpg', 'image_4458_png.rf.0dd9bfa1b86e77bbba1de72a166e380f.jpg', 'image_4023_png.rf.05380cc6bf023f20a8aa4502d6a0ce50.jpg', 'image_4936_png.rf.33eff07658eda9d88e62d7bf41735004.jpg', 'image_4528_png.rf.2e80ad6d4f0480eb90b20f88642ce6ae.jpg', 'image_4333_png.rf.1dbe55978197588a509445f2efa487dc.jpg', 'image_4416_png.rf.15ec5b895288fa7f36ac7a685a01ac1f.jpg', 'image_4779_png.rf.1eced647d1e32896f8b3012f612f1357.jpg', 'image_4087_png.rf.002a70381a9d71108fccd3cceeb5fd62.jpg', 'image_4914_png.rf.558041875ebfc2a27197d89cd79cf55e.jpg', 'image_4160_png.rf.a7def4042f7d2547aa38e1676b9cd9a9.jpg', 'image_4474_png.rf.6449be1f02046b04cbac32148e6608c7.jpg', 'image_4580_png.rf.a6568d88de02b3178c62d699d556f626.jpg', 'image_4344_png.rf.818c3aff26b87eb40a9fa5ac2efdb33e.jpg', 'image_4627_png.rf.aadc009f2de6a74fdc4f1f7fe53a7b31.jpg', 'image_4189_png.rf.52c34ed886483ee08890d792ffd1a922.jpg', 'image_4280_png.rf.39480ca9b5288d246fa5b955dab9d1cc.jpg', 'image_4913_png.rf.7606f5f05d916201e0225a9920059561.jpg', 'image_4370_png.rf.7885d62f56e771037f5e97df907f8bcf.jpg', 'image_4651_png.rf.ff08e74b9663834e45d8971feb3d21a9.jpg', 'image_4966_png.rf.100a6bb9e7b7f2f4aad65ae62d6c46a4.jpg', 'image_4455_png.rf.8af04cd8878472d2618725213cb6a56f.jpg', 'image_4422_png.rf.654d1aa6d1711fcafe15ec7243055cfe.jpg', 'image_4288_png.rf.639645d237acc8e6dfea4844daf95043.jpg', 'image_4838_png.rf.ca85ac2e5a5f89f6c2de906816c33e0f.jpg', 'image_4049_png.rf.ae15c82aa0a255703d5899381600118f.jpg', 'image_4796_png.rf.72102ae357385c5ea536de3a03d11a67.jpg', 'image_4295_png.rf.45781f33b2d474b0a25c8691855843c4.jpg', 'image_4948_png.rf.4b251408b62ecbbdfe27b6f265ba3652.jpg', 'image_4972_png.rf.fe4b102ec26fb78183655fff6c8d8c72.jpg', 'image_4717_png.rf.ec4de6dc3a74dd5b0f68aedb6f4d1721.jpg', 'image_4633_png.rf.8356eebfef23123ef4ae86a2f9ccb9dc.jpg', 'image_4465_png.rf.8eddf7316fd5ad5a1de7771d46fa17dc.jpg', 'image_4224_png.rf.d9e47e4804670ab1999b78af437bc4bc.jpg', 'image_4880_png.rf.c675bf8aec1f43627a95016c0dfdb937.jpg', 'image_4974_png.rf.92904c4ef505c770e8272f57f5836065.jpg', 'image_4771_png.rf.d87ba06bd9c2f48176c557f13e82eb83.jpg', 'image_4368_png.rf.8523c3a547ed16725f07c1b5dbf9f1b2.jpg', 'image_4279_png.rf.12b9426263af9038858ab63363192224.jpg', 'image_4247_png.rf.fe2b169394092a1dfe69ccd9e74a4e0e.jpg', 'image_4616_png.rf.07609e8905e1c02249997a2afca79de8.jpg', 'image_4041_png.rf.8bede8131ff34f0899aa9c2e607c05ad.jpg', 'image_4378_png.rf.c5b2ad97b51209c76ea444c79f90fe64.jpg', 'image_4806_png.rf.8ffe5f54feea3e3937653f3f996af871.jpg', 'image_4507_png.rf.4e09950610972dd4be3da921fab6a40f.jpg', 'image_4937_png.rf.5c9ea198f26ba2c5a717aab0f0747a01.jpg', 'image_4961_png.rf.91a4f9276ed1a7e752ae8f8b64137300.jpg', 'image_4491_png.rf.5e61a858bdc796edfed02cc88d498bb1.jpg', 'image_4694_png.rf.6b712f4592c5c5a5eeafae84778fea27.jpg', 'image_4895_png.rf.b52c0e3ffe70732593a190fe93b067f2.jpg', 'image_4433_png.rf.ce56e28aeaf5989284c9160216aa4cb0.jpg', 'image_4486_png.rf.20de56cc00574b81446e26a718b5502e.jpg', 'image_4712_png.rf.7a6e6dd7762fca4838edcb68602de370.jpg', 'image_4803_png.rf.9a3fe240ba720ae7cd9c5e31683cda65.jpg', 'image_4202_png.rf.56c23946c35723e3defea46923fb4be0.jpg', 'image_4573_png.rf.35015277f2dfbc299a6d4bb46b548bf5.jpg', 'image_4641_png.rf.bbc6cfd29c795fbe6f0d15141e3cd7ed.jpg', 'image_4226_png.rf.64b40fd735f5db4f6139d0a382df97e4.jpg', 'image_4766_png.rf.800a937c8f68176c346674e9654e5836.jpg', 'image_4891_png.rf.0c9a9297535963f43caa8ff0b108ae56.jpg', 'image_4030_png.rf.72b3a491a86ce95d01e19e0f627e7a79.jpg', 'image_4967_png.rf.4cd9272833576dd6e1b0828683cff20a.jpg', 'image_4168_png.rf.19197c4d0f5d104774a104b8590341ed.jpg', 'image_4026_png.rf.c2ecff52f4b210de365161a1d9af5790.jpg', 'image_4785_png.rf.b991b487cd15060eb7d17da25cafabb0.jpg', 'image_4965_png.rf.d3050344faa36b83a0612d9bcdef0291.jpg', 'image_4885_png.rf.553c2d352f473295f8cc2340fcfa9803.jpg', 'image_4825_png.rf.4b123ac33d33f770a3cb477aad200dd2.jpg', 'image_4348_png.rf.64addb8b9dd4b204467936eec93f9149.jpg', 'image_4509_png.rf.916d5463eb57da34c0f0c7b2709dac88.jpg', 'image_4582_png.rf.c9e2095d6482903ea68f4cc3da02a8d0.jpg', 'image_4542_png.rf.59e2fb1e46b2b0989d07636e10927a74.jpg', 'image_4560_png.rf.99ac2416b66e3379fcce68d7e752110b.jpg', 'image_4669_png.rf.76524f842466e26073d65e289bb668ac.jpg', 'image_4659_png.rf.37b96e72e465f89d8536fe105bed02b1.jpg', 'image_4579_png.rf.49a1d3c6496511ff004d0d9abe26ebe9.jpg', 'image_4479_png.rf.7fb50bf2786b91edd29eeea6c8d29e5c.jpg', 'image_4059_png.rf.c56028a0b0da21867759056b6f900aa7.jpg', 'image_4993_png.rf.f25212b55e016df6dd5a10677a787220.jpg', 'image_4126_png.rf.32d841fcd8baddb8e0009d25ebb6410e.jpg', 'image_4374_png.rf.216865fddae8c4b383dbf9ab8e93508b.jpg', 'image_4752_png.rf.428fa4fce8177190ceb0adba0b3ee34b.jpg', 'image_4748_png.rf.45135af46e2bf3e61a51cb15e8bad1f0.jpg', 'image_4193_png.rf.0bd558097a639ed0dc1e1cc5009d738f.jpg', 'image_4282_png.rf.65cf2d2fd3027993b1391e519ad36c7c.jpg', 'image_4701_png.rf.502f70e81419ca6e605953b5d270a1e9.jpg', 'image_4926_png.rf.7d97a739f5f3c8633ffb3576470590d8.jpg', 'image_4827_png.rf.3f44184cc56a2a8912030b19e29ec3e4.jpg', 'image_4671_png.rf.db836177025708998b2ed4105b401ec4.jpg', 'image_4968_png.rf.905b4fcb393a3cea4a9b32502c007942.jpg', 'image_4156_png.rf.6c6677509a104cdbf21ee0d5ddc5fb55.jpg', 'image_4483_png.rf.46b9622df1d22c2e059cdbc3d79aaaa4.jpg', 'image_4622_png.rf.6344f6e1d2beaff838cd84961ca096b4.jpg', 'image_4152_png.rf.68ddd3f8c36f7e5a4000b31e329f1b7e.jpg', 'image_4890_png.rf.ce4c1c92afa9293698bf351e12f3651a.jpg', 'image_4316_png.rf.a73584981198110d0d72cef56713ca62.jpg', 'image_4495_png.rf.00274ef45bc8f1c00fb544dcecf693f3.jpg', 'image_4506_png.rf.c4a2c35a93944cc43df11888039fe6ed.jpg', 'image_4755_png.rf.f638b09bea572368b5b10115e57d52c9.jpg', 'image_4307_png.rf.c3b6168d151e595162da431d87620025.jpg', 'image_4456_png.rf.9ca822c4291099432b82f0254bf32d58.jpg', 'image_4951_png.rf.9a28d4ec3403607f61be16f05eaeb23b.jpg', 'image_4746_png.rf.4f0c8776c612be4d8525c7fe3e2869a6.jpg', 'image_4106_png.rf.01fb69fb8ed23fb0c7ae9106ce8a863e.jpg', 'image_4470_png.rf.095cf2436a25d29bab270abaca3d2d9b.jpg', 'image_4454_png.rf.cecc88ad3d5b88a88035df79809808bd.jpg', 'image_4944_png.rf.46aa98148d198199bb161e37dc74563b.jpg', 'image_4703_png.rf.cb15c802febd885fe4e8304912081d92.jpg', 'image_4519_png.rf.b8e5f3fc6ad2b3447506637f3392636c.jpg', 'image_4242_png.rf.2ce8446cf39e36456661ec061e4a8be0.jpg', 'image_4060_png.rf.360badbddf098f13d7b81aaed6c00cd0.jpg', 'image_4724_png.rf.78bc0a64c19eb0faf8a8895ede1a736f.jpg', 'image_4682_png.rf.39709924a942f25905266f132942b14d.jpg', 'image_4589_png.rf.eeb25c74ca9859fef007bef15c1f8ad3.jpg', 'image_4726_png.rf.753dd61ff25e91ba56798bb7d45481b8.jpg', 'image_4874_png.rf.28120c073524cc0d0bbea49427e213e1.jpg', 'image_4301_png.rf.8d2370cc0ae931e95fd26059f3c133b6.jpg', 'image_4571_png.rf.eca8fe491420a37d9a93276a49b4107b.jpg', 'image_4072_png.rf.1d07fad098f3fbf3baf1c9ce3e59823d.jpg', 'image_4018_png.rf.afb1532b3c8d4c8808005cc4cd66a903.jpg', 'image_4857_png.rf.3d18f48f439ccd8446ac2829ebb396b0.jpg', 'image_4331_png.rf.4927e0b043e0267f34fb61ddf07b3ee3.jpg', 'image_4354_png.rf.d383a66074b2b321edfec5f6c8ff805e.jpg', 'image_4246_png.rf.6a33024ea849c537fa443cfda889bbd2.jpg', 'image_4862_png.rf.2b1e3960dc8e938058c2698bb543d93b.jpg', 'image_4296_png.rf.42ef79f4806c42b0532cdd19b7c91874.jpg', 'image_4585_png.rf.ad51542524f790440c17104e5eb45f52.jpg', 'image_4364_png.rf.77b4a162fa2428d63b1a95da6f861c47.jpg', 'image_4533_png.rf.6473d39c26c4714ee5e3849100364a12.jpg', 'image_4893_png.rf.24b374234175f54ed1f552129c007240.jpg', 'image_4021_png.rf.a821dbd8ffce730c31897664972e08b7.jpg', 'image_4254_png.rf.862035f765ad2b2e2fa7712910e9b90f.jpg', 'image_4241_png.rf.d4d573d96769a060656f6d16a6ee9ab4.jpg', 'image_4615_png.rf.327a76f06dcab1b62ab27148e4565614.jpg', 'image_4539_png.rf.c8eb3a5bf50a76ed5949a12d399c1e66.jpg', 'image_4808_png.rf.fde7a4b619725a7c6eaf298bacfae923.jpg', 'image_4094_png.rf.7c1d89a8995b69e821cda7963a7bb3aa.jpg', 'image_4543_png.rf.4a96395bbaa5fbffe3327168621ebc62.jpg', 'image_4504_png.rf.4a48689eb832c65338f8bf5e9d03a0cd.jpg', 'image_4036_png.rf.63ab4830f9ee1b1ed1defe82de7e623e.jpg', 'image_4702_png.rf.ade350df1979883c232fbb1c80a436af.jpg', 'image_4569_png.rf.0df7a80a87ef2fc5765a3763dcd13e17.jpg', 'image_4266_png.rf.5d395020f5ccd2a590cfe9480558ac81.jpg', 'image_4381_png.rf.bd939f0d58f7e40b754bf9a013cd2d21.jpg', 'image_4883_png.rf.3992f4f33667984f7a65004cc9031371.jpg', 'image_4988_png.rf.68ce4d2f779fe1a8720d5e9ffd12d5d5.jpg', 'image_4683_png.rf.a1c09bdacd3d89f8fbf9600d251203e2.jpg', 'image_4162_png.rf.e6c53f7f27493978b1dd3ce6611c520e.jpg', 'image_4442_png.rf.b913daff3dd22dac5d63921b5bfa60e1.jpg', 'image_4680_png.rf.bfca22f1af7910a7e122ea0ebdd52d2a.jpg', 'image_4605_png.rf.d707680d49a15c5b76ec21684037b5a3.jpg', 'image_4166_png.rf.f3a006dc40b04c66e0dcb8bbda9095c9.jpg', 'image_4918_png.rf.bbfb459f683c351a48ee94ada6071791.jpg', 'image_4027_png.rf.4b29fc8f6f788c47ee01bf4f3e1c79d6.jpg', 'image_4927_png.rf.3edd42ede4477e2e45b9de6b591d43e7.jpg', 'image_4583_png.rf.9f3ba18a70e760312efea001ea39f3a6.jpg', 'image_4877_png.rf.70bb63d4944863a4229c5c4726e99be6.jpg', 'image_4172_png.rf.eec583f15f14b81c2961d3d131421b8b.jpg', 'image_4396_png.rf.e1d62f283ec769b393bab0a89feea7c3.jpg', 'image_4871_png.rf.95ee057e386491e8da25a57707d26587.jpg', 'image_4132_png.rf.24e05068263b61cb9dfc1f1e160a195b.jpg', 'image_4934_png.rf.0fedbc382f4011968a5a4cb1a5c4089b.jpg', 'image_4217_png.rf.5fc76b7e1e507a0aedf47f30ecb9bbca.jpg', 'image_4842_png.rf.db97e421d529bb5ec09f43bfc7a35f98.jpg', 'image_4903_png.rf.55437e47f53e5f071923209e7a7880b4.jpg', 'image_4265_png.rf.c8abd8712b01036166c4bb5759c7576c.jpg', 'image_4358_png.rf.89e04c7d66721be1e944e80f7d7deb8d.jpg', 'image_4650_png.rf.4ae5912709ab3f15644aed767d7ce51b.jpg', 'image_4575_png.rf.d2923c68268f8bddee3a6c03ec468c5b.jpg', 'image_4484_png.rf.413f89884a6f1b9ba1cbb420b6a106cd.jpg', 'image_4837_png.rf.3d20ea9299e3923648dc2085fcf810e4.jpg', 'image_4262_png.rf.fcb57c5cad96bf5aa4b34882bf3123ff.jpg', 'image_4417_png.rf.34fa0a464230a3551f23958976a760b2.jpg', 'image_4194_png.rf.d1985ae0fae686b768119ac6b070a62e.jpg', 'image_4270_png.rf.22d0abc2b1ba6d008f389518ec4f8f86.jpg', 'image_4999_png.rf.02ed2bb48e1538a4dfa3ef1493b46253.jpg', 'image_4776_png.rf.c611c91b5afcfe31dccedc0f7a61daf1.jpg', 'image_4802_png.rf.ee58c1f5ea6eb26e582a58132ba7128c.jpg', 'image_4665_png.rf.5db95e08ca50234c1742cbc3ccc82e2f.jpg', 'image_4153_png.rf.cdf35c0c69c958ca05ddbb2e2287f9e2.jpg', 'image_4203_png.rf.1908ed4949cf3856b11eb452f70d4a82.jpg', 'image_4863_png.rf.e8d0820758bd1420c1d2dcf5397ab908.jpg', 'image_4688_png.rf.f1ea027491a335aa2c6ed18dea6e5fe3.jpg', 'image_4345_png.rf.abf0d1361a06ef7c6b9d5dd38094d31b.jpg', 'image_4427_png.rf.e63f47c81acb18ac0db545b5f5f4125d.jpg', 'image_4740_png.rf.b9f0bd3cb13aa890bdeada840603a0cd.jpg', 'image_4136_png.rf.2a41bf1ed3c88a8414f23eb241dcb6c8.jpg', 'image_4297_png.rf.9c612a96dded26505979fa79f84dfbf8.jpg', 'image_4780_png.rf.49f355527885b4a5a02272c081d89762.jpg', 'image_4475_png.rf.4a9114eebc05ea74d73c032ca12f81a2.jpg', 'image_4293_png.rf.3134d69f1cbf749b2cba33169366fbef.jpg', 'image_4080_png.rf.934afb5cae3cfc643dd3243bff0b14a7.jpg', 'image_4557_png.rf.a0cebbdf2714a931818c6207fe6a1b51.jpg', 'image_4695_png.rf.296e6052bf0e5b06e14136415c9743ad.jpg', 'image_4511_png.rf.21efac313637ea74bca0cd11ceced044.jpg', 'image_4850_png.rf.b47d8f6b204c6170b8f5e853edba3e2d.jpg', 'image_4218_png.rf.1fad2289fb3708eda298e3a02ae8573d.jpg', 'image_4309_png.rf.3efba1e6c2319b59e3fc5ce981e74971.jpg', 'image_4161_png.rf.5c4a474918e56a7f00d0046061e73c61.jpg', 'image_4647_png.rf.337b323d3287ad3a8ef81a7ef7c09bd5.jpg', 'image_4115_png.rf.e55bedd05a89a67927801186e5450b30.jpg', 'image_4765_png.rf.1e029e69e6cb2123ff8d3e29287281a7.jpg', 'image_4581_png.rf.854954330ae971377e4c688f032dc471.jpg', 'image_4440_png.rf.a7d6e522021cc3e8ecf289eeede7c5a1.jpg', 'image_4824_png.rf.026c3ae5838aa0763afd0701c4b6a37a.jpg', 'image_4471_png.rf.7f4113e19a1f47eab0eb55589e060a39.jpg', 'image_4822_png.rf.efa2849370e0881b17634ffea90519dc.jpg', 'image_4124_png.rf.f43bdd09d7f8c8608fc7f267dc55b6fa.jpg', 'image_4453_png.rf.570a25b4422a72bbbf3fa2b78feac4f9.jpg', 'image_4130_png.rf.8b54cfae6a0b06a781d95c89e7886071.jpg', 'image_4259_png.rf.faaad3a8b1f086e245841dcb451693cb.jpg', 'image_4956_png.rf.1c1c6fa937ba387cd760fb4b2dbd0d89.jpg', 'image_4892_png.rf.b005ac7dd5557e9d9e0748236f1c7af5.jpg', 'image_4612_png.rf.11076f9e951c25aa32691039b3d961d0.jpg', 'image_4310_png.rf.8ea5928041e07542cc272f9983715d43.jpg', 'image_4457_png.rf.d2c3ab6d14e0b04b887ff44d98ae4246.jpg', 'image_4954_png.rf.16b018c22b072dc03ec18c1a21951ff2.jpg', 'image_4574_png.rf.1c2f1716a292451f566d1365f23d2ad9.jpg', 'image_4012_png.rf.6b75702ce04691dc4c33ad9a4abce125.jpg', 'image_4292_png.rf.0dfdc605d3be87bcd88c95c97ce43b41.jpg', 'image_4797_png.rf.daa27a1978898010218f8d0981ad7862.jpg', 'image_4975_png.rf.d8632d101c5cb79b0862050aa95790d8.jpg', 'image_4693_png.rf.60da3a44ec99a4fef8b3084ea7dfb1e9.jpg', 'image_4767_png.rf.aec7f1ef185f4564c99f11828cb89ae7.jpg', 'image_4939_png.rf.6c116a6e3b0a9e2ad070d43e3302c2e4.jpg', 'image_4411_png.rf.7ed5457d359344adaf0e2e0829fed3dc.jpg', 'image_4959_png.rf.c040140074eadf6fcc0d81ac64f8d612.jpg', 'image_4252_png.rf.4015cbf8f77c061f4e9fce5b6194b4f2.jpg', 'image_4003_png.rf.c82e08737cab311a86f310de13988cbb.jpg', 'image_4601_png.rf.7909f360d0285793fdb09719097d9877.jpg', 'image_4419_png.rf.828a999ec47a6d0bfee51eb154a5dc88.jpg', 'image_4324_png.rf.99a018f7cc2caa65e992d5a2dabf63a6.jpg', 'image_4332_png.rf.aa941d27fefead9d9d740586635befb7.jpg', 'image_4527_png.rf.3944425450f3baef57575eba9d7398e1.jpg', 'image_4971_png.rf.9c2eb4296fa452b267d51902a72da403.jpg', 'image_4275_png.rf.0883fb2b9035da0b8cf96091449927e7.jpg', 'image_4171_png.rf.187772902fb13dd570f6a8deb7717545.jpg', 'image_4351_png.rf.fff320398b5d6b488e231a282cee5bb6.jpg', 'image_4191_png.rf.50e88672e7c9ba9d119a154d1fe2cf5f.jpg', 'image_4848_png.rf.b25427cabe3a4c576980f3a72999035f.jpg', 'image_4208_png.rf.9d5a7e2b7254689aff17db8b91965c7a.jpg', 'image_4925_png.rf.05df942bd8e916fe591b75ac4bdb19a9.jpg', 'image_4019_png.rf.4d0c342da5bc5e4638076fbed3d37f01.jpg', 'image_4353_png.rf.4e8e669485eb24bf15d894de3d194243.jpg', 'image_4462_png.rf.6f05b21c18ec96ad1a9a26ddd4eb5deb.jpg', 'image_4960_png.rf.2104f7e122c62bf5e6ccb9dc414aaa2b.jpg', 'image_4478_png.rf.0ca790f3cb27d6bb060fc5b2fce2306d.jpg', 'image_4219_png.rf.cfe59aaf6cb2c8ff8b3269a570397021.jpg', 'image_4473_png.rf.5f4ef02e5e0ef5b932e1887c916aa486.jpg', 'image_4398_png.rf.f43daf79fe730aa4d95b63b7ddc3a756.jpg', 'image_4518_png.rf.fc55de6abb6ace63af6498b54aa2bb5c.jpg', 'image_4946_png.rf.3ab404036476c959f3fcfef238c755af.jpg', 'image_4329_png.rf.48bb4a6a6960d55b6bf5cfdb34816cea.jpg', 'image_4178_png.rf.2864c5991096f24715ae971b60373fd7.jpg', 'image_4525_png.rf.39ef4d4660cafc10c599ee2e173c1547.jpg', 'image_4118_png.rf.b4b645c196006306dbc389824ad885cf.jpg', 'image_4405_png.rf.c586c96a2c2b102677942b4f5a445fef.jpg', 'image_4413_png.rf.1660783fbc226c33e9c2ebaa198d4171.jpg', 'image_4107_png.rf.dcfe3f11ad866092829d2ce9390ec61a.jpg', 'image_4751_png.rf.36f606fe1a550ed6aaa7a6b88a40fa5a.jpg', 'image_4006_png.rf.a595216c86d1e0d92a4eae7cbee68c29.jpg', 'image_4377_png.rf.64f2051f6135a3beb44d3c770b0d2ef0.jpg', 'image_4213_png.rf.cdfad70b0385c5dcd97a279348bfe2e8.jpg', 'image_4853_png.rf.c05356489ca180cae516681bbf791408.jpg', 'image_4783_png.rf.100af4867c081a8fb4a41a7f554253a7.jpg', 'image_4496_png.rf.8b5885b7e18ac87fb78fb53aa66b457d.jpg', 'image_4901_png.rf.545bd30c36a04c11f6e7db0f5eacb729.jpg', 'image_4367_png.rf.ad3e1221b16fd3afb7966649dc40163e.jpg', 'image_4559_png.rf.125914b22cc5dbb37ea5ccf2ea8e6200.jpg', 'image_4155_png.rf.849c03d30fecf3266b98c1604d213b6f.jpg', 'image_4108_png.rf.ff27dcb9dd518c315ed1c3fbf08d597b.jpg', 'image_4450_png.rf.5f36b72f57765fc38f7901db4e1c75e8.jpg', 'image_4075_png.rf.a373be5652f848b4b80e54a8fb9cd76e.jpg', 'image_4386_png.rf.d9f8de59c1d3ec50d5b4030a8aea7a9e.jpg', 'image_4606_png.rf.d62578d0d1242a8c0c841365c0464d6c.jpg', 'image_4522_png.rf.4783a78690693898c73a976e9b4e307d.jpg', 'image_4546_png.rf.14df4672fd74985da9dbcb9e75db1448.jpg', 'image_4134_png.rf.1c3b5cc45d017809e83590475913a1de.jpg', 'image_4261_png.rf.9aa86a9500a32eca42060eec1b776390.jpg', 'image_4271_png.rf.ddd10c31046ae3b3ef036f8b4f653c63.jpg', 'image_4114_png.rf.f7a6e2111b3bf122322e9a1660e7e311.jpg', 'image_4770_png.rf.90d27c08ed31a8ae1b2e992ca0d85cb4.jpg', 'image_4604_png.rf.038f6f40d1340709808ae4ccf683a34d.jpg', 'image_4311_png.rf.b3d32724fa09877fc8a4523cac082994.jpg', 'image_4858_png.rf.8353c0f2508af1c2f71a886b28579bda.jpg', 'image_4042_png.rf.1db5447cdab3000de0f2ea29de873157.jpg', 'image_4103_png.rf.b8e335df6ba092196bb38a175c5a6dfe.jpg', 'image_4699_png.rf.9d5228264536bcdd44f008eb854f559f.jpg', 'image_4397_png.rf.f39fa07d96320431f0319bf3e125c094.jpg', 'image_4710_png.rf.7ed28d3de3392b8459f3ec14f53a8e11.jpg', 'image_4626_png.rf.5fda495c49717b6fe29782b876a5efc1.jpg', 'image_4898_png.rf.c7c4a6556cd4a1295515a9a31d3485a5.jpg', 'image_4014_png.rf.a6b1f5a5502ee63974eb4738f9e398b1.jpg', 'image_4415_png.rf.e8b3176725eb0cb00e9e1bc3c4989b30.jpg', 'image_4716_png.rf.5a851d05278654b8ef1cd6cb0aff39bb.jpg', 'image_4900_png.rf.d9bd753dd36b3cb9d19136c0795c54ce.jpg', 'image_4046_png.rf.efb672938cce144f09adeeb8a6d36905.jpg', 'image_4073_png.rf.6281741f1d2c297a59b22d77fcb7fa55.jpg', 'image_4924_png.rf.ec0d8201a4a41e851ade6208a66a9f99.jpg', 'image_4481_png.rf.ab94909bbb6d3d786826370eed8b460b.jpg', 'image_4357_png.rf.b1fa61f5704419272c3765dd845f1d62.jpg', 'image_4028_png.rf.c2ee2bea9d2997472abbd095977a4646.jpg', 'image_4109_png.rf.13e6c11a7e8d4e922953f9e193bbf7bd.jpg', 'image_4646_png.rf.186a209ffd34f7827558d7386d71b2b2.jpg', 'image_4861_png.rf.ffd6954559e759513046723c9cc64675.jpg', 'image_4818_png.rf.aaf9d7077c7f4c450fcb1475237b8698.jpg', 'image_4079_png.rf.9b04cec63562bf0de7049b256401d8a3.jpg', 'image_4674_png.rf.d65ccd7ddb88facf0ee541d7f1c9c430.jpg', 'image_4860_png.rf.896fcf227473927a96eca5f8b25b8302.jpg', 'image_4970_png.rf.5fb63832127be15d9b5c587e80b9d86e.jpg', 'image_4369_png.rf.207fd48b02cee9839559c3f9ea4c2568.jpg', 'image_4876_png.rf.8d05c11cd586d5fa97182ef02d7e7a0e.jpg', 'image_4402_png.rf.7e959c1fb3603c6635085b3b5034a605.jpg', 'image_4821_png.rf.9a37a0a70064ce2adc26039a747eb28f.jpg', 'image_4424_png.rf.39b0e917490445c876469040041c54cf.jpg', 'image_4508_png.rf.30be4c5ecc3fdc6fcd17a166c5e05525.jpg', 'image_4979_png.rf.7d1baed0f19c35ebb63c072b66f02fe9.jpg', 'image_4341_png.rf.bf5342f01d7f0d8f15cf996187b9884a.jpg', 'image_4535_png.rf.d7e7fc51d92ec03f946e9e5157b354e7.jpg', 'image_4459_png.rf.c7938bb5a299abd8ae40fdc78ec74e84.jpg', 'image_4149_png.rf.047cb3f5b35233a50478abcad861a7a9.jpg', 'image_4232_png.rf.ec668ecef564b25f816802edf7603c36.jpg', 'image_4814_png.rf.789db30ccf4b32a648a76a69ffbfcc87.jpg', 'image_4360_png.rf.977d5f96453387cba7a58fd117aa845b.jpg', 'image_4062_png.rf.e4b83546adad7715294cc5ceef4ac271.jpg', 'image_4135_png.rf.59e806564c7880dce19b4088823b9f00.jpg', 'image_4784_png.rf.a2cc23b0214423e99f0166431990df24.jpg', 'image_4482_png.rf.158043d35ea67f87cf6d854772097eb5.jpg', 'image_4662_png.rf.80cbcf181969e51826a85d64f46e346f.jpg', 'image_4923_png.rf.4f8a055ee5bd94f174086ba9bfabea00.jpg', 'image_4289_png.rf.361e7ce6a8320024d3ff000eec2e6a04.jpg', 'image_4576_png.rf.f00ff4191a8ea65eb99f904c7585e164.jpg', 'image_4273_png.rf.4a008b78524fb49208b2f866ecdd172e.jpg', 'image_4384_png.rf.c5f2706506f1bd3cdd6e0edefec88466.jpg', 'image_4630_png.rf.b61f2db1b339a559b5e5cb8c74438c89.jpg', 'image_4200_png.rf.0c92c253f22af8fe7fb94e35b7f2e94a.jpg', 'image_4593_png.rf.226bf89d2c5d3b26b68c8165a60f9c53.jpg', 'image_4038_png.rf.50118b3f99a44ae242b394ae62a2e38b.jpg', 'image_4639_png.rf.325c2fdd5e1211562e37d90a12521bb4.jpg', 'image_4173_png.rf.14b2cbcb7234f2931cc60358e5f3aac7.jpg', 'image_4888_png.rf.5fee05d83da2d2836bcfcf9ace3d983d.jpg', 'image_4137_png.rf.c7f68596a76f39e13de3518e330581c4.jpg', 'image_4655_png.rf.e6edbf25823a5140e4a85bc5bf98d6b0.jpg', 'image_4514_png.rf.55fef0f3ed2a18f51b52030160e9baae.jpg', 'image_4976_png.rf.56680c33811b79f66d332f4a44a59493.jpg', 'image_4810_png.rf.e4533fc895ad47ccc36bda20630707cb.jpg', 'image_4429_png.rf.a0c912eebca6a89bf7a0869d061ed364.jpg', 'image_4435_png.rf.5d1905231317d611f8ed0d7f1c56bfbb.jpg', 'image_4494_png.rf.37f1cdc0310519aebecd436ee01a2bd2.jpg', 'image_4594_png.rf.75de153684828f7a4da1bd170ccb0946.jpg', 'image_4119_png.rf.6226c24a3986a43f5bc203e4540704d9.jpg', 'image_4523_png.rf.5cfb2cd6b5b96fb32bd31f2a2a56def4.jpg', 'image_4774_png.rf.32f949f0866d9efbda61383f3c6b1ac8.jpg', 'image_4131_png.rf.07da9d127a9c1ee42a080ad129aa21ca.jpg', 'image_4832_png.rf.54bb6633a8bd3f4dafd041a5e6a1deab.jpg', 'image_4257_png.rf.30e4ee0003d4c2282d8ae89602a06ba5.jpg', 'image_4733_png.rf.16f1917d6b9fd1b0f6855b26ff079e5d.jpg', 'image_4304_png.rf.53d0d10695689634cead0e5bdf6e68b1.jpg', 'image_4423_png.rf.20c7b05b4e1bba9aa06377f06fd75ac0.jpg', 'image_4805_png.rf.de4c7dea53ccb65e87118bbddbfed977.jpg', 'image_4406_png.rf.fac5d5172f60a4f38788cecdff831137.jpg', 'image_4800_png.rf.73edd0aee0dbdfd5cb4db1837894d39f.jpg', 'image_4051_png.rf.27b811c53a4dc30bdb102e29f2fbb99a.jpg', 'image_4077_png.rf.b63a614df80692ee429bf6a3847fc76b.jpg', 'image_4578_png.rf.4d017b92c11dea3fa332d59a9ae3583d.jpg', 'image_4321_png.rf.2e7bc08389d9e29faba75ff697f17987.jpg', 'image_4277_png.rf.00ab92e205e9f48f87aef5a85348aeee.jpg', 'image_4053_png.rf.a710f323220b710e49519cdb71a8561a.jpg', 'image_4844_png.rf.5123388e00f3a74629273f5774837c6b.jpg', 'image_4866_png.rf.8a074c5e149f454f8a7adad68558de71.jpg', 'image_4969_png.rf.e8ed5f1ce92411e72cee550326a83be3.jpg', 'image_4591_png.rf.afdb9e872a6cb206bba8879d4ea323e7.jpg', 'image_4434_png.rf.b37a2449044d773fd632edf8f19f10db.jpg', 'image_4388_png.rf.33b66b1b8a60cc746c8242ef2269fc83.jpg', 'image_4595_png.rf.b3764e287ea9cfaac630cba30fe30f41.jpg', 'image_4831_png.rf.6ce5cd5111b331c899d666092cf51971.jpg', 'image_4449_png.rf.ef8d08f8eb5ff4b63f67e16bcabba967.jpg', 'image_4611_png.rf.ff43890ab5ff42e66063b7f080077710.jpg', 'image_4174_png.rf.4d8bdb06374aa8c3e7e92d7b8e2197ac.jpg', 'image_4291_png.rf.f2bb095b78093bf178c63b5b80f9682e.jpg', 'image_4437_png.rf.d5ef2af2fcaa63a01982033ef0726b16.jpg', 'image_4597_png.rf.9e6f6dd968492d1665b757a5dc89951d.jpg', 'image_4661_png.rf.6e58b6a5db71a17589f4fd1246ac59dc.jpg', 'image_4342_png.rf.d9003a2b44a1918f8bf15ce5f0ace93a.jpg', 'image_4123_png.rf.eb56b1106b1314c40e5b1401958257d1.jpg', 'image_4128_png.rf.75ee369f31b8253f1241a5b1b4acfba6.jpg', 'image_4889_png.rf.4caa9211e59fe6f1f8f6d1ae335c01fd.jpg', 'image_4325_png.rf.2b3abc92d3d4fbba473839764473722b.jpg', 'image_4016_png.rf.e0aa359e12fe0ef2db72f71f7a685cd7.jpg', 'image_4476_png.rf.f8192fff9ada172aed32da92a1164bb3.jpg', 'image_4240_png.rf.69c4bcd133867eeaa08494bc47aebcff.jpg', 'image_4414_png.rf.fbae5d12df3bd2ad2c4ac4e281fe0fc3.jpg', 'image_4015_png.rf.1db1f13d5deeeb5c18bd4afad2df80cb.jpg', 'image_4264_png.rf.bdb85d168b4713304da85a69c3e4f1c5.jpg', 'image_4258_png.rf.5e7ed518ff0955fe9dc6e405da4f5d11.jpg', 'image_4628_png.rf.4bf5d0cd92eef57558c7116b41dfc5b3.jpg', 'image_4489_png.rf.71f2ddf0620c7c5d00c820ebe5e94e9b.jpg', 'image_4884_png.rf.aa8a39e63734ead99bf2f317c267c363.jpg', 'image_4749_png.rf.b60e6fe4cedc59f44a78d059f8681ba3.jpg', 'image_4375_png.rf.cb472494830668885af75fbc1d3934ba.jpg', 'image_4813_png.rf.f078aec99d536905e18ea54c6970f8ff.jpg', 'image_4380_png.rf.aa78f42929fd08c3202b6e865dbf1145.jpg', 'image_4093_png.rf.c23f3a7df0a48ba000f94e5ea2000d7f.jpg', 'image_4221_png.rf.a8974082679b590b0952fcaff8a36764.jpg', 'image_4513_png.rf.a6f412ec31caac7a8f4958ee54fbb02d.jpg', 'image_4158_png.rf.4cb4961ec8c354659acb4b8ebfa3b614.jpg', 'image_4964_png.rf.8cbf0c5923abb62c8db5723fa6ff6960.jpg', 'image_4555_png.rf.4ce7e4960e839dac5359b8dd85c08697.jpg', 'image_4707_png.rf.ba991936106d4f277d6f09867a9b9553.jpg', 'image_4313_png.rf.72732f9792811710a972ff3775d50c2d.jpg', 'image_4343_png.rf.a87dc55c5e3b1bdd29167abc8a689d77.jpg', 'image_4929_png.rf.b4a22b0fca5f9f1576b63258bbd5709b.jpg', 'image_4991_png.rf.c8dc2cbb7af6661af5880fbacd5d413e.jpg', 'image_4372_png.rf.9c8cecf3287a331e96d1bd630bdf1d71.jpg', 'image_4984_png.rf.c3fe2168276e2fd99c3e53a02de119d2.jpg', 'image_4729_png.rf.56626f2684f5a4a3362ae5c8fe76bd19.jpg', 'image_4121_png.rf.4c4ceb5ef974df5c0813ac8c17bad55c.jpg', 'image_4556_png.rf.c4a4baf020f5d7b1f34873f6fc9f4893.jpg', 'image_4530_png.rf.f819a385e94408c8d263df73a1b9d9f5.jpg', 'image_4290_png.rf.53d4bdb0f191c509c669479889b45249.jpg', 'image_4940_png.rf.e9b8a3ecdd38353276e6df884d521ab8.jpg', 'image_4085_png.rf.287da06460a48a733dc634ebe469df03.jpg', 'image_4276_png.rf.cf75de3ba02781317b11df43307ee00c.jpg', 'image_4935_png.rf.cb5b48cae7f5a0103aaceb873344de31.jpg', 'image_4828_png.rf.8210fa06bda9f725c044014fbd42bdc8.jpg', 'image_4238_png.rf.e933ec88af500de0903295ffa0941acb.jpg', 'image_4082_png.rf.3c838c63ae1d5d3bb1b5cd64c24bb4db.jpg', 'image_4741_png.rf.92c86c6f0a01404bf83d83620daa6d6a.jpg', 'image_4164_png.rf.c034057671532a1745ed381de4c77f35.jpg', 'image_4389_png.rf.4fa3e63fe7116a3d0a5e49d2f1ba5781.jpg', 'image_4994_png.rf.fa8537a89f4c8c88fb9289b3da3bf46b.jpg', 'image_4577_png.rf.57a6d1f900eb1758074b1267ede9d1aa.jpg', 'image_4057_png.rf.4003850cf2ef9810fae3da89442b2a1d.jpg', 'image_4917_png.rf.3197b1e917f70e2ce107d7257d7f1bdc.jpg', 'image_4330_png.rf.8b1f1da21bb4c1919c1e0ddc870dea07.jpg', 'image_4253_png.rf.2c60dc01a3e953db97975507c8a12b6e.jpg', 'image_4691_png.rf.db15c2d19f67e37704a1b18d467873f0.jpg', 'image_4011_png.rf.6b41f8a17c6d29eaa888f943c03f0092.jpg', '14_jpg.rf.0c7e6b004ec6c52bb29c4a36c08eccda.jpg', '17_jpg.rf.74b0a9103e01558a62309200d123782a.jpg', '35_jpg.rf.133d1935b47c0497382c8c696e434310.jpg', '14_jpg.rf.71a61c24d44a2d563cf07904e8f4b3b2.jpg', '17_jpg.rf.e65ac292fcfa09a9cdc1c4ff3fac2a65.jpg', '31_jpg.rf.720cfaf23457ff3f677d3937967efb80.jpg', '21_jpg.rf.4fd76b6180c6eb6c252fbf81dfb42be4.jpg', '29_jpg.rf.5fa5994d6a515ee3376e7b5a6f68e3cf.jpg', '31_jpg.rf.fafcb242ca2797d294c4b5b3d83b1102.jpg', '23_jpg.rf.50a72a6fc275f36a9819d98372578a2b.jpg', '12_jpg.rf.db4815ed4dc1f229f25f54c0d07a249b.jpg', '14_jpg.rf.9ff7f0377b9009dee6cfdae3dc3f5a20.jpg', '10_jpg.rf.9a9644025b19adfe6cd9a7df2f426627.jpg', '21_jpg.rf.a67af0e9d06177b75d9f543db80a8e43.jpg', '16_jpg.rf.6b82287af7d93d3353634db1456077e4.jpg', '15_jpg.rf.b88a19d2ab22199b66d8b8c0ed78fd6b.jpg', '18_jpg.rf.dcaba3c8246ee8aec9548729e344b61a.jpg', '36_jpg.rf.183e82343fd9418fbf075ce94c2a535f.jpg', '19_jpg.rf.81d951b7ace007b876531b634d7fc0c0.jpg', '36_jpg.rf.70040d1d9dd85a833a12b5ffb0d63713.jpg', '23_jpg.rf.f13a420f136f23d2eba81c0dc0bdb71e.jpg', '35_jpg.rf.6bc559c7aac397d7ed7aa1543e4d7569.jpg', '19_jpg.rf.18b5ceac253a088acb785f40bebe4574.jpg', '16_jpg.rf.cabf35d6b6932f9e470723b545d2511b.jpg', '35_jpg.rf.4ce316b138e69d9b07cb07ec59f24cbc.jpg', '15_jpg.rf.88aabb92a125e5eefdd82752763a3ea9.jpg', '2_jpg.rf.310171b97b01eb22d7013cb1bde1e030.jpg', '2_jpg.rf.f7d6cbabf8a1ce5ab71df5cdc94af906.jpg', '10_jpg.rf.9d0a296c57184157f09888ea84898de5.jpg', '32_jpg.rf.fa47ba9321a0266432a9c24131dfba0c.jpg', '23_jpg.rf.5eeb38666ace076f07bbb33554866aea.jpg', '16_jpg.rf.a181ffe9444840214b1d97288ee2f052.jpg', '21_jpg.rf.69727122c224fe70849e8c6472e866b2.jpg', '10_jpg.rf.7d0262259a68ce8aa31451ece24c5508.jpg', '18_jpg.rf.1b3ad5a1c6823f340ef3956fd7737eb0.jpg', '11_jpg.rf.f48de610ce27d96bb297298eeb027a44.jpg', '13_jpg.rf.2f6f63a26bfb5ce426a818464d468a0a.jpg', '11_jpg.rf.8ce359eab4db71f535cd081492720c2b.jpg', '13_jpg.rf.ed52cd76f89b4d5badeb4c7609813ecd.jpg', '12_jpg.rf.443100c72f614af4cc6c2ab2330a0344.jpg', '34_jpg.rf.9ccc68eaf6dc0b0d7ed1c8a479f6b498.jpg', '11_jpg.rf.a3259785adcea36b58f4e2c683f775ff.jpg', '17_jpg.rf.eb18c1ba70b9089b81739a5203a4669c.jpg', '32_jpg.rf.cee7c705486d7fc12fc58de3a1ca653c.jpg', '15_jpg.rf.25edca15cf4284f77c50c00adb0a37fb.jpg', '34_jpg.rf.d834a8e0ebdd8c4cfd25d1ddd01de3c7.jpg', '12_jpg.rf.daed58da7df2757146200cc8901ea8f3.jpg', '31_jpg.rf.a071f59d02e1174ebd343fc155a37c67.jpg', '29_jpg.rf.b31cb979b7e5ecb5df0d511a122744d9.jpg', '13_jpg.rf.ee2a7f1bd40285d0b3b9ecdbe84f8be7.jpg', '34_jpg.rf.91e13e0a7e9134a83861c56f1c57433e.jpg', '29_jpg.rf.ba910710ade418a07735f8832c0a99f3.jpg', '32_jpg.rf.078861dede0796c8bec0ee4a0dcc6b1d.jpg', '19_jpg.rf.e0a51cd6a836691573a09893cfb8cc9d.jpg', '18_jpg.rf.1d5eb2221699c596b74695275d1e07ce.jpg', '2_jpg.rf.60efb14394413ef7f404b0f4df1d727e.jpg', '68_jpg.rf.6507b189fed38883d87ddc61a891074d.jpg', '67_jpg.rf.241af3bf5f7e4efb80c5d0610904b848.jpg', '10576_jpeg.rf.e54d838b81faf70379896bc3bf611078.jpg', '10448_jpg.rf.642f1449db67f96c9c69871f03d3f790.jpg', '71_jpg.rf.c6142b4600f344d232ff41a14b3dd556.jpg', '10438_jpg.rf.50929e78dda25aec3c621427485e9a80.jpg', '71_jpg.rf.aff26c2aac87b1ade02fb3517760c6ff.jpg', 'Computer-keyboard-82_jpg.rf.f0e8c3fe78a4f5e92588e960312bc40e.jpg', '60_jpg.rf.6a632a6bcaac2bdc6845575bc3037082.jpg', '51QUDw-0SmL-_AC__jpg.rf.8a199486dbea8d64784b8ed588b7e526.jpg', '10301_jpg.rf.e78fa76193370f9ba1b3e6984454992c.jpg', 'Computer-keyboard-148_jpg.rf.fcf447527438e06f3e41443f0fe481c2.jpg', '10431_jpg.rf.44576d6e623db6e1b3f728f67d945331.jpg', 'Computer-keyboard-50_jpg.rf.4eec6e371ae007f6ce52489cea7d1787.jpg', '10269_jpg.rf.0c1885bdccbdea2cba06e681b8f2ec17.jpg', '097855115324-teclado-logitech-touch-inalambrico-alfanumerico-negro_jpg.rf.1d60adad4ef3e9100ba343793ee7d662.jpg', '10258_jpg.rf.911100c9f113dbc83cf2c0080ea7fae6.jpg', 'Computer-keyboard-159_jpg.rf.c1c2a258509987c8210857fc615f4297.jpg', '10442_jpg.rf.8de7a1dc48a2ffe13ca2e54bd877414f.jpg', '10493_jpg.rf.28b259f759cfcb6109c7ca5c0faab6b0.jpg', 'keyboard-30_jpg.rf.86cab427256b403a9245253e10785a41.jpg', '10464_jpg.rf.ff979b1f6e7b0a0ac3f7d749afc221da.jpg', '51QUDw-0SmL-_AC__jpg.rf.97c081ef5700ad05703cc3b505780f82.jpg', '10254_jpg.rf.aa1f6cd4d8d08ceea70b7967bd4c5b85.jpg', 'keyboard-25_jpg.rf.40aed9baab7ad7f5ef28ee220f3e7234.jpg', '10510_jpg.rf.976d1d7d68fef8b4d8c7bb599b111059.jpg', '10491_jpg.rf.bdd44c71c5473e46f0f6baadc15ae857.jpg', '10500_jpg.rf.dc88650402e541df876a65958b125570.jpg', '75_jpg.rf.1457f8922666f47e77139e36e13bbd11.jpg', 'PXL_20231021_013559771_jpg.rf.e74611266f49e41c8a74787a4535ff24.jpg', '10415_jpg.rf.37eb02604a4de0d804fad9300b6b5cee.jpg', '4_jpg.rf.5816d2403ac6dcfc91e38807176f20f7.jpg', '8_jpg.rf.c132ae08152aa474d72e12bc08d77ce1.jpg', '0a862300443753f7f0b773365f2ace11_jpg.rf.2446ed6ec0c37f49ab5df0030a9068ee.jpg', '10060_jpg.rf.217ab4cb219bdc112a062cd761896f00.jpg', '64_jpg.rf.db8b805e779390ed74b1ee45162e887c.jpg', '10179_jpeg.rf.6f97a3621825773f430245585520b53c.jpg', 'Computer-keyboard-40_jpg.rf.bd846a62387c8471aa6ab9ca401cbd7f.jpg', '1-42_jpg.rf.98340f2444c5c4fb4ed9412de504d317.jpg', '10398_jpg.rf.cabcbd44f59cbeec1f9a726d2848579d.jpg', '23-333-046-02_jpg.rf.9cdff25c71a20e0533c1c46608c55a39.jpg', '41RLf48XWmS-_AC_SY350__jpg.rf.e47e841337b7d5d892bbb653a4a64312.jpg', '10342_jpg.rf.d4bcffeeab4ba489e010185a0be7a14e.jpg', 'keyboard-60_jpg.rf.c10654b5fe0393e4bcd266cc1d013b0a.jpg', '619Uo2IeHML-_SY355__jpg.rf.9bc9a68de5322d441cf599edaff00118.jpg', '097855115324-teclado-logitech-touch-inalambrico-alfanumerico-negro_jpg.rf.908abd745e83fe486a59267050e45b7a.jpg', '10350_jpg.rf.4726fc319137fd5eb210282cd7d90109.jpg', '10473_jpg.rf.0b2a9eb4accd0a95ceb4c33e0438e731.jpg', 'Computer-keyboard-97_jpg.rf.ae17ce8c750ea0af671fefeafcc94138.jpg', 'Computer-keyboard-1_jpg.rf.a75ca5e07d1047c627625cf2e597c224.jpg', '44b53df2aa49ae0fd2164708d3ae38a8_jpg.rf.d37a6b2a605e3c0787bb9fc15917c4c8.jpg', 'keyboard-68_jpg.rf.fdb4119e93b8fc1b0903b1a861f6ab9d.jpg', '72_jpg.rf.f03fd4c12af39a39bbc5898b0ae6a331.jpg', 'Computer-keyboard-39_jpg.rf.dbb00202ae3f2716cf6b6d4abb6c869d.jpg', '10057_jpg.rf.23a963acb830301df178211e97ba608c.jpg', 'Computer-keyboard-29_jpg.rf.742e83bfd3d160d619936ae21cb7629b.jpg', 'Computer-keyboard-65_jpg.rf.87fbcf1a47887de729ba3848fcc5a06a.jpg', '10093_jpg.rf.5c9a24f677a6527bc4d31e377a1716c7.jpg', '10387_jpg.rf.613964c32da411e216a96e489fda17de.jpg', '10349_jpg.rf.e3ca1723b7cf378f285536e6900f8ba3.jpg', 'PXL_20231021_013614662_jpg.rf.9932a129b8fe222d9fe2e1d2dde3e723.jpg', 'Computer-keyboard-127_jpg.rf.22ebeb7ed9fb6e4ab8c58088ccb6ecd0.jpg', 'Computer-keyboard-17_jpg.rf.38acae86d96b729af55940c42d1b1610.jpg', '61I96wLF8ML-_AC_SY450__jpg.rf.2261d0ef555e3a68a8292d8cdfa8d84a.jpg', 'Computer-keyboard-169_jpg.rf.df4336385a182304fb432b705f0ca13e.jpg', '61Rp1Z46lEL-_SL1500__jpg.rf.3119aad8608a455589f2d62ac2055251.jpg', '41RLf48XWmS-_AC_SY350__jpg.rf.4cb717f007a0a563429d8fec97a3b9a6.jpg', '10522_jpg.rf.e1d0546d7d425fc1e5759c5ac3d1f87a.jpg', '10446_jpg.rf.7251a7c65ebe3b758499abb35090f1aa.jpg', '619Uo2IeHML-_SY355__jpg.rf.112a5aa1e527aac1cab1f4429f9dd83e.jpg', '61Rp1Z46lEL-_SL1500__jpg.rf.2b29f58ea7287219a5f516e5c733ffdc.jpg', '61I96wLF8ML-_AC_SY450__jpg.rf.877ae82681aff20db10ba069033b1bc6.jpg', '15179407541504840-jpg-gallery-big-iext53317928_jpg.rf.007ff3f2e9eafd5d287cbdf07b800002.jpg', '10008_jpg.rf.07f0aa9b9770a6693572935d2ac913c3.jpg', '10064_jpg.rf.ef3f69a8e8adbc1742f7fa6322e0971a.jpg', '10261_jpg.rf.ac6341e0271b4851be7fbb75dd7a2af1.jpg', '0a862300443753f7f0b773365f2ace11_jpg.rf.15d7ccc3e1fd0c83c7435df4c2fdcf12.jpg', '71-b-tuK1TL-_AC_US1200__jpg.rf.ceca869669702c32b501dba74742ac78.jpg', '61gVIcDeneL-_AC_SY450__jpg.rf.33c97b1bbef388e5b4bade69be726ac5.jpg', '10162_jpeg.rf.7f029789ebd38d2d68c59427b2ba554f.jpg', '10040_jpg.rf.94b51cd798622d703e4cc0c95420062d.jpg', '10495_png.rf.4a79b7baed4cbfe19601a4237b1ec4d4.jpg', 'Computer-keyboard-155_jpg.rf.9aa2e6d3beee4baa6d9191597cad1035.jpg', '10440_jpg.rf.045594b48041afc527f0e1200ff8f055.jpg', '10563_jpeg.rf.bf5ac022e20665dfe3a632584d83ec76.jpg', 'PXL_20231021_013748281_jpg.rf.3f1f084b538f4474c5e27572ad90c0af.jpg', 'Computer-keyboard-30_jpg.rf.e01ee49e4c986650fde98d6b7547956e.jpg', '10506_jpg.rf.15aa6090258e3695e07049fed57840f7.jpg', '10539_png.rf.40775274d6315e523118bc1446287e26.jpg', '10555_jpeg.rf.955b7a434273b82a95e969b3fa4a09e1.jpg', '10524_jpg.rf.c36a3f3a4a1d45cbb83dba276339d2b2.jpg', '10549_jpg.rf.a30112569dac09ede5c13f0130dd73d7.jpg', '10007_jpg.rf.b219411a0801cb7f818e9a8144beb0e9.jpg', '10523_jpg.rf.ab47ab2dad1423fc0c6daa7e3c0b15d4.jpg', '61swNr5EFsL-_AC_SY355__jpg.rf.3f441f30da103407fe7366962453a481.jpg', '10348_jpg.rf.1e51796ef226d81e281392dacecb55c4.jpg', '10260_jpg.rf.76995ef8bc816464eebf4d6efa50202a.jpg', '10294_jpg.rf.d1fe29158a3546807c04ecbfbdf16761.jpg', '10483_jpg.rf.92b545123055c7a5196a792e77795223.jpg', '61I96wLF8ML-_AC_SY450__jpg.rf.932ad3079e748da70f7065bba2ff09b0.jpg', 'Computer-keyboard-180_jpg.rf.292520a3e8890d22da41528610468633.jpg', '10426_jpg.rf.bbe58ee5116595591c50ec3656eaace2.jpg', '10329_jpg.rf.c5e4817a502c1c50b3d19c42da6857df.jpg', 'keyboard-24_jpg.rf.64fc8d3c907f45794f26be2d8f9c4b6b.jpg', 'Computer-keyboard-151_jpg.rf.c444baa2c67ee5171a90157ed3c615aa.jpg', 'keyboard-53_jpg.rf.4ac0c7252ba51b79549f0c0fdbb8a066.jpg', '10352_jpg.rf.1ac56415f6d52d7137cc676f91f920bc.jpg', '10465_jpg.rf.da5d53f53c8c0590495d6a7e8cbfaf8d.jpg', '10285_jpg.rf.ef9aacafb3a2808b6fc72d564fd4a165.jpg', '61X8dpahw0L-_AC_SS450__jpg.rf.9886c2e0919a812dbde3ece4e1de3eb4.jpg', 'Computer-keyboard-77_jpg.rf.dd46c963b9b79f3022baae1aab63b86b.jpg', '57_jpg.rf.dfef20d94cfde72de58139470feb5a79.jpg', '71-b-tuK1TL-_AC_US1200__jpg.rf.f2ce01706443a103ad5b69ec5aaf0873.jpg', 'PXL_20231021_013621295_jpg.rf.ab12d9553c631fd1985ddb201f8eb99b.jpg', '10538_jpg.rf.49434a2a10ded7fe44523934801668f4.jpg', '38_jpg.rf.04d900b2cbbc03acf82537acbe6f0958.jpg', '71-b-tuK1TL-_AC_US1200__jpg.rf.8d6fa41265eefb3a3b7410e905cf3bfe.jpg', 'keyboard-42_jpg.rf.c3ed498599889c626b81d6fba702992b.jpg', '10016_jpg.rf.477c4b2fc16675498465840dbb29cc40.jpg', '10354_jpg.rf.d13b78e240dd967bb582279aa4342d0a.jpg', '10389_jpg.rf.11387d4114fd91f5af0d0c9417c7709b.jpg', '61I96wLF8ML-_AC_SY450__jpg.rf.2f53747e07bf4e3a0ad3c6073ea1de97.jpg', '10279_jpg.rf.16e811e979c878fadc357afdfc0596e8.jpg', '41bS3vmqoOL-_AC__jpg.rf.a0385377ece5bb5fbfdc135c21cd3b07.jpg', 'Computer-keyboard-69_jpg.rf.1eef3296d16faf4165c530e1fe6f8da3.jpg', '10015_jpg.rf.27fb78b975eca64a12d0584914a1c45f.jpg', '3516092-40_jpg.rf.20f256a2ebedec100a40a0a7f33d2c65.jpg', 'PXL_20231021_013546024_jpg.rf.59745f21eb62987387372c3ca079008f.jpg', '10406_jpg.rf.3238dabb4dab08b53b29567077dedfe3.jpg', 'keyboard-63_jpg.rf.20100aaad9aa2f44ebcaede51fb86a2c.jpg', 'Computer-keyboard-73_jpg.rf.24b39aeacfd078537c2fbfaa6b4b53d9.jpg', '10573_jpeg.rf.c30c08197ef3a9292ea6fa5607e33c0e.jpg', '34796068_jpg.rf.dc968e6dc16477e0229f1c6c7bfde56a.jpg', 'Computer-keyboard-184_jpg.rf.e3b583b310f125b46f0875077790acce.jpg', '10034_jpg.rf.3745dac7393f867340c1d30f0766d6d5.jpg', 'Computer-keyboard-171_jpg.rf.cdcc70c27503b2a7b6f954c2587d4cbc.jpg', '10164_jpg.rf.babd93d7e0a505544773a21af2da103d.jpg', '65_jpg.rf.f599c5cb1d46c39f0503874e19e63611.jpg', '10099_jpg.rf.d1d4731ab391f2d312bfca8b2ee6bf48.jpg', '10579_jpeg.rf.0859788196e37eb45cbbc09f39ecf884.jpg', '41xmKGlZJ7L-_SL500__jpg.rf.f2ce98f73315c2591181f5ddacdcd03a.jpg', '10280_jpg.rf.0f09909568ae022e7e4c16b1cd4bcb70.jpg', '78_jpg.rf.cebb8aaa8bb70e993c43b48f3e631f00.jpg', '61gyG58sVSS-_AC_SS450__jpg.rf.946ee6caa431094eb56ec81133a193a4.jpg', '10561_jpeg.rf.a6b41342340d7b803413e70017fa32b3.jpg', 'Computer-keyboard-105_jpg.rf.19fcfa57714122774bc3aa9f7d62026b.jpg', 'Computer-keyboard-111_jpg.rf.9911d6c5ee4051737984b8fcbfc7d98f.jpg', '10395_jpg.rf.07b0aabd7b593eaefa3165a0a3560ba5.jpg', 'keyboard-21_jpg.rf.ed456a469649c572daf994b7ad84ba41.jpg', '10439_jpg.rf.8628d820407f30eec024f0f286dd26ff.jpg', '10056_jpg.rf.269103af67df02b0ea4872550ff48795.jpg', '41bS3vmqoOL-_AC__jpg.rf.dd50512e3bdc520f386e717fd8cd867b.jpg', '10266_jpg.rf.f7b30bf211bf69e31495c26cb3420f21.jpg', '10054_jpg.rf.bdd1acc340f40fce94276a2e7a7ab042.jpg', 'Computer-keyboard-147_jpg.rf.37b49159cc8c65a9528c36f9c1e5d2b6.jpg', '41bS3vmqoOL-_AC__jpg.rf.ad07873891370987d0d875e3c2b1607c.jpg', 'Computer-keyboard-137_jpg.rf.cebb0af5c90d6342787a16f855346119.jpg', '10160_jpg.rf.b336ec7d390ae14e6db194fb82a53a9f.jpg', 'Computer-keyboard-5_jpg.rf.61e82b3fa014059c51aa2c821a832b29.jpg', '1309360597462099_jpg.rf.39590fb28f206dae4cb4d1cfdd72ea60.jpg', '10046_jpg.rf.24d547851e350bc74cdcfa1aba1dc034.jpg', '10177_jpeg.rf.e3e35fea8d63b2446c877f43f1e1bad7.jpg', 'Computer-keyboard-192_jpg.rf.9f40c898fc2230fa71058a62823b67ab.jpg', 'Computer-keyboard-54_jpg.rf.56b2b8481bcf8371b6b6a11ee527bc78.jpg', '619Uo2IeHML-_SY355__jpg.rf.4ceb2f8d7342075d7db6295ebff43ba6.jpg', '10405_jpg.rf.f312749883026a8635c216ce04dd1b62.jpg', '10340_jpg.rf.e1d58463a9111763045a083125734cc2.jpg', '41xmKGlZJ7L-_SL500__jpg.rf.cba29c078b16b3fe1bfe479e0608fc95.jpg', 'Computer-keyboard-61_jpg.rf.34b4df3539a3ff0e115d7c6767e5fe98.jpg', 'Computer-keyboard-197_jpg.rf.d304054c2b42039328e1a912c2871fd3.jpg', '10443_jpg.rf.9d0df734946db5ac7665b35e6a15a496.jpg', '10480_jpg.rf.259d69890062579eb7762477c2f02735.jpg', 'Computer-keyboard-129_jpg.rf.7034dbc1e5d29b9b1293b30cf2c94a36.jpg', 'Computer-keyboard-58_jpg.rf.3f32eb87ee3b4077a7c93755e963539a.jpg', '4_jpg.rf.298aedda5d1fab570fd5926320e7d86b.jpg', '10207_jpg.rf.1d085a6623dfce864dff0e7390ce896e.jpg', '10449_jpg.rf.accf7ee7f8e7c4656186899c91f74e59.jpg', 'Computer-keyboard-87_jpg.rf.de48a85398be6450af56a1d5a828c9f2.jpg', '61uLb4jFqoS-_AC_SY450__jpg.rf.f1d8aaa77bef347224a24bf621eed3af.jpg', 'Computer-keyboard-138_jpg.rf.998e4d650d926e6765854e020a763b4e.jpg', '10588_png.rf.77585acb6a255b1687ea336474cb3d8d.jpg', '10036_jpg.rf.c77827d91a81cc7f26dc58fefe5c07d4.jpg', 'Computer-keyboard-190_jpg.rf.ffb205f2de3d6a580c6166e1f1433dba.jpg', '616b57i1oBL_jpg.rf.ff5f6cdfd65ce641ca0619d05407c5ec.jpg', '50_jpg.rf.72732e979756287e981d2af55f183afc.jpg', 'Computer-keyboard-49_jpg.rf.32e720fec00b30c5d856ee853425b822.jpg', 'Computer-keyboard-134_jpg.rf.2813474efea7233e841d4f4d8f023cd4.jpg', '61f4e728Nabca1830-jpg-q70_jpg.rf.3e41efd28fa90918911481a7a9a9995b.jpg', 'Computer-keyboard-32_jpg.rf.522e1eb275c5dad6cabc42d928ee2a9d.jpg', '10390_jpg.rf.557df303172f9e6bbce6554a864f431b.jpg', 'Computer-keyboard-121_jpg.rf.3d1aca511d29c1ad3b353197f9ddf9fd.jpg', '41xmKGlZJ7L-_SL500__jpg.rf.c26960b18f93858b46a9ad82ad293b11.jpg', '61uLb4jFqoS-_AC_SY450__jpg.rf.2e2f16ce5003e28345bc0bb1d8eb0eff.jpg', '10567_jpeg.rf.7c611aa57a3ef49a965e0edf5dd00915.jpg', '10282_jpg.rf.48a903fdf6811598eba3ff79b168c370.jpg', 'Computer-keyboard-81_jpg.rf.719262a394abb516f58188bcbc55cf55.jpg', '021a487e9904f4eed60ee8a0ebde77cfa36c5bdd_1024_1024_jpg.rf.b283073a0455fe5456ac48e6cae90d82.jpg', 'Computer-keyboard-168_jpg.rf.4078c5ec75c53a12253a2469acd7de71.jpg', '61gyG58sVSS-_AC_SS450__jpg.rf.c33c01dca930336a5fbaae9f46d3a8fd.jpg', '10460_jpg.rf.bf5ea7f5e0c35b6a96d2314846a2d1ca.jpg', 'Computer-keyboard-10_jpg.rf.71e66cc8ea7de93a97d90b64367125f6.jpg', 'Computer-keyboard-195_jpg.rf.3346e199261c7a197cb85ce7e051b845.jpg', '61uUiPHWwxS_jpg.rf.78746d61d03f108a4cfd83c909f23d4a.jpg', '0a862300443753f7f0b773365f2ace11_jpg.rf.90fd7abaac8ef9ce74b3ae23f21cc97d.jpg', 'Computer-keyboard-160_jpg.rf.daa0718f50edfda78bea38ee67fa256f.jpg', '3516092-40_jpg.rf.9a0d8da11727b6f82a43d48c6e29e4d2.jpg', '41_jpg.rf.86c12a8b9050e02777832f5abde09f47.jpg', '45_jpg.rf.aa449eb28220dd67fd6f8c87df76e544.jpg', '43082-970_jpg.rf.059dbab9119a60166aa4752600d68ad2.jpg', '41J23yrNwuL-_AC__jpg.rf.cea66c25e8807a276c683d118ee3c8fb.jpg', '74_jpg.rf.29cd5018747603f6fa2c62d83d7ba47e.jpg', '612-TEDv7OL-_SX679__jpg.rf.fbe3beb37123729c7bdcac45061cd83b.jpg', '10556_jpg.rf.0b4117cd63e7bb83226b9d87afed7086.jpg', '10462_jpg.rf.cfaaebba45ea1d1f8a222f1293daa35e.jpg', '10433_jpg.rf.55a2d7903b64c5ffea5d7c9cb26126c4.jpg', 'Computer-keyboard-45_jpg.rf.4f6aadbcaccffb02ea9a4097edcb9040.jpg', '10116_jpg.rf.ec474b30e11656daaeff1971d4f711f5.jpg', 'Computer-keyboard-199_jpg.rf.bec8622051fc59898834f406ef3a6f6c.jpg', '10202_jpg.rf.c958481b2ee46f118835a33bdd662ea3.jpg', '10074_jpg.rf.74cef25b144bbc4476c907b2120ffd78.jpg', 'Computer-keyboard-153_jpg.rf.dd81bea98c674d17c9bfd4755252a5af.jpg', '61I96wLF8ML-_AC_SY450__jpg.rf.8b1c2dd79e53900433ea58d6607dc269.jpg', '41bS3vmqoOL-_AC__jpg.rf.f429f7a00444c9b758378aff8d954ca4.jpg', '10146_jpg.rf.adaa01b48b8a1e15005e4eeeafd97478.jpg', '619Uo2IeHML-_SY355__jpg.rf.2e316ed9cfd01f711b992ff1a6e44a09.jpg', 'Computer-keyboard-12_jpg.rf.7d8ed22a7ef8794f994bb32ec29d8a30.jpg', '10546_jpg.rf.392927d48d81c40ca51b07366c384e66.jpg', '45_jpg.rf.4474f2b9adf663541300a79f517f8a53.jpg', '10337_jpg.rf.b8424a5ae7f683abf60f06dd7fa2ed44.jpg', '78_jpg.rf.1f98945cefff76cdcb4daf0b87e27dda.jpg', 'keyboard-13_jpg.rf.c65815489fe05d5cfb15a93c92dacb5f.jpg', '10379_jpg.rf.f26ae80ca71c803fa45eed0cddef5563.jpg', 'Computer-keyboard-72_jpg.rf.879900773a88ddee91672bb27cbb4526.jpg', 'Computer-keyboard-100_jpg.rf.116e600f1a3ec0cebfadd37c4b5b17e0.jpg', '40_jpg.rf.3272d28a12169c4012d6cc914615b06b.jpg', 'keyboard-55_jpg.rf.7c4421d156597929ec19eaf03a151a5a.jpg', '10069_jpg.rf.963af2a89e653f8f7b5931a3adfff13a.jpg', '41RLf48XWmS-_AC_SY350__jpg.rf.8537cc812c9eea0d301cb08d659afd69.jpg', '10128_jpg.rf.98ef7d1e9a1c4e3a1cd5c0b84543f760.jpg', '10458_jpg.rf.acf8014ca8ec302bbde030267a2af9f8.jpg', 'Computer-keyboard-141_jpg.rf.1180f7f7e3cec27caaf1d3907cc7103c.jpg', 'Computer-keyboard-117_jpg.rf.a85d06a0c9952c2d41fa5e8cea039cc9.jpg', '71cngLX2xuL-_AC_SL1500__jpg.rf.4a3a41bd622ee3f0d496bd82471a4baf.jpg', '10124_jpg.rf.69325b7850befb35cbc9dd2d3c2d060f.jpg', '10421_jpg.rf.8ee4c2e0820456c73fd6e5d914e49205.jpg', '10212_jpg.rf.af9ac8bc1390e77fdb7dcf5d5a8fef2d.jpg', '3516092-40_jpg.rf.e31b3302a308a73d267326d49ac88fde.jpg', '10411_jpg.rf.53fa6b4364da3c8b026d5af51ead9948.jpg', '10163_jpeg.rf.12b022c3528090759880c7f3876f6ac2.jpg', '71cngLX2xuL-_AC_SL1500__jpg.rf.c639e839a6eadc275879dc2eedec0d87.jpg', '10038_jpg.rf.b8b25605750b1299ee5ec13c2fa46757.jpg', '10132_jpg.rf.2cec9f1b2e6f885ac8cd196b7db29fe6.jpg', '71cngLX2xuL-_AC_SL1500__jpg.rf.31e4e901a07cd5dd2d80b6211853583b.jpg', '10198_jpg.rf.8cd4e779336e5ac18c0c9ff2c673d16a.jpg', 'Computer-keyboard-149_jpg.rf.ea9e6a2132453df4e352a13d3090a145.jpg', '10167_jpg.rf.74524d4b21bfba0ae359cd181dc75cab.jpg', 'PXL_20231021_013326542_jpg.rf.b885927b2bdeb5b7359070d0cd21c02c.jpg', '80_jpg.rf.aaf8af8c5d753da7123a0c1de8a9b934.jpg', 'Computer-keyboard-93_jpg.rf.88ba8734368bbd7288b00b4ff98c153e.jpg', '10017_jpg.rf.78fe913f1c5619a6ded61d069ae9ef41.jpg', '10536_jpg.rf.51c058a1f8a8fe241b5095ccb04bd1ef.jpg', 'keyboard-65_jpg.rf.534f9d9c95b4557533063b781e333f73.jpg', '10518_jpg.rf.535c24c6eb7ebc03cb5f8a1dd8716ca7.jpg', 'Computer-keyboard-63_jpg.rf.9861e289ecdcd506015b6161d71d14d0.jpg', '55_jpg.rf.8e8cd173b4ab177db87582e701c332b2.jpg', 'Computer-keyboard-194_jpg.rf.f8d962bd518e5227ae394015bee33e73.jpg', '619Uo2IeHML-_SY355__jpg.rf.baaad6d6c837cdb836677fb21eef34e5.jpg', '61swNr5EFsL-_AC_SY355__jpg.rf.c42b9966e8bd527e322e0c9a84abc23e.jpg', '10125_jpg.rf.666cfd973b40a6205722f1c9d052cb53.jpg', '61gyG58sVSS-_AC_SS450__jpg.rf.4e08c49bacb6dc48608f5409a28420fc.jpg', '1440533g213-prodigy-gaming-keyboard__1__33dc7f51d85e4ea3b8d18e5ad4508c9b_jpg.rf.a1ebb8887b5541ab36613b3aaa3f8e0e.jpg', 'Computer-keyboard-140_jpg.rf.786981a36d24667bc2de1e549a169ef6.jpg', '1440533g213-prodigy-gaming-keyboard__1__33dc7f51d85e4ea3b8d18e5ad4508c9b_jpg.rf.f383f3027aeb9817f3d93ad041128e21.jpg', '710xZexM4sL-_AC_SY355__jpg.rf.2f212b42b245646d41e69d2fb312a09e.jpg', '612-TEDv7OL-_SX679__jpg.rf.019fa00612f5e3b5e89886eb37270373.jpg', '10566_jpeg.rf.d4b3b3c3e712b485913d9c470441192d.jpg', 'keyboard-33_jpg.rf.b7590583f2c4045f436e671c13d33e9b.jpg', '10521_jpg.rf.cf4c8fd70b2873522c6cca021725826d.jpg', 'PXL_20231021_013540577_jpg.rf.2a4e3ea0a069e4c5e7daa129e0bff8d5.jpg', 'Computer-keyboard-27_jpg.rf.f518ac6e2e0f79f75ff54cdda894763e.jpg', '10156_jpg.rf.047685f75cfb30f597238bf1e76776de.jpg', 'Computer-keyboard-145_jpg.rf.52b6f14cc71f6389595a411f2d53ed41.jpg', '3fcb20047e8e9c03cd8fb3f0bc5317ee_jpg.rf.1ba880f3947c5d08bbd71947165108d9.jpg', '10168_jpeg.rf.1d2d8f0e4e74a9b821a7d20caf267fb4.jpg', 'Computer-keyboard-25_jpg.rf.9d210de3649796a4fe41ce6b5da40f6a.jpg', 'keyboard-75_jpg.rf.7781dcf01e9b7dbcec695e2e4478c2a3.jpg', 'Computer-keyboard-3_jpg.rf.8e72a423774ee61d2263fd4a4efc70d2.jpg', '10292_jpg.rf.d94bba79c84d437d1004b5d1344ccabd.jpg', 'Computer-keyboard-176_jpg.rf.4e3848420fef8c60c7dda6f4d12b71c6.jpg', '80_jpg.rf.fe361b9e05d607fe82e3aeaf10545eb3.jpg', '41_jpg.rf.3b9067bfc9a2491a9b07a4c78b4b0dcc.jpg', '51QUDw-0SmL-_AC__jpg.rf.6a45bd039b3ae21d69e6f3db46b7a6d9.jpg', '10316_png.rf.e020f861f11b1e7a9b6f3ca3c863cced.jpg', '10268_jpg.rf.d1cff375adfc09eb872ed9e2eaa313f0.jpg', '10287_jpg.rf.bf4f1bf1a4f9bdc807f13443367b6719.jpg', '10412_jpg.rf.c2640b12ac58e4c95a54260e883f193e.jpg', 'Computer-keyboard-119_jpg.rf.68a0d13b187cbf0ce9d1791258190fc9.jpg', '10384_jpg.rf.2a5c688dc6584bc7e1d0cda34a247555.jpg', '61gyG58sVSS-_AC_SS450__jpg.rf.825ecd65728f06ba09058565abe4f2cc.jpg', '36_jpg.rf.d1e18ccbe7a5ea1a8ef1ea2614e0c57a.jpg', '097855115324-teclado-logitech-touch-inalambrico-alfanumerico-negro_jpg.rf.264fce85368d76d92c60ad7db8840aa2.jpg', 'Computer-keyboard-112_jpg.rf.2b50a25220dada44286e4158448e2f58.jpg', 'Computer-keyboard-52_jpg.rf.eab1738503ea2eaf1fd10d6555fa9655.jpg', '8_jpg.rf.77160cbd80fdcee5e7a58cb98ea4f3b2.jpg', '10284_jpg.rf.86b92008cd3116e1ed5c94a24260d49c.jpg', '10194_jpg.rf.7d991e63bf60e1541e1f6980204ba318.jpg', 'Computer-keyboard-19_jpg.rf.0fc966f1df87aa5fefdde6bba77fbfb3.jpg', 'Computer-keyboard-18_jpg.rf.3b93240bd57ce8a57e32fd9c5799eb11.jpg', '41RLf48XWmS-_AC_SY350__jpg.rf.f29c197ba1d0e1ed10c6f5fea8efd98f.jpg', '10477_jpg.rf.b651470301ba0fc6602e61189a63276b.jpg', '5_jpg.rf.90e3072dfb936ed2d6c1bd7df984d16b.jpg', '3fcb20047e8e9c03cd8fb3f0bc5317ee_jpg.rf.b59dd5bbda9180cb9c1e7d50937fef32.jpg', '10355_jpg.rf.2d77a39d7881ba5bdfd5aa9c58f2bc54.jpg', 'keyboard-74_jpg.rf.fe3182c938659e4eaee6e64733d8586a.jpg', '10356_jpg.rf.a6e07c5832c58a99ae054815914e48d9.jpg', '10039_jpg.rf.44f7b1d2b6111c45504f74d41e406876.jpg', '51_jpg.rf.7e5af679048be256d4ea07d8a17cc24e.jpg', '10517_jpg.rf.6afe1dd50c2fc64c925c199675606ccb.jpg', '10341_jpg.rf.ad925c4017a7fbd5ffa44aab99aff28d.jpg', 'Computer-keyboard-125_jpg.rf.79a8ded8878155214d6d3e25ca8205d0.jpg', '43082-970_jpg.rf.121fcfe1e3687bddf8f7697ee674aa13.jpg', '10550_jpg.rf.78a2f5f910c7dba35f3d6e3b4d71fa10.jpg', '0f80433f9574ff974c7c8da8f425d06b_jpg.rf.c2a8ad12725dc74ae2596d79552602be.jpg', '1-37_jpg.rf.1f7a8904c7a10c92f66c33ef8973e1e3.jpg', '64_jpg.rf.2781e690a5b25dd54ba2fcb44d81473a.jpg', 'keyboard-31_jpg.rf.ec18b6e6cbf966ceceea0fb170d88923.jpg', '10273_jpg.rf.dc3c51cdd413c941a5f1ef9494d17688.jpg', '10311_jpg.rf.c8bbfce052fb7edeb54efc995df2a1f2.jpg', '80_jpg.rf.712d876949eab10072d43d7276943e40.jpg', '1-37_jpg.rf.d182e6a17843d3b624d7111b6a4e868d.jpg', 'Computer-keyboard-70_jpg.rf.a6a695bb44d86ed1508f508138ceb58d.jpg', '10396_jpg.rf.87d06a753de115c4ce10cdad3670525f.jpg', '021a487e9904f4eed60ee8a0ebde77cfa36c5bdd_1024_1024_jpg.rf.8d92dc4f0c583fc57856eafb591ac126.jpg', '10166_jpeg.rf.223f4d1b9858a169d3489cab67ff8dcd.jpg', '10574_jpeg.rf.a822bb42da409cff508a4057369d43bf.jpg', '10385_jpg.rf.200efbb8deb589e45a1542488c01fc41.jpg', '10264_jpg.rf.eedfe694a05172260103ce747a640db7.jpg', 'keyboard-37_jpg.rf.9cbd1c71c507a8c020546381ac58e637.jpg', '710xZexM4sL-_AC_SY355__jpg.rf.05696cd73e3e32326dd603a204834e3a.jpg', '10533_jpg.rf.9e2d46d97fe5f7ebae36d18827b665d0.jpg', '10271_jpg.rf.ff22ab4d0fb2a97da36c020c03085a9b.jpg', '10490_jpg.rf.c0e934eb0ac0fb2db288f80d9cb9c45e.jpg', '10425_jpg.rf.0851cb3a58430f27a9c2337c9330040d.jpg', '10206_jpg.rf.82467a3054c167d77be9ca56f590a21b.jpg', '10003_jpg.rf.11883117c1010149c759db99ac1a1fcd.jpg', 'Computer-keyboard-110_jpg.rf.24664a47432fb06baaf9e1396f5df0c0.jpg', '59_jpg.rf.f45f2be67334064bc9f14861bb30b81a.jpg', '10251_jpg.rf.a852f0fe57cbe875863b760fd8ebc237.jpg', 'Computer-keyboard-128_jpg.rf.4e88f2f7966012c76392074e705fd6d6.jpg', 'Computer-keyboard-165_jpg.rf.dd7d9bbde6898fe03897ba96c054e3db.jpg', '61gVIcDeneL-_AC_SY450__jpg.rf.5f14442054e7f82503dcf7c71cab31c9.jpg', '61uLb4jFqoS-_AC_SY450__jpg.rf.d152eed9acddf64892cc6dc621557309.jpg', '10331_jpg.rf.6556c2bdfe6a8532dcc40cd0a5a5def6.jpg', 'Computer-keyboard-6_jpg.rf.17ad0efb5832a08310ecaa5ed211f594.jpg', '10051_jpg.rf.1d6c1976eb5e6e0c2224e71063c8693a.jpg', '10360_jpg.rf.7b094974f439b65a659353fb8b51d447.jpg', '10505_jpg.rf.c1498e788d5b835959c53530fb061247.jpg', '10515_jpg.rf.26b41171362374b65141a96f3ccf60a0.jpg', '61uUiPHWwxS_jpg.rf.a201a36b8b7f672f0eab16d1fafdbd22.jpg', '9_jpg.rf.c509b5b61117e980644300cc73ae7a9a.jpg', '10095_jpg.rf.64ceb8515993a85c03e85ecd28f0cff3.jpg', '612-TEDv7OL-_SX679__jpg.rf.1425a128c441cda0102adcfb22dbbdc7.jpg', '15179407541504840-jpg-gallery-big-iext53317928_jpg.rf.5f0cf714cf51f4eb09cbaa4d3e34d4ca.jpg', '50_jpg.rf.fc06f254560852bd04fa6300768bdec1.jpg', 'Computer-keyboard-162_jpg.rf.56499a9099b7c248afc70bb6767d0aaa.jpg', 'keyboard-47_jpg.rf.5fa26bd75025ade5c1f5900cf65e3260.jpg', '10173_jpg.rf.2b04bc5fcce0052f64c85a6c78b13b89.jpg', '10565_png.rf.14507cf193903208bb989f424e09b8d5.jpg', '41xmKGlZJ7L-_SL500__jpg.rf.3b1e590e2266e83321236d7bbaa36f21.jpg', '23-333-046-02_jpg.rf.ef4516db1246961572fd8699cfb2012c.jpg', '10373_jpg.rf.bad3b32832d313e2e2a140596aecba20.jpg', '10333_jpg.rf.f3966ccf0774264ca0f2ca08f593c017.jpg', 'Computer-keyboard-123_jpg.rf.475bdc0e1ea0c8926d105f7515b25d5a.jpg', '10508_jpg.rf.cc860d8fec359e56a337c0f21cac53b9.jpg', '10241_jpeg.rf.f507ac445f0b4c2a7bdcf61d22ff54c3.jpg', 'Computer-keyboard-133_jpg.rf.8657fc7d0491a8b2f97d0a610a2569f0.jpg', '54_jpg.rf.74ebaf70e1e7b6ee9c4c0166613c3b18.jpg', '10201_jpg.rf.99085ffbea20de3e7d58c2f25fc6a473.jpg', '1-42_jpg.rf.6b58dc90efc41c8088dc3f9b12672468.jpg', '10172_jpg.rf.4d59046a365093c5f483f826779e77a5.jpg', '021a487e9904f4eed60ee8a0ebde77cfa36c5bdd_1024_1024_jpg.rf.4c3d20cf704aa60e1708465fd731c375.jpg', '10408_jpg.rf.9137a97922777828369c629ba801a60d.jpg', '41J23yrNwuL-_AC__jpg.rf.e4a14a88c1b1e1b0f1dc279b46c0d35f.jpg', '79_jpg.rf.9ef505aad0ba99b0378605bf19cafd6f.jpg', '57_jpg.rf.0a7b3ab69fc428aec1761b603b9cb403.jpg', 'keyboard-29_jpg.rf.56dba4f8856e3912d2189dbad12b16e3.jpg', '9_jpg.rf.cf416869091c2dc36331564bd011f01d.jpg', 'Computer-keyboard-64_jpg.rf.1c95a94cd855d6b87e7bd063c08be4b7.jpg', 'PXL_20231021_013638674_jpg.rf.4ac22303f11751ea78f34972753d40d5.jpg', 'Computer-keyboard-166_jpg.rf.8e909931c70eff1f3bdc9d348365fae5.jpg', '10303_jpg.rf.b18cb85ea4ad1d49d186d9e48cbe784b.jpg', '10307_jpg.rf.3404af33f2c43e7716dc8f40c23750f3.jpg', 'Computer-keyboard-172_jpg.rf.f44bbc84716e15c315259e9f37c9e3e8.jpg', '65_jpg.rf.0759826c1fed370f6d9c27b6b87b1a47.jpg', 'Computer-keyboard-152_jpg.rf.63a7e5087f704c4f1eea3c59dd9022aa.jpg', '616b57i1oBL_jpg.rf.3aa93e3aa1776e0390c13a158ce2d06f.jpg', '10158_jpg.rf.b2e03ae03316498eba3432874653b30b.jpg', '10203_jpg.rf.a62298c6a6f7fdb9e2544b26184277bf.jpg', '10025_jpg.rf.512a41db9c805183ee2f63ac39ae5352.jpg', '10123_jpg.rf.1d2f15617ae5b062aa7918a365f8aea8.jpg', 'PXL_20231021_013651906_jpg.rf.02e49703abe249be007142d20e48288f.jpg', '51_jpg.rf.131f53e817a280dcc1a5fda9412e3203.jpg', '1309360597462099_jpg.rf.efd96799841b659ee9e01a18eed16aa5.jpg', '10035_jpg.rf.3c7db809f903ed962d4ee5c9cc67c79f.jpg', '10262_jpg.rf.e5589f204a14b2e886c634d8e9ada2cf.jpg', 'keyboard-56_jpg.rf.3bfb8ec041a14188966ad5f90eab6c35.jpg', '10267_jpg.rf.f8d6e67b84e5bec1670c91dfa71cd5ef.jpg', '10077_jpg.rf.3f89cc2c0cd034a444a62f22fdce0a7b.jpg', '10540_jpg.rf.325ae0c597fb154066474f0f3e3f3c34.jpg', 'Computer-keyboard-157_jpg.rf.985f61264a821958cc0236792baa136b.jpg', '10463_jpg.rf.9e6abaa4c0085965bef49862d20168ad.jpg', '61f4e728Nabca1830-jpg-q70_jpg.rf.2d383e85eec09e78c15f4df9fc74c90c.jpg', 'Computer-keyboard-41_jpg.rf.fb3498fcfcea8a754852936de3a3db32.jpg', 'Computer-keyboard-189_jpg.rf.1a891075301a4e70ffa03cdaac34babf.jpg', '10100_jpg.rf.78e6d8a1a2c942ad100491e376c55fa6.jpg', '53_jpg.rf.c23d919e6c113813de3a2da80d2e8629.jpg', '10551_jpeg.rf.4ed078be5bdaeffae29712d66a973e8e.jpg', '68_jpg.rf.597798fcdae62802db1a0464c7936e70.jpg', '41xmKGlZJ7L-_SL500__jpg.rf.934ba4e832d75e833e37bfb25fda1b1a.jpg', 'Computer-keyboard-15_jpg.rf.6eccd84ad8e30403e52417a14e146401.jpg', 'Computer-keyboard-175_jpg.rf.79aca0add5c01add2c57c3033febc1c8.jpg', 'Computer-keyboard-84_jpg.rf.eac7259e7d317a91400af5180c966d16.jpg', '10176_jpeg.rf.9ceeb7c11ca133bf71d666d89c07bff6.jpg', '0f80433f9574ff974c7c8da8f425d06b_jpg.rf.0fd691790fd9056c5061523f826e62ee.jpg', 'Computer-keyboard-57_jpg.rf.e15375a37927aca21c22cc8c61ae390d.jpg', '10228_png.rf.14474c8e2731b0b10392bdb345773f6e.jpg', '10195_jpg.rf.e66293f0d8b1ac10f5e32996cecee104.jpg', '10043_jpg.rf.edb7c835f9fba95ac6112b71b0be4d05.jpg', '10369_jpg.rf.dda288a769b36c0191be8e6cb332dca4.jpg', '60_jpg.rf.62313f4f73a5226993dba9fe8cf09f7b.jpg', '10407_jpg.rf.d16a9dd6ac1969d5ea419b18550bd4c9.jpg', 'keyboard-15_jpg.rf.c459140e6d44ae3dc18907a18a7f0785.jpg', 'Computer-keyboard-178_jpg.rf.528fe805bb4d9d437562c3eb5e49080d.jpg', '52_jpg.rf.b26522dd4690dff2e01ffa863abfb53e.jpg', 'Computer-keyboard-91_jpg.rf.377e79751b9305fbb9b54ad3847a7f7c.jpg', '10053_jpg.rf.afb3cdc9d35f5b669054df6c6dcac9a1.jpg', 'Computer-keyboard-103_jpg.rf.efd63c5d98ee21b942c1e432aee8b524.jpg', '61X8dpahw0L-_AC_SS450__jpg.rf.e624cbd86db0bdd28eeb00aa482f6c62.jpg', 'Computer-keyboard-113_jpg.rf.625469fc262b61c1bd08dd3fe59e6d09.jpg', '41ELhdUB9bL-_AC_SY780__jpg.rf.d16c7bb144a98688bb24e5bf26daa164.jpg', '021a487e9904f4eed60ee8a0ebde77cfa36c5bdd_1024_1024_jpg.rf.bcac7bcafa1d573d6aab7de5a025669f.jpg', 'Computer-keyboard-55_jpg.rf.6c436890fe3aa009bcffa40d800890d5.jpg', 'Computer-keyboard-21_jpg.rf.cb76418acbaa2f748ca8e1cd85de8144.jpg', '10487_jpg.rf.0861b75fc652d9ee2ec16cf6b1b4edc1.jpg', 'keyboard-26_jpg.rf.422caca88f538cce19d7fcadd12a9ebb.jpg', '10466_jpg.rf.19aad3207ae2c0779bfa8b4a5d76bafb.jpg', '10420_jpg.rf.46b53926ff22c3e72f84775a9edc2e0c.jpg', '41Pa-wY5l6L-_AC__jpg.rf.9aa2bf5126a7e63742b121fbfcf4560d.jpg', '10330_jpg.rf.445eab0d676eb8ed1db840c261d4ac5b.jpg', '39_jpg.rf.f27efabe29de1693a36f6dadb65f992d.jpg', '49_jpg.rf.545f7404edbf82f57a80cc351b402264.jpg', 'Computer-keyboard-51_jpg.rf.b335923475bad1f93a5d4cde3938f259.jpg', '41ELhdUB9bL-_AC_SY780__jpg.rf.24a6385c7557bf5464803c10a3bf9b57.jpg', '160441-photos-keyboard-free-photo_jpg.rf.8ab974ae2a8f1a1a0c3005871a73c57c.jpg', '61uLb4jFqoS-_AC_SY450__jpg.rf.028e36cdfd27a8757dc873cbd6d7d824.jpg', '021a487e9904f4eed60ee8a0ebde77cfa36c5bdd_1024_1024_jpg.rf.7b4444f5c16317edfd75939ce06dcdb1.jpg', 'Computer-keyboard-89_jpg.rf.90dec6a4541dbec80038a4a1ffcd51a7.jpg', 'Computer-keyboard-20_jpg.rf.6e3d0c2ee0ecf19dde0320f141dcbd80.jpg', 'Computer-keyboard-42_jpg.rf.0f413a5ac7b4a12363616878b21399c6.jpg', 'Computer-keyboard-62_jpg.rf.a9c0c558cc84e5e0a72b846038af66c5.jpg', '10117_jpg.rf.090305d402581aaa6b7558d359f76f47.jpg', '10595_jpeg.rf.a33c832ecf3aaecf2da7c663c6c6cabd.jpg', '10278_png.rf.3cd404d3a3339109acc9b3be60299db0.jpg', '0a862300443753f7f0b773365f2ace11_jpg.rf.56dac136f994b5ce55d7c8ff9e67c0fe.jpg', 'Computer-keyboard-94_jpg.rf.90e1e66149296367cdc255b25a75bea9.jpg', '10587_jpeg.rf.3d89b965c5308b31e23dd595adcfc607.jpg', '10315_jpg.rf.0889ae3579074c13c03b0b3054e20b2c.jpg', 'keyboard-6_jpg.rf.fb909df098a65979f7fe2868627e3782.jpg', '10447_jpg.rf.3814a8cec0d48c4d7641d72b8aa5ca3c.jpg', '10257_jpg.rf.12953e750acb7c82f1a80ad61865e575.jpg', '71cngLX2xuL-_AC_SL1500__jpg.rf.cbbb0c08e70d02da44b3b36eb135cc26.jpg', '10593_jpg.rf.a8e72571039b08a89470bac8336a731b.jpg', '45_jpg.rf.2a381ead5ae4cda22d68373e73e8c5b8.jpg', '1309360597462099_jpg.rf.e98e73bfd42c6a9541020e8bcfa5a24c.jpg', 'Computer-keyboard-9_jpg.rf.a528695666fac8565a76b5ecce347805.jpg', 'PXL_20231021_013108738_jpg.rf.f684de3190131f1fe1b00f15c6fc66f3.jpg', '10150_jpg.rf.d19a0f484b15b5bc02b1c20ffe5f74ea.jpg', '51HbMlTip8L_jpg.rf.469f2b526c4ede24dc8104005902986d.jpg', '10414_jpg.rf.ffa7f334ecea9bb93c14e15c7c0350f0.jpg', '10429_jpg.rf.5c5094c3301bbc380775e0f1852b283a.jpg', '68_jpg.rf.8b4444183b26e8e141c60b3510c82108.jpg', 'Computer-keyboard-7_jpg.rf.11c4674176d5aeaf5de276e37570637c.jpg', '41J23yrNwuL-_AC__jpg.rf.64571b4809df650550908932bfa69b7f.jpg', '46_jpg.rf.341bdcc26801b890bec7da80e57793dd.jpg', '54_jpg.rf.0513700adcc97907cb57b6de390db255.jpg', '10098_jpg.rf.4a7034671f493dfcf229ec9f318d114b.jpg', 'keyboard-19_jpg.rf.cf852f8e84246775eaed7f3495298809.jpg', '61gVIcDeneL-_AC_SY450__jpg.rf.d6d843e188f54fde3304de798e5a6f9b.jpg', '44b53df2aa49ae0fd2164708d3ae38a8_jpg.rf.81ee752adea62ba440ca4841cee72af1.jpg', '41RLf48XWmS-_AC_SY350__jpg.rf.0298b5a8e5180408b75bc8eb575be7d1.jpg', '10585_jpeg.rf.71cfc51d042c183fa55d0b6071acd2de.jpg', '10026_jpg.rf.b9b3f6ccc2306ac28c7fa679ac65cbfd.jpg', '10361_jpg.rf.54cfe16ff6d0dfe1af5ea81602f5d71b.jpg', 'Computer-keyboard-60_jpg.rf.13dfe11db1933c2512c238f4994a7d2d.jpg', 'PXL_20231021_013128429_jpg.rf.81d5c1ba7873a01f0166588a2dbdd4e6.jpg', '61X8dpahw0L-_AC_SS450__jpg.rf.6e6c9f797f1348df00be810d2d06623a.jpg', '10488_jpg.rf.afaa723cd411aecbdf269b90850c76dd.jpg', '10437_jpg.rf.54795a9e56038b2848d2d4048fcf930f.jpg', '10317_jpg.rf.bb54e5c18008638546ee967036853b19.jpg', '10417_jpg.rf.01690470794d4d8888f9fbd54ab800b6.jpg', '10351_jpg.rf.7e628c97207930f28d6c76fc701b870a.jpg', '710xZexM4sL-_AC_SY355__jpg.rf.425d66d980caf8c76e86798a1a1d122d.jpg', '47_jpg.rf.f14bc9d0596ee1ee240f4de27be860dd.jpg', '61gVIcDeneL-_AC_SY450__jpg.rf.783b0ab1896d0342c705f55a11a24017.jpg', 'keyboard-11_jpg.rf.8579aa52e0929d158f3bc03d08ab5ef2.jpg', '10061_jpg.rf.06ea46cb2fe480a6b45a3c5bdc028a3e.jpg', 'Computer-keyboard-80_jpg.rf.1170136eb498924bce026797cae20453.jpg', '23-333-046-02_jpg.rf.000e41e3eb5323075a49d298bac5e48e.jpg', '10577_jpeg.rf.b58e53acf76297e29a4e8b4df28f2b2c.jpg', '616yoFQZRdL-_AC_SS450__jpg.rf.50c3fb8ea27d8ff568139dc4946e2607.jpg', '43082-970_jpg.rf.8e1238f5f06dc3d32ff16afa85219828.jpg', '10371_jpg.rf.0a954efa883e0c2777c2c2dad9f2b042.jpg', '616b57i1oBL_jpg.rf.94df8c17b950da6140dc01ced277746f.jpg', '59_jpg.rf.1d64ff8f4b9d03cb4d6880e8b138dc6c.jpg', '10394_jpg.rf.05315448c34fd5986108654dc9965f95.jpg', 'keyboard-40_jpg.rf.d32cd9155a6f07fdd98578b68c007978.jpg', '10314_jpg.rf.c24511230bcb19265dac0a61c1b3d041.jpg', '10265_jpg.rf.6190acff2253875cc37933fab463dc40.jpg', '3fcb20047e8e9c03cd8fb3f0bc5317ee_jpg.rf.c57f9b1fad29a049d98af111269fd9c8.jpg', '10580_png.rf.ae87350b8323e48bfa820cb795fe8f6b.jpg', 'Computer-keyboard-135_jpg.rf.865f95851a56cd6437062fe05db4f795.jpg', 'Computer-keyboard-22_jpg.rf.9d0c206c602e181b3c98a72cd862aa5b.jpg', '10516_jpg.rf.26b1259dfc6eaef857844d6da2840a5e.jpg', '10596_png.rf.e84ff461406a955e84be1a2bb01836f6.jpg', '10290_jpg.rf.0110883300b828e73a543d5ecd6c94a6.jpg', '10528_jpg.rf.e5023bb8059e089cf0d063575863647a.jpg', '10572_jpeg.rf.c4cb1376e657dac4a4dff88eb4d0ef73.jpg', 'PXL_20231021_013631398_jpg.rf.fdeb16342ab93a4b4505c48f696d7342.jpg', '49_jpg.rf.a410897a1a654dca57c5d33952c30447.jpg', '10196_jpg.rf.bf9f301b04f16532517d0a042e006ee6.jpg', '10058_jpg.rf.2687dedd5186708a36dd26dd9f699d0f.jpg', 'Computer-keyboard-59_jpg.rf.7cb0b577a5498d273d82221dcdadd944.jpg', '10283_png.rf.08f8ccf68e56f889a7610c1fc58ce452.jpg', '50_jpg.rf.3a825f74bc27a786ae048d22d89f4df4.jpg', '75_jpg.rf.7f91ebb252247aceb6a26bbfa9b7ef29.jpg', 'Computer-keyboard-67_jpg.rf.8e6063fbb9825cdbae97138826513edd.jpg', 'Computer-keyboard-85_jpg.rf.2cca11edb204329802c17dd1cacf7c9f.jpg', '10419_jpg.rf.047705921059edbac9d5638373b8daf6.jpg', '43082-970_jpg.rf.6903d656e1f788bcb69f9e3f9601722f.jpg', '43082-970_jpg.rf.f66f9ca7cd2343f10c9c2f953c3a04c8.jpg', '71-b-tuK1TL-_AC_US1200__jpg.rf.b5bdf28f51f4eff211d6722ac31c0b3b.jpg', '44b53df2aa49ae0fd2164708d3ae38a8_jpg.rf.0d790271774a941203367827f0a5c90a.jpg', '10423_jpg.rf.8aec7d83ee88a53d814eeeb687952f7f.jpg', 'PXL_20231021_013827423_jpg.rf.dd777774ff0d69dc8ac4461ab7baf488.jpg', '10502_jpg.rf.1b15d6f65b2043e38e9bcc3e99159088.jpg', '39_jpg.rf.95317769c29c1e550fe605ddc8b60b2b.jpg', '10250_jpg.rf.a67fbcabd056f4a600613a0280c371bb.jpg', 'keyboard-41_jpg.rf.1b039c6fc42e97f7ce2d6a72e5f42a8e.jpg', '10126_jpg.rf.fe33261109e8a424805fec31306f037f.jpg', '60_jpg.rf.43c3a75f604bddba2b4e0905bb561e77.jpg', '71_jpg.rf.5d50405499a8c8c57ad81c4342bf28b1.jpg', 'Computer-keyboard-78_jpg.rf.aabb940d1d9cd10f9b3e8d2e96ccea66.jpg', '10475_jpg.rf.696d22fcfb276a9b1ee97f1364f60bec.jpg', '54_jpg.rf.1b9043850cb11ebc02e4bd0e61a85690.jpg', '41bS3vmqoOL-_AC__jpg.rf.591676c67d4bd7520f2e39761225886d.jpg', '10063_jpg.rf.7f1125ac31a4f9bb1a7eb4a854e96eaa.jpg', '10347_jpg.rf.0077c8dee86ceab62d10dfb90b7c9fd5.jpg', '62_jpg.rf.a2389d296d77352d80d9a98e3ba1f33c.jpg', '46_jpg.rf.209837c6e38ca0cbb4fb8df1a86e3472.jpg', '10259_jpg.rf.e4e7473f5569c74236f785b545422f8d.jpg', '9_jpg.rf.b15bf32a6e2e4c327456c3227aa8a0c1.jpg', '10318_png.rf.8d457e58962e0f00e738a624a2b54f61.jpg', 'Computer-keyboard-4_jpg.rf.7afaed56693b5225182ac60eb12442bb.jpg', '61f4e728Nabca1830-jpg-q70_jpg.rf.00b8a074e768999ae49db96ca7e21389.jpg', '0f80433f9574ff974c7c8da8f425d06b_jpg.rf.be1f54da15328cac0cc2c5a33913fec0.jpg', 'Computer-keyboard-36_jpg.rf.ca4b2735fb3c00b1dcf22afcbeef9c39.jpg', '41ELhdUB9bL-_AC_SY780__jpg.rf.05b96e040981e901f65d4116c53b5799.jpg', '10213_jpg.rf.99969e22432857f002d64596c0fe0020.jpg', 'Computer-keyboard-198_jpg.rf.b8d1732a2e0cca8e8c8eb03125ae27b3.jpg', '10263_jpg.rf.31e9ccffb55b40d703d4c7bb248c1f11.jpg', '10115_jpg.rf.dcdbb4f6c5006060e65839b95aa1142f.jpg', 'Computer-keyboard-68_jpg.rf.51261c826bc7287328a02a71edb1deb6.jpg', '10403_jpg.rf.3b277a26ca9ce9377b8e8b593081b44d.jpg', '10404_jpg.rf.b44299b1cfa06b0f5f172697903b4a2b.jpg', '23-333-046-02_jpg.rf.68858f7e7e72b7a42b731d73cfc6a37a.jpg', '10422_jpg.rf.09a2d99a3cc81e5d65afbd35187ff954.jpg', '160441-photos-keyboard-free-photo_jpg.rf.872a15258d38393f2507c22152ef3e9b.jpg', 'keyboard-62_jpg.rf.f1ead1b7202038beb50182c923a88d23.jpg', '10520_jpg.rf.3238a11e8517b82130ebab33ebabbddb.jpg', '61f4e728Nabca1830-jpg-q70_jpg.rf.52800cc867b46168edfe0faaa979e6ea.jpg', '55_jpg.rf.528254e7f56824f14d8ddd3ec4bb6f95.jpg', '3516092-40_jpg.rf.397b88ec73cb388317d11186c6b1f1e2.jpg', 'keyboard-49_jpg.rf.e73d3cc4943a37d32b67759945d2e65a.jpg', '61swNr5EFsL-_AC_SY355__jpg.rf.c7b9145aa17fcb8d98cc536f6a1f5a3e.jpg', '10075_jpg.rf.4597770ff5db9e014385bb1da57f3582.jpg', '10306_jpg.rf.a6fb8ea60683d8056d479aa2c2455893.jpg', '43082-970_jpg.rf.a1eaf1bd17958d3afc95559ee143271c.jpg', '10511_jpg.rf.6a8050d4c170e0cbd9c31408c7d66270.jpg', 'Computer-keyboard-66_jpg.rf.dd708d3f175ac0a9e23ae38179e10707.jpg', 'Computer-keyboard-71_jpg.rf.756cb01d475966b44cfd9dbc6f3555fc.jpg', 'Computer-keyboard-37_jpg.rf.87f5c295bbcc1e0f4c6bbf64e33fcdf4.jpg', '70_jpg.rf.b9c2803de47f843300a3bd569e6bc937.jpg', 'Computer-keyboard-186_jpg.rf.9689f37daf11668546e445ea5a164ab2.jpg', '10067_jpg.rf.8a4338e223fa34b31fdce9cc775e99a1.jpg', '10240_jpg.rf.59cee011e3ff68c98795ad2ad278f51f.jpg', 'Computer-keyboard-132_jpg.rf.d14456901ad1eb8d9077efa35c3a78f2.jpg', 'Computer-keyboard-83_jpg.rf.fe92630da6a5f688de62832a807a8ab2.jpg', '41_jpg.rf.26e5bc0cd802d5abe6f1a0cdd4c3809f.jpg', '10182_png.rf.d0801470f584854427a5f86349c03e7c.jpg', '62389a291c98b4697cb4ae05_Untitled-1_jpg.rf.27aaae750842cd3474d899c5c5acf1f1.jpg', 'keyboard-39_jpg.rf.641ad1226c7175e7b8f45f3600793b76.jpg', '10119_jpg.rf.10eae90a84a8fae35d26d14115c154a2.jpg', '10564_jpg.rf.2a988640b0f1793c2aa1efccb8c33e1c.jpg', '61gyG58sVSS-_AC_SS450__jpg.rf.c36273e472d93ab847ddf2afbdffb65a.jpg', 'PXL_20231021_013035831_jpg.rf.61ce42a9e2253e51a8c9fd5c9b3fade7.jpg', '10089_jpg.rf.2b2e9d2d2ada6ffd814d82be1f540b08.jpg', '10399_jpg.rf.64ca47bf86c1ba44f605707976a8136a.jpg', '10553_png.rf.4c241f71b0173b2c20d14592e1278ad4.jpg', '10445_jpg.rf.b3744bd9ed1517a24eb2bc51eaab4c99.jpg', '10568_jpg.rf.879ef0505871f893b4c10df9db3ab0f5.jpg', 'Computer-keyboard-174_jpg.rf.f31d3de466db4656832b759412e59a11.jpg', 'Computer-keyboard-24_jpg.rf.7065e5224991fa919e036b6012d672dc.jpg', '10192_jpg.rf.2315d36360c2d67d195854595455e74a.jpg', '72_jpg.rf.6c0fb496ef0932abb54ee76d0274d743.jpg', '43082-970_jpg.rf.1a5c5e8bc266cf00724bae9f2ea94035.jpg', '10530_jpg.rf.a25631993fe434d7c23280223ff8ca25.jpg', 'Computer-keyboard-56_jpg.rf.346eaefcc122b40c6d1f66a3f6f7024c.jpg', 'Computer-keyboard-88_jpg.rf.976b00c3a243bfd660f305b98fa98e41.jpg', 'Computer-keyboard-193_jpg.rf.9fffecc3c29e8e9ef11aa6ee33486bae.jpg', 'Computer-keyboard-181_jpg.rf.3402c37054c58d14cbe5158dd388d2db.jpg', '10134_jpg.rf.f4e974c297ef06e0d5e5840666a28a49.jpg', 'Computer-keyboard-161_jpg.rf.42246ba8e26213ec815c1d1aa23ec6b8.jpg', '8_jpg.rf.9c7c1de9cf42c7410baa31efad42f203.jpg', '021a487e9904f4eed60ee8a0ebde77cfa36c5bdd_1024_1024_jpg.rf.55da75dc3b2cbd6a0185a63215f43de0.jpg', '10256_jpg.rf.d31a594bcfe92a77a7463f135a6d1dc1.jpg', '10481_jpg.rf.52141c148d20936f534d1211f2696e00.jpg', '61Rp1Z46lEL-_SL1500__jpg.rf.4ec2a1dbd55aa8ab9353342718e93005.jpg', '41Pa-wY5l6L-_AC__jpg.rf.f292aa58a5a1c2200a0ddd1f23cbf59e.jpg', '10144_jpg.rf.14d34463efc621f7f255bbbb2169ed92.jpg', 'keyboard-38_jpg.rf.b02b1222f851198726c858e3d0e94318.jpg', '10223_jpg.rf.4d4a7be671aca8d70ec3dd469eadddb8.jpg', '10140_jpg.rf.1147fac0977ac48bf9c50ec812315882.jpg', 'Computer-keyboard-170_jpg.rf.c1937b877a47845e9d4abb5f524c7d65.jpg', '41RLf48XWmS-_AC_SY350__jpg.rf.4636379098695487b2a5644cdf6e2327.jpg', '53_jpg.rf.87da2ac60a7ca5c7c252eb86814e57e6.jpg', '59_jpg.rf.0368fe03ccedc3910e9fd91be0e00531.jpg', '10145_jpg.rf.d0fdec62398bfa64de22137e16cfe986.jpg', '10121_jpg.rf.d90d50894707286a3067fdcf81daefa0.jpg', '10532_jpg.rf.3c86b4c04e4fc2b0a20a0e3a147ac925.jpg', '10111_jpg.rf.18e3bd5c91e7e12cc8a6ba222dd0b76b.jpg', '47_jpg.rf.f29a9239189abfcae6716f1277205a1b.jpg', '10482_jpg.rf.3bb898d4e6f7b6ed7fb943c6455681d6.jpg', '62_jpg.rf.195f56b3b3b7a98b5c010cf0f3341fa8.jpg', '43082-970_jpg.rf.5c06933729282c2855671f7c537a67a6.jpg', 'keyboard-35_jpg.rf.1b8862aefbc6322d9cb53dc03e05b444.jpg', '52_jpg.rf.8ec4a3a4af31d24941ece8d8f413fa71.jpg', '10334_jpg.rf.8f8ad4e126a57361f00ff86ab3f0705c.jpg', '10339_jpg.rf.888111b0a10f01b59a5b220d4aa2c16e.jpg', '10365_jpg.rf.e1786f72596d9adf793b68e9d31be038.jpg', '710xZexM4sL-_AC_SY355__jpg.rf.57a1caf0dcc4e1b034fef17f55d4346d.jpg', '10552_png.rf.48614875a5b429a1b8d48818336cc282.jpg', '10304_jpg.rf.61454083281411d0885d9f457813a2e4.jpg', 'Computer-keyboard-33_jpg.rf.52988938640197ff978ca91ce7c1ff1a.jpg', 'Computer-keyboard-76_jpg.rf.e480ee78808dced28a9cb123bedd85fa.jpg', 'Computer-keyboard-96_jpg.rf.27e1c050e05bb47b5a2b89549a3a01cd.jpg', '10106_jpg.rf.075900671d0206ba221c212a2bf9244c.jpg', '51HbMlTip8L_jpg.rf.9cf3d63bdc52d59e85f9e9ed1a6f296e.jpg', '10397_jpg.rf.4cac25a6353014af49db26c32f294dfc.jpg', '67_jpg.rf.b9fde0f4bf377fc83176ae1a3ace97e7.jpg', '63_jpg.rf.706d2557b72359628cac69bdb226ef56.jpg', 'Computer-keyboard-183_jpg.rf.5515c92eadf2368b63a0811f3f1dfc8a.jpg', '61uLb4jFqoS-_AC_SY450__jpg.rf.c48ae2d01333492b6cfc6222eb79b58c.jpg', 'Computer-keyboard-14_jpg.rf.80d4c5319fd54e44a198d86811f62c72.jpg', '10527_jpg.rf.76dccdbb15b85d5a9bd6ce46179ea4b3.jpg', '10554_jpg.rf.11c305b8d1b85b89ca4cb9be505612a6.jpg', '10073_jpg.rf.e51918e508c4090032f5bcbf6850a1e4.jpg', '10338_jpg.rf.16e1f97e2bf78eca6b4726c7682694e0.jpg', '10033_jpg.rf.f94232644134c7345cf6f8e846186255.jpg', 'Computer-keyboard-136_jpg.rf.ddd0b4a7e3ab897a98f00a07b0c8c19d.jpg', 'Computer-keyboard-31_jpg.rf.87125909447a71bc3fbdcf4751c35b43.jpg', '10205_jpg.rf.bffff9f79204a68788ebe4e275b4757b.jpg', '10535_jpg.rf.3b3d549ce0a75f8a40b16c5d643ad74c.jpg', '34796068_jpg.rf.606aaa3d98c2afa557ed0ff540d21fc8.jpg', 'PXL_20231021_013154690_jpg.rf.a0934cc5a290d44e48567487d10d6cae.jpg', '10136_jpg.rf.b26c4b43a4033d2218a6a196f83c5175.jpg', '67_jpg.rf.35da208408581a729958f9b690a9f936.jpg', '10110_jpg.rf.f05aad538581b932b88cd205a3483d9f.jpg', 'Computer-keyboard-173_jpg.rf.7ef11d41bd2119911642fc2d28498949.jpg', '097855115324-teclado-logitech-touch-inalambrico-alfanumerico-negro_jpg.rf.f928a8a0d55b0ce154f22809ab8618c7.jpg', 'Computer-keyboard-124_jpg.rf.1c2cd433b1c264362be1bb838e44e4ec.jpg', '10346_jpg.rf.d37c1e921688cd2009eda67deea3b680.jpg', 'Computer-keyboard-92_jpg.rf.9e7a6c71e0c95e1f27a75db62397d609.jpg', '23-333-046-02_jpg.rf.a81a25ecd286317d5fd02ef152082ead.jpg', '10380_jpg.rf.2b3302850c0f4705cb2ad5de34f8c2d8.jpg', '10444_jpg.rf.acffad36a2158e66ccaf3a40a15eb02a.jpg', '10375_jpg.rf.339c63d5a49e996d5c49a7e585392a3e.jpg', 'keyboard-69_jpg.rf.f1237dcece4ab79f98af42a499fedaf7.jpg', 'Computer-keyboard-118_jpg.rf.2f9505ff62265f31da3fb9986cbecc43.jpg']\n",
            "Contents of /content/drive/MyDrive/merged_dataset2/valid/images:\n",
            "['10526_jpg.rf.f30f04bc3e9b4336218862cba0cfbd80.jpg', '66_jpg.rf.55a0aefd7f03471dc811936cbd2fa10e.jpg', '10153_jpg.rf.145de7246854b7395e4ea6564df18cff.jpg', '10451_jpg.rf.acbc27b12c8968b7dbe51fbac7067071.jpg', '10583_jpeg.rf.e8ab47e8201fc5fdc0d3dc80225f2390.jpg', '10048_jpg.rf.cb97e009649ebd99af0e3cff7a0de86a.jpg', '10174_jpeg.rf.3dfb80f268cdf81d4d1dcd3febb1381b.jpg', 'PXL_20231021_013138055_jpg.rf.6335f1df41f2c03909a12342e4e2ca7b.jpg', '10274_jpg.rf.4cc0fd4ca3a7207c232e1ab657b50027.jpg', 'keyboard-48_jpg.rf.04f5e1b43f050ed1c53a13916c42c5f9.jpg', '10359_jpg.rf.fec2c1209de6cd48ac12201f878868e3.jpg', '10103_jpg.rf.00d4196455fb4a2b4312a748a377867e.jpg', '10471_jpg.rf.cdeae6d688e754c15662953a208f68aa.jpg', '1-42_jpg.rf.4520e01bfe6958a69fbe8e09f2de9d90.jpg', '10531_jpg.rf.2e848a83b18da871921135e157c86c17.jpg', '10489_jpg.rf.a9d11c5e8b787f2c86ca4c26ac45258c.jpg', 'keyboard-51_jpg.rf.c705d195db3b60bf80ce33d0a49c8129.jpg', '10122_png.rf.b4aefaafaefa1b6742ae7c6eea4eec7e.jpg', 'keyboard-14_jpg.rf.aeb6e8f06e36376dbf8c8af09ca27522.jpg', '10430_jpg.rf.7c34581a815455eded43d5d3d145ca7b.jpg', '10519_png.rf.f0f10d355deaa44b6641e47dded9b778.jpg', '10012_jpg.rf.1aadf7bd85aa58d75fdbd7ac0dd79c6e.jpg', '10382_jpg.rf.53c48b01f58461ee00ac6606121a0dda.jpg', '10291_jpg.rf.8fff8b7a045c04000d170f33841a6c90.jpg', 'PXL_20231021_013059038_jpg.rf.589846e7528fa3e3fd78d7052c3fbb1a.jpg', '10130_jpg.rf.00c35e0c2d5594afc3c868b48792f863.jpg', '44b53df2aa49ae0fd2164708d3ae38a8_jpg.rf.6410a5f13e63134ecf6091844e3a1ec9.jpg', '61swNr5EFsL-_AC_SY355__jpg.rf.aa9c48dd8a6bbfc84cd8db5dfb332a5a.jpg', 'keyboard-59_jpg.rf.305ff2065aee31737046ccad3443e94a.jpg', '10152_jpg.rf.ec219121652a7bc7228122a142cc2c9a.jpg', '10513_jpg.rf.6373356e0e41b29d3e5e1d0a50ce56a3.jpg', '61X8dpahw0L-_AC_SS450__jpg.rf.975e0dedd093cd002a934e55c34183a2.jpg', '10030_jpg.rf.9198435399f83dc29b3a95cdc794632b.jpg', '10478_jpg.rf.f0029f55b2c767b5dba8b5ab44009519.jpg', 'keyboard-43_jpg.rf.8db23c5a719254ed2893c025a27353a5.jpg', '10047_jpg.rf.357a2c500e4f8252a84cde6400dbb488.jpg', '10302_jpg.rf.28281d4b5836af76fe1e6a36a19ce992.jpg', '10457_jpg.rf.f971dd3b83e29a0af0cfafb53c5f0f04.jpg', '22_jpg.rf.86f372afd45a96fe8ae544a861f1ae6e.jpg', '62389a291c98b4697cb4ae05_Untitled-1_jpg.rf.1dcde5ef0d7e1ed17f84da38a3715206.jpg', '0f80433f9574ff974c7c8da8f425d06b_jpg.rf.d67b95d6e5981c12bd64ef42752788de.jpg', '10062_jpg.rf.0256f58fd6fd7453d2397630111eeb4a.jpg', '10321_jpg.rf.3b7c3e20446d36fb8d3303dabf83adb5.jpg', '10084_jpg.rf.e1ae53cd666c63e5333c221bcc3beed4.jpg', 'keyboard-46_jpg.rf.5895ffca0e49f07e48b43b07da56ca53.jpg', '10544_jpg.rf.5b6e86ca41a955c848932d146d2a3be4.jpg', '1440533g213-prodigy-gaming-keyboard__1__33dc7f51d85e4ea3b8d18e5ad4508c9b_jpg.rf.9f1f10738d14df481aa361c00b941737.jpg', '61k0Q8JLCEL-_AC_SY355__jpg.rf.f74271bb5296b52f735d207bc658d433.jpg', 'keyboard-7_jpg.rf.4f0180ea73346d991e6698632eea04e4.jpg', '10569_jpg.rf.861594d6f9836ee67f8910171f456141.jpg', '10474_jpg.rf.16247e1bc0190c9f75eb5884876913c2.jpg', 'keyboard-34_jpg.rf.17423391edcd3a6d7629ddc1e2f30c43.jpg', '450_1000_jpg.rf.a95f1ac6213fc897d00be423b14ec842.jpg', '56_jpg.rf.436969ca35b9773632e4a2140dbfc896.jpg', '160441-photos-keyboard-free-photo_jpg.rf.8efe62366771fc376fbf17e85dbddb69.jpg', '10148_jpg.rf.1964391c8bf98b11927a5719e365cbe8.jpg', '10298_jpg.rf.97939aa4cdcda118dbb821cde7430d8a.jpg', '10031_jpg.rf.3ecc3c87acedc0155a49982c4370e13f.jpg', '10147_jpg.rf.7e468c9c2e7edab118ab19583b5c2c53.jpg', '10010_png.rf.3edcfffa92ba3e2f5cc3765b0f9d69dc.jpg', '10210_jpg.rf.4e570027f5e7bb91652648948537f4fe.jpg', '3516092-40_jpg.rf.5aefb989ad44e1b8fe8c28979b89b6af.jpg', 'keyboard-57_jpg.rf.91b4f9bc87e91443d6e6cefdb3d259fb.jpg', '10504_jpg.rf.d880ea26dfe7ec37a8311fd3ea47c659.jpg', '10154_jpg.rf.8b45639ac78b116ca4b97bb1783d87f2.jpg', '10343_jpg.rf.b1d5c2b1d4b1abdee39bd4d4739a0a9c.jpg', '10253_png.rf.8990bfe6d3cc401cff316a0ad58e66db.jpg', '10032_jpg.rf.d569543af7edf6d588aeb7ac6715a910.jpg', '10297_jpg.rf.8e39145b9af7c10e0ba6d4672935f252.jpg', '10456_jpg.rf.9ee967c575d575ceafb51e6a57661722.jpg', '10018_jpg.rf.0edd92470312ab8c62c2275bdbcd1540.jpg', '10484_jpg.rf.c997cf52e2a262fee39184d84bb8d902.jpg', '10114_jpg.rf.1bf93ae5830b9aa5c751786888cddf96.jpg', '10364_jpg.rf.d0448e3ee28f28a20313a6cb03ad1eef.jpg', '10492_jpg.rf.d6cc912716ec71e0df5ac3a2008c8380.jpg', '33_jpg.rf.43e0b9f4db47ee93a1bd83836b739e25.jpg', '10109_jpg.rf.51ec7eb25d73b347313dbac320c76a3c.jpg', 'keyboard-54_jpg.rf.d6fc5404e924711fa08d001a247f0da4.jpg', '10562_jpeg.rf.9d30a5af3d87b9a977600b1192c79234.jpg', '10252_jpg.rf.9db41eeea579a2279a30f709a3adfd17.jpg', '10006_jpg.rf.c149b82381d2fc17de81f7ebcee8268f.jpg', '10507_jpg.rf.4add9c854b1dcd0204b18025b3ab18ac.jpg', '10416_jpg.rf.5333dbd7a8803c3c028eda456eeaea1e.jpg', '10461_jpg.rf.9e11a70ff9f76d1eabb17c8f303e9b80.jpg', 'keyboard-9_jpg.rf.c51214e63804ffff766e322f55a82177.jpg', '10151_jpg.rf.11d6fe499132baf54bce313a8d4ff635.jpg', '3_jpg.rf.bebbc2c9dd11200915519fc8e4dc4296.jpg', '10070_jpg.rf.559f48bbe8ad372cb662c85bdbc628e0.jpg', '1-37_jpg.rf.4a59ab553f40c6d017fb8cdfa333efa8.jpg', 'PXL_20231021_013306983_jpg.rf.fa3f3822a4a4f17df0cd8ac9f0119797.jpg', '10514_jpg.rf.0fd502e444cc5abc1331f2aa2eac676b.jpg', '10193_jpg.rf.a3efaabc278031b42156ad56e410a684.jpg', '6_jpg.rf.fbe5c9b359266074b14c452efde71b04.jpg', '160441-photos-keyboard-free-photo_jpg.rf.42a208bf8f031b0248d7a3ae8372f8e6.jpg', '10392_jpg.rf.f3f1e62e3858e2e1da88bb464e109282.jpg', '43_jpg.rf.0830758bc006a6bd9537f449559474d7.jpg', '10358_jpg.rf.dffccc4ee0ffb68d6f4859ae7156e70e.jpg', '10362_jpg.rf.7c8af6b7f2b52d230a0ce8af70532f1f.jpg', '10332_jpg.rf.6d28cb03ddce64e6284b497032ed604d.jpg', '10402_jpg.rf.1ebb16628c4754221894cccf8d078a49.jpg', '10570_jpg.rf.59f98d969f9adad2eb2a3e44b16d10ba.jpg', '10323_jpg.rf.0730209ba0db75433d9f45e509e61328.jpg', '30_jpg.rf.655dd13d6f2c6b186d2a0b31853fc64a.jpg', '10335_jpg.rf.2691b52f1fba2a5ff963a562318668dd.jpg', '44_jpg.rf.909944799807f5fe95b150b5121d0e97.jpg', '10434_jpg.rf.1cf401ca2f98a016c29cff16b939ce67.jpg', '1_jpg.rf.b026117eb8664ff926a63bf865cf1f7e.jpg', 'keyboard-45_jpg.rf.e5eeae2b47b5ea58d301c4c0e4c0b303.jpg', '10102_jpg.rf.c0fb02391758da6ddf2bbb29db7dc3a5.jpg', '10367_jpg.rf.17f2a179ef717d86abfb9fe677e0f2d1.jpg', '10295_jpg.rf.c6e823565a7a0f18c9c263b912df59fb.jpg', '10499_jpg.rf.974052c7a4103eaaf67a3675839a5086.jpg', '10455_jpg.rf.3c9b00b82a73fc638127add657516e80.jpg', '10328_jpg.rf.d2d1d6d494446a72a412ed46024a7bd9.jpg', 'PXL_20231021_013659789_jpg.rf.653ba4229334087b1a4a5b930a454a56.jpg', '10545_jpg.rf.50e5bb4077be9603569915f6dbe8e66c.jpg', '10400_jpg.rf.ae0f7bd7404a2725c82b403a77fbcbc0.jpg', '10001_jpg.rf.824a9820662171899390a01154d6c23b.jpg', '0f80433f9574ff974c7c8da8f425d06b_jpg.rf.d85b72369def89e0033e9184f99eca1f.jpg', 'keyboard-73_jpg.rf.2f60cab1a2a0c0757cc81120c2cfdcc1.jpg', '37_jpg.rf.eb9d5df62c8f2304074e449691670408.jpg', '10107_jpg.rf.9bfdc389f8f4f564d89319110ae1fb52.jpg', '10383_jpg.rf.6962d43bcebb8f5bcb311c3027bfd748.jpg', '48_jpg.rf.ccde87df015ddc1b63447db34613c3be.jpg', '5b89105ec5d6571b4b251b02ea66b71f_jpg.rf.efe7fc86338495761c7f537f8f6eac20.jpg', '10105_jpg.rf.25e4e3c028093b9c0ac48bd3468a7a34.jpg', '10293_jpg.rf.74692fcac4bf9607d5a0303619419961.jpg', '10344_jpg.rf.e017ff63e5bdbf6517074bbfcebc24b1.jpg', '450_1000_jpg.rf.867b02332ed59b1bd3da731b0c3bf689.jpg', '61_jpg.rf.83ece93cfd399370dc68821cb1688596.jpg', '61X8dpahw0L-_AC_SS450__jpg.rf.45554bb1f1cda0d9b44771a2fcb8bce7.jpg', '10472_jpg.rf.0c22f2f7f2a0bf08fc2af2e8d7b9055b.jpg', 'keyboard-36_jpg.rf.cfff633634768be4add7f09f9844a1b3.jpg', '10255_jpg.rf.49b0babc6c720b3a881f000a67993b04.jpg', 'keyboard-4_jpg.rf.fc4210e3a0264572de0fd80a4f8f5bc3.jpg', '10131_jpg.rf.5e867e2b6c4a1ef417a165c59fb67257.jpg', '42_jpg.rf.d5126b1bd70114a1557f858478ba5e45.jpg', '25_jpg.rf.c0386244b90e92d07d3200cd46a9711b.jpg', 'PXL_20231021_013536378_jpg.rf.3b27f31f6289eddfda4f52f19a124263.jpg', '41Pa-wY5l6L-_AC__jpg.rf.6d27e2f9f2c1716f48f858f042feee8d.jpg', '10591_jpg.rf.df65bf7fec95299c56a5fbf6c6754060.jpg', '10427_jpg.rf.8f8d5b8a238decd90e0dcd88caed50bb.jpg', '41ELhdUB9bL-_AC_SY780__jpg.rf.4076198dcdaff7bcee265cfbe7613bd4.jpg', 'keyboard-22_jpg.rf.94b98bde2b21ec2f83003c08732a7677.jpg', '10310_jpg.rf.6907c453468707f9a2d23709be1afe85.jpg', '10391_jpg.rf.1f85c2c269e9ef8b45196f5a1aecbdd2.jpg', '10138_jpg.rf.3a4327345c7863830f15f44f6cb7d914.jpg', '10441_jpg.rf.cd274a3c6fc745cb9254f74a4b429035.jpg', '10582_jpg.rf.7bc551bf8765fdcdd191a7a6ff9b58cf.jpg', '10165_jpeg.rf.5e12327a33d17109effe32990795bfe8.jpg', '10363_jpg.rf.abfedf70d4d77ba89476828257f57c14.jpg', '10275_jpg.rf.7bdfc55e6e9016796e62297afef62373.jpg', '10542_jpg.rf.0422ddced7de66e666db4ea855084a0c.jpg', '20_jpg.rf.74350de926ff074dec21a365c6b1a30e.jpg', '10497_jpg.rf.1a9cef1afaabca861226d17cd3d181a6.jpg', '616b57i1oBL_jpg.rf.500c165a96136fe91c6a6b361bf72a4e.jpg', '10170_jpeg.rf.abf0a981e8cb978c9797b68ad8821e37.jpg', 'image_4214_png.rf.4231627050eb7e53dc3492762cf78dd8.jpg', 'image_4235_png.rf.46b8ac641df573d35e8eff6210fa5b46.jpg', 'image_4817_png.rf.c578f56b220c7126ead58bcca078a7dc.jpg', 'image_4590_png.rf.5209b7a3bc7ddad71639e7848ad92ce3.jpg', 'image_4516_png.rf.e79b60ba750d84e8380b633b1954bd0b.jpg', 'image_4157_png.rf.bd05b4ecc25bd087f6105dd542e24eb1.jpg', 'image_4143_png.rf.a090221bc3694f68e0fb117137dfc086.jpg', 'image_4387_png.rf.732cc55b4886e7b14e0002bd888ad2f2.jpg', 'image_4711_png.rf.dc7b09d7a0360b870f703a5fc115f70e.jpg', 'image_4499_png.rf.a377af4c0ba539a975e9eb1a4f78a513.jpg', 'image_4390_png.rf.265bc91cf4095d5152aba1fc6008bd2a.jpg', 'image_4677_png.rf.646d97db2ddc2ec3c8a12243b59c3e8e.jpg', 'image_4957_png.rf.764fe0e0658d8fa75dc8f5920a1d372f.jpg', 'image_4347_png.rf.6aa0cdb5e7b1501edb40e2eda55db351.jpg', 'image_4403_png.rf.49e2bc3c7d4bf71db1cf2be223eefd7c.jpg', 'image_4314_png.rf.12d246599b3513a8269f0b405a0bd75a.jpg', 'image_4298_png.rf.f204344ffcba0d0e873e334570390ab8.jpg', 'image_4148_png.rf.7cbca2b43fb93c8881d28e9acd4ba020.jpg', 'image_4385_png.rf.4b6bcfa14a094da1289e4871bfbb38a4.jpg', 'image_4007_png.rf.1e9bfb51f0678213f389dbf4971a04ca.jpg', 'image_4421_png.rf.a331b7ac0df6e4e570869cfb6fbcea7b.jpg', 'image_4025_png.rf.3345a2817ae78dde84656238bd796422.jpg', 'image_4303_png.rf.b3f04cf9cf31ee84ff0ef28f504f578f.jpg', 'image_4231_png.rf.3c51f553d8bf5cb31340985d52686ac4.jpg', 'image_4735_png.rf.1775e90309b885b4d7a9f0dd0be9de4c.jpg', 'image_4502_png.rf.a3e101bc9905279e0b367e9015e02af7.jpg', 'image_4623_png.rf.d4c3a56e8628b91d8c07d7e6a6254f7f.jpg', 'image_4815_png.rf.236690716f289fe663dbefb16e08230c.jpg', 'image_4013_png.rf.0c399ede4c5027dd875cba6ec91b3b60.jpg', 'image_4020_png.rf.31ee306b6a11acc16e36afed7b264684.jpg', 'image_4090_png.rf.6b55f5acd1f2ab7cae3491294e6ee1de.jpg', 'image_4055_png.rf.5947087dbaab7ae7e05d11cd2703226c.jpg', 'image_4554_png.rf.3d644dcf9e06cef2b29a3ee06454350f.jpg', 'image_4067_png.rf.8812573a3c540847b9944bc43cc62cdf.jpg', 'image_4125_png.rf.73dfb1f3cefb62fae96d1047fcf43c36.jpg', 'image_4040_png.rf.757c0d841aca30fdace6569f614f24e9.jpg', 'image_4545_png.rf.7b85918c1ba551407351d57447153eed.jpg', 'image_4294_png.rf.23cf4ec90942f856b241602460a741e1.jpg', 'image_4652_png.rf.4f2ee3baf8fd00a54058a84a9ff5517a.jpg', 'image_4781_png.rf.72352531c552154935178551306f1079.jpg', 'image_4356_png.rf.0b2ba62f1c61df1edc7a62893d69b069.jpg', 'image_4548_png.rf.4e8c29f97af937f41af6d6e30d811ee3.jpg', 'image_4799_png.rf.ab23eba433fec0326a449aa8e9c3441c.jpg', 'image_4177_png.rf.ac9aa9e665e49ecdf4569916c31348d3.jpg', 'image_4315_png.rf.9c391b308f37a313b9dadce087d0d34d.jpg', 'image_4610_png.rf.f8f8161690c5e93481356baf5e62b193.jpg', 'image_4529_png.rf.583e22ed58a07c2bae7d1080adc92619.jpg', 'image_4859_png.rf.063cf0176855218fcfd9b9cdfe14ca94.jpg', 'image_4745_png.rf.b18b037116d88899ab8a8d26ce11335b.jpg', 'image_4198_png.rf.c95fe2ae7d5c5c377585da522be3ec95.jpg', 'image_4648_png.rf.8a98cac39e38fecdb99ea62cfab0ab13.jpg', 'image_4466_png.rf.3c9f725071d4cba72f49c13c9a46b237.jpg', 'image_4146_png.rf.56a0295e12492c0f5ae2927d0b8499a3.jpg', 'image_4444_png.rf.2db029137ef7665c94ea2a1e84090c1c.jpg', 'image_4692_png.rf.29db0bd256b8baf605b81524dd3371f1.jpg', 'image_4083_png.rf.6759b9bf66b56259523789c6cb124469.jpg', 'image_4982_png.rf.9bd36499174d7ae9f848e982446b2855.jpg', 'image_4004_png.rf.1a8c8a41735e0049af35a6933881f238.jpg', 'image_4228_png.rf.16cb02f8eaadb7ac3a3a152764af86d6.jpg', 'image_4983_png.rf.52907d80ebd79a9f676f191e1c6db665.jpg', 'image_4685_png.rf.8b73e65c31cff8804837cd36d7194011.jpg', 'image_4376_png.rf.81b000aff57e7095f155f97ee11a33b4.jpg', 'image_4216_png.rf.665eea612a72d7d97a9a42a60c36ae13.jpg', 'image_4700_png.rf.cb807e4fbebf9629ce61faaf53765a4d.jpg', 'image_4985_png.rf.9a4142d704814fe459f30e95d3ec28f9.jpg', 'image_4531_png.rf.6c5041e2cb032dc732e73c98b67adf08.jpg', 'image_4619_png.rf.c1249e416bbdc7f3a55d67457bc7b634.jpg', 'image_4973_png.rf.8ad61b0f37ede5993d43c77e1fb2708f.jpg', 'image_4230_png.rf.c1261bb6f654f9f9aceb718cd3ad01ee.jpg', 'image_4854_png.rf.0592a9bb9d06189416a23b639217c610.jpg', 'image_4283_png.rf.b95990baa2dc5fa9bef5441f8f3152ce.jpg', 'image_4713_png.rf.c94d27b9d8d1c2e523b7521b95844c06.jpg', 'image_4894_png.rf.d2d7a1bc92b51bc54bf733459def3ab8.jpg', 'image_4229_png.rf.095792709085a974fdfb2a5e5c7fb55c.jpg', 'image_4521_png.rf.ea8bf1a237abcd9743519b6d1753c0cd.jpg', 'image_4963_png.rf.fe48b97dc1216387434e879b619d8959.jpg', 'image_4302_png.rf.fbd509e8d33671854a9b59a079041a37.jpg', 'image_4393_png.rf.a5dafe8204df6918c51dfd8c6bc5a053.jpg', 'image_4658_png.rf.860f094fb9d7932962eb76760104631a.jpg', 'image_4558_png.rf.d404536b8d47eb9e3a1f3d034baf5366.jpg', 'image_4621_png.rf.3adc9ae667458b7d9ec5581773f31dc2.jpg', 'image_4743_png.rf.6b56512eb225942cc2bb5505f80fd24e.jpg', 'image_4371_png.rf.bce6b81808f0abd6e3a5b350972f0ab0.jpg', 'image_4438_png.rf.5218213ccce91bbf5d2da226df601319.jpg', 'image_4978_png.rf.dd2c3298728efcd915516edf0da4c9c8.jpg', 'image_4869_png.rf.b8e76e90e52aa398aae06c4f78bb3467.jpg', 'image_4099_png.rf.79cdf6a8d6381d95f1480336b5305b90.jpg', 'image_4102_png.rf.ea46608694b9ed0a0ee941bfad665132.jpg', 'image_4086_png.rf.0b594310837c5bf5223dd9834c6fd016.jpg', 'image_4928_png.rf.ebd48d3d47c0e8c697b267a7cdc4e3e2.jpg', 'image_4317_png.rf.516a875d0f139dfa3a85697f99a0977c.jpg', 'image_4084_png.rf.7945a95d10d38fb24151916a2b225044.jpg', 'image_4278_png.rf.1af61b4120c4f680a6d484f84b650ee5.jpg', 'image_4809_png.rf.d6074d6f308ddf4b061a605ae605be5d.jpg', 'image_4933_png.rf.55d2be38b48bd54355d8fb9c03c14c23.jpg', 'image_4199_png.rf.6f6f69656fb4d5efd325a1e58030ff44.jpg', 'image_4127_png.rf.88bdc1b34710151f10e1ecb254e58bd0.jpg', 'image_4663_png.rf.54a3d792d1931b5a79e6e33313237eb1.jpg', 'image_4151_png.rf.deedc804fb61f99d82c035ae545da008.jpg', 'image_4873_png.rf.4dcc3238e941e8808cc7eaf453127d7f.jpg', 'image_4793_png.rf.cd76c2a9cda9a22f0c60f0c2fd5d5a75.jpg', 'image_4727_png.rf.8301fe28771e509d195d0c020b129d7d.jpg', 'image_4830_png.rf.25492d6da7754aeb6a92c32184ada9fc.jpg', 'image_4943_png.rf.e38b880c304a45e0da9895f348e105b0.jpg', 'image_4002_png.rf.167463d56701f957c43064b07ef68e94.jpg', 'image_4064_png.rf.3d6f4ef0a3adcc0bf3640f46e685e232.jpg', 'image_4395_png.rf.40da5bb696f7099fda5d5fb72fba77de.jpg', 'image_4461_png.rf.b43b8a167739bb237a3741ec3cb57fb2.jpg', 'image_4150_png.rf.33409d2bb66487606f992318d9916fe4.jpg', 'image_4598_png.rf.80fb19cc8c7c269ba46842b55689e85d.jpg', 'image_4010_png.rf.6f5dd76a919f7f7bf966fe53505e60be.jpg', 'image_4144_png.rf.a21dc0e38a91827f333441c6d3fe879d.jpg', 'image_4820_png.rf.f810610d05b908998d99d0ee00c8424f.jpg', 'image_4443_png.rf.a994aa7e830f488e01de599afdffd009.jpg', 'image_4643_png.rf.0c9ec765d7af6f7b6540a318501f6926.jpg', 'image_4308_png.rf.b5331dbe674f573af9824d72c802538f.jpg', 'image_4322_png.rf.553bd036b58a952d1891a548ac42f416.jpg', 'image_4439_png.rf.3cd89554c077488aa485cfcc89d1ba74.jpg', 'image_4366_png.rf.1ffa1c1e5945e1484b4120f28be078f0.jpg', 'image_4772_png.rf.dc3e83a5449275cdee5423e32953a90a.jpg', 'image_4899_png.rf.d6914eec02a3eacda38226bab49836df.jpg', 'image_4737_png.rf.bbfd755e4f46a59bf36cdc5a9154ea4c.jpg', 'image_4550_png.rf.205c08dde2ef9a031da19c132abb8f12.jpg', 'image_4696_png.rf.36cd8af8929bfbf5ec58999974a4f5d6.jpg', 'image_4409_png.rf.b541b32b2fca961000588b64ed714fe4.jpg', 'image_4807_png.rf.0199ca83f5922d75ec8417f5a666f517.jpg', 'image_4391_png.rf.8d7b9433b5efdbaa1a2a193f5a7f1ecf.jpg', 'image_4635_png.rf.16f08b8c0216192a08e302424c128346.jpg', 'image_4488_png.rf.e2886d829c68c32b1df43f26c26a7be7.jpg', 'image_4657_png.rf.0311ec8b2a7f8ca187f75f88248d987c.jpg', 'image_4469_png.rf.b28fcded2342bebde07979c26a317a81.jpg', 'image_4430_png.rf.27bbb53e7545847a860adad13d071386.jpg', 'image_4167_png.rf.f7d7729e3e175b64fadc349e6f1d7a67.jpg', 'image_4250_png.rf.2ae9a9fe5521ec7fdb570a36c51c060a.jpg', 'image_4260_png.rf.b74124d6cd15dca264e5dd1ee8a36e0f.jpg', 'image_4196_png.rf.f355c147040a7b5f922bc467ad144e47.jpg', 'image_4760_png.rf.f59cc8eecf29f034f70c8679b5426e35.jpg', 'image_4335_png.rf.169a6c3b797e175351e976971f2ca5ac.jpg', 'image_4987_png.rf.2e28b9734e38f721fe58ab7064b2b09e.jpg', 'image_4536_png.rf.9e3ffb22f77432d6c2446136e341cce6.jpg', 'image_4670_png.rf.25baf13b2bc93b0bcbd49e749b4aa151.jpg', 'image_4551_png.rf.b504e54d099e45be8512041bb323b9ae.jpg', 'image_4538_png.rf.957c48b8944c8dbdc82ac0c1d2e8dde8.jpg', 'image_4361_png.rf.2928346a003c0ced71ff0a145fb7d090.jpg', 'image_4485_png.rf.b12647fad470407d481a5b224b3102c0.jpg', 'image_4792_png.rf.2ecb9e3cf73251d120b1e5e30b541e0d.jpg', 'image_4942_png.rf.b22632c4263eae6b2d48d166d6b466b1.jpg', 'image_4299_png.rf.fce9ed6087119dbf1de9a736cde3996e.jpg', 'image_4340_png.rf.ad359b0abf718f1b585c011e5fbcade6.jpg', 'image_4908_png.rf.1d3065e599429532c713b9e72136d31b.jpg', 'image_4698_png.rf.62f7dfc1d7e8123b2d7737220a63d2f9.jpg', 'image_4840_png.rf.7a5487cfed255cd6e259595c6d3abe90.jpg', 'image_4941_png.rf.ebfd833208c2b6f1943b6bff4888d299.jpg', 'image_4400_png.rf.17931beb2d641c6f9bbc930479c9296a.jpg', 'image_4719_png.rf.a13f2575f697584f2cf77c1db3d83f93.jpg', 'image_4096_png.rf.e46710fec92de2f7a8e858280305cfe7.jpg', 'image_4552_png.rf.a73d57c49a63b176028a75d9f49a2b12.jpg', 'image_4244_png.rf.5650bd8d15b388c836a267e7c9741e0a.jpg', 'image_4649_png.rf.66ec7c1f379012d1c059ddb0fd73b275.jpg', 'image_4788_png.rf.9345a2e160bd4136cf45338b3df38943.jpg', 'image_4017_png.rf.b717193dc684010c9ad52add75d5b6e2.jpg', 'image_4323_png.rf.80703b0b4aa46239694d71df49810e90.jpg', 'image_4500_png.rf.7845801c557e34efaeae48cd3a798232.jpg', 'image_4399_png.rf.0714b3e8263d6cd9b0f8fbcc49b55f50.jpg', 'image_4947_png.rf.c5511c6f8a36ac3476e09958061b680a.jpg', 'image_4169_png.rf.a7b2b40b228af2d01c5f3a99403cf005.jpg', 'image_4896_png.rf.f4530c73bc0821a8d92d1293f9c72da4.jpg', 'image_4186_png.rf.1199cd43e8680aab0c552d82f49e331b.jpg', 'image_4667_png.rf.7d3523798ca7fac8175c0921b321e333.jpg', 'image_4195_png.rf.1d8410c4f31769ca9eb9cb9858f2b580.jpg', 'image_4668_png.rf.085ff0bd613413a8ab3b063de47d8524.jpg', 'image_4642_png.rf.6cdf4c9062f217cc9c2cdcba2589bc70.jpg', 'image_4451_png.rf.0be9eb21d755e3f5d9d17a07af8179d7.jpg', 'image_4505_png.rf.8652d270b5ddbaeeca10c5b1f038686a.jpg', 'image_4515_png.rf.50f834abc1023dbaa46da3ccfad6b705.jpg', 'image_4022_png.rf.1e2234960aa1fccf943c601b8ad0e288.jpg', 'image_4596_png.rf.21fb8b7ef0c54b59613646bf7ab9708a.jpg', 'image_4320_png.rf.14744aa80c0749245127a2feeabbdc92.jpg', 'image_4690_png.rf.34250c9e869f9b81880c73201ae166ee.jpg', 'image_4141_png.rf.a231bb9afc27ce86dc930ee4864921fb.jpg', 'image_4930_png.rf.12039d59bf3aa989192fd125bf729fab.jpg', 'image_4732_png.rf.c7264d06c15a240ae4e3cd7b9be620ba.jpg', 'image_4492_png.rf.8654a2c445d72d45df91c143ff48c8af.jpg', 'image_4544_png.rf.4aa29b9d4524dbc64bcdfeed37c5f4b1.jpg', 'image_4826_png.rf.91c68781ae4915732cf934781bfc1d5a.jpg', 'image_4463_png.rf.12766f67154aa378c2a710050380f96c.jpg', 'image_4654_png.rf.5b4b94eeed62f3bc3a750ead0948b21a.jpg', 'image_4524_png.rf.33c44627fdd2b35d6c41d41df09bb4ff.jpg', 'image_4762_png.rf.f2b0a97bdcb3d9e6be18521edbd0e118.jpg', 'image_4645_png.rf.adef608708eeea90f15456f148090e38.jpg', 'image_4919_png.rf.ac290c39bab40743cae85e8c023e9a0f.jpg', 'image_4980_png.rf.d7969e29dbe5938bea7f9239613e6d08.jpg', 'image_4272_png.rf.0646e26785d2e8c69ab9628006004c63.jpg', 'image_4129_png.rf.570d4467f0ed69cb73c560b9050d4674.jpg', 'image_4165_png.rf.fd7210ff9288304b68af58170611d06c.jpg', 'image_4306_png.rf.dd9b9b6525255ee3e6b1cbe0aada824d.jpg', 'image_4078_png.rf.cf321602622fe0b2c5b807f9d1ca7b73.jpg', 'image_4234_png.rf.5295a4b0ba42cfb274e2800bcffb0995.jpg', 'image_4245_png.rf.28ca7b6eef7bc92f415493c711fe52a4.jpg', 'image_4468_png.rf.8660d57b1382c1152813f8127048b36d.jpg']\n",
            "Contents of /content/drive/MyDrive/merged_dataset2/test/images:\n",
            "['keyboard-64_png.rf.b41d64522543c90a913ab230acd034dc.jpg', '6483083_sd_jpg.rf.e61a0d4174ccbe9daaf904f827a086f2.jpg', '5b89105ec5d6571b4b251b02ea66b71f_jpg.rf.09af3a35e4053ed2ef315fbb02305fa8.jpg', '10370_jpg.rf.09f5675c694850862a7fa72bada2d05d.jpg', '61Rp1Z46lEL-_SL1500__jpg.rf.4f59089189e947f0a155cda4421a5556.jpg', 'keyboard-20_jpg.rf.4ae696ad81e92978543402860971314c.jpg', '24_jpg.rf.2f8639c1dc2e5a02b547fb3fa79fbfdd.jpg', '69_jpg.rf.1ce09a4b63bf165c5d27461e998c22bb.jpg', '15179407541504840-jpg-gallery-big-iext53317928_jpg.rf.74522ebba28b67126fb8bc7f9f091ce8.jpg', '28_jpg.rf.d50a63a338107dba0217feb636e73001.jpg', 'PXL_20231021_013315282_jpg.rf.f327dd52e2c31f3c0994b913ba2aa341.jpg', '616b57i1oBL_jpg.rf.a2665bcba44935d5b9e41f79e53eee46.jpg', '61uUiPHWwxS_jpg.rf.fec15f8a0d3736d14cb34889396d0635.jpg', 'keyboard-10_jpg.rf.e8554f6689afea1f556323676c260668.jpg', 'keyboard-44_jpg.rf.a502793f28993747bf8603d74a6aa40a.jpg', '10209_jpg.rf.c039af9e0bd78a8d47dd88f61abdc0ac.jpg', 'keyboard-32_jpg.rf.f032168a514ff3107c225ad9d3dffc1c.jpg', '10159_jpg.rf.78c9139d99f6fcb871d1455ed6da69ac.jpg', '416npxX6NML_jpg.rf.69ffc958465ea365f474e97eef83ce64.jpg', 'keyborad-2_png.rf.420c04f6114474118ae80e61baf773b1.jpg', '10286_jpg.rf.499c642270319f5233b05917800129c9.jpg', '27_jpg.rf.670173fdda3dc39f9d66420596e1ef04.jpg', 'keyboard-27_jpg.rf.d22e517e6db7ce6f1f470879bb81ea68.jpg', '51HbMlTip8L_jpg.rf.a3729aa546d2d5a2e27730770383a7da.jpg', '76_jpg.rf.6dbb1577d1e04a71f937c334ea6e7254.jpg', '73_jpg.rf.00c096a3fb0731db08400df14838751d.jpg', '58_jpg.rf.a131c9ed48faaf8ea842c404b42409ce.jpg', '10076_jpg.rf.cf55af10b67f0c92a5a45047e18c5c7c.jpg', '26_jpg.rf.51e117fbdb56d540cc2236b8746d58f1.jpg', 'keyboard-39_png.rf.256b6b78656ef4522255623b3d32eb06.jpg', 'keyboard-18_jpg.rf.a86db8e80d976982263b97355943a924.jpg', '41J23yrNwuL-_AC__jpg.rf.f4adb554fb88cf36f859f6d6a733261e.jpg', '410InC1ZOFL_jpg.rf.9b6c62f9be0f08b919288bebb5ff8265.jpg', 'image_4572_png.rf.0766a981f91c2cae8217438df9662b7a.jpg', 'image_4209_png.rf.c5c753e5f62ae0bb446e79bb4fc93292.jpg', 'image_4000_png.rf.1f4e9c697190c6b12297afe4b9ee04e9.jpg', 'image_4921_png.rf.5589fda35c00dc3af23f225287df7611.jpg', 'image_4744_png.rf.af936006066e3c36499db35a77c4c4d2.jpg', 'image_4839_png.rf.fdf2038a8e110bfe7ff6664e703f2b8e.jpg', 'image_4095_png.rf.633fd03ef9646d1cbd931fd55baab894.jpg', 'image_4666_png.rf.8709a909117487ba18069dfa0ff41411.jpg', 'image_4359_png.rf.97caa650061f1ee712111735ab6fac9a.jpg', 'image_4498_png.rf.09b837aec49061084b25d730929f4ae0.jpg', 'image_4686_png.rf.39422245f27a0d5a4f48c5c92a7fce73.jpg', 'image_4687_png.rf.9f75f7a600a60e1ebf3fb0dd8e09bd0f.jpg', 'image_4909_png.rf.05611c3c09b908d16fb417f7fa650611.jpg', 'image_4182_png.rf.d3452e153c0c89d26a94330bbb7f3bf1.jpg', 'image_4425_png.rf.2332c57f4b7fbfbc067fc526dbbb475c.jpg', 'image_4005_png.rf.5321f1c5f37e737cf9adf90ae921a86b.jpg', 'image_4660_png.rf.2dd7a79e252b534f36d1406821462133.jpg', 'image_4379_png.rf.4e240bfeb2163d641895e439fbadc86d.jpg', 'image_4637_png.rf.e4f00ee421ff49e8ec16badcd0fca56a.jpg', 'image_4032_png.rf.535a0cf5d637bbd7258f660fc7a9d692.jpg', 'image_4268_png.rf.2f8a2dd81d0694ad1ade27dc74bc2819.jpg', 'image_4790_png.rf.a79463a5cc3714af1b64b7fddf8fb4a0.jpg', 'image_4445_png.rf.025458b046e1d22c961ae41dabc42687.jpg', 'image_4795_png.rf.ee053da5a6a0f10ce1615d0cacee67a3.jpg', 'image_4879_png.rf.a3089ce1872dbfbde687acc2982b771a.jpg', 'image_4875_png.rf.7adff84d76daa93b7d7b3848debf4fe1.jpg', 'image_4249_png.rf.c04e160e2d1bd706d4a38884c366c7e0.jpg', 'image_4441_png.rf.53a6f5e12d93ece8977ec3f5b95dcdde.jpg', 'image_4373_png.rf.9521dd2cdead3293e548e0caacacba4f.jpg', 'image_4139_png.rf.b2e547d1243c192f95f050a8f6cd7b05.jpg', 'image_4872_png.rf.866dc029b2c813f4ddcffb7bcefc6efe.jpg', 'image_4039_png.rf.11979b699cf8ab977340e567b64eaa49.jpg', 'image_4588_png.rf.42a0ba3060cf05414c4181340af11d1d.jpg', 'image_4632_png.rf.47200238330516dcf756c2dbbde56052.jpg', 'image_4188_png.rf.917ec252a96a9aef1587ead228d58374.jpg', 'image_4383_png.rf.73aed9c6e4e1e2ec2345e223c9e3d52a.jpg', 'image_4222_png.rf.112261f64d6f7fe3e19be7d34860e4a5.jpg', 'image_4697_png.rf.6192392c5038444ec6c4e2cfd60b262f.jpg', 'image_4029_png.rf.1ea7455a8115d431cc55ce5bbf312f1c.jpg', 'image_4404_png.rf.785258dd3e0dd77a4f0a48b9eff60ed4.jpg', 'image_4112_png.rf.796b39c94cf6499fa0eaa22c5f462989.jpg', 'image_4044_png.rf.f8852465b7a785fa143c0ab776350b7e.jpg', 'image_4284_png.rf.110c06a18e5daf281d29f8d0e1377e58.jpg', 'image_4706_png.rf.b7edec5088fabdb4290217ce45f7196c.jpg', 'image_4480_png.rf.dea65d84374940132fa062bcd98e7e1e.jpg', 'image_4033_png.rf.e69e317e8af1431227035bc5b8166d32.jpg', 'image_4592_png.rf.dbf07e5063c65b2dd153de2e08e3bc80.jpg', 'image_4759_png.rf.0fb1fa809f60b0b9cc4f5f9ebda27034.jpg', 'image_4676_png.rf.dedf0bae6dce7cba6024bbb38c6a5fff.jpg', 'image_4100_png.rf.ff272f1230eeceb2d1796b87daa0a53a.jpg', 'image_4350_png.rf.ed1cecc09f584ed7897b43c0cb1b9129.jpg', 'image_4163_png.rf.5712cfeda5b48a5758e4c53c144211c4.jpg', 'image_4207_png.rf.e6e4c0c42efcc590d849f6d7eeef6832.jpg', 'image_4887_png.rf.cd010266a53686b0e6598d5864a604bb.jpg', 'image_4681_png.rf.dd7f6223a4d72f68cb167b402b0f6615.jpg', 'image_4432_png.rf.96c4859edeec507737afc61c45f15288.jpg', 'image_4159_png.rf.279159ff5af9882d817b0a42569e6d90.jpg', 'image_4412_png.rf.c7b183440b16b0368c8e3ca595e77a98.jpg', 'image_4001_png.rf.073ef6307a946ac44a70cfe57f7a0fe7.jpg', 'image_4636_png.rf.468bbd20c13712341658950a6e2a3fc6.jpg', 'image_4104_png.rf.402522517d6772e38061c9de9e67958c.jpg', 'image_4618_png.rf.766f14b608a60ba98c8371bedba21eda.jpg', 'image_4920_png.rf.66739e9d215aea11b7c7340ed3a21d51.jpg', 'image_4617_png.rf.979ee0b05b489378a4bf38d25c48d090.jpg', 'image_4886_png.rf.a6b46e5681e4860823504a19a45ebb61.jpg', 'image_4267_png.rf.5c5c2ad085d96e6ae79793af0835c0c4.jpg', 'image_4704_png.rf.40ce6daaac794808e349dcdb5b9f143c.jpg', 'image_4634_png.rf.494408ba8527f809ce7f78de50f1cab2.jpg', 'image_4179_png.rf.186bfc2d38afa704bbf7cb0d31638b9e.jpg', 'image_4768_png.rf.0fc2bd8c991d291b798a3f442fa9d23b.jpg', 'image_4338_png.rf.689eabafbde728b7a94207e9c771cf28.jpg', 'image_4938_png.rf.dd41eceaa04ebc7da511360097cd730a.jpg', 'image_4334_png.rf.c3dea0f1e99faf3f3056adb28c8e92bc.jpg', 'image_4586_png.rf.ac30968d1de91f33e53d6637be980cc7.jpg', 'image_4243_png.rf.78b5969a73cfb027b4d511794d93f231.jpg', 'image_4176_png.rf.aed19ecfe9846627b8877c2cc838d40d.jpg', 'image_4363_png.rf.39b90a2f6916e2ff67bd4ff42c80b374.jpg', 'image_4625_png.rf.6a9fa126b74dfc852073577952a6e658.jpg', 'image_4116_png.rf.cf375402727a50659573903bd8bf0735.jpg', 'image_4679_png.rf.92ab4a78418f962f581e1ec1badcbdc8.jpg', 'image_4050_png.rf.d1123ff90ac95a9c55f690c9b2349621.jpg', 'image_4534_png.rf.26464af1b72aff64f5ee34616389f7d1.jpg', 'image_4081_png.rf.c81581416bc082ff9bd02138033dd5ce.jpg', 'image_4256_png.rf.22b16ce6fd57a57b1c2568a41ca679bf.jpg', 'image_4212_png.rf.cb5d479e68fe72f340fc8ece71438e3d.jpg', 'image_4140_png.rf.9ca4ab90e543db462b233c2d6efd9dec.jpg', 'image_4922_png.rf.d265ac02e1c3d51834a1f2579cb531da.jpg', 'image_4418_png.rf.bf82d1fc8dd0faf6af9cd923ed6cc8de.jpg', 'image_4778_png.rf.bf4c231b73dd03f24300db73157154cf.jpg', 'image_4715_png.rf.6a1a84ffce99d924e84133ca33a9b541.jpg', 'image_4738_png.rf.475ed1d5aee3a4c1f5b2c9dc39137fcd.jpg', 'image_4905_png.rf.6c321819e93a5deb91dead8d01cc4aad.jpg', 'image_4731_png.rf.788f8b37ee6bb338279c881a6b603b95.jpg', 'image_4365_png.rf.26add619e4e0b94847dd8e82aaf3d65b.jpg', 'image_4798_png.rf.217ac47551df1859bc04b405d05a5d03.jpg', 'image_4864_png.rf.1882579d5187c7adeeabec0cba6f0a06.jpg', 'image_4684_png.rf.0117268c377d2a72650d4741af13e583.jpg', 'image_4757_png.rf.d47744c50206bb559a90316c52b56509.jpg', 'image_4145_png.rf.2f4edc6274662089ea33f574bfbe13fb.jpg', 'image_4047_png.rf.db068656800a671f388a155dd18df9be.jpg']\n"
          ]
        }
      ]
    },
    {
      "cell_type": "code",
      "source": [
        "import os\n",
        "\n",
        "def check_labels(path, num_classes):\n",
        "    issues = []\n",
        "    for label_file in os.listdir(path):\n",
        "        with open(os.path.join(path, label_file), 'r') as file:\n",
        "            for line in file:\n",
        "                class_id = int(line.split()[0])\n",
        "                if class_id >= num_classes:\n",
        "                    issues.append((label_file, class_id))\n",
        "    return issues\n",
        "\n",
        "train_issues = check_labels('/content/drive/MyDrive/merged_dataset2/train/labels', 1)\n",
        "val_issues = check_labels('/content/drive/MyDrive/merged_dataset2/valid/labels', 1)\n",
        "\n",
        "if train_issues:\n",
        "    print(\"Issues in training labels:\", train_issues)\n",
        "if val_issues:\n",
        "    print(\"Issues in validation labels:\", val_issues)\n",
        "else:\n",
        "    print(\"No issues found.\")\n"
      ],
      "metadata": {
        "colab": {
          "base_uri": "https://localhost:8080/"
        },
        "id": "cFg11b5nUlBA",
        "outputId": "aa9bdbcc-414a-4309-ed2d-b0dd4e32ae63"
      },
      "execution_count": null,
      "outputs": [
        {
          "output_type": "stream",
          "name": "stdout",
          "text": [
            "Issues in training labels: [('10270_png.rf.ec02b8792eecdfb89a635aed01a50873.txt', 1), ('10403_jpg.rf.3b277a26ca9ce9377b8e8b593081b44d.txt', 1), ('10285_jpg.rf.ef9aacafb3a2808b6fc72d564fd4a165.txt', 1), ('10347_jpg.rf.0077c8dee86ceab62d10dfb90b7c9fd5.txt', 1), ('10064_jpg.rf.ef3f69a8e8adbc1742f7fa6322e0971a.txt', 1), ('10437_jpg.rf.54795a9e56038b2848d2d4048fcf930f.txt', 1), ('10459_jpg.rf.57193c5ebc111913166b3ca9c4645a9b.txt', 1), ('10278_png.rf.3cd404d3a3339109acc9b3be60299db0.txt', 1), ('10096_jpg.rf.9390aa66b0ebb2d400f7cdf5ec10f0b9.txt', 1), ('10139_jpg.rf.efbacfe9ac4ff36ad9c27fb6324a0ef9.txt', 1), ('10404_jpg.rf.b44299b1cfa06b0f5f172697903b4a2b.txt', 1), ('10337_jpg.rf.b8424a5ae7f683abf60f06dd7fa2ed44.txt', 1), ('10528_jpg.rf.e5023bb8059e089cf0d063575863647a.txt', 1), ('10425_jpg.rf.0851cb3a58430f27a9c2337c9330040d.txt', 1), ('10089_jpg.rf.2b2e9d2d2ada6ffd814d82be1f540b08.txt', 1), ('10493_jpg.rf.28b259f759cfcb6109c7ca5c0faab6b0.txt', 1), ('10394_jpg.rf.05315448c34fd5986108654dc9965f95.txt', 1), ('10394_jpg.rf.05315448c34fd5986108654dc9965f95.txt', 1), ('10149_jpg.rf.362c990c267e0b9fba3028fc5d52a6d1.txt', 1), ('10558_jpeg.rf.74ca9102e0758d84b3239b676561e572.txt', 1), ('10120_jpg.rf.d27247eb53deb206e3a4d95d2db1a742.txt', 1), ('10296_jpg.rf.7a3bc75217f197960e85c22ee5084538.txt', 1), ('10116_jpg.rf.ec474b30e11656daaeff1971d4f711f5.txt', 1), ('10573_jpeg.rf.c30c08197ef3a9292ea6fa5607e33c0e.txt', 1), ('10448_jpg.rf.642f1449db67f96c9c69871f03d3f790.txt', 1), ('10496_jpg.rf.28f51906839f20349bd025062fc976f6.txt', 1), ('10398_jpg.rf.cabcbd44f59cbeec1f9a726d2848579d.txt', 1), ('10384_jpg.rf.2a5c688dc6584bc7e1d0cda34a247555.txt', 1), ('10110_jpg.rf.f05aad538581b932b88cd205a3483d9f.txt', 1), ('10157_jpg.rf.bff32922eb2bb4e88016419e046a3bb7.txt', 1), ('10294_jpg.rf.d1fe29158a3546807c04ecbfbdf16761.txt', 1), ('10418_png.rf.cc57de93395a748e432c4e83ff9dd09a.txt', 1), ('10137_jpg.rf.172df7c7859fee38a249ae4fc6023601.txt', 1), ('10271_jpg.rf.ff22ab4d0fb2a97da36c020c03085a9b.txt', 1), ('10589_jpeg.rf.ff9cac6ec829556d810acd5e791ecb45.txt', 1), ('10125_jpg.rf.666cfd973b40a6205722f1c9d052cb53.txt', 1), ('10077_jpg.rf.3f89cc2c0cd034a444a62f22fdce0a7b.txt', 1), ('10574_jpeg.rf.a822bb42da409cff508a4057369d43bf.txt', 1), ('10372_jpg.rf.5fa75422afdb14d380f1a8d551fb6763.txt', 1), ('10388_jpg.rf.ba06fcbb5ae9c459731975d22c6208ff.txt', 1), ('10035_jpg.rf.3c7db809f903ed962d4ee5c9cc67c79f.txt', 1), ('10463_jpg.rf.9e6abaa4c0085965bef49862d20168ad.txt', 1), ('10387_jpg.rf.613964c32da411e216a96e489fda17de.txt', 1), ('10330_jpg.rf.445eab0d676eb8ed1db840c261d4ac5b.txt', 1), ('10428_jpg.rf.42f42357a69d156e972715af78fdc6ad.txt', 1), ('10352_jpg.rf.1ac56415f6d52d7137cc676f91f920bc.txt', 1), ('10340_jpg.rf.e1d58463a9111763045a083125734cc2.txt', 1), ('10257_jpg.rf.12953e750acb7c82f1a80ad61865e575.txt', 1), ('10412_jpg.rf.c2640b12ac58e4c95a54260e883f193e.txt', 1), ('10171_jpeg.rf.143e38e4767e2d29259e0c94b5294bd5.txt', 1), ('10117_jpg.rf.090305d402581aaa6b7558d359f76f47.txt', 1), ('10250_jpg.rf.a67fbcabd056f4a600613a0280c371bb.txt', 1), ('10053_jpg.rf.afb3cdc9d35f5b669054df6c6dcac9a1.txt', 1), ('10063_jpg.rf.7f1125ac31a4f9bb1a7eb4a854e96eaa.txt', 1), ('10318_png.rf.8d457e58962e0f00e738a624a2b54f61.txt', 1), ('10262_jpg.rf.e5589f204a14b2e886c634d8e9ada2cf.txt', 1), ('10543_jpg.rf.a4d9e701be73faebecb7c91ea243946b.txt', 1), ('10581_jpeg.rf.9a2dc14e7014fcb648c2212cadf1ad28.txt', 1), ('10556_jpg.rf.0b4117cd63e7bb83226b9d87afed7086.txt', 1), ('10075_jpg.rf.4597770ff5db9e014385bb1da57f3582.txt', 1), ('10115_jpg.rf.dcdbb4f6c5006060e65839b95aa1142f.txt', 1), ('10182_png.rf.d0801470f584854427a5f86349c03e7c.txt', 1), ('10486_jpg.rf.6946fdcd79e30854b7d4005bcf67e967.txt', 1), ('10494_jpg.rf.25119e05bb8dbd06bcf03fb9bd24d506.txt', 1), ('10146_jpg.rf.adaa01b48b8a1e15005e4eeeafd97478.txt', 1), ('10551_jpeg.rf.4ed078be5bdaeffae29712d66a973e8e.txt', 1), ('10259_jpg.rf.e4e7473f5569c74236f785b545422f8d.txt', 1), ('10361_jpg.rf.54cfe16ff6d0dfe1af5ea81602f5d71b.txt', 1), ('10509_jpg.rf.cb5b3989db96bc6e46e9c1009b4c846e.txt', 1), ('10046_jpg.rf.24d547851e350bc74cdcfa1aba1dc034.txt', 1), ('10162_jpeg.rf.7f029789ebd38d2d68c59427b2ba554f.txt', 1), ('10303_jpg.rf.b18cb85ea4ad1d49d186d9e48cbe784b.txt', 1), ('10378_jpg.rf.5f0110f140d7c199b34d980e729b0835.txt', 1), ('10263_jpg.rf.31e9ccffb55b40d703d4c7bb248c1f11.txt', 1), ('10371_jpg.rf.0a954efa883e0c2777c2c2dad9f2b042.txt', 1), ('10166_jpeg.rf.223f4d1b9858a169d3489cab67ff8dcd.txt', 1), ('10283_png.rf.08f8ccf68e56f889a7610c1fc58ce452.txt', 1), ('10316_png.rf.e020f861f11b1e7a9b6f3ca3c863cced.txt', 1), ('10254_jpg.rf.aa1f6cd4d8d08ceea70b7967bd4c5b85.txt', 1), ('10480_jpg.rf.259d69890062579eb7762477c2f02735.txt', 1), ('10261_jpg.rf.ac6341e0271b4851be7fbb75dd7a2af1.txt', 1), ('10500_jpg.rf.dc88650402e541df876a65958b125570.txt', 1), ('10485_jpg.rf.7f3a3ff1d621584dfd60944b7675d3af.txt', 1), ('10026_jpg.rf.b9b3f6ccc2306ac28c7fa679ac65cbfd.txt', 1), ('10450_jpg.rf.5e7a5c4804906c1316571f4f42773535.txt', 1), ('10536_jpg.rf.51c058a1f8a8fe241b5095ccb04bd1ef.txt', 1), ('10066_jpg.rf.b0781704d6618a28010985edb5e118eb.txt', 1), ('10299_jpg.rf.455e9563774a539cc68ffc5899ff4ced.txt', 1), ('10179_jpeg.rf.6f97a3621825773f430245585520b53c.txt', 1), ('10419_jpg.rf.047705921059edbac9d5638373b8daf6.txt', 1), ('10365_jpg.rf.e1786f72596d9adf793b68e9d31be038.txt', 1), ('10503_jpg.rf.5382f43a92d30fadbd2743e584c80428.txt', 1), ('10465_jpg.rf.da5d53f53c8c0590495d6a7e8cbfaf8d.txt', 1), ('10009_jpg.rf.db6fcadfc018dec53c05add3b4b05462.txt', 1), ('10449_jpg.rf.accf7ee7f8e7c4656186899c91f74e59.txt', 1), ('10127_png.rf.a3af4d3f172573386c1235a0e2d9bd24.txt', 1), ('10464_jpg.rf.ff979b1f6e7b0a0ac3f7d749afc221da.txt', 1), ('10577_jpeg.rf.b58e53acf76297e29a4e8b4df28f2b2c.txt', 1), ('10577_jpeg.rf.b58e53acf76297e29a4e8b4df28f2b2c.txt', 1), ('10195_jpg.rf.e66293f0d8b1ac10f5e32996cecee104.txt', 1), ('10470_jpg.rf.4f754299e84e7e174c9cbe208ef4ee86.txt', 1), ('10468_jpg.rf.fb3fdba213fa3f5f82d062477bcda12d.txt', 1), ('10292_jpg.rf.d94bba79c84d437d1004b5d1344ccabd.txt', 1), ('10268_jpg.rf.d1cff375adfc09eb872ed9e2eaa313f0.txt', 1), ('10516_jpg.rf.26b1259dfc6eaef857844d6da2840a5e.txt', 1), ('10375_jpg.rf.339c63d5a49e996d5c49a7e585392a3e.txt', 1), ('10366_jpg.rf.407c707023d3c0a518c4aa1f08853c9e.txt', 1), ('10369_jpg.rf.dda288a769b36c0191be8e6cb332dca4.txt', 1), ('10121_jpg.rf.d90d50894707286a3067fdcf81daefa0.txt', 1), ('10445_jpg.rf.b3744bd9ed1517a24eb2bc51eaab4c99.txt', 1), ('10445_jpg.rf.b3744bd9ed1517a24eb2bc51eaab4c99.txt', 1), ('10517_jpg.rf.6afe1dd50c2fc64c925c199675606ccb.txt', 1), ('10350_jpg.rf.4726fc319137fd5eb210282cd7d90109.txt', 1), ('10566_jpeg.rf.d4b3b3c3e712b485913d9c470441192d.txt', 1), ('10104_jpg.rf.e98ed7e6261b9686ea132da78967e4e8.txt', 1), ('10342_jpg.rf.d4bcffeeab4ba489e010185a0be7a14e.txt', 1), ('10342_jpg.rf.d4bcffeeab4ba489e010185a0be7a14e.txt', 1), ('10360_jpg.rf.7b094974f439b65a659353fb8b51d447.txt', 1), ('10025_jpg.rf.512a41db9c805183ee2f63ac39ae5352.txt', 1), ('10446_jpg.rf.7251a7c65ebe3b758499abb35090f1aa.txt', 1), ('10058_jpg.rf.2687dedd5186708a36dd26dd9f699d0f.txt', 1), ('10549_jpg.rf.a30112569dac09ede5c13f0130dd73d7.txt', 1), ('10074_jpg.rf.74cef25b144bbc4476c907b2120ffd78.txt', 1), ('10306_jpg.rf.a6fb8ea60683d8056d479aa2c2455893.txt', 1), ('10315_jpg.rf.0889ae3579074c13c03b0b3054e20b2c.txt', 1), ('10561_jpeg.rf.a6b41342340d7b803413e70017fa32b3.txt', 1), ('10380_jpg.rf.2b3302850c0f4705cb2ad5de34f8c2d8.txt', 1), ('10307_jpg.rf.3404af33f2c43e7716dc8f40c23750f3.txt', 1), ('10007_jpg.rf.b219411a0801cb7f818e9a8144beb0e9.txt', 1), ('10079_jpg.rf.605d76455ba5a8a5bcb2b9737d785ded.txt', 1), ('10508_jpg.rf.cc860d8fec359e56a337c0f21cac53b9.txt', 1), ('10567_jpeg.rf.7c611aa57a3ef49a965e0edf5dd00915.txt', 1), ('10145_jpg.rf.d0fdec62398bfa64de22137e16cfe986.txt', 1), ('10036_jpg.rf.c77827d91a81cc7f26dc58fefe5c07d4.txt', 1), ('10251_jpg.rf.a852f0fe57cbe875863b760fd8ebc237.txt', 1), ('10411_jpg.rf.53fa6b4364da3c8b026d5af51ead9948.txt', 1), ('10491_jpg.rf.bdd44c71c5473e46f0f6baadc15ae857.txt', 1), ('10553_png.rf.4c241f71b0173b2c20d14592e1278ad4.txt', 1), ('10553_png.rf.4c241f71b0173b2c20d14592e1278ad4.txt', 1), ('10201_jpg.rf.99085ffbea20de3e7d58c2f25fc6a473.txt', 1), ('10135_jpg.rf.18197686d8cb232263e37075ab62af3c.txt', 1), ('10304_jpg.rf.61454083281411d0885d9f457813a2e4.txt', 1), ('10524_jpg.rf.c36a3f3a4a1d45cbb83dba276339d2b2.txt', 1), ('10399_jpg.rf.64ca47bf86c1ba44f605707976a8136a.txt', 1), ('10537_jpg.rf.d3fc79de73fad2803d9ac36000cdfb1c.txt', 1), ('10462_jpg.rf.cfaaebba45ea1d1f8a222f1293daa35e.txt', 1), ('10181_jpeg.rf.4ba3620a2d4f6da78302e8872755132a.txt', 1), ('10093_jpg.rf.5c9a24f677a6527bc4d31e377a1716c7.txt', 1), ('10212_jpg.rf.af9ac8bc1390e77fdb7dcf5d5a8fef2d.txt', 1), ('10264_jpg.rf.eedfe694a05172260103ce747a640db7.txt', 1), ('10050_jpg.rf.f6db9e98741ce0d7e59b0b0514bd6d31.txt', 1), ('10173_jpg.rf.2b04bc5fcce0052f64c85a6c78b13b89.txt', 1), ('10276_jpg.rf.df5e1b5a8eeff51fe7ca28a1e1a5b07b.txt', 1), ('10409_jpg.rf.cd3c4896b86ae3f6b349c8fdc44fdf8a.txt', 1), ('10280_jpg.rf.0f09909568ae022e7e4c16b1cd4bcb70.txt', 1), ('10477_jpg.rf.b651470301ba0fc6602e61189a63276b.txt', 1), ('10098_jpg.rf.4a7034671f493dfcf229ec9f318d114b.txt', 1), ('10008_jpg.rf.07f0aa9b9770a6693572935d2ac913c3.txt', 1), ('10008_jpg.rf.07f0aa9b9770a6693572935d2ac913c3.txt', 1), ('10008_jpg.rf.07f0aa9b9770a6693572935d2ac913c3.txt', 1), ('10141_jpg.rf.51d15cc7f7adf2601ac43840f30c8cfd.txt', 1), ('10452_jpg.rf.45fbac63cf9b01a30762b377dc0c0ac7.txt', 1), ('10106_jpg.rf.075900671d0206ba221c212a2bf9244c.txt', 1), ('10406_jpg.rf.3238dabb4dab08b53b29567077dedfe3.txt', 1), ('10443_jpg.rf.9d0df734946db5ac7665b35e6a15a496.txt', 1), ('10178_jpeg.rf.3e06922d5b770b4ef3f9f75fd269ec81.txt', 1), ('10389_jpg.rf.11387d4114fd91f5af0d0c9417c7709b.txt', 1), ('10442_jpg.rf.8de7a1dc48a2ffe13ca2e54bd877414f.txt', 1), ('10550_jpg.rf.78a2f5f910c7dba35f3d6e3b4d71fa10.txt', 1), ('10123_jpg.rf.1d2f15617ae5b062aa7918a365f8aea8.txt', 1), ('10355_jpg.rf.2d77a39d7881ba5bdfd5aa9c58f2bc54.txt', 1), ('10327_jpg.rf.c50249be7abe7bfa13c5e18a945fa60d.txt', 1), ('10202_jpg.rf.c958481b2ee46f118835a33bdd662ea3.txt', 1), ('10175_jpeg.rf.47e96bcee0939e3e31b6b23c4b9d1b22.txt', 1), ('10385_jpg.rf.200efbb8deb589e45a1542488c01fc41.txt', 1), ('10529_jpg.rf.06456a215a10029fad3b4a54708fae21.txt', 1), ('10540_jpg.rf.325ae0c597fb154066474f0f3e3f3c34.txt', 1), ('10444_jpg.rf.acffad36a2158e66ccaf3a40a15eb02a.txt', 1), ('10331_jpg.rf.6556c2bdfe6a8532dcc40cd0a5a5def6.txt', 1), ('10518_jpg.rf.535c24c6eb7ebc03cb5f8a1dd8716ca7.txt', 1), ('10213_jpg.rf.99969e22432857f002d64596c0fe0020.txt', 1), ('10325_jpg.rf.a327c64c72d302c422217bf1f5d7ccb8.txt', 1), ('10447_jpg.rf.3814a8cec0d48c4d7641d72b8aa5ca3c.txt', 1), ('10515_jpg.rf.26b41171362374b65141a96f3ccf60a0.txt', 1), ('10172_jpg.rf.4d59046a365093c5f483f826779e77a5.txt', 1), ('10119_jpg.rf.10eae90a84a8fae35d26d14115c154a2.txt', 1), ('10568_jpg.rf.879ef0505871f893b4c10df9db3ab0f5.txt', 1), ('10374_jpg.rf.4a3724be7a9ee4da81b781a1f90342ac.txt', 1), ('10002_jpg.rf.fc4e6bb852b80c35281f7a683805b96b.txt', 1), ('10580_png.rf.ae87350b8323e48bfa820cb795fe8f6b.txt', 1), ('10333_jpg.rf.f3966ccf0774264ca0f2ca08f593c017.txt', 1), ('10487_jpg.rf.0861b75fc652d9ee2ec16cf6b1b4edc1.txt', 1), ('10329_jpg.rf.c5e4817a502c1c50b3d19c42da6857df.txt', 1), ('10126_jpg.rf.fe33261109e8a424805fec31306f037f.txt', 1), ('10520_jpg.rf.3238a11e8517b82130ebab33ebabbddb.txt', 1), ('10034_jpg.rf.3745dac7393f867340c1d30f0766d6d5.txt', 1), ('10501_jpg.rf.5ae7f8482213ce1e9a8efe1f3c24cc1b.txt', 1), ('10346_jpg.rf.d37c1e921688cd2009eda67deea3b680.txt', 1), ('10313_jpg.rf.86694c7d0e006f1a898ea0732928c0db.txt', 1), ('10338_jpg.rf.16e1f97e2bf78eca6b4726c7682694e0.txt', 1), ('10150_jpg.rf.d19a0f484b15b5bc02b1c20ffe5f74ea.txt', 1), ('10150_jpg.rf.d19a0f484b15b5bc02b1c20ffe5f74ea.txt', 1), ('10356_jpg.rf.a6e07c5832c58a99ae054815914e48d9.txt', 1), ('10128_jpg.rf.98ef7d1e9a1c4e3a1cd5c0b84543f760.txt', 1), ('10324_jpg.rf.7ba5c71a36ed09c84ef08f07228c7647.txt', 1), ('10324_jpg.rf.7ba5c71a36ed09c84ef08f07228c7647.txt', 1), ('10060_jpg.rf.217ab4cb219bdc112a062cd761896f00.txt', 1), ('10560_jpg.rf.a66976cbc45b57b81abf03c6f1bb59ce.txt', 1), ('10596_png.rf.e84ff461406a955e84be1a2bb01836f6.txt', 1), ('10541_jpg.rf.3632d5aa2ee7ca1c47921e764c766fae.txt', 1), ('10067_jpg.rf.8a4338e223fa34b31fdce9cc775e99a1.txt', 1), ('10379_jpg.rf.f26ae80ca71c803fa45eed0cddef5563.txt', 1), ('10341_jpg.rf.ad925c4017a7fbd5ffa44aab99aff28d.txt', 1), ('10256_jpg.rf.d31a594bcfe92a77a7463f135a6d1dc1.txt', 1), ('10056_jpg.rf.269103af67df02b0ea4872550ff48795.txt', 1), ('10572_jpeg.rf.c4cb1376e657dac4a4dff88eb4d0ef73.txt', 1), ('10522_jpg.rf.e1d0546d7d425fc1e5759c5ac3d1f87a.txt', 1), ('10354_jpg.rf.d13b78e240dd967bb582279aa4342d0a.txt', 1), ('10019_png.rf.6797d42302088d0d8e8ca12e8de37a41.txt', 1), ('10422_jpg.rf.09a2d99a3cc81e5d65afbd35187ff954.txt', 1), ('10132_jpg.rf.2cec9f1b2e6f885ac8cd196b7db29fe6.txt', 1), ('10196_jpg.rf.bf9f301b04f16532517d0a042e006ee6.txt', 1), ('10357_jpg.rf.c09f251d0e53d6443bbbad221076e349.txt', 1), ('10005_jpg.rf.ad7ea0d7727ac681b4829def0734fff9.txt', 1), ('10592_jpeg.rf.7386aa5aab344f3942693ca6858be0f8.txt', 1), ('10027_jpg.rf.61aaf24985491b0c8ba1acb6f50fb5a8.txt', 1), ('10061_jpg.rf.06ea46cb2fe480a6b45a3c5bdc028a3e.txt', 1), ('10353_jpg.rf.381dfa4c16d6cbbaa8f39f13900676d8.txt', 1), ('10351_jpg.rf.7e628c97207930f28d6c76fc701b870a.txt', 1), ('10317_jpg.rf.bb54e5c18008638546ee967036853b19.txt', 1), ('10473_jpg.rf.0b2a9eb4accd0a95ceb4c33e0438e731.txt', 1), ('10300_jpg.rf.ac52fa88ecb9eaacb923fbffde632e19.txt', 1), ('10192_jpg.rf.2315d36360c2d67d195854595455e74a.txt', 1), ('10421_jpg.rf.8ee4c2e0820456c73fd6e5d914e49205.txt', 1), ('10161_jpg.rf.806fbbf598a71e64a3cc07fdb0d36c9d.txt', 1), ('10579_jpeg.rf.0859788196e37eb45cbbc09f39ecf884.txt', 1), ('10312_jpg.rf.77411df012d3525c273f264834b8f012.txt', 1), ('10432_jpg.rf.572476001fb3c8a625833d1731963849.txt', 1), ('10199_jpg.rf.6f30f70144e2c6c5d4233cead9885411.txt', 1), ('10113_jpg.rf.37c46502e876c9633a6df918d2cbfde8.txt', 1), ('10284_jpg.rf.86b92008cd3116e1ed5c94a24260d49c.txt', 1), ('10319_jpg.rf.92687b53ff56d8fa78893fa869a840bb.txt', 1), ('10476_jpg.rf.f4c14b5f4bda1811ba82398d81b905f0.txt', 1), ('10124_jpg.rf.69325b7850befb35cbc9dd2d3c2d060f.txt', 1), ('10506_jpg.rf.15aa6090258e3695e07049fed57840f7.txt', 1), ('10069_jpg.rf.963af2a89e653f8f7b5931a3adfff13a.txt', 1), ('10376_jpg.rf.23d482ed896878e53814377e5a250c94.txt', 1), ('10281_jpg.rf.8f047d3fa86ee1e381ed1be2940997fd.txt', 1), ('10505_jpg.rf.c1498e788d5b835959c53530fb061247.txt', 1), ('10279_jpg.rf.16e811e979c878fadc357afdfc0596e8.txt', 1), ('10045_jpg.rf.34e7c963dcdaf6d6aa0445019b3b4ce7.txt', 1), ('10160_jpg.rf.b336ec7d390ae14e6db194fb82a53a9f.txt', 1), ('10160_jpg.rf.b336ec7d390ae14e6db194fb82a53a9f.txt', 1), ('10439_jpg.rf.8628d820407f30eec024f0f286dd26ff.txt', 1), ('10052_jpg.rf.fb269d5e2a5f13e638268945b9fd2d4d.txt', 1), ('10557_jpg.rf.e7750f712f4941d8464a5ecd9a330847.txt', 1), ('10164_jpg.rf.babd93d7e0a505544773a21af2da103d.txt', 1), ('10017_jpg.rf.78fe913f1c5619a6ded61d069ae9ef41.txt', 1), ('10073_jpg.rf.e51918e508c4090032f5bcbf6850a1e4.txt', 1), ('10095_jpg.rf.64ceb8515993a85c03e85ecd28f0cff3.txt', 1), ('10016_jpg.rf.477c4b2fc16675498465840dbb29cc40.txt', 1), ('10563_jpeg.rf.bf5ac022e20665dfe3a632584d83ec76.txt', 1), ('10467_jpg.rf.f5c66b301853580a198ca9dac8e7f7d6.txt', 1), ('10314_jpg.rf.c24511230bcb19265dac0a61c1b3d041.txt', 1), ('10305_jpg.rf.044d36edb4814d57393beea5913d1991.txt', 1), ('10269_jpg.rf.0c1885bdccbdea2cba06e681b8f2ec17.txt', 1), ('10140_jpg.rf.1147fac0977ac48bf9c50ec812315882.txt', 1), ('10272_jpg.rf.1861522f9cdde4d15ffa563553cd6086.txt', 1), ('10087_jpg.rf.813e1ce6ec7961ecfe0ebc634990e87e.txt', 1), ('10458_jpg.rf.acf8014ca8ec302bbde030267a2af9f8.txt', 1), ('10099_jpg.rf.d1d4731ab391f2d312bfca8b2ee6bf48.txt', 1), ('10390_jpg.rf.557df303172f9e6bbce6554a864f431b.txt', 1), ('10200_jpg.rf.35aed10014fd40154b6e257c2727fcf2.txt', 1), ('10585_jpeg.rf.71cfc51d042c183fa55d0b6071acd2de.txt', 1), ('10426_jpg.rf.bbe58ee5116595591c50ec3656eaace2.txt', 1), ('10163_jpeg.rf.12b022c3528090759880c7f3876f6ac2.txt', 1), ('10535_jpg.rf.3b3d549ce0a75f8a40b16c5d643ad74c.txt', 1), ('10587_jpeg.rf.3d89b965c5308b31e23dd595adcfc607.txt', 1), ('10498_jpg.rf.0119d24e7ac0446d9ecfd88009a81034.txt', 1), ('10273_jpg.rf.dc3c51cdd413c941a5f1ef9494d17688.txt', 1), ('10267_jpg.rf.f8d6e67b84e5bec1670c91dfa71cd5ef.txt', 1), ('10129_jpg.rf.9a0960b88c40d350825ccb3d90871ab6.txt', 1), ('10408_jpg.rf.9137a97922777828369c629ba801a60d.txt', 1), ('10510_jpg.rf.976d1d7d68fef8b4d8c7bb599b111059.txt', 1), ('10532_jpg.rf.3c86b4c04e4fc2b0a20a0e3a147ac925.txt', 1), ('10090_jpg.rf.4b355cfdae6b29d0ccdb6e0a3e78440f.txt', 1), ('10548_jpg.rf.c59820621791caafb18a9cff543a6877.txt', 1), ('10373_jpg.rf.bad3b32832d313e2e2a140596aecba20.txt', 1), ('10176_jpeg.rf.9ceeb7c11ca133bf71d666d89c07bff6.txt', 1), ('10502_jpg.rf.1b15d6f65b2043e38e9bcc3e99159088.txt', 1), ('10301_jpg.rf.e78fa76193370f9ba1b3e6984454992c.txt', 1), ('10555_jpeg.rf.955b7a434273b82a95e969b3fa4a09e1.txt', 1), ('10133_jpg.rf.12ea3c7e74f7bd52ed1f0968dccf57d0.txt', 1), ('10405_jpg.rf.f312749883026a8635c216ce04dd1b62.txt', 1), ('10194_jpg.rf.7d991e63bf60e1541e1f6980204ba318.txt', 1), ('10401_png.rf.4cfd0b33fbc66f881e8e47fa5f8730cd.txt', 1), ('10088_jpg.rf.fbd4eb8a5d8bf4eedba2875928339529.txt', 1), ('10039_jpg.rf.44f7b1d2b6111c45504f74d41e406876.txt', 1), ('10142_jpg.rf.828e54cec2b26e7a4d048ca1c359c05d.txt', 1), ('10167_jpg.rf.74524d4b21bfba0ae359cd181dc75cab.txt', 1), ('10349_jpg.rf.e3ca1723b7cf378f285536e6900f8ba3.txt', 1), ('10260_jpg.rf.76995ef8bc816464eebf4d6efa50202a.txt', 1), ('10208_jpg.rf.f21a33df691588bf4ee5f144ffa498fb.txt', 1), ('10054_jpg.rf.bdd1acc340f40fce94276a2e7a7ab042.txt', 1), ('10593_jpg.rf.a8e72571039b08a89470bac8336a731b.txt', 1), ('10395_jpg.rf.07b0aabd7b593eaefa3165a0a3560ba5.txt', 1), ('10466_jpg.rf.19aad3207ae2c0779bfa8b4a5d76bafb.txt', 1), ('10111_jpg.rf.18e3bd5c91e7e12cc8a6ba222dd0b76b.txt', 1), ('10043_jpg.rf.edb7c835f9fba95ac6112b71b0be4d05.txt', 1), ('10311_jpg.rf.c8bbfce052fb7edeb54efc995df2a1f2.txt', 1), ('10407_jpg.rf.d16a9dd6ac1969d5ea419b18550bd4c9.txt', 1), ('10413_jpg.rf.175da8485870e6ef717ebc1af1a445a5.txt', 1), ('10033_jpg.rf.f94232644134c7345cf6f8e846186255.txt', 1), ('10277_jpg.rf.e75aea7c1affc2c82385d85d142a9311.txt', 1), ('10490_jpg.rf.c0e934eb0ac0fb2db288f80d9cb9c45e.txt', 1), ('10417_jpg.rf.01690470794d4d8888f9fbd54ab800b6.txt', 1), ('10290_jpg.rf.0110883300b828e73a543d5ecd6c94a6.txt', 1), ('10538_jpg.rf.49434a2a10ded7fe44523934801668f4.txt', 1), ('10512_jpg.rf.309b7b884b5833e0c9ad8bd57319efdf.txt', 1), ('10440_jpg.rf.045594b48041afc527f0e1200ff8f055.txt', 1), ('10564_jpg.rf.2a988640b0f1793c2aa1efccb8c33e1c.txt', 1), ('10040_jpg.rf.94b51cd798622d703e4cc0c95420062d.txt', 1), ('10015_jpg.rf.27fb78b975eca64a12d0584914a1c45f.txt', 1), ('10206_jpg.rf.82467a3054c167d77be9ca56f590a21b.txt', 1), ('10523_jpg.rf.ab47ab2dad1423fc0c6daa7e3c0b15d4.txt', 1), ('10565_png.rf.14507cf193903208bb989f424e09b8d5.txt', 1), ('10429_jpg.rf.5c5094c3301bbc380775e0f1852b283a.txt', 1), ('10584_jpeg.rf.e2751270446ebaaa81ea2098b75500e5.txt', 1), ('10368_jpg.rf.bb77db01096c19acd73be2633af0e0d1.txt', 1), ('10287_jpg.rf.bf4f1bf1a4f9bdc807f13443367b6719.txt', 1), ('10488_jpg.rf.afaa723cd411aecbdf269b90850c76dd.txt', 1), ('10438_jpg.rf.50929e78dda25aec3c621427485e9a80.txt', 1), ('10386_jpg.rf.5920c45696186082ed6024e4f3cb60a8.txt', 1), ('10322_jpg.rf.7c2ac6dd204da8f0ea443bf4f1324915.txt', 1), ('10100_jpg.rf.78e6d8a1a2c942ad100491e376c55fa6.txt', 1), ('10100_jpg.rf.78e6d8a1a2c942ad100491e376c55fa6.txt', 1), ('10586_jpeg.rf.0c150f30e7ea9a5a2e8451a25f1e6125.txt', 1), ('10241_jpeg.rf.f507ac445f0b4c2a7bdcf61d22ff54c3.txt', 1), ('10475_jpg.rf.696d22fcfb276a9b1ee97f1364f60bec.txt', 1), ('10479_jpg.rf.c4ec89787c0a0fac28a3cc72dce73f88.txt', 1), ('10282_jpg.rf.48a903fdf6811598eba3ff79b168c370.txt', 1), ('10393_jpg.rf.5cf81c16eeebca7b1090391e46682fec.txt', 1), ('10559_jpg.rf.de033d77503ee1f265289bac26b4a2cd.txt', 1), ('10134_jpg.rf.f4e974c297ef06e0d5e5840666a28a49.txt', 1), ('10155_jpg.rf.a78a540cc6848ab049bd1b0c0dce8eb5.txt', 1), ('10144_jpg.rf.14d34463efc621f7f255bbbb2169ed92.txt', 1), ('10198_jpg.rf.8cd4e779336e5ac18c0c9ff2c673d16a.txt', 1), ('10396_jpg.rf.87d06a753de115c4ce10cdad3670525f.txt', 1), ('10414_jpg.rf.ffa7f334ecea9bb93c14e15c7c0350f0.txt', 1), ('10415_jpg.rf.37eb02604a4de0d804fad9300b6b5cee.txt', 1), ('10423_jpg.rf.8aec7d83ee88a53d814eeeb687952f7f.txt', 1), ('10576_jpeg.rf.e54d838b81faf70379896bc3bf611078.txt', 1), ('10258_jpg.rf.911100c9f113dbc83cf2c0080ea7fae6.txt', 1), ('10521_jpg.rf.cf4c8fd70b2873522c6cca021725826d.txt', 1), ('10205_jpg.rf.bffff9f79204a68788ebe4e275b4757b.txt', 1), ('10345_jpg.rf.20b30e38142f171ede9edc7b87002645.txt', 1), ('10348_jpg.rf.1e51796ef226d81e281392dacecb55c4.txt', 1), ('10482_jpg.rf.3bb898d4e6f7b6ed7fb943c6455681d6.txt', 1), ('10554_jpg.rf.11c305b8d1b85b89ca4cb9be505612a6.txt', 1), ('10483_jpg.rf.92b545123055c7a5196a792e77795223.txt', 1), ('10038_jpg.rf.b8b25605750b1299ee5ec13c2fa46757.txt', 1), ('10552_png.rf.48614875a5b429a1b8d48818336cc282.txt', 1), ('10071_jpg.rf.faa1e5ed778acf058b2d81477cd26803.txt', 1), ('10177_jpeg.rf.e3e35fea8d63b2446c877f43f1e1bad7.txt', 1), ('10180_jpeg.rf.18e9d85d3e60e89d11891112921fdc00.txt', 1), ('10168_jpeg.rf.1d2d8f0e4e74a9b821a7d20caf267fb4.txt', 1), ('10265_jpg.rf.6190acff2253875cc37933fab463dc40.txt', 1), ('10420_jpg.rf.46b53926ff22c3e72f84775a9edc2e0c.txt', 1), ('10014_jpg.rf.189e151855f15f14ca8737efa544897b.txt', 1), ('10539_png.rf.40775274d6315e523118bc1446287e26.txt', 1), ('10460_jpg.rf.bf5ea7f5e0c35b6a96d2314846a2d1ca.txt', 1), ('10547_jpg.rf.4f36365a35b54b1ce68c5c73d85682ea.txt', 1), ('10003_jpg.rf.11883117c1010149c759db99ac1a1fcd.txt', 1), ('10003_jpg.rf.11883117c1010149c759db99ac1a1fcd.txt', 1), ('10207_jpg.rf.1d085a6623dfce864dff0e7390ce896e.txt', 1), ('10158_jpg.rf.b2e03ae03316498eba3432874653b30b.txt', 1), ('10158_jpg.rf.b2e03ae03316498eba3432874653b30b.txt', 1), ('10431_jpg.rf.44576d6e623db6e1b3f728f67d945331.txt', 1), ('10595_jpeg.rf.a33c832ecf3aaecf2da7c663c6c6cabd.txt', 1), ('10051_jpg.rf.1d6c1976eb5e6e0c2224e71063c8693a.txt', 1), ('10156_jpg.rf.047685f75cfb30f597238bf1e76776de.txt', 1), ('10289_jpg.rf.1d4f9ee5656c26b5ab394193b8eb696d.txt', 1), ('10334_jpg.rf.8f8ad4e126a57361f00ff86ab3f0705c.txt', 1), ('10112_jpg.rf.8fecf53f31aee8c3a88463fb866faa77.txt', 1), ('10527_jpg.rf.76dccdbb15b85d5a9bd6ce46179ea4b3.txt', 1), ('10511_jpg.rf.6a8050d4c170e0cbd9c31408c7d66270.txt', 1), ('10575_jpeg.rf.9b69de470b012c665df1401c7fc64114.txt', 1), ('10495_png.rf.4a79b7baed4cbfe19601a4237b1ec4d4.txt', 1), ('10136_jpg.rf.b26c4b43a4033d2218a6a196f83c5175.txt', 1), ('10533_jpg.rf.9e2d46d97fe5f7ebae36d18827b665d0.txt', 1), ('10433_jpg.rf.55a2d7903b64c5ffea5d7c9cb26126c4.txt', 1), ('10530_jpg.rf.a25631993fe434d7c23280223ff8ca25.txt', 1), ('10336_jpg.rf.dc7b31bd12ef19b1a1840e66bb6c1aa1.txt', 1), ('10240_jpg.rf.59cee011e3ff68c98795ad2ad278f51f.txt', 1), ('10397_jpg.rf.4cac25a6353014af49db26c32f294dfc.txt', 1)]\n",
            "Issues in validation labels: [('10461_jpg.rf.9e11a70ff9f76d1eabb17c8f303e9b80.txt', 1), ('10174_jpeg.rf.3dfb80f268cdf81d4d1dcd3febb1381b.txt', 1), ('10492_jpg.rf.d6cc912716ec71e0df5ac3a2008c8380.txt', 1), ('10084_jpg.rf.e1ae53cd666c63e5333c221bcc3beed4.txt', 1), ('10364_jpg.rf.d0448e3ee28f28a20313a6cb03ad1eef.txt', 1), ('10105_jpg.rf.25e4e3c028093b9c0ac48bd3468a7a34.txt', 1), ('10293_jpg.rf.74692fcac4bf9607d5a0303619419961.txt', 1), ('10032_jpg.rf.d569543af7edf6d588aeb7ac6715a910.txt', 1), ('10569_jpg.rf.861594d6f9836ee67f8910171f456141.txt', 1), ('10297_jpg.rf.8e39145b9af7c10e0ba6d4672935f252.txt', 1), ('10383_jpg.rf.6962d43bcebb8f5bcb311c3027bfd748.txt', 1), ('10275_jpg.rf.7bdfc55e6e9016796e62297afef62373.txt', 1), ('10367_jpg.rf.17f2a179ef717d86abfb9fe677e0f2d1.txt', 1), ('10114_jpg.rf.1bf93ae5830b9aa5c751786888cddf96.txt', 1), ('10478_jpg.rf.f0029f55b2c767b5dba8b5ab44009519.txt', 1), ('10531_jpg.rf.2e848a83b18da871921135e157c86c17.txt', 1), ('10497_jpg.rf.1a9cef1afaabca861226d17cd3d181a6.txt', 1), ('10151_jpg.rf.11d6fe499132baf54bce313a8d4ff635.txt', 1), ('10153_jpg.rf.145de7246854b7395e4ea6564df18cff.txt', 1), ('10358_jpg.rf.dffccc4ee0ffb68d6f4859ae7156e70e.txt', 1), ('10562_jpeg.rf.9d30a5af3d87b9a977600b1192c79234.txt', 1), ('10047_jpg.rf.357a2c500e4f8252a84cde6400dbb488.txt', 1), ('10148_jpg.rf.1964391c8bf98b11927a5719e365cbe8.txt', 1), ('10295_jpg.rf.c6e823565a7a0f18c9c263b912df59fb.txt', 1), ('10402_jpg.rf.1ebb16628c4754221894cccf8d078a49.txt', 1), ('10363_jpg.rf.abfedf70d4d77ba89476828257f57c14.txt', 1), ('10489_jpg.rf.a9d11c5e8b787f2c86ca4c26ac45258c.txt', 1), ('10456_jpg.rf.9ee967c575d575ceafb51e6a57661722.txt', 1), ('10359_jpg.rf.fec2c1209de6cd48ac12201f878868e3.txt', 1), ('10519_png.rf.f0f10d355deaa44b6641e47dded9b778.txt', 1), ('10130_jpg.rf.00c35e0c2d5594afc3c868b48792f863.txt', 1), ('10274_jpg.rf.4cc0fd4ca3a7207c232e1ab657b50027.txt', 1), ('10048_jpg.rf.cb97e009649ebd99af0e3cff7a0de86a.txt', 1), ('10583_jpeg.rf.e8ab47e8201fc5fdc0d3dc80225f2390.txt', 1), ('10513_jpg.rf.6373356e0e41b29d3e5e1d0a50ce56a3.txt', 1), ('10484_jpg.rf.c997cf52e2a262fee39184d84bb8d902.txt', 1), ('10030_jpg.rf.9198435399f83dc29b3a95cdc794632b.txt', 1), ('10122_png.rf.b4aefaafaefa1b6742ae7c6eea4eec7e.txt', 1), ('10362_jpg.rf.7c8af6b7f2b52d230a0ce8af70532f1f.txt', 1), ('10103_jpg.rf.00d4196455fb4a2b4312a748a377867e.txt', 1), ('10499_jpg.rf.974052c7a4103eaaf67a3675839a5086.txt', 1), ('10253_png.rf.8990bfe6d3cc401cff316a0ad58e66db.txt', 1), ('10391_jpg.rf.1f85c2c269e9ef8b45196f5a1aecbdd2.txt', 1), ('10298_jpg.rf.97939aa4cdcda118dbb821cde7430d8a.txt', 1), ('10542_jpg.rf.0422ddced7de66e666db4ea855084a0c.txt', 1), ('10010_png.rf.3edcfffa92ba3e2f5cc3765b0f9d69dc.txt', 1), ('10006_jpg.rf.c149b82381d2fc17de81f7ebcee8268f.txt', 1), ('10514_jpg.rf.0fd502e444cc5abc1331f2aa2eac676b.txt', 1), ('10344_jpg.rf.e017ff63e5bdbf6517074bbfcebc24b1.txt', 1), ('10507_jpg.rf.4add9c854b1dcd0204b18025b3ab18ac.txt', 1), ('10154_jpg.rf.8b45639ac78b116ca4b97bb1783d87f2.txt', 1), ('10031_jpg.rf.3ecc3c87acedc0155a49982c4370e13f.txt', 1), ('10474_jpg.rf.16247e1bc0190c9f75eb5884876913c2.txt', 1), ('10455_jpg.rf.3c9b00b82a73fc638127add657516e80.txt', 1), ('10107_jpg.rf.9bfdc389f8f4f564d89319110ae1fb52.txt', 1), ('10343_jpg.rf.b1d5c2b1d4b1abdee39bd4d4739a0a9c.txt', 1), ('10451_jpg.rf.acbc27b12c8968b7dbe51fbac7067071.txt', 1), ('10310_jpg.rf.6907c453468707f9a2d23709be1afe85.txt', 1), ('10335_jpg.rf.2691b52f1fba2a5ff963a562318668dd.txt', 1), ('10323_jpg.rf.0730209ba0db75433d9f45e509e61328.txt', 1), ('10323_jpg.rf.0730209ba0db75433d9f45e509e61328.txt', 1), ('10400_jpg.rf.ae0f7bd7404a2725c82b403a77fbcbc0.txt', 1), ('10138_jpg.rf.3a4327345c7863830f15f44f6cb7d914.txt', 1), ('10582_jpg.rf.7bc551bf8765fdcdd191a7a6ff9b58cf.txt', 1), ('10392_jpg.rf.f3f1e62e3858e2e1da88bb464e109282.txt', 1), ('10545_jpg.rf.50e5bb4077be9603569915f6dbe8e66c.txt', 1), ('10165_jpeg.rf.5e12327a33d17109effe32990795bfe8.txt', 1), ('10147_jpg.rf.7e468c9c2e7edab118ab19583b5c2c53.txt', 1), ('10471_jpg.rf.cdeae6d688e754c15662953a208f68aa.txt', 1), ('10001_jpg.rf.824a9820662171899390a01154d6c23b.txt', 1), ('10018_jpg.rf.0edd92470312ab8c62c2275bdbcd1540.txt', 1), ('10193_jpg.rf.a3efaabc278031b42156ad56e410a684.txt', 1), ('10109_jpg.rf.51ec7eb25d73b347313dbac320c76a3c.txt', 1), ('10255_jpg.rf.49b0babc6c720b3a881f000a67993b04.txt', 1), ('10152_jpg.rf.ec219121652a7bc7228122a142cc2c9a.txt', 1), ('10152_jpg.rf.ec219121652a7bc7228122a142cc2c9a.txt', 1), ('10102_jpg.rf.c0fb02391758da6ddf2bbb29db7dc3a5.txt', 1), ('10332_jpg.rf.6d28cb03ddce64e6284b497032ed604d.txt', 1), ('10332_jpg.rf.6d28cb03ddce64e6284b497032ed604d.txt', 1), ('10472_jpg.rf.0c22f2f7f2a0bf08fc2af2e8d7b9055b.txt', 1), ('10591_jpg.rf.df65bf7fec95299c56a5fbf6c6754060.txt', 1), ('10382_jpg.rf.53c48b01f58461ee00ac6606121a0dda.txt', 1), ('10302_jpg.rf.28281d4b5836af76fe1e6a36a19ce992.txt', 1), ('10291_jpg.rf.8fff8b7a045c04000d170f33841a6c90.txt', 1), ('10210_jpg.rf.4e570027f5e7bb91652648948537f4fe.txt', 1), ('10210_jpg.rf.4e570027f5e7bb91652648948537f4fe.txt', 1), ('10544_jpg.rf.5b6e86ca41a955c848932d146d2a3be4.txt', 1), ('10321_jpg.rf.3b7c3e20446d36fb8d3303dabf83adb5.txt', 1), ('10504_jpg.rf.d880ea26dfe7ec37a8311fd3ea47c659.txt', 1), ('10070_jpg.rf.559f48bbe8ad372cb662c85bdbc628e0.txt', 1), ('10328_jpg.rf.d2d1d6d494446a72a412ed46024a7bd9.txt', 1), ('10252_jpg.rf.9db41eeea579a2279a30f709a3adfd17.txt', 1), ('10526_jpg.rf.f30f04bc3e9b4336218862cba0cfbd80.txt', 1), ('10570_jpg.rf.59f98d969f9adad2eb2a3e44b16d10ba.txt', 1), ('10427_jpg.rf.8f8d5b8a238decd90e0dcd88caed50bb.txt', 1), ('10416_jpg.rf.5333dbd7a8803c3c028eda456eeaea1e.txt', 1), ('10062_jpg.rf.0256f58fd6fd7453d2397630111eeb4a.txt', 1), ('10170_jpeg.rf.abf0a981e8cb978c9797b68ad8821e37.txt', 1), ('10131_jpg.rf.5e867e2b6c4a1ef417a165c59fb67257.txt', 1), ('10012_jpg.rf.1aadf7bd85aa58d75fdbd7ac0dd79c6e.txt', 1), ('10457_jpg.rf.f971dd3b83e29a0af0cfafb53c5f0f04.txt', 1), ('10434_jpg.rf.1cf401ca2f98a016c29cff16b939ce67.txt', 1)]\n"
          ]
        }
      ]
    },
    {
      "cell_type": "code",
      "source": [
        "import os\n",
        "\n",
        "def fix_labels(path, max_class_id):\n",
        "    issues = []\n",
        "    for label_file in os.listdir(path):\n",
        "        file_path = os.path.join(path, label_file)\n",
        "        with open(file_path, 'r') as file:\n",
        "            lines = file.readlines()\n",
        "\n",
        "        # Filter out lines with invalid class IDs\n",
        "        valid_lines = [line for line in lines if int(line.split()[0]) <= max_class_id]\n",
        "\n",
        "        if len(lines) != len(valid_lines):\n",
        "            issues.append(label_file)\n",
        "            # Overwrite the file with only valid lines\n",
        "            with open(file_path, 'w') as file:\n",
        "                file.writelines(valid_lines)\n",
        "\n",
        "    return issues\n",
        "\n",
        "# Directories for training and validation labels\n",
        "train_labels_dir = '/content/drive/MyDrive/merged_dataset2/train/labels'\n",
        "val_labels_dir = '/content/drive/MyDrive/merged_dataset2/valid/labels'\n",
        "\n",
        "# Maximum class ID allowed (nc - 1)\n",
        "max_class_id = 0\n",
        "\n",
        "# Run the script to fix the label files\n",
        "train_issues_fixed = fix_labels(train_labels_dir, max_class_id)\n",
        "val_issues_fixed = fix_labels(val_labels_dir, max_class_id)\n",
        "\n",
        "# Print results\n",
        "if train_issues_fixed:\n",
        "    print(\"Fixed issues in training labels:\", train_issues_fixed)\n",
        "else:\n",
        "    print(\"No issues found in training labels.\")\n",
        "\n",
        "if val_issues_fixed:\n",
        "    print(\"Fixed issues in validation labels:\", val_issues_fixed)\n",
        "else:\n",
        "    print(\"No issues found in validation labels.\")\n"
      ],
      "metadata": {
        "colab": {
          "base_uri": "https://localhost:8080/"
        },
        "id": "kfOG6BeaVOif",
        "outputId": "dcfcef2f-1b00-45ca-c61c-20cf0a43daca"
      },
      "execution_count": null,
      "outputs": [
        {
          "output_type": "stream",
          "name": "stdout",
          "text": [
            "Fixed issues in training labels: ['10270_png.rf.ec02b8792eecdfb89a635aed01a50873.txt', '10403_jpg.rf.3b277a26ca9ce9377b8e8b593081b44d.txt', '10285_jpg.rf.ef9aacafb3a2808b6fc72d564fd4a165.txt', '10347_jpg.rf.0077c8dee86ceab62d10dfb90b7c9fd5.txt', '10064_jpg.rf.ef3f69a8e8adbc1742f7fa6322e0971a.txt', '10437_jpg.rf.54795a9e56038b2848d2d4048fcf930f.txt', '10459_jpg.rf.57193c5ebc111913166b3ca9c4645a9b.txt', '10278_png.rf.3cd404d3a3339109acc9b3be60299db0.txt', '10096_jpg.rf.9390aa66b0ebb2d400f7cdf5ec10f0b9.txt', '10139_jpg.rf.efbacfe9ac4ff36ad9c27fb6324a0ef9.txt', '10404_jpg.rf.b44299b1cfa06b0f5f172697903b4a2b.txt', '10337_jpg.rf.b8424a5ae7f683abf60f06dd7fa2ed44.txt', '10528_jpg.rf.e5023bb8059e089cf0d063575863647a.txt', '10425_jpg.rf.0851cb3a58430f27a9c2337c9330040d.txt', '10089_jpg.rf.2b2e9d2d2ada6ffd814d82be1f540b08.txt', '10493_jpg.rf.28b259f759cfcb6109c7ca5c0faab6b0.txt', '10394_jpg.rf.05315448c34fd5986108654dc9965f95.txt', '10149_jpg.rf.362c990c267e0b9fba3028fc5d52a6d1.txt', '10558_jpeg.rf.74ca9102e0758d84b3239b676561e572.txt', '10120_jpg.rf.d27247eb53deb206e3a4d95d2db1a742.txt', '10296_jpg.rf.7a3bc75217f197960e85c22ee5084538.txt', '10116_jpg.rf.ec474b30e11656daaeff1971d4f711f5.txt', '10573_jpeg.rf.c30c08197ef3a9292ea6fa5607e33c0e.txt', '10448_jpg.rf.642f1449db67f96c9c69871f03d3f790.txt', '10496_jpg.rf.28f51906839f20349bd025062fc976f6.txt', '10398_jpg.rf.cabcbd44f59cbeec1f9a726d2848579d.txt', '10384_jpg.rf.2a5c688dc6584bc7e1d0cda34a247555.txt', '10110_jpg.rf.f05aad538581b932b88cd205a3483d9f.txt', '10157_jpg.rf.bff32922eb2bb4e88016419e046a3bb7.txt', '10294_jpg.rf.d1fe29158a3546807c04ecbfbdf16761.txt', '10418_png.rf.cc57de93395a748e432c4e83ff9dd09a.txt', '10137_jpg.rf.172df7c7859fee38a249ae4fc6023601.txt', '10271_jpg.rf.ff22ab4d0fb2a97da36c020c03085a9b.txt', '10589_jpeg.rf.ff9cac6ec829556d810acd5e791ecb45.txt', '10125_jpg.rf.666cfd973b40a6205722f1c9d052cb53.txt', '10077_jpg.rf.3f89cc2c0cd034a444a62f22fdce0a7b.txt', '10574_jpeg.rf.a822bb42da409cff508a4057369d43bf.txt', '10372_jpg.rf.5fa75422afdb14d380f1a8d551fb6763.txt', '10388_jpg.rf.ba06fcbb5ae9c459731975d22c6208ff.txt', '10035_jpg.rf.3c7db809f903ed962d4ee5c9cc67c79f.txt', '10463_jpg.rf.9e6abaa4c0085965bef49862d20168ad.txt', '10387_jpg.rf.613964c32da411e216a96e489fda17de.txt', '10330_jpg.rf.445eab0d676eb8ed1db840c261d4ac5b.txt', '10428_jpg.rf.42f42357a69d156e972715af78fdc6ad.txt', '10352_jpg.rf.1ac56415f6d52d7137cc676f91f920bc.txt', '10340_jpg.rf.e1d58463a9111763045a083125734cc2.txt', '10257_jpg.rf.12953e750acb7c82f1a80ad61865e575.txt', '10412_jpg.rf.c2640b12ac58e4c95a54260e883f193e.txt', '10171_jpeg.rf.143e38e4767e2d29259e0c94b5294bd5.txt', '10117_jpg.rf.090305d402581aaa6b7558d359f76f47.txt', '10250_jpg.rf.a67fbcabd056f4a600613a0280c371bb.txt', '10053_jpg.rf.afb3cdc9d35f5b669054df6c6dcac9a1.txt', '10063_jpg.rf.7f1125ac31a4f9bb1a7eb4a854e96eaa.txt', '10318_png.rf.8d457e58962e0f00e738a624a2b54f61.txt', '10262_jpg.rf.e5589f204a14b2e886c634d8e9ada2cf.txt', '10543_jpg.rf.a4d9e701be73faebecb7c91ea243946b.txt', '10581_jpeg.rf.9a2dc14e7014fcb648c2212cadf1ad28.txt', '10556_jpg.rf.0b4117cd63e7bb83226b9d87afed7086.txt', '10075_jpg.rf.4597770ff5db9e014385bb1da57f3582.txt', '10115_jpg.rf.dcdbb4f6c5006060e65839b95aa1142f.txt', '10182_png.rf.d0801470f584854427a5f86349c03e7c.txt', '10486_jpg.rf.6946fdcd79e30854b7d4005bcf67e967.txt', '10494_jpg.rf.25119e05bb8dbd06bcf03fb9bd24d506.txt', '10146_jpg.rf.adaa01b48b8a1e15005e4eeeafd97478.txt', '10551_jpeg.rf.4ed078be5bdaeffae29712d66a973e8e.txt', '10259_jpg.rf.e4e7473f5569c74236f785b545422f8d.txt', '10361_jpg.rf.54cfe16ff6d0dfe1af5ea81602f5d71b.txt', '10509_jpg.rf.cb5b3989db96bc6e46e9c1009b4c846e.txt', '10046_jpg.rf.24d547851e350bc74cdcfa1aba1dc034.txt', '10162_jpeg.rf.7f029789ebd38d2d68c59427b2ba554f.txt', '10303_jpg.rf.b18cb85ea4ad1d49d186d9e48cbe784b.txt', '10378_jpg.rf.5f0110f140d7c199b34d980e729b0835.txt', '10263_jpg.rf.31e9ccffb55b40d703d4c7bb248c1f11.txt', '10371_jpg.rf.0a954efa883e0c2777c2c2dad9f2b042.txt', '10166_jpeg.rf.223f4d1b9858a169d3489cab67ff8dcd.txt', '10283_png.rf.08f8ccf68e56f889a7610c1fc58ce452.txt', '10316_png.rf.e020f861f11b1e7a9b6f3ca3c863cced.txt', '10254_jpg.rf.aa1f6cd4d8d08ceea70b7967bd4c5b85.txt', '10480_jpg.rf.259d69890062579eb7762477c2f02735.txt', '10261_jpg.rf.ac6341e0271b4851be7fbb75dd7a2af1.txt', '10500_jpg.rf.dc88650402e541df876a65958b125570.txt', '10485_jpg.rf.7f3a3ff1d621584dfd60944b7675d3af.txt', '10026_jpg.rf.b9b3f6ccc2306ac28c7fa679ac65cbfd.txt', '10450_jpg.rf.5e7a5c4804906c1316571f4f42773535.txt', '10536_jpg.rf.51c058a1f8a8fe241b5095ccb04bd1ef.txt', '10066_jpg.rf.b0781704d6618a28010985edb5e118eb.txt', '10299_jpg.rf.455e9563774a539cc68ffc5899ff4ced.txt', '10179_jpeg.rf.6f97a3621825773f430245585520b53c.txt', '10419_jpg.rf.047705921059edbac9d5638373b8daf6.txt', '10365_jpg.rf.e1786f72596d9adf793b68e9d31be038.txt', '10503_jpg.rf.5382f43a92d30fadbd2743e584c80428.txt', '10465_jpg.rf.da5d53f53c8c0590495d6a7e8cbfaf8d.txt', '10009_jpg.rf.db6fcadfc018dec53c05add3b4b05462.txt', '10449_jpg.rf.accf7ee7f8e7c4656186899c91f74e59.txt', '10127_png.rf.a3af4d3f172573386c1235a0e2d9bd24.txt', '10464_jpg.rf.ff979b1f6e7b0a0ac3f7d749afc221da.txt', '10577_jpeg.rf.b58e53acf76297e29a4e8b4df28f2b2c.txt', '10195_jpg.rf.e66293f0d8b1ac10f5e32996cecee104.txt', '10470_jpg.rf.4f754299e84e7e174c9cbe208ef4ee86.txt', '10468_jpg.rf.fb3fdba213fa3f5f82d062477bcda12d.txt', '10292_jpg.rf.d94bba79c84d437d1004b5d1344ccabd.txt', '10268_jpg.rf.d1cff375adfc09eb872ed9e2eaa313f0.txt', '10516_jpg.rf.26b1259dfc6eaef857844d6da2840a5e.txt', '10375_jpg.rf.339c63d5a49e996d5c49a7e585392a3e.txt', '10366_jpg.rf.407c707023d3c0a518c4aa1f08853c9e.txt', '10369_jpg.rf.dda288a769b36c0191be8e6cb332dca4.txt', '10121_jpg.rf.d90d50894707286a3067fdcf81daefa0.txt', '10445_jpg.rf.b3744bd9ed1517a24eb2bc51eaab4c99.txt', '10517_jpg.rf.6afe1dd50c2fc64c925c199675606ccb.txt', '10350_jpg.rf.4726fc319137fd5eb210282cd7d90109.txt', '10566_jpeg.rf.d4b3b3c3e712b485913d9c470441192d.txt', '10104_jpg.rf.e98ed7e6261b9686ea132da78967e4e8.txt', '10342_jpg.rf.d4bcffeeab4ba489e010185a0be7a14e.txt', '10360_jpg.rf.7b094974f439b65a659353fb8b51d447.txt', '10025_jpg.rf.512a41db9c805183ee2f63ac39ae5352.txt', '10446_jpg.rf.7251a7c65ebe3b758499abb35090f1aa.txt', '10058_jpg.rf.2687dedd5186708a36dd26dd9f699d0f.txt', '10549_jpg.rf.a30112569dac09ede5c13f0130dd73d7.txt', '10074_jpg.rf.74cef25b144bbc4476c907b2120ffd78.txt', '10306_jpg.rf.a6fb8ea60683d8056d479aa2c2455893.txt', '10315_jpg.rf.0889ae3579074c13c03b0b3054e20b2c.txt', '10561_jpeg.rf.a6b41342340d7b803413e70017fa32b3.txt', '10380_jpg.rf.2b3302850c0f4705cb2ad5de34f8c2d8.txt', '10307_jpg.rf.3404af33f2c43e7716dc8f40c23750f3.txt', '10007_jpg.rf.b219411a0801cb7f818e9a8144beb0e9.txt', '10079_jpg.rf.605d76455ba5a8a5bcb2b9737d785ded.txt', '10508_jpg.rf.cc860d8fec359e56a337c0f21cac53b9.txt', '10567_jpeg.rf.7c611aa57a3ef49a965e0edf5dd00915.txt', '10145_jpg.rf.d0fdec62398bfa64de22137e16cfe986.txt', '10036_jpg.rf.c77827d91a81cc7f26dc58fefe5c07d4.txt', '10251_jpg.rf.a852f0fe57cbe875863b760fd8ebc237.txt', '10411_jpg.rf.53fa6b4364da3c8b026d5af51ead9948.txt', '10491_jpg.rf.bdd44c71c5473e46f0f6baadc15ae857.txt', '10553_png.rf.4c241f71b0173b2c20d14592e1278ad4.txt', '10201_jpg.rf.99085ffbea20de3e7d58c2f25fc6a473.txt', '10135_jpg.rf.18197686d8cb232263e37075ab62af3c.txt', '10304_jpg.rf.61454083281411d0885d9f457813a2e4.txt', '10524_jpg.rf.c36a3f3a4a1d45cbb83dba276339d2b2.txt', '10399_jpg.rf.64ca47bf86c1ba44f605707976a8136a.txt', '10537_jpg.rf.d3fc79de73fad2803d9ac36000cdfb1c.txt', '10462_jpg.rf.cfaaebba45ea1d1f8a222f1293daa35e.txt', '10181_jpeg.rf.4ba3620a2d4f6da78302e8872755132a.txt', '10093_jpg.rf.5c9a24f677a6527bc4d31e377a1716c7.txt', '10212_jpg.rf.af9ac8bc1390e77fdb7dcf5d5a8fef2d.txt', '10264_jpg.rf.eedfe694a05172260103ce747a640db7.txt', '10050_jpg.rf.f6db9e98741ce0d7e59b0b0514bd6d31.txt', '10173_jpg.rf.2b04bc5fcce0052f64c85a6c78b13b89.txt', '10276_jpg.rf.df5e1b5a8eeff51fe7ca28a1e1a5b07b.txt', '10409_jpg.rf.cd3c4896b86ae3f6b349c8fdc44fdf8a.txt', '10280_jpg.rf.0f09909568ae022e7e4c16b1cd4bcb70.txt', '10477_jpg.rf.b651470301ba0fc6602e61189a63276b.txt', '10098_jpg.rf.4a7034671f493dfcf229ec9f318d114b.txt', '10008_jpg.rf.07f0aa9b9770a6693572935d2ac913c3.txt', '10141_jpg.rf.51d15cc7f7adf2601ac43840f30c8cfd.txt', '10452_jpg.rf.45fbac63cf9b01a30762b377dc0c0ac7.txt', '10106_jpg.rf.075900671d0206ba221c212a2bf9244c.txt', '10406_jpg.rf.3238dabb4dab08b53b29567077dedfe3.txt', '10443_jpg.rf.9d0df734946db5ac7665b35e6a15a496.txt', '10178_jpeg.rf.3e06922d5b770b4ef3f9f75fd269ec81.txt', '10389_jpg.rf.11387d4114fd91f5af0d0c9417c7709b.txt', '10442_jpg.rf.8de7a1dc48a2ffe13ca2e54bd877414f.txt', '10550_jpg.rf.78a2f5f910c7dba35f3d6e3b4d71fa10.txt', '10123_jpg.rf.1d2f15617ae5b062aa7918a365f8aea8.txt', '10355_jpg.rf.2d77a39d7881ba5bdfd5aa9c58f2bc54.txt', '10327_jpg.rf.c50249be7abe7bfa13c5e18a945fa60d.txt', '10202_jpg.rf.c958481b2ee46f118835a33bdd662ea3.txt', '10175_jpeg.rf.47e96bcee0939e3e31b6b23c4b9d1b22.txt', '10385_jpg.rf.200efbb8deb589e45a1542488c01fc41.txt', '10529_jpg.rf.06456a215a10029fad3b4a54708fae21.txt', '10540_jpg.rf.325ae0c597fb154066474f0f3e3f3c34.txt', '10444_jpg.rf.acffad36a2158e66ccaf3a40a15eb02a.txt', '10331_jpg.rf.6556c2bdfe6a8532dcc40cd0a5a5def6.txt', '10518_jpg.rf.535c24c6eb7ebc03cb5f8a1dd8716ca7.txt', '10213_jpg.rf.99969e22432857f002d64596c0fe0020.txt', '10325_jpg.rf.a327c64c72d302c422217bf1f5d7ccb8.txt', '10447_jpg.rf.3814a8cec0d48c4d7641d72b8aa5ca3c.txt', '10515_jpg.rf.26b41171362374b65141a96f3ccf60a0.txt', '10172_jpg.rf.4d59046a365093c5f483f826779e77a5.txt', '10119_jpg.rf.10eae90a84a8fae35d26d14115c154a2.txt', '10568_jpg.rf.879ef0505871f893b4c10df9db3ab0f5.txt', '10374_jpg.rf.4a3724be7a9ee4da81b781a1f90342ac.txt', '10002_jpg.rf.fc4e6bb852b80c35281f7a683805b96b.txt', '10580_png.rf.ae87350b8323e48bfa820cb795fe8f6b.txt', '10333_jpg.rf.f3966ccf0774264ca0f2ca08f593c017.txt', '10487_jpg.rf.0861b75fc652d9ee2ec16cf6b1b4edc1.txt', '10329_jpg.rf.c5e4817a502c1c50b3d19c42da6857df.txt', '10126_jpg.rf.fe33261109e8a424805fec31306f037f.txt', '10520_jpg.rf.3238a11e8517b82130ebab33ebabbddb.txt', '10034_jpg.rf.3745dac7393f867340c1d30f0766d6d5.txt', '10501_jpg.rf.5ae7f8482213ce1e9a8efe1f3c24cc1b.txt', '10346_jpg.rf.d37c1e921688cd2009eda67deea3b680.txt', '10313_jpg.rf.86694c7d0e006f1a898ea0732928c0db.txt', '10338_jpg.rf.16e1f97e2bf78eca6b4726c7682694e0.txt', '10150_jpg.rf.d19a0f484b15b5bc02b1c20ffe5f74ea.txt', '10356_jpg.rf.a6e07c5832c58a99ae054815914e48d9.txt', '10128_jpg.rf.98ef7d1e9a1c4e3a1cd5c0b84543f760.txt', '10324_jpg.rf.7ba5c71a36ed09c84ef08f07228c7647.txt', '10060_jpg.rf.217ab4cb219bdc112a062cd761896f00.txt', '10560_jpg.rf.a66976cbc45b57b81abf03c6f1bb59ce.txt', '10596_png.rf.e84ff461406a955e84be1a2bb01836f6.txt', '10541_jpg.rf.3632d5aa2ee7ca1c47921e764c766fae.txt', '10067_jpg.rf.8a4338e223fa34b31fdce9cc775e99a1.txt', '10379_jpg.rf.f26ae80ca71c803fa45eed0cddef5563.txt', '10341_jpg.rf.ad925c4017a7fbd5ffa44aab99aff28d.txt', '10256_jpg.rf.d31a594bcfe92a77a7463f135a6d1dc1.txt', '10056_jpg.rf.269103af67df02b0ea4872550ff48795.txt', '10572_jpeg.rf.c4cb1376e657dac4a4dff88eb4d0ef73.txt', '10522_jpg.rf.e1d0546d7d425fc1e5759c5ac3d1f87a.txt', '10354_jpg.rf.d13b78e240dd967bb582279aa4342d0a.txt', '10019_png.rf.6797d42302088d0d8e8ca12e8de37a41.txt', '10422_jpg.rf.09a2d99a3cc81e5d65afbd35187ff954.txt', '10132_jpg.rf.2cec9f1b2e6f885ac8cd196b7db29fe6.txt', '10196_jpg.rf.bf9f301b04f16532517d0a042e006ee6.txt', '10357_jpg.rf.c09f251d0e53d6443bbbad221076e349.txt', '10005_jpg.rf.ad7ea0d7727ac681b4829def0734fff9.txt', '10592_jpeg.rf.7386aa5aab344f3942693ca6858be0f8.txt', '10027_jpg.rf.61aaf24985491b0c8ba1acb6f50fb5a8.txt', '10061_jpg.rf.06ea46cb2fe480a6b45a3c5bdc028a3e.txt', '10353_jpg.rf.381dfa4c16d6cbbaa8f39f13900676d8.txt', '10351_jpg.rf.7e628c97207930f28d6c76fc701b870a.txt', '10317_jpg.rf.bb54e5c18008638546ee967036853b19.txt', '10473_jpg.rf.0b2a9eb4accd0a95ceb4c33e0438e731.txt', '10300_jpg.rf.ac52fa88ecb9eaacb923fbffde632e19.txt', '10192_jpg.rf.2315d36360c2d67d195854595455e74a.txt', '10421_jpg.rf.8ee4c2e0820456c73fd6e5d914e49205.txt', '10161_jpg.rf.806fbbf598a71e64a3cc07fdb0d36c9d.txt', '10579_jpeg.rf.0859788196e37eb45cbbc09f39ecf884.txt', '10312_jpg.rf.77411df012d3525c273f264834b8f012.txt', '10432_jpg.rf.572476001fb3c8a625833d1731963849.txt', '10199_jpg.rf.6f30f70144e2c6c5d4233cead9885411.txt', '10113_jpg.rf.37c46502e876c9633a6df918d2cbfde8.txt', '10284_jpg.rf.86b92008cd3116e1ed5c94a24260d49c.txt', '10319_jpg.rf.92687b53ff56d8fa78893fa869a840bb.txt', '10476_jpg.rf.f4c14b5f4bda1811ba82398d81b905f0.txt', '10124_jpg.rf.69325b7850befb35cbc9dd2d3c2d060f.txt', '10506_jpg.rf.15aa6090258e3695e07049fed57840f7.txt', '10069_jpg.rf.963af2a89e653f8f7b5931a3adfff13a.txt', '10376_jpg.rf.23d482ed896878e53814377e5a250c94.txt', '10281_jpg.rf.8f047d3fa86ee1e381ed1be2940997fd.txt', '10505_jpg.rf.c1498e788d5b835959c53530fb061247.txt', '10279_jpg.rf.16e811e979c878fadc357afdfc0596e8.txt', '10045_jpg.rf.34e7c963dcdaf6d6aa0445019b3b4ce7.txt', '10160_jpg.rf.b336ec7d390ae14e6db194fb82a53a9f.txt', '10439_jpg.rf.8628d820407f30eec024f0f286dd26ff.txt', '10052_jpg.rf.fb269d5e2a5f13e638268945b9fd2d4d.txt', '10557_jpg.rf.e7750f712f4941d8464a5ecd9a330847.txt', '10164_jpg.rf.babd93d7e0a505544773a21af2da103d.txt', '10017_jpg.rf.78fe913f1c5619a6ded61d069ae9ef41.txt', '10073_jpg.rf.e51918e508c4090032f5bcbf6850a1e4.txt', '10095_jpg.rf.64ceb8515993a85c03e85ecd28f0cff3.txt', '10016_jpg.rf.477c4b2fc16675498465840dbb29cc40.txt', '10563_jpeg.rf.bf5ac022e20665dfe3a632584d83ec76.txt', '10467_jpg.rf.f5c66b301853580a198ca9dac8e7f7d6.txt', '10314_jpg.rf.c24511230bcb19265dac0a61c1b3d041.txt', '10305_jpg.rf.044d36edb4814d57393beea5913d1991.txt', '10269_jpg.rf.0c1885bdccbdea2cba06e681b8f2ec17.txt', '10140_jpg.rf.1147fac0977ac48bf9c50ec812315882.txt', '10272_jpg.rf.1861522f9cdde4d15ffa563553cd6086.txt', '10087_jpg.rf.813e1ce6ec7961ecfe0ebc634990e87e.txt', '10458_jpg.rf.acf8014ca8ec302bbde030267a2af9f8.txt', '10099_jpg.rf.d1d4731ab391f2d312bfca8b2ee6bf48.txt', '10390_jpg.rf.557df303172f9e6bbce6554a864f431b.txt', '10200_jpg.rf.35aed10014fd40154b6e257c2727fcf2.txt', '10585_jpeg.rf.71cfc51d042c183fa55d0b6071acd2de.txt', '10426_jpg.rf.bbe58ee5116595591c50ec3656eaace2.txt', '10163_jpeg.rf.12b022c3528090759880c7f3876f6ac2.txt', '10535_jpg.rf.3b3d549ce0a75f8a40b16c5d643ad74c.txt', '10587_jpeg.rf.3d89b965c5308b31e23dd595adcfc607.txt', '10498_jpg.rf.0119d24e7ac0446d9ecfd88009a81034.txt', '10273_jpg.rf.dc3c51cdd413c941a5f1ef9494d17688.txt', '10267_jpg.rf.f8d6e67b84e5bec1670c91dfa71cd5ef.txt', '10129_jpg.rf.9a0960b88c40d350825ccb3d90871ab6.txt', '10408_jpg.rf.9137a97922777828369c629ba801a60d.txt', '10510_jpg.rf.976d1d7d68fef8b4d8c7bb599b111059.txt', '10532_jpg.rf.3c86b4c04e4fc2b0a20a0e3a147ac925.txt', '10090_jpg.rf.4b355cfdae6b29d0ccdb6e0a3e78440f.txt', '10548_jpg.rf.c59820621791caafb18a9cff543a6877.txt', '10373_jpg.rf.bad3b32832d313e2e2a140596aecba20.txt', '10176_jpeg.rf.9ceeb7c11ca133bf71d666d89c07bff6.txt', '10502_jpg.rf.1b15d6f65b2043e38e9bcc3e99159088.txt', '10301_jpg.rf.e78fa76193370f9ba1b3e6984454992c.txt', '10555_jpeg.rf.955b7a434273b82a95e969b3fa4a09e1.txt', '10133_jpg.rf.12ea3c7e74f7bd52ed1f0968dccf57d0.txt', '10405_jpg.rf.f312749883026a8635c216ce04dd1b62.txt', '10194_jpg.rf.7d991e63bf60e1541e1f6980204ba318.txt', '10401_png.rf.4cfd0b33fbc66f881e8e47fa5f8730cd.txt', '10088_jpg.rf.fbd4eb8a5d8bf4eedba2875928339529.txt', '10039_jpg.rf.44f7b1d2b6111c45504f74d41e406876.txt', '10142_jpg.rf.828e54cec2b26e7a4d048ca1c359c05d.txt', '10167_jpg.rf.74524d4b21bfba0ae359cd181dc75cab.txt', '10349_jpg.rf.e3ca1723b7cf378f285536e6900f8ba3.txt', '10260_jpg.rf.76995ef8bc816464eebf4d6efa50202a.txt', '10208_jpg.rf.f21a33df691588bf4ee5f144ffa498fb.txt', '10054_jpg.rf.bdd1acc340f40fce94276a2e7a7ab042.txt', '10593_jpg.rf.a8e72571039b08a89470bac8336a731b.txt', '10395_jpg.rf.07b0aabd7b593eaefa3165a0a3560ba5.txt', '10466_jpg.rf.19aad3207ae2c0779bfa8b4a5d76bafb.txt', '10111_jpg.rf.18e3bd5c91e7e12cc8a6ba222dd0b76b.txt', '10043_jpg.rf.edb7c835f9fba95ac6112b71b0be4d05.txt', '10311_jpg.rf.c8bbfce052fb7edeb54efc995df2a1f2.txt', '10407_jpg.rf.d16a9dd6ac1969d5ea419b18550bd4c9.txt', '10413_jpg.rf.175da8485870e6ef717ebc1af1a445a5.txt', '10033_jpg.rf.f94232644134c7345cf6f8e846186255.txt', '10277_jpg.rf.e75aea7c1affc2c82385d85d142a9311.txt', '10490_jpg.rf.c0e934eb0ac0fb2db288f80d9cb9c45e.txt', '10417_jpg.rf.01690470794d4d8888f9fbd54ab800b6.txt', '10290_jpg.rf.0110883300b828e73a543d5ecd6c94a6.txt', '10538_jpg.rf.49434a2a10ded7fe44523934801668f4.txt', '10512_jpg.rf.309b7b884b5833e0c9ad8bd57319efdf.txt', '10440_jpg.rf.045594b48041afc527f0e1200ff8f055.txt', '10564_jpg.rf.2a988640b0f1793c2aa1efccb8c33e1c.txt', '10040_jpg.rf.94b51cd798622d703e4cc0c95420062d.txt', '10015_jpg.rf.27fb78b975eca64a12d0584914a1c45f.txt', '10206_jpg.rf.82467a3054c167d77be9ca56f590a21b.txt', '10523_jpg.rf.ab47ab2dad1423fc0c6daa7e3c0b15d4.txt', '10565_png.rf.14507cf193903208bb989f424e09b8d5.txt', '10429_jpg.rf.5c5094c3301bbc380775e0f1852b283a.txt', '10584_jpeg.rf.e2751270446ebaaa81ea2098b75500e5.txt', '10368_jpg.rf.bb77db01096c19acd73be2633af0e0d1.txt', '10287_jpg.rf.bf4f1bf1a4f9bdc807f13443367b6719.txt', '10488_jpg.rf.afaa723cd411aecbdf269b90850c76dd.txt', '10438_jpg.rf.50929e78dda25aec3c621427485e9a80.txt', '10386_jpg.rf.5920c45696186082ed6024e4f3cb60a8.txt', '10322_jpg.rf.7c2ac6dd204da8f0ea443bf4f1324915.txt', '10100_jpg.rf.78e6d8a1a2c942ad100491e376c55fa6.txt', '10586_jpeg.rf.0c150f30e7ea9a5a2e8451a25f1e6125.txt', '10241_jpeg.rf.f507ac445f0b4c2a7bdcf61d22ff54c3.txt', '10475_jpg.rf.696d22fcfb276a9b1ee97f1364f60bec.txt', '10479_jpg.rf.c4ec89787c0a0fac28a3cc72dce73f88.txt', '10282_jpg.rf.48a903fdf6811598eba3ff79b168c370.txt', '10393_jpg.rf.5cf81c16eeebca7b1090391e46682fec.txt', '10559_jpg.rf.de033d77503ee1f265289bac26b4a2cd.txt', '10134_jpg.rf.f4e974c297ef06e0d5e5840666a28a49.txt', '10155_jpg.rf.a78a540cc6848ab049bd1b0c0dce8eb5.txt', '10144_jpg.rf.14d34463efc621f7f255bbbb2169ed92.txt', '10198_jpg.rf.8cd4e779336e5ac18c0c9ff2c673d16a.txt', '10396_jpg.rf.87d06a753de115c4ce10cdad3670525f.txt', '10414_jpg.rf.ffa7f334ecea9bb93c14e15c7c0350f0.txt', '10415_jpg.rf.37eb02604a4de0d804fad9300b6b5cee.txt', '10423_jpg.rf.8aec7d83ee88a53d814eeeb687952f7f.txt', '10576_jpeg.rf.e54d838b81faf70379896bc3bf611078.txt', '10258_jpg.rf.911100c9f113dbc83cf2c0080ea7fae6.txt', '10521_jpg.rf.cf4c8fd70b2873522c6cca021725826d.txt', '10205_jpg.rf.bffff9f79204a68788ebe4e275b4757b.txt', '10345_jpg.rf.20b30e38142f171ede9edc7b87002645.txt', '10348_jpg.rf.1e51796ef226d81e281392dacecb55c4.txt', '10482_jpg.rf.3bb898d4e6f7b6ed7fb943c6455681d6.txt', '10554_jpg.rf.11c305b8d1b85b89ca4cb9be505612a6.txt', '10483_jpg.rf.92b545123055c7a5196a792e77795223.txt', '10038_jpg.rf.b8b25605750b1299ee5ec13c2fa46757.txt', '10552_png.rf.48614875a5b429a1b8d48818336cc282.txt', '10071_jpg.rf.faa1e5ed778acf058b2d81477cd26803.txt', '10177_jpeg.rf.e3e35fea8d63b2446c877f43f1e1bad7.txt', '10180_jpeg.rf.18e9d85d3e60e89d11891112921fdc00.txt', '10168_jpeg.rf.1d2d8f0e4e74a9b821a7d20caf267fb4.txt', '10265_jpg.rf.6190acff2253875cc37933fab463dc40.txt', '10420_jpg.rf.46b53926ff22c3e72f84775a9edc2e0c.txt', '10014_jpg.rf.189e151855f15f14ca8737efa544897b.txt', '10539_png.rf.40775274d6315e523118bc1446287e26.txt', '10460_jpg.rf.bf5ea7f5e0c35b6a96d2314846a2d1ca.txt', '10547_jpg.rf.4f36365a35b54b1ce68c5c73d85682ea.txt', '10003_jpg.rf.11883117c1010149c759db99ac1a1fcd.txt', '10207_jpg.rf.1d085a6623dfce864dff0e7390ce896e.txt', '10158_jpg.rf.b2e03ae03316498eba3432874653b30b.txt', '10431_jpg.rf.44576d6e623db6e1b3f728f67d945331.txt', '10595_jpeg.rf.a33c832ecf3aaecf2da7c663c6c6cabd.txt', '10051_jpg.rf.1d6c1976eb5e6e0c2224e71063c8693a.txt', '10156_jpg.rf.047685f75cfb30f597238bf1e76776de.txt', '10289_jpg.rf.1d4f9ee5656c26b5ab394193b8eb696d.txt', '10334_jpg.rf.8f8ad4e126a57361f00ff86ab3f0705c.txt', '10112_jpg.rf.8fecf53f31aee8c3a88463fb866faa77.txt', '10527_jpg.rf.76dccdbb15b85d5a9bd6ce46179ea4b3.txt', '10511_jpg.rf.6a8050d4c170e0cbd9c31408c7d66270.txt', '10575_jpeg.rf.9b69de470b012c665df1401c7fc64114.txt', '10495_png.rf.4a79b7baed4cbfe19601a4237b1ec4d4.txt', '10136_jpg.rf.b26c4b43a4033d2218a6a196f83c5175.txt', '10533_jpg.rf.9e2d46d97fe5f7ebae36d18827b665d0.txt', '10433_jpg.rf.55a2d7903b64c5ffea5d7c9cb26126c4.txt', '10530_jpg.rf.a25631993fe434d7c23280223ff8ca25.txt', '10336_jpg.rf.dc7b31bd12ef19b1a1840e66bb6c1aa1.txt', '10240_jpg.rf.59cee011e3ff68c98795ad2ad278f51f.txt', '10397_jpg.rf.4cac25a6353014af49db26c32f294dfc.txt']\n",
            "Fixed issues in validation labels: ['10461_jpg.rf.9e11a70ff9f76d1eabb17c8f303e9b80.txt', '10174_jpeg.rf.3dfb80f268cdf81d4d1dcd3febb1381b.txt', '10492_jpg.rf.d6cc912716ec71e0df5ac3a2008c8380.txt', '10084_jpg.rf.e1ae53cd666c63e5333c221bcc3beed4.txt', '10364_jpg.rf.d0448e3ee28f28a20313a6cb03ad1eef.txt', '10105_jpg.rf.25e4e3c028093b9c0ac48bd3468a7a34.txt', '10293_jpg.rf.74692fcac4bf9607d5a0303619419961.txt', '10032_jpg.rf.d569543af7edf6d588aeb7ac6715a910.txt', '10569_jpg.rf.861594d6f9836ee67f8910171f456141.txt', '10297_jpg.rf.8e39145b9af7c10e0ba6d4672935f252.txt', '10383_jpg.rf.6962d43bcebb8f5bcb311c3027bfd748.txt', '10275_jpg.rf.7bdfc55e6e9016796e62297afef62373.txt', '10367_jpg.rf.17f2a179ef717d86abfb9fe677e0f2d1.txt', '10114_jpg.rf.1bf93ae5830b9aa5c751786888cddf96.txt', '10478_jpg.rf.f0029f55b2c767b5dba8b5ab44009519.txt', '10531_jpg.rf.2e848a83b18da871921135e157c86c17.txt', '10497_jpg.rf.1a9cef1afaabca861226d17cd3d181a6.txt', '10151_jpg.rf.11d6fe499132baf54bce313a8d4ff635.txt', '10153_jpg.rf.145de7246854b7395e4ea6564df18cff.txt', '10358_jpg.rf.dffccc4ee0ffb68d6f4859ae7156e70e.txt', '10562_jpeg.rf.9d30a5af3d87b9a977600b1192c79234.txt', '10047_jpg.rf.357a2c500e4f8252a84cde6400dbb488.txt', '10148_jpg.rf.1964391c8bf98b11927a5719e365cbe8.txt', '10295_jpg.rf.c6e823565a7a0f18c9c263b912df59fb.txt', '10402_jpg.rf.1ebb16628c4754221894cccf8d078a49.txt', '10363_jpg.rf.abfedf70d4d77ba89476828257f57c14.txt', '10489_jpg.rf.a9d11c5e8b787f2c86ca4c26ac45258c.txt', '10456_jpg.rf.9ee967c575d575ceafb51e6a57661722.txt', '10359_jpg.rf.fec2c1209de6cd48ac12201f878868e3.txt', '10519_png.rf.f0f10d355deaa44b6641e47dded9b778.txt', '10130_jpg.rf.00c35e0c2d5594afc3c868b48792f863.txt', '10274_jpg.rf.4cc0fd4ca3a7207c232e1ab657b50027.txt', '10048_jpg.rf.cb97e009649ebd99af0e3cff7a0de86a.txt', '10583_jpeg.rf.e8ab47e8201fc5fdc0d3dc80225f2390.txt', '10513_jpg.rf.6373356e0e41b29d3e5e1d0a50ce56a3.txt', '10484_jpg.rf.c997cf52e2a262fee39184d84bb8d902.txt', '10030_jpg.rf.9198435399f83dc29b3a95cdc794632b.txt', '10122_png.rf.b4aefaafaefa1b6742ae7c6eea4eec7e.txt', '10362_jpg.rf.7c8af6b7f2b52d230a0ce8af70532f1f.txt', '10103_jpg.rf.00d4196455fb4a2b4312a748a377867e.txt', '10499_jpg.rf.974052c7a4103eaaf67a3675839a5086.txt', '10253_png.rf.8990bfe6d3cc401cff316a0ad58e66db.txt', '10391_jpg.rf.1f85c2c269e9ef8b45196f5a1aecbdd2.txt', '10298_jpg.rf.97939aa4cdcda118dbb821cde7430d8a.txt', '10542_jpg.rf.0422ddced7de66e666db4ea855084a0c.txt', '10010_png.rf.3edcfffa92ba3e2f5cc3765b0f9d69dc.txt', '10006_jpg.rf.c149b82381d2fc17de81f7ebcee8268f.txt', '10514_jpg.rf.0fd502e444cc5abc1331f2aa2eac676b.txt', '10344_jpg.rf.e017ff63e5bdbf6517074bbfcebc24b1.txt', '10507_jpg.rf.4add9c854b1dcd0204b18025b3ab18ac.txt', '10154_jpg.rf.8b45639ac78b116ca4b97bb1783d87f2.txt', '10031_jpg.rf.3ecc3c87acedc0155a49982c4370e13f.txt', '10474_jpg.rf.16247e1bc0190c9f75eb5884876913c2.txt', '10455_jpg.rf.3c9b00b82a73fc638127add657516e80.txt', '10107_jpg.rf.9bfdc389f8f4f564d89319110ae1fb52.txt', '10343_jpg.rf.b1d5c2b1d4b1abdee39bd4d4739a0a9c.txt', '10451_jpg.rf.acbc27b12c8968b7dbe51fbac7067071.txt', '10310_jpg.rf.6907c453468707f9a2d23709be1afe85.txt', '10335_jpg.rf.2691b52f1fba2a5ff963a562318668dd.txt', '10323_jpg.rf.0730209ba0db75433d9f45e509e61328.txt', '10400_jpg.rf.ae0f7bd7404a2725c82b403a77fbcbc0.txt', '10138_jpg.rf.3a4327345c7863830f15f44f6cb7d914.txt', '10582_jpg.rf.7bc551bf8765fdcdd191a7a6ff9b58cf.txt', '10392_jpg.rf.f3f1e62e3858e2e1da88bb464e109282.txt', '10545_jpg.rf.50e5bb4077be9603569915f6dbe8e66c.txt', '10165_jpeg.rf.5e12327a33d17109effe32990795bfe8.txt', '10147_jpg.rf.7e468c9c2e7edab118ab19583b5c2c53.txt', '10471_jpg.rf.cdeae6d688e754c15662953a208f68aa.txt', '10001_jpg.rf.824a9820662171899390a01154d6c23b.txt', '10018_jpg.rf.0edd92470312ab8c62c2275bdbcd1540.txt', '10193_jpg.rf.a3efaabc278031b42156ad56e410a684.txt', '10109_jpg.rf.51ec7eb25d73b347313dbac320c76a3c.txt', '10255_jpg.rf.49b0babc6c720b3a881f000a67993b04.txt', '10152_jpg.rf.ec219121652a7bc7228122a142cc2c9a.txt', '10102_jpg.rf.c0fb02391758da6ddf2bbb29db7dc3a5.txt', '10332_jpg.rf.6d28cb03ddce64e6284b497032ed604d.txt', '10472_jpg.rf.0c22f2f7f2a0bf08fc2af2e8d7b9055b.txt', '10591_jpg.rf.df65bf7fec95299c56a5fbf6c6754060.txt', '10382_jpg.rf.53c48b01f58461ee00ac6606121a0dda.txt', '10302_jpg.rf.28281d4b5836af76fe1e6a36a19ce992.txt', '10291_jpg.rf.8fff8b7a045c04000d170f33841a6c90.txt', '10210_jpg.rf.4e570027f5e7bb91652648948537f4fe.txt', '10544_jpg.rf.5b6e86ca41a955c848932d146d2a3be4.txt', '10321_jpg.rf.3b7c3e20446d36fb8d3303dabf83adb5.txt', '10504_jpg.rf.d880ea26dfe7ec37a8311fd3ea47c659.txt', '10070_jpg.rf.559f48bbe8ad372cb662c85bdbc628e0.txt', '10328_jpg.rf.d2d1d6d494446a72a412ed46024a7bd9.txt', '10252_jpg.rf.9db41eeea579a2279a30f709a3adfd17.txt', '10526_jpg.rf.f30f04bc3e9b4336218862cba0cfbd80.txt', '10570_jpg.rf.59f98d969f9adad2eb2a3e44b16d10ba.txt', '10427_jpg.rf.8f8d5b8a238decd90e0dcd88caed50bb.txt', '10416_jpg.rf.5333dbd7a8803c3c028eda456eeaea1e.txt', '10062_jpg.rf.0256f58fd6fd7453d2397630111eeb4a.txt', '10170_jpeg.rf.abf0a981e8cb978c9797b68ad8821e37.txt', '10131_jpg.rf.5e867e2b6c4a1ef417a165c59fb67257.txt', '10012_jpg.rf.1aadf7bd85aa58d75fdbd7ac0dd79c6e.txt', '10457_jpg.rf.f971dd3b83e29a0af0cfafb53c5f0f04.txt', '10434_jpg.rf.1cf401ca2f98a016c29cff16b939ce67.txt']\n"
          ]
        }
      ]
    },
    {
      "cell_type": "code",
      "source": [
        "import torch\n",
        "print(\"GPU available:\", torch.cuda.is_available())\n"
      ],
      "metadata": {
        "colab": {
          "base_uri": "https://localhost:8080/"
        },
        "id": "wvyC7ZaOq63x",
        "outputId": "8750bf32-5976-478b-de08-5073749feb05"
      },
      "execution_count": null,
      "outputs": [
        {
          "output_type": "stream",
          "name": "stdout",
          "text": [
            "GPU available: True\n"
          ]
        }
      ]
    },
    {
      "cell_type": "code",
      "source": [
        "from ultralytics import YOLO  # Import the YOLO library\n",
        "\n",
        "# Check if CUDA (GPU) is available and set the device accordingly\n",
        "device = \"cuda\" if torch.cuda.is_available() else \"cpu\"\n",
        "print(f\"Using device: {device}\")\n",
        "\n",
        "# Load the YOLO model\n",
        "model = YOLO(\"yolov8n.pt\")  # Load the YOLOv8n model\n",
        "\n",
        "# Train the model and specify the device\n",
        "model.train(data=\"/content/drive/MyDrive/merged_dataset2/merged_dataset.yaml\", epochs=50, imgsz=640, device=device)\n"
      ],
      "metadata": {
        "colab": {
          "base_uri": "https://localhost:8080/"
        },
        "id": "mveeQkdNzSCb",
        "outputId": "8d5159a0-0cc0-4f31-98fa-6affe24bbd9e"
      },
      "execution_count": null,
      "outputs": [
        {
          "output_type": "stream",
          "name": "stdout",
          "text": [
            "Creating new Ultralytics Settings v0.0.6 file ✅ \n",
            "View Ultralytics Settings with 'yolo settings' or at '/root/.config/Ultralytics/settings.json'\n",
            "Update Settings with 'yolo settings key=value', i.e. 'yolo settings runs_dir=path/to/dir'. For help see https://docs.ultralytics.com/quickstart/#ultralytics-settings.\n",
            "Using device: cuda\n",
            "Downloading https://github.com/ultralytics/assets/releases/download/v8.3.0/yolov8n.pt to 'yolov8n.pt'...\n"
          ]
        },
        {
          "output_type": "stream",
          "name": "stderr",
          "text": [
            "100%|██████████| 6.25M/6.25M [00:00<00:00, 60.3MB/s]\n"
          ]
        },
        {
          "output_type": "stream",
          "name": "stdout",
          "text": [
            "Ultralytics 8.3.27 🚀 Python-3.10.12 torch-2.4.1+cu121 CUDA:0 (Tesla T4, 15102MiB)\n",
            "\u001b[34m\u001b[1mengine/trainer: \u001b[0mtask=detect, mode=train, model=yolov8n.pt, data=/content/drive/MyDrive/merged_dataset2/merged_dataset.yaml, epochs=50, time=None, patience=100, batch=16, imgsz=640, save=True, save_period=-1, cache=False, device=cuda, workers=8, project=None, name=train, exist_ok=False, pretrained=True, optimizer=auto, verbose=True, seed=0, deterministic=True, single_cls=False, rect=False, cos_lr=False, close_mosaic=10, resume=False, amp=True, fraction=1.0, profile=False, freeze=None, multi_scale=False, overlap_mask=True, mask_ratio=4, dropout=0.0, val=True, split=val, save_json=False, save_hybrid=False, conf=None, iou=0.7, max_det=300, half=False, dnn=False, plots=True, source=None, vid_stride=1, stream_buffer=False, visualize=False, augment=False, agnostic_nms=False, classes=None, retina_masks=False, embed=None, show=False, save_frames=False, save_txt=False, save_conf=False, save_crop=False, show_labels=True, show_conf=True, show_boxes=True, line_width=None, format=torchscript, keras=False, optimize=False, int8=False, dynamic=False, simplify=True, opset=None, workspace=4, nms=False, lr0=0.01, lrf=0.01, momentum=0.937, weight_decay=0.0005, warmup_epochs=3.0, warmup_momentum=0.8, warmup_bias_lr=0.1, box=7.5, cls=0.5, dfl=1.5, pose=12.0, kobj=1.0, label_smoothing=0.0, nbs=64, hsv_h=0.015, hsv_s=0.7, hsv_v=0.4, degrees=0.0, translate=0.1, scale=0.5, shear=0.0, perspective=0.0, flipud=0.0, fliplr=0.5, bgr=0.0, mosaic=1.0, mixup=0.0, copy_paste=0.0, copy_paste_mode=flip, auto_augment=randaugment, erasing=0.4, crop_fraction=1.0, cfg=None, tracker=botsort.yaml, save_dir=runs/detect/train\n",
            "Downloading https://ultralytics.com/assets/Arial.ttf to '/root/.config/Ultralytics/Arial.ttf'...\n"
          ]
        },
        {
          "output_type": "stream",
          "name": "stderr",
          "text": [
            "100%|██████████| 755k/755k [00:00<00:00, 11.7MB/s]\n"
          ]
        },
        {
          "output_type": "stream",
          "name": "stdout",
          "text": [
            "Overriding model.yaml nc=80 with nc=1\n",
            "\n",
            "                   from  n    params  module                                       arguments                     \n",
            "  0                  -1  1       464  ultralytics.nn.modules.conv.Conv             [3, 16, 3, 2]                 \n",
            "  1                  -1  1      4672  ultralytics.nn.modules.conv.Conv             [16, 32, 3, 2]                \n",
            "  2                  -1  1      7360  ultralytics.nn.modules.block.C2f             [32, 32, 1, True]             \n",
            "  3                  -1  1     18560  ultralytics.nn.modules.conv.Conv             [32, 64, 3, 2]                \n",
            "  4                  -1  2     49664  ultralytics.nn.modules.block.C2f             [64, 64, 2, True]             \n",
            "  5                  -1  1     73984  ultralytics.nn.modules.conv.Conv             [64, 128, 3, 2]               \n",
            "  6                  -1  2    197632  ultralytics.nn.modules.block.C2f             [128, 128, 2, True]           \n",
            "  7                  -1  1    295424  ultralytics.nn.modules.conv.Conv             [128, 256, 3, 2]              \n",
            "  8                  -1  1    460288  ultralytics.nn.modules.block.C2f             [256, 256, 1, True]           \n",
            "  9                  -1  1    164608  ultralytics.nn.modules.block.SPPF            [256, 256, 5]                 \n",
            " 10                  -1  1         0  torch.nn.modules.upsampling.Upsample         [None, 2, 'nearest']          \n",
            " 11             [-1, 6]  1         0  ultralytics.nn.modules.conv.Concat           [1]                           \n",
            " 12                  -1  1    148224  ultralytics.nn.modules.block.C2f             [384, 128, 1]                 \n",
            " 13                  -1  1         0  torch.nn.modules.upsampling.Upsample         [None, 2, 'nearest']          \n",
            " 14             [-1, 4]  1         0  ultralytics.nn.modules.conv.Concat           [1]                           \n",
            " 15                  -1  1     37248  ultralytics.nn.modules.block.C2f             [192, 64, 1]                  \n",
            " 16                  -1  1     36992  ultralytics.nn.modules.conv.Conv             [64, 64, 3, 2]                \n",
            " 17            [-1, 12]  1         0  ultralytics.nn.modules.conv.Concat           [1]                           \n",
            " 18                  -1  1    123648  ultralytics.nn.modules.block.C2f             [192, 128, 1]                 \n",
            " 19                  -1  1    147712  ultralytics.nn.modules.conv.Conv             [128, 128, 3, 2]              \n",
            " 20             [-1, 9]  1         0  ultralytics.nn.modules.conv.Concat           [1]                           \n",
            " 21                  -1  1    493056  ultralytics.nn.modules.block.C2f             [384, 256, 1]                 \n",
            " 22        [15, 18, 21]  1    751507  ultralytics.nn.modules.head.Detect           [1, [64, 128, 256]]           \n",
            "Model summary: 225 layers, 3,011,043 parameters, 3,011,027 gradients, 8.2 GFLOPs\n",
            "\n",
            "Transferred 319/355 items from pretrained weights\n",
            "\u001b[34m\u001b[1mTensorBoard: \u001b[0mStart with 'tensorboard --logdir runs/detect/train', view at http://localhost:6006/\n",
            "Freezing layer 'model.22.dfl.conv.weight'\n",
            "\u001b[34m\u001b[1mAMP: \u001b[0mrunning Automatic Mixed Precision (AMP) checks...\n",
            "Downloading https://github.com/ultralytics/assets/releases/download/v8.3.0/yolo11n.pt to 'yolo11n.pt'...\n"
          ]
        },
        {
          "output_type": "stream",
          "name": "stderr",
          "text": [
            "100%|██████████| 5.35M/5.35M [00:00<00:00, 52.3MB/s]\n"
          ]
        },
        {
          "output_type": "stream",
          "name": "stdout",
          "text": [
            "\u001b[34m\u001b[1mAMP: \u001b[0mchecks passed ✅\n"
          ]
        },
        {
          "output_type": "stream",
          "name": "stderr",
          "text": [
            "\u001b[34m\u001b[1mtrain: \u001b[0mScanning /content/drive/MyDrive/merged_dataset2/train/labels.cache... 1744 images, 389 backgrounds, 0 corrupt: 100%|██████████| 1744/1744 [00:00<?, ?it/s]\n"
          ]
        },
        {
          "output_type": "stream",
          "name": "stdout",
          "text": [
            "\u001b[34m\u001b[1malbumentations: \u001b[0mBlur(p=0.01, blur_limit=(3, 7)), MedianBlur(p=0.01, blur_limit=(3, 7)), ToGray(p=0.01, num_output_channels=3, method='weighted_average'), CLAHE(p=0.01, clip_limit=(1, 4.0), tile_grid_size=(8, 8))\n"
          ]
        },
        {
          "output_type": "stream",
          "name": "stderr",
          "text": [
            "/usr/local/lib/python3.10/dist-packages/albumentations/__init__.py:13: UserWarning: A new version of Albumentations is available: 1.4.21 (you have 1.4.15). Upgrade using: pip install -U albumentations. To disable automatic update checks, set the environment variable NO_ALBUMENTATIONS_UPDATE to 1.\n",
            "  check_for_updates()\n",
            "/usr/lib/python3.10/multiprocessing/popen_fork.py:66: RuntimeWarning: os.fork() was called. os.fork() is incompatible with multithreaded code, and JAX is multithreaded, so this will likely lead to a deadlock.\n",
            "  self.pid = os.fork()\n",
            "\u001b[34m\u001b[1mval: \u001b[0mScanning /content/drive/MyDrive/merged_dataset2/valid/labels.cache... 357 images, 98 backgrounds, 0 corrupt: 100%|██████████| 357/357 [00:00<?, ?it/s]\n"
          ]
        },
        {
          "output_type": "stream",
          "name": "stdout",
          "text": [
            "Plotting labels to runs/detect/train/labels.jpg... \n",
            "\u001b[34m\u001b[1moptimizer:\u001b[0m 'optimizer=auto' found, ignoring 'lr0=0.01' and 'momentum=0.937' and determining best 'optimizer', 'lr0' and 'momentum' automatically... \n",
            "\u001b[34m\u001b[1moptimizer:\u001b[0m AdamW(lr=0.002, momentum=0.9) with parameter groups 57 weight(decay=0.0), 64 weight(decay=0.0005), 63 bias(decay=0.0)\n",
            "\u001b[34m\u001b[1mTensorBoard: \u001b[0mmodel graph visualization added ✅\n",
            "Image sizes 640 train, 640 val\n",
            "Using 8 dataloader workers\n",
            "Logging results to \u001b[1mruns/detect/train\u001b[0m\n",
            "Starting training for 50 epochs...\n",
            "\n",
            "      Epoch    GPU_mem   box_loss   cls_loss   dfl_loss  Instances       Size\n"
          ]
        },
        {
          "output_type": "stream",
          "name": "stderr",
          "text": [
            "       1/50      2.16G     0.7155      1.713      1.174         28        640: 100%|██████████| 109/109 [01:13<00:00,  1.48it/s]\n",
            "                 Class     Images  Instances      Box(P          R      mAP50  mAP50-95): 100%|██████████| 12/12 [00:03<00:00,  3.24it/s]\n"
          ]
        },
        {
          "output_type": "stream",
          "name": "stdout",
          "text": [
            "                   all        357        266      0.903      0.726      0.866      0.645\n",
            "\n",
            "      Epoch    GPU_mem   box_loss   cls_loss   dfl_loss  Instances       Size\n"
          ]
        },
        {
          "output_type": "stream",
          "name": "stderr",
          "text": [
            "       2/50      2.14G     0.8599      1.321      1.226         27        640: 100%|██████████| 109/109 [00:16<00:00,  6.41it/s]\n",
            "                 Class     Images  Instances      Box(P          R      mAP50  mAP50-95): 100%|██████████| 12/12 [00:02<00:00,  5.45it/s]"
          ]
        },
        {
          "output_type": "stream",
          "name": "stdout",
          "text": [
            "                   all        357        266      0.644      0.635      0.615      0.378\n"
          ]
        },
        {
          "output_type": "stream",
          "name": "stderr",
          "text": [
            "\n"
          ]
        },
        {
          "output_type": "stream",
          "name": "stdout",
          "text": [
            "\n",
            "      Epoch    GPU_mem   box_loss   cls_loss   dfl_loss  Instances       Size\n"
          ]
        },
        {
          "output_type": "stream",
          "name": "stderr",
          "text": [
            "       3/50      2.14G     0.8795      1.162      1.238         31        640: 100%|██████████| 109/109 [00:16<00:00,  6.44it/s]\n",
            "                 Class     Images  Instances      Box(P          R      mAP50  mAP50-95): 100%|██████████| 12/12 [00:02<00:00,  5.54it/s]"
          ]
        },
        {
          "output_type": "stream",
          "name": "stdout",
          "text": [
            "                   all        357        266      0.812      0.722      0.813      0.607\n"
          ]
        },
        {
          "output_type": "stream",
          "name": "stderr",
          "text": [
            "\n"
          ]
        },
        {
          "output_type": "stream",
          "name": "stdout",
          "text": [
            "\n",
            "      Epoch    GPU_mem   box_loss   cls_loss   dfl_loss  Instances       Size\n"
          ]
        },
        {
          "output_type": "stream",
          "name": "stderr",
          "text": [
            "       4/50      2.14G     0.8446      1.022      1.207         29        640: 100%|██████████| 109/109 [00:16<00:00,  6.53it/s]\n",
            "                 Class     Images  Instances      Box(P          R      mAP50  mAP50-95): 100%|██████████| 12/12 [00:01<00:00,  6.03it/s]"
          ]
        },
        {
          "output_type": "stream",
          "name": "stdout",
          "text": [
            "                   all        357        266      0.828      0.733      0.845      0.657\n"
          ]
        },
        {
          "output_type": "stream",
          "name": "stderr",
          "text": [
            "\n"
          ]
        },
        {
          "output_type": "stream",
          "name": "stdout",
          "text": [
            "\n",
            "      Epoch    GPU_mem   box_loss   cls_loss   dfl_loss  Instances       Size\n"
          ]
        },
        {
          "output_type": "stream",
          "name": "stderr",
          "text": [
            "       5/50      2.14G     0.8308     0.9698      1.206         32        640: 100%|██████████| 109/109 [00:16<00:00,  6.48it/s]\n",
            "                 Class     Images  Instances      Box(P          R      mAP50  mAP50-95): 100%|██████████| 12/12 [00:02<00:00,  5.87it/s]"
          ]
        },
        {
          "output_type": "stream",
          "name": "stdout",
          "text": [
            "                   all        357        266       0.87      0.757       0.88      0.679\n"
          ]
        },
        {
          "output_type": "stream",
          "name": "stderr",
          "text": [
            "\n"
          ]
        },
        {
          "output_type": "stream",
          "name": "stdout",
          "text": [
            "\n",
            "      Epoch    GPU_mem   box_loss   cls_loss   dfl_loss  Instances       Size\n"
          ]
        },
        {
          "output_type": "stream",
          "name": "stderr",
          "text": [
            "       6/50      2.14G     0.7758     0.8945      1.171         25        640: 100%|██████████| 109/109 [00:16<00:00,  6.47it/s]\n",
            "                 Class     Images  Instances      Box(P          R      mAP50  mAP50-95): 100%|██████████| 12/12 [00:01<00:00,  6.03it/s]"
          ]
        },
        {
          "output_type": "stream",
          "name": "stdout",
          "text": [
            "                   all        357        266      0.913      0.748      0.883      0.701\n"
          ]
        },
        {
          "output_type": "stream",
          "name": "stderr",
          "text": [
            "\n"
          ]
        },
        {
          "output_type": "stream",
          "name": "stdout",
          "text": [
            "\n",
            "      Epoch    GPU_mem   box_loss   cls_loss   dfl_loss  Instances       Size\n"
          ]
        },
        {
          "output_type": "stream",
          "name": "stderr",
          "text": [
            "       7/50      2.14G     0.7628     0.8552      1.153         28        640: 100%|██████████| 109/109 [00:16<00:00,  6.46it/s]\n",
            "                 Class     Images  Instances      Box(P          R      mAP50  mAP50-95): 100%|██████████| 12/12 [00:02<00:00,  5.93it/s]"
          ]
        },
        {
          "output_type": "stream",
          "name": "stdout",
          "text": [
            "                   all        357        266      0.889      0.865      0.919      0.762\n"
          ]
        },
        {
          "output_type": "stream",
          "name": "stderr",
          "text": [
            "\n"
          ]
        },
        {
          "output_type": "stream",
          "name": "stdout",
          "text": [
            "\n",
            "      Epoch    GPU_mem   box_loss   cls_loss   dfl_loss  Instances       Size\n"
          ]
        },
        {
          "output_type": "stream",
          "name": "stderr",
          "text": [
            "       8/50      2.14G     0.7342     0.8051      1.155         20        640: 100%|██████████| 109/109 [00:16<00:00,  6.51it/s]\n",
            "                 Class     Images  Instances      Box(P          R      mAP50  mAP50-95): 100%|██████████| 12/12 [00:02<00:00,  5.84it/s]"
          ]
        },
        {
          "output_type": "stream",
          "name": "stdout",
          "text": [
            "                   all        357        266      0.879      0.878      0.923       0.75\n"
          ]
        },
        {
          "output_type": "stream",
          "name": "stderr",
          "text": [
            "\n"
          ]
        },
        {
          "output_type": "stream",
          "name": "stdout",
          "text": [
            "\n",
            "      Epoch    GPU_mem   box_loss   cls_loss   dfl_loss  Instances       Size\n"
          ]
        },
        {
          "output_type": "stream",
          "name": "stderr",
          "text": [
            "       9/50      2.14G     0.7074     0.7777      1.121         31        640: 100%|██████████| 109/109 [00:16<00:00,  6.45it/s]\n",
            "                 Class     Images  Instances      Box(P          R      mAP50  mAP50-95): 100%|██████████| 12/12 [00:02<00:00,  5.60it/s]"
          ]
        },
        {
          "output_type": "stream",
          "name": "stdout",
          "text": [
            "                   all        357        266      0.856      0.853      0.918      0.775\n"
          ]
        },
        {
          "output_type": "stream",
          "name": "stderr",
          "text": [
            "\n"
          ]
        },
        {
          "output_type": "stream",
          "name": "stdout",
          "text": [
            "\n",
            "      Epoch    GPU_mem   box_loss   cls_loss   dfl_loss  Instances       Size\n"
          ]
        },
        {
          "output_type": "stream",
          "name": "stderr",
          "text": [
            "      10/50      2.13G     0.6673     0.7536      1.109         29        640: 100%|██████████| 109/109 [00:16<00:00,  6.43it/s]\n",
            "                 Class     Images  Instances      Box(P          R      mAP50  mAP50-95): 100%|██████████| 12/12 [00:02<00:00,  5.87it/s]"
          ]
        },
        {
          "output_type": "stream",
          "name": "stdout",
          "text": [
            "                   all        357        266      0.869      0.875      0.928      0.794\n"
          ]
        },
        {
          "output_type": "stream",
          "name": "stderr",
          "text": [
            "\n"
          ]
        },
        {
          "output_type": "stream",
          "name": "stdout",
          "text": [
            "\n",
            "      Epoch    GPU_mem   box_loss   cls_loss   dfl_loss  Instances       Size\n"
          ]
        },
        {
          "output_type": "stream",
          "name": "stderr",
          "text": [
            "      11/50      2.14G     0.6711     0.7026      1.105         27        640: 100%|██████████| 109/109 [00:16<00:00,  6.46it/s]\n",
            "                 Class     Images  Instances      Box(P          R      mAP50  mAP50-95): 100%|██████████| 12/12 [00:02<00:00,  5.98it/s]"
          ]
        },
        {
          "output_type": "stream",
          "name": "stdout",
          "text": [
            "                   all        357        266        0.9      0.916      0.951      0.798\n"
          ]
        },
        {
          "output_type": "stream",
          "name": "stderr",
          "text": [
            "\n"
          ]
        },
        {
          "output_type": "stream",
          "name": "stdout",
          "text": [
            "\n",
            "      Epoch    GPU_mem   box_loss   cls_loss   dfl_loss  Instances       Size\n"
          ]
        },
        {
          "output_type": "stream",
          "name": "stderr",
          "text": [
            "      12/50      2.14G     0.6535     0.7083      1.101         32        640: 100%|██████████| 109/109 [00:17<00:00,  6.40it/s]\n",
            "                 Class     Images  Instances      Box(P          R      mAP50  mAP50-95): 100%|██████████| 12/12 [00:02<00:00,  5.84it/s]"
          ]
        },
        {
          "output_type": "stream",
          "name": "stdout",
          "text": [
            "                   all        357        266      0.877      0.908      0.939      0.793\n"
          ]
        },
        {
          "output_type": "stream",
          "name": "stderr",
          "text": [
            "\n"
          ]
        },
        {
          "output_type": "stream",
          "name": "stdout",
          "text": [
            "\n",
            "      Epoch    GPU_mem   box_loss   cls_loss   dfl_loss  Instances       Size\n"
          ]
        },
        {
          "output_type": "stream",
          "name": "stderr",
          "text": [
            "      13/50      2.14G      0.644     0.6795      1.098         29        640: 100%|██████████| 109/109 [00:16<00:00,  6.43it/s]\n",
            "                 Class     Images  Instances      Box(P          R      mAP50  mAP50-95): 100%|██████████| 12/12 [00:02<00:00,  5.88it/s]"
          ]
        },
        {
          "output_type": "stream",
          "name": "stdout",
          "text": [
            "                   all        357        266      0.926        0.9      0.959      0.819\n"
          ]
        },
        {
          "output_type": "stream",
          "name": "stderr",
          "text": [
            "\n"
          ]
        },
        {
          "output_type": "stream",
          "name": "stdout",
          "text": [
            "\n",
            "      Epoch    GPU_mem   box_loss   cls_loss   dfl_loss  Instances       Size\n"
          ]
        },
        {
          "output_type": "stream",
          "name": "stderr",
          "text": [
            "      14/50      2.14G     0.6248     0.6596      1.069         33        640: 100%|██████████| 109/109 [00:17<00:00,  6.40it/s]\n",
            "                 Class     Images  Instances      Box(P          R      mAP50  mAP50-95): 100%|██████████| 12/12 [00:02<00:00,  5.80it/s]"
          ]
        },
        {
          "output_type": "stream",
          "name": "stdout",
          "text": [
            "                   all        357        266      0.923      0.865      0.954      0.834\n"
          ]
        },
        {
          "output_type": "stream",
          "name": "stderr",
          "text": [
            "\n"
          ]
        },
        {
          "output_type": "stream",
          "name": "stdout",
          "text": [
            "\n",
            "      Epoch    GPU_mem   box_loss   cls_loss   dfl_loss  Instances       Size\n"
          ]
        },
        {
          "output_type": "stream",
          "name": "stderr",
          "text": [
            "      15/50      2.14G     0.6131     0.6372      1.078         34        640: 100%|██████████| 109/109 [00:16<00:00,  6.43it/s]\n",
            "                 Class     Images  Instances      Box(P          R      mAP50  mAP50-95): 100%|██████████| 12/12 [00:02<00:00,  5.66it/s]"
          ]
        },
        {
          "output_type": "stream",
          "name": "stdout",
          "text": [
            "                   all        357        266      0.912      0.883      0.946      0.814\n"
          ]
        },
        {
          "output_type": "stream",
          "name": "stderr",
          "text": [
            "\n"
          ]
        },
        {
          "output_type": "stream",
          "name": "stdout",
          "text": [
            "\n",
            "      Epoch    GPU_mem   box_loss   cls_loss   dfl_loss  Instances       Size\n"
          ]
        },
        {
          "output_type": "stream",
          "name": "stderr",
          "text": [
            "      16/50      2.14G     0.6015     0.6357      1.073         29        640: 100%|██████████| 109/109 [00:16<00:00,  6.47it/s]\n",
            "                 Class     Images  Instances      Box(P          R      mAP50  mAP50-95): 100%|██████████| 12/12 [00:02<00:00,  5.69it/s]"
          ]
        },
        {
          "output_type": "stream",
          "name": "stdout",
          "text": [
            "                   all        357        266      0.937      0.888      0.952      0.839\n"
          ]
        },
        {
          "output_type": "stream",
          "name": "stderr",
          "text": [
            "\n"
          ]
        },
        {
          "output_type": "stream",
          "name": "stdout",
          "text": [
            "\n",
            "      Epoch    GPU_mem   box_loss   cls_loss   dfl_loss  Instances       Size\n"
          ]
        },
        {
          "output_type": "stream",
          "name": "stderr",
          "text": [
            "      17/50      2.14G     0.6046     0.6154       1.06         32        640: 100%|██████████| 109/109 [00:17<00:00,  6.41it/s]\n",
            "                 Class     Images  Instances      Box(P          R      mAP50  mAP50-95): 100%|██████████| 12/12 [00:02<00:00,  5.77it/s]"
          ]
        },
        {
          "output_type": "stream",
          "name": "stdout",
          "text": [
            "                   all        357        266      0.913      0.908       0.96      0.817\n"
          ]
        },
        {
          "output_type": "stream",
          "name": "stderr",
          "text": [
            "\n"
          ]
        },
        {
          "output_type": "stream",
          "name": "stdout",
          "text": [
            "\n",
            "      Epoch    GPU_mem   box_loss   cls_loss   dfl_loss  Instances       Size\n"
          ]
        },
        {
          "output_type": "stream",
          "name": "stderr",
          "text": [
            "      18/50      2.13G     0.5827     0.6031      1.065         30        640: 100%|██████████| 109/109 [00:16<00:00,  6.45it/s]\n",
            "                 Class     Images  Instances      Box(P          R      mAP50  mAP50-95): 100%|██████████| 12/12 [00:02<00:00,  5.90it/s]"
          ]
        },
        {
          "output_type": "stream",
          "name": "stdout",
          "text": [
            "                   all        357        266      0.922      0.936      0.946      0.828\n"
          ]
        },
        {
          "output_type": "stream",
          "name": "stderr",
          "text": [
            "\n"
          ]
        },
        {
          "output_type": "stream",
          "name": "stdout",
          "text": [
            "\n",
            "      Epoch    GPU_mem   box_loss   cls_loss   dfl_loss  Instances       Size\n"
          ]
        },
        {
          "output_type": "stream",
          "name": "stderr",
          "text": [
            "      19/50      2.14G     0.5934     0.6149       1.07         26        640: 100%|██████████| 109/109 [00:16<00:00,  6.47it/s]\n",
            "                 Class     Images  Instances      Box(P          R      mAP50  mAP50-95): 100%|██████████| 12/12 [00:02<00:00,  5.97it/s]"
          ]
        },
        {
          "output_type": "stream",
          "name": "stdout",
          "text": [
            "                   all        357        266      0.928      0.898      0.958      0.821\n"
          ]
        },
        {
          "output_type": "stream",
          "name": "stderr",
          "text": [
            "\n"
          ]
        },
        {
          "output_type": "stream",
          "name": "stdout",
          "text": [
            "\n",
            "      Epoch    GPU_mem   box_loss   cls_loss   dfl_loss  Instances       Size\n"
          ]
        },
        {
          "output_type": "stream",
          "name": "stderr",
          "text": [
            "      20/50      2.14G     0.5811     0.5779      1.055         30        640: 100%|██████████| 109/109 [00:17<00:00,  6.39it/s]\n",
            "                 Class     Images  Instances      Box(P          R      mAP50  mAP50-95): 100%|██████████| 12/12 [00:01<00:00,  6.08it/s]"
          ]
        },
        {
          "output_type": "stream",
          "name": "stdout",
          "text": [
            "                   all        357        266      0.921      0.914      0.963      0.842\n"
          ]
        },
        {
          "output_type": "stream",
          "name": "stderr",
          "text": [
            "\n"
          ]
        },
        {
          "output_type": "stream",
          "name": "stdout",
          "text": [
            "\n",
            "      Epoch    GPU_mem   box_loss   cls_loss   dfl_loss  Instances       Size\n"
          ]
        },
        {
          "output_type": "stream",
          "name": "stderr",
          "text": [
            "      21/50      2.14G     0.5905     0.5862       1.06         31        640: 100%|██████████| 109/109 [00:16<00:00,  6.49it/s]\n",
            "                 Class     Images  Instances      Box(P          R      mAP50  mAP50-95): 100%|██████████| 12/12 [00:02<00:00,  5.67it/s]"
          ]
        },
        {
          "output_type": "stream",
          "name": "stdout",
          "text": [
            "                   all        357        266      0.894      0.932      0.956      0.837\n"
          ]
        },
        {
          "output_type": "stream",
          "name": "stderr",
          "text": [
            "\n"
          ]
        },
        {
          "output_type": "stream",
          "name": "stdout",
          "text": [
            "\n",
            "      Epoch    GPU_mem   box_loss   cls_loss   dfl_loss  Instances       Size\n"
          ]
        },
        {
          "output_type": "stream",
          "name": "stderr",
          "text": [
            "      22/50      2.14G     0.5696     0.5754      1.045         33        640: 100%|██████████| 109/109 [00:16<00:00,  6.47it/s]\n",
            "                 Class     Images  Instances      Box(P          R      mAP50  mAP50-95): 100%|██████████| 12/12 [00:02<00:00,  5.60it/s]"
          ]
        },
        {
          "output_type": "stream",
          "name": "stdout",
          "text": [
            "                   all        357        266      0.923      0.898      0.954       0.83\n"
          ]
        },
        {
          "output_type": "stream",
          "name": "stderr",
          "text": [
            "\n"
          ]
        },
        {
          "output_type": "stream",
          "name": "stdout",
          "text": [
            "\n",
            "      Epoch    GPU_mem   box_loss   cls_loss   dfl_loss  Instances       Size\n"
          ]
        },
        {
          "output_type": "stream",
          "name": "stderr",
          "text": [
            "      23/50      2.14G     0.5526     0.5597      1.038         30        640: 100%|██████████| 109/109 [00:16<00:00,  6.46it/s]\n",
            "                 Class     Images  Instances      Box(P          R      mAP50  mAP50-95): 100%|██████████| 12/12 [00:02<00:00,  5.85it/s]"
          ]
        },
        {
          "output_type": "stream",
          "name": "stdout",
          "text": [
            "                   all        357        266      0.927      0.906      0.948      0.833\n"
          ]
        },
        {
          "output_type": "stream",
          "name": "stderr",
          "text": [
            "\n"
          ]
        },
        {
          "output_type": "stream",
          "name": "stdout",
          "text": [
            "\n",
            "      Epoch    GPU_mem   box_loss   cls_loss   dfl_loss  Instances       Size\n"
          ]
        },
        {
          "output_type": "stream",
          "name": "stderr",
          "text": [
            "      24/50      2.14G     0.5381      0.542      1.029         26        640: 100%|██████████| 109/109 [00:16<00:00,  6.45it/s]\n",
            "                 Class     Images  Instances      Box(P          R      mAP50  mAP50-95): 100%|██████████| 12/12 [00:01<00:00,  6.10it/s]"
          ]
        },
        {
          "output_type": "stream",
          "name": "stdout",
          "text": [
            "                   all        357        266      0.953      0.921      0.961       0.87\n"
          ]
        },
        {
          "output_type": "stream",
          "name": "stderr",
          "text": [
            "\n"
          ]
        },
        {
          "output_type": "stream",
          "name": "stdout",
          "text": [
            "\n",
            "      Epoch    GPU_mem   box_loss   cls_loss   dfl_loss  Instances       Size\n"
          ]
        },
        {
          "output_type": "stream",
          "name": "stderr",
          "text": [
            "      25/50      2.13G     0.5284     0.5212      1.027         26        640: 100%|██████████| 109/109 [00:16<00:00,  6.45it/s]\n",
            "                 Class     Images  Instances      Box(P          R      mAP50  mAP50-95): 100%|██████████| 12/12 [00:02<00:00,  5.98it/s]"
          ]
        },
        {
          "output_type": "stream",
          "name": "stdout",
          "text": [
            "                   all        357        266      0.961      0.915      0.966       0.86\n"
          ]
        },
        {
          "output_type": "stream",
          "name": "stderr",
          "text": [
            "\n"
          ]
        },
        {
          "output_type": "stream",
          "name": "stdout",
          "text": [
            "\n",
            "      Epoch    GPU_mem   box_loss   cls_loss   dfl_loss  Instances       Size\n"
          ]
        },
        {
          "output_type": "stream",
          "name": "stderr",
          "text": [
            "      26/50      2.14G     0.5298     0.5374      1.028         33        640: 100%|██████████| 109/109 [00:16<00:00,  6.45it/s]\n",
            "                 Class     Images  Instances      Box(P          R      mAP50  mAP50-95): 100%|██████████| 12/12 [00:02<00:00,  5.95it/s]"
          ]
        },
        {
          "output_type": "stream",
          "name": "stdout",
          "text": [
            "                   all        357        266      0.911      0.927      0.966      0.859\n"
          ]
        },
        {
          "output_type": "stream",
          "name": "stderr",
          "text": [
            "\n"
          ]
        },
        {
          "output_type": "stream",
          "name": "stdout",
          "text": [
            "\n",
            "      Epoch    GPU_mem   box_loss   cls_loss   dfl_loss  Instances       Size\n"
          ]
        },
        {
          "output_type": "stream",
          "name": "stderr",
          "text": [
            "      27/50      2.14G     0.5374     0.5379      1.031         30        640: 100%|██████████| 109/109 [00:16<00:00,  6.45it/s]\n",
            "                 Class     Images  Instances      Box(P          R      mAP50  mAP50-95): 100%|██████████| 12/12 [00:02<00:00,  5.84it/s]"
          ]
        },
        {
          "output_type": "stream",
          "name": "stdout",
          "text": [
            "                   all        357        266       0.94      0.947       0.97      0.853\n"
          ]
        },
        {
          "output_type": "stream",
          "name": "stderr",
          "text": [
            "\n"
          ]
        },
        {
          "output_type": "stream",
          "name": "stdout",
          "text": [
            "\n",
            "      Epoch    GPU_mem   box_loss   cls_loss   dfl_loss  Instances       Size\n"
          ]
        },
        {
          "output_type": "stream",
          "name": "stderr",
          "text": [
            "      28/50      2.14G     0.5126     0.5105      1.021         30        640: 100%|██████████| 109/109 [00:17<00:00,  6.41it/s]\n",
            "                 Class     Images  Instances      Box(P          R      mAP50  mAP50-95): 100%|██████████| 12/12 [00:02<00:00,  5.43it/s]"
          ]
        },
        {
          "output_type": "stream",
          "name": "stdout",
          "text": [
            "                   all        357        266      0.935      0.919      0.965       0.87\n"
          ]
        },
        {
          "output_type": "stream",
          "name": "stderr",
          "text": [
            "\n"
          ]
        },
        {
          "output_type": "stream",
          "name": "stdout",
          "text": [
            "\n",
            "      Epoch    GPU_mem   box_loss   cls_loss   dfl_loss  Instances       Size\n"
          ]
        },
        {
          "output_type": "stream",
          "name": "stderr",
          "text": [
            "      29/50      2.14G     0.5209     0.5042      1.025         33        640: 100%|██████████| 109/109 [00:16<00:00,  6.46it/s]\n",
            "                 Class     Images  Instances      Box(P          R      mAP50  mAP50-95): 100%|██████████| 12/12 [00:02<00:00,  5.73it/s]"
          ]
        },
        {
          "output_type": "stream",
          "name": "stdout",
          "text": [
            "                   all        357        266       0.93      0.949      0.972      0.864\n"
          ]
        },
        {
          "output_type": "stream",
          "name": "stderr",
          "text": [
            "\n"
          ]
        },
        {
          "output_type": "stream",
          "name": "stdout",
          "text": [
            "\n",
            "      Epoch    GPU_mem   box_loss   cls_loss   dfl_loss  Instances       Size\n"
          ]
        },
        {
          "output_type": "stream",
          "name": "stderr",
          "text": [
            "      30/50      2.14G     0.5146     0.4914      1.016         21        640: 100%|██████████| 109/109 [00:16<00:00,  6.46it/s]\n",
            "                 Class     Images  Instances      Box(P          R      mAP50  mAP50-95): 100%|██████████| 12/12 [00:02<00:00,  5.94it/s]"
          ]
        },
        {
          "output_type": "stream",
          "name": "stdout",
          "text": [
            "                   all        357        266      0.941      0.921      0.962      0.859\n"
          ]
        },
        {
          "output_type": "stream",
          "name": "stderr",
          "text": [
            "\n"
          ]
        },
        {
          "output_type": "stream",
          "name": "stdout",
          "text": [
            "\n",
            "      Epoch    GPU_mem   box_loss   cls_loss   dfl_loss  Instances       Size\n"
          ]
        },
        {
          "output_type": "stream",
          "name": "stderr",
          "text": [
            "      31/50      2.14G      0.493     0.4802      1.004         18        640: 100%|██████████| 109/109 [00:16<00:00,  6.45it/s]\n",
            "                 Class     Images  Instances      Box(P          R      mAP50  mAP50-95): 100%|██████████| 12/12 [00:02<00:00,  5.85it/s]"
          ]
        },
        {
          "output_type": "stream",
          "name": "stdout",
          "text": [
            "                   all        357        266      0.936      0.933       0.96      0.877\n"
          ]
        },
        {
          "output_type": "stream",
          "name": "stderr",
          "text": [
            "\n"
          ]
        },
        {
          "output_type": "stream",
          "name": "stdout",
          "text": [
            "\n",
            "      Epoch    GPU_mem   box_loss   cls_loss   dfl_loss  Instances       Size\n"
          ]
        },
        {
          "output_type": "stream",
          "name": "stderr",
          "text": [
            "      32/50      2.14G     0.4986     0.4676      1.007         27        640: 100%|██████████| 109/109 [00:16<00:00,  6.45it/s]\n",
            "                 Class     Images  Instances      Box(P          R      mAP50  mAP50-95): 100%|██████████| 12/12 [00:01<00:00,  6.10it/s]"
          ]
        },
        {
          "output_type": "stream",
          "name": "stdout",
          "text": [
            "                   all        357        266      0.943       0.94      0.974       0.88\n"
          ]
        },
        {
          "output_type": "stream",
          "name": "stderr",
          "text": [
            "\n"
          ]
        },
        {
          "output_type": "stream",
          "name": "stdout",
          "text": [
            "\n",
            "      Epoch    GPU_mem   box_loss   cls_loss   dfl_loss  Instances       Size\n"
          ]
        },
        {
          "output_type": "stream",
          "name": "stderr",
          "text": [
            "      33/50      2.14G     0.4974     0.4765      1.012         28        640: 100%|██████████| 109/109 [00:16<00:00,  6.46it/s]\n",
            "                 Class     Images  Instances      Box(P          R      mAP50  mAP50-95): 100%|██████████| 12/12 [00:01<00:00,  6.03it/s]"
          ]
        },
        {
          "output_type": "stream",
          "name": "stdout",
          "text": [
            "                   all        357        266       0.95      0.934       0.97      0.875\n"
          ]
        },
        {
          "output_type": "stream",
          "name": "stderr",
          "text": [
            "\n"
          ]
        },
        {
          "output_type": "stream",
          "name": "stdout",
          "text": [
            "\n",
            "      Epoch    GPU_mem   box_loss   cls_loss   dfl_loss  Instances       Size\n"
          ]
        },
        {
          "output_type": "stream",
          "name": "stderr",
          "text": [
            "      34/50      2.13G      0.486     0.4561      0.995         25        640: 100%|██████████| 109/109 [00:16<00:00,  6.44it/s]\n",
            "                 Class     Images  Instances      Box(P          R      mAP50  mAP50-95): 100%|██████████| 12/12 [00:02<00:00,  5.71it/s]"
          ]
        },
        {
          "output_type": "stream",
          "name": "stdout",
          "text": [
            "                   all        357        266      0.949      0.936      0.973      0.885\n"
          ]
        },
        {
          "output_type": "stream",
          "name": "stderr",
          "text": [
            "\n"
          ]
        },
        {
          "output_type": "stream",
          "name": "stdout",
          "text": [
            "\n",
            "      Epoch    GPU_mem   box_loss   cls_loss   dfl_loss  Instances       Size\n"
          ]
        },
        {
          "output_type": "stream",
          "name": "stderr",
          "text": [
            "      35/50      2.13G     0.4871     0.4567      1.006         26        640: 100%|██████████| 109/109 [00:16<00:00,  6.43it/s]\n",
            "                 Class     Images  Instances      Box(P          R      mAP50  mAP50-95): 100%|██████████| 12/12 [00:02<00:00,  5.79it/s]"
          ]
        },
        {
          "output_type": "stream",
          "name": "stdout",
          "text": [
            "                   all        357        266      0.952      0.921      0.975      0.885\n"
          ]
        },
        {
          "output_type": "stream",
          "name": "stderr",
          "text": [
            "\n"
          ]
        },
        {
          "output_type": "stream",
          "name": "stdout",
          "text": [
            "\n",
            "      Epoch    GPU_mem   box_loss   cls_loss   dfl_loss  Instances       Size\n"
          ]
        },
        {
          "output_type": "stream",
          "name": "stderr",
          "text": [
            "      36/50      2.14G      0.465     0.4476     0.9901         24        640: 100%|██████████| 109/109 [00:16<00:00,  6.44it/s]\n",
            "                 Class     Images  Instances      Box(P          R      mAP50  mAP50-95): 100%|██████████| 12/12 [00:01<00:00,  6.09it/s]"
          ]
        },
        {
          "output_type": "stream",
          "name": "stdout",
          "text": [
            "                   all        357        266      0.946      0.929      0.973      0.897\n"
          ]
        },
        {
          "output_type": "stream",
          "name": "stderr",
          "text": [
            "\n"
          ]
        },
        {
          "output_type": "stream",
          "name": "stdout",
          "text": [
            "\n",
            "      Epoch    GPU_mem   box_loss   cls_loss   dfl_loss  Instances       Size\n"
          ]
        },
        {
          "output_type": "stream",
          "name": "stderr",
          "text": [
            "      37/50      2.13G     0.4627     0.4324     0.9954         35        640: 100%|██████████| 109/109 [00:17<00:00,  6.41it/s]\n",
            "                 Class     Images  Instances      Box(P          R      mAP50  mAP50-95): 100%|██████████| 12/12 [00:02<00:00,  5.90it/s]"
          ]
        },
        {
          "output_type": "stream",
          "name": "stdout",
          "text": [
            "                   all        357        266      0.961      0.935      0.969      0.878\n"
          ]
        },
        {
          "output_type": "stream",
          "name": "stderr",
          "text": [
            "\n"
          ]
        },
        {
          "output_type": "stream",
          "name": "stdout",
          "text": [
            "\n",
            "      Epoch    GPU_mem   box_loss   cls_loss   dfl_loss  Instances       Size\n"
          ]
        },
        {
          "output_type": "stream",
          "name": "stderr",
          "text": [
            "      38/50      2.14G     0.4664     0.4367     0.9841         29        640: 100%|██████████| 109/109 [00:16<00:00,  6.45it/s]\n",
            "                 Class     Images  Instances      Box(P          R      mAP50  mAP50-95): 100%|██████████| 12/12 [00:02<00:00,  5.98it/s]"
          ]
        },
        {
          "output_type": "stream",
          "name": "stdout",
          "text": [
            "                   all        357        266      0.961      0.928      0.975      0.886\n"
          ]
        },
        {
          "output_type": "stream",
          "name": "stderr",
          "text": [
            "\n"
          ]
        },
        {
          "output_type": "stream",
          "name": "stdout",
          "text": [
            "\n",
            "      Epoch    GPU_mem   box_loss   cls_loss   dfl_loss  Instances       Size\n"
          ]
        },
        {
          "output_type": "stream",
          "name": "stderr",
          "text": [
            "      39/50      2.14G     0.4571     0.4159     0.9889         32        640: 100%|██████████| 109/109 [00:16<00:00,  6.45it/s]\n",
            "                 Class     Images  Instances      Box(P          R      mAP50  mAP50-95): 100%|██████████| 12/12 [00:02<00:00,  5.90it/s]"
          ]
        },
        {
          "output_type": "stream",
          "name": "stdout",
          "text": [
            "                   all        357        266      0.972       0.91       0.98      0.884\n"
          ]
        },
        {
          "output_type": "stream",
          "name": "stderr",
          "text": [
            "\n"
          ]
        },
        {
          "output_type": "stream",
          "name": "stdout",
          "text": [
            "\n",
            "      Epoch    GPU_mem   box_loss   cls_loss   dfl_loss  Instances       Size\n"
          ]
        },
        {
          "output_type": "stream",
          "name": "stderr",
          "text": [
            "      40/50      2.14G     0.4539     0.4163     0.9835         23        640: 100%|██████████| 109/109 [00:16<00:00,  6.46it/s]\n",
            "                 Class     Images  Instances      Box(P          R      mAP50  mAP50-95): 100%|██████████| 12/12 [00:02<00:00,  5.71it/s]"
          ]
        },
        {
          "output_type": "stream",
          "name": "stdout",
          "text": [
            "                   all        357        266      0.968      0.922      0.973       0.89\n"
          ]
        },
        {
          "output_type": "stream",
          "name": "stderr",
          "text": [
            "\n"
          ]
        },
        {
          "output_type": "stream",
          "name": "stdout",
          "text": [
            "Closing dataloader mosaic\n",
            "\u001b[34m\u001b[1malbumentations: \u001b[0mBlur(p=0.01, blur_limit=(3, 7)), MedianBlur(p=0.01, blur_limit=(3, 7)), ToGray(p=0.01, num_output_channels=3, method='weighted_average'), CLAHE(p=0.01, clip_limit=(1, 4.0), tile_grid_size=(8, 8))\n"
          ]
        },
        {
          "output_type": "stream",
          "name": "stderr",
          "text": [
            "/usr/lib/python3.10/multiprocessing/popen_fork.py:66: RuntimeWarning: os.fork() was called. os.fork() is incompatible with multithreaded code, and JAX is multithreaded, so this will likely lead to a deadlock.\n",
            "  self.pid = os.fork()\n"
          ]
        },
        {
          "output_type": "stream",
          "name": "stdout",
          "text": [
            "\n",
            "      Epoch    GPU_mem   box_loss   cls_loss   dfl_loss  Instances       Size\n"
          ]
        },
        {
          "output_type": "stream",
          "name": "stderr",
          "text": [
            "      41/50      2.14G     0.4014     0.3524      0.974         12        640: 100%|██████████| 109/109 [00:18<00:00,  5.96it/s]\n",
            "                 Class     Images  Instances      Box(P          R      mAP50  mAP50-95): 100%|██████████| 12/12 [00:02<00:00,  5.67it/s]"
          ]
        },
        {
          "output_type": "stream",
          "name": "stdout",
          "text": [
            "                   all        357        266      0.983      0.921      0.978      0.894\n"
          ]
        },
        {
          "output_type": "stream",
          "name": "stderr",
          "text": [
            "\n"
          ]
        },
        {
          "output_type": "stream",
          "name": "stdout",
          "text": [
            "\n",
            "      Epoch    GPU_mem   box_loss   cls_loss   dfl_loss  Instances       Size\n"
          ]
        },
        {
          "output_type": "stream",
          "name": "stderr",
          "text": [
            "      42/50      2.14G     0.3836     0.3323     0.9579         10        640: 100%|██████████| 109/109 [00:16<00:00,  6.53it/s]\n",
            "                 Class     Images  Instances      Box(P          R      mAP50  mAP50-95): 100%|██████████| 12/12 [00:01<00:00,  6.05it/s]"
          ]
        },
        {
          "output_type": "stream",
          "name": "stdout",
          "text": [
            "                   all        357        266      0.961      0.938      0.979      0.892\n"
          ]
        },
        {
          "output_type": "stream",
          "name": "stderr",
          "text": [
            "\n"
          ]
        },
        {
          "output_type": "stream",
          "name": "stdout",
          "text": [
            "\n",
            "      Epoch    GPU_mem   box_loss   cls_loss   dfl_loss  Instances       Size\n"
          ]
        },
        {
          "output_type": "stream",
          "name": "stderr",
          "text": [
            "      43/50      2.14G       0.37     0.3167     0.9452         10        640: 100%|██████████| 109/109 [00:16<00:00,  6.55it/s]\n",
            "                 Class     Images  Instances      Box(P          R      mAP50  mAP50-95): 100%|██████████| 12/12 [00:01<00:00,  6.11it/s]"
          ]
        },
        {
          "output_type": "stream",
          "name": "stdout",
          "text": [
            "                   all        357        266      0.965      0.939      0.979      0.891\n"
          ]
        },
        {
          "output_type": "stream",
          "name": "stderr",
          "text": [
            "\n"
          ]
        },
        {
          "output_type": "stream",
          "name": "stdout",
          "text": [
            "\n",
            "      Epoch    GPU_mem   box_loss   cls_loss   dfl_loss  Instances       Size\n"
          ]
        },
        {
          "output_type": "stream",
          "name": "stderr",
          "text": [
            "      44/50      2.14G      0.359     0.3076     0.9346         14        640: 100%|██████████| 109/109 [00:16<00:00,  6.55it/s]\n",
            "                 Class     Images  Instances      Box(P          R      mAP50  mAP50-95): 100%|██████████| 12/12 [00:01<00:00,  6.07it/s]"
          ]
        },
        {
          "output_type": "stream",
          "name": "stdout",
          "text": [
            "                   all        357        266      0.981      0.925      0.981      0.898\n"
          ]
        },
        {
          "output_type": "stream",
          "name": "stderr",
          "text": [
            "\n"
          ]
        },
        {
          "output_type": "stream",
          "name": "stdout",
          "text": [
            "\n",
            "      Epoch    GPU_mem   box_loss   cls_loss   dfl_loss  Instances       Size\n"
          ]
        },
        {
          "output_type": "stream",
          "name": "stderr",
          "text": [
            "      45/50      2.14G     0.3607      0.298     0.9323          9        640: 100%|██████████| 109/109 [00:16<00:00,  6.48it/s]\n",
            "                 Class     Images  Instances      Box(P          R      mAP50  mAP50-95): 100%|██████████| 12/12 [00:02<00:00,  6.00it/s]"
          ]
        },
        {
          "output_type": "stream",
          "name": "stdout",
          "text": [
            "                   all        357        266      0.981      0.932      0.983      0.899\n"
          ]
        },
        {
          "output_type": "stream",
          "name": "stderr",
          "text": [
            "\n"
          ]
        },
        {
          "output_type": "stream",
          "name": "stdout",
          "text": [
            "\n",
            "      Epoch    GPU_mem   box_loss   cls_loss   dfl_loss  Instances       Size\n"
          ]
        },
        {
          "output_type": "stream",
          "name": "stderr",
          "text": [
            "      46/50      2.14G     0.3493     0.2885     0.9324         11        640: 100%|██████████| 109/109 [00:16<00:00,  6.53it/s]\n",
            "                 Class     Images  Instances      Box(P          R      mAP50  mAP50-95): 100%|██████████| 12/12 [00:01<00:00,  6.16it/s]"
          ]
        },
        {
          "output_type": "stream",
          "name": "stdout",
          "text": [
            "                   all        357        266      0.945      0.959      0.981      0.895\n"
          ]
        },
        {
          "output_type": "stream",
          "name": "stderr",
          "text": [
            "\n"
          ]
        },
        {
          "output_type": "stream",
          "name": "stdout",
          "text": [
            "\n",
            "      Epoch    GPU_mem   box_loss   cls_loss   dfl_loss  Instances       Size\n"
          ]
        },
        {
          "output_type": "stream",
          "name": "stderr",
          "text": [
            "      47/50      2.14G     0.3393     0.2735     0.9268         11        640: 100%|██████████| 109/109 [00:16<00:00,  6.56it/s]\n",
            "                 Class     Images  Instances      Box(P          R      mAP50  mAP50-95): 100%|██████████| 12/12 [00:02<00:00,  5.85it/s]"
          ]
        },
        {
          "output_type": "stream",
          "name": "stdout",
          "text": [
            "                   all        357        266      0.984      0.929      0.981      0.898\n"
          ]
        },
        {
          "output_type": "stream",
          "name": "stderr",
          "text": [
            "\n"
          ]
        },
        {
          "output_type": "stream",
          "name": "stdout",
          "text": [
            "\n",
            "      Epoch    GPU_mem   box_loss   cls_loss   dfl_loss  Instances       Size\n"
          ]
        },
        {
          "output_type": "stream",
          "name": "stderr",
          "text": [
            "      48/50      2.14G     0.3404     0.2638     0.9204         11        640: 100%|██████████| 109/109 [00:16<00:00,  6.56it/s]\n",
            "                 Class     Images  Instances      Box(P          R      mAP50  mAP50-95): 100%|██████████| 12/12 [00:02<00:00,  5.71it/s]"
          ]
        },
        {
          "output_type": "stream",
          "name": "stdout",
          "text": [
            "                   all        357        266       0.98       0.94      0.978      0.898\n"
          ]
        },
        {
          "output_type": "stream",
          "name": "stderr",
          "text": [
            "\n"
          ]
        },
        {
          "output_type": "stream",
          "name": "stdout",
          "text": [
            "\n",
            "      Epoch    GPU_mem   box_loss   cls_loss   dfl_loss  Instances       Size\n"
          ]
        },
        {
          "output_type": "stream",
          "name": "stderr",
          "text": [
            "      49/50      2.14G     0.3395     0.2605      0.921          9        640: 100%|██████████| 109/109 [00:16<00:00,  6.58it/s]\n",
            "                 Class     Images  Instances      Box(P          R      mAP50  mAP50-95): 100%|██████████| 12/12 [00:02<00:00,  5.91it/s]"
          ]
        },
        {
          "output_type": "stream",
          "name": "stdout",
          "text": [
            "                   all        357        266      0.975      0.944      0.978      0.902\n"
          ]
        },
        {
          "output_type": "stream",
          "name": "stderr",
          "text": [
            "\n"
          ]
        },
        {
          "output_type": "stream",
          "name": "stdout",
          "text": [
            "\n",
            "      Epoch    GPU_mem   box_loss   cls_loss   dfl_loss  Instances       Size\n"
          ]
        },
        {
          "output_type": "stream",
          "name": "stderr",
          "text": [
            "      50/50      2.14G      0.331     0.2577     0.9199         13        640: 100%|██████████| 109/109 [00:16<00:00,  6.57it/s]\n",
            "                 Class     Images  Instances      Box(P          R      mAP50  mAP50-95): 100%|██████████| 12/12 [00:02<00:00,  6.00it/s]"
          ]
        },
        {
          "output_type": "stream",
          "name": "stdout",
          "text": [
            "                   all        357        266      0.988      0.936      0.981      0.907\n"
          ]
        },
        {
          "output_type": "stream",
          "name": "stderr",
          "text": [
            "\n"
          ]
        },
        {
          "output_type": "stream",
          "name": "stdout",
          "text": [
            "\n",
            "50 epochs completed in 0.291 hours.\n",
            "Optimizer stripped from runs/detect/train/weights/last.pt, 6.3MB\n",
            "Optimizer stripped from runs/detect/train/weights/best.pt, 6.3MB\n",
            "\n",
            "Validating runs/detect/train/weights/best.pt...\n",
            "Ultralytics 8.3.27 🚀 Python-3.10.12 torch-2.4.1+cu121 CUDA:0 (Tesla T4, 15102MiB)\n",
            "Model summary (fused): 168 layers, 3,005,843 parameters, 0 gradients, 8.1 GFLOPs\n"
          ]
        },
        {
          "output_type": "stream",
          "name": "stderr",
          "text": [
            "                 Class     Images  Instances      Box(P          R      mAP50  mAP50-95): 100%|██████████| 12/12 [00:02<00:00,  4.49it/s]\n"
          ]
        },
        {
          "output_type": "stream",
          "name": "stdout",
          "text": [
            "                   all        357        266      0.988      0.936      0.981      0.908\n",
            "Speed: 0.2ms preprocess, 2.0ms inference, 0.0ms loss, 1.8ms postprocess per image\n",
            "Results saved to \u001b[1mruns/detect/train\u001b[0m\n"
          ]
        },
        {
          "output_type": "execute_result",
          "data": {
            "text/plain": [
              "ultralytics.utils.metrics.DetMetrics object with attributes:\n",
              "\n",
              "ap_class_index: array([0])\n",
              "box: ultralytics.utils.metrics.Metric object\n",
              "confusion_matrix: <ultralytics.utils.metrics.ConfusionMatrix object at 0x7ec038a00b80>\n",
              "curves: ['Precision-Recall(B)', 'F1-Confidence(B)', 'Precision-Confidence(B)', 'Recall-Confidence(B)']\n",
              "curves_results: [[array([          0,    0.001001,    0.002002,    0.003003,    0.004004,    0.005005,    0.006006,    0.007007,    0.008008,    0.009009,     0.01001,    0.011011,    0.012012,    0.013013,    0.014014,    0.015015,    0.016016,    0.017017,    0.018018,    0.019019,     0.02002,    0.021021,    0.022022,    0.023023,\n",
              "          0.024024,    0.025025,    0.026026,    0.027027,    0.028028,    0.029029,     0.03003,    0.031031,    0.032032,    0.033033,    0.034034,    0.035035,    0.036036,    0.037037,    0.038038,    0.039039,     0.04004,    0.041041,    0.042042,    0.043043,    0.044044,    0.045045,    0.046046,    0.047047,\n",
              "          0.048048,    0.049049,     0.05005,    0.051051,    0.052052,    0.053053,    0.054054,    0.055055,    0.056056,    0.057057,    0.058058,    0.059059,     0.06006,    0.061061,    0.062062,    0.063063,    0.064064,    0.065065,    0.066066,    0.067067,    0.068068,    0.069069,     0.07007,    0.071071,\n",
              "          0.072072,    0.073073,    0.074074,    0.075075,    0.076076,    0.077077,    0.078078,    0.079079,     0.08008,    0.081081,    0.082082,    0.083083,    0.084084,    0.085085,    0.086086,    0.087087,    0.088088,    0.089089,     0.09009,    0.091091,    0.092092,    0.093093,    0.094094,    0.095095,\n",
              "          0.096096,    0.097097,    0.098098,    0.099099,      0.1001,      0.1011,      0.1021,      0.1031,      0.1041,     0.10511,     0.10611,     0.10711,     0.10811,     0.10911,     0.11011,     0.11111,     0.11211,     0.11311,     0.11411,     0.11512,     0.11612,     0.11712,     0.11812,     0.11912,\n",
              "           0.12012,     0.12112,     0.12212,     0.12312,     0.12412,     0.12513,     0.12613,     0.12713,     0.12813,     0.12913,     0.13013,     0.13113,     0.13213,     0.13313,     0.13413,     0.13514,     0.13614,     0.13714,     0.13814,     0.13914,     0.14014,     0.14114,     0.14214,     0.14314,\n",
              "           0.14414,     0.14515,     0.14615,     0.14715,     0.14815,     0.14915,     0.15015,     0.15115,     0.15215,     0.15315,     0.15415,     0.15516,     0.15616,     0.15716,     0.15816,     0.15916,     0.16016,     0.16116,     0.16216,     0.16316,     0.16416,     0.16517,     0.16617,     0.16717,\n",
              "           0.16817,     0.16917,     0.17017,     0.17117,     0.17217,     0.17317,     0.17417,     0.17518,     0.17618,     0.17718,     0.17818,     0.17918,     0.18018,     0.18118,     0.18218,     0.18318,     0.18418,     0.18519,     0.18619,     0.18719,     0.18819,     0.18919,     0.19019,     0.19119,\n",
              "           0.19219,     0.19319,     0.19419,      0.1952,      0.1962,      0.1972,      0.1982,      0.1992,      0.2002,      0.2012,      0.2022,      0.2032,      0.2042,     0.20521,     0.20621,     0.20721,     0.20821,     0.20921,     0.21021,     0.21121,     0.21221,     0.21321,     0.21421,     0.21522,\n",
              "           0.21622,     0.21722,     0.21822,     0.21922,     0.22022,     0.22122,     0.22222,     0.22322,     0.22422,     0.22523,     0.22623,     0.22723,     0.22823,     0.22923,     0.23023,     0.23123,     0.23223,     0.23323,     0.23423,     0.23524,     0.23624,     0.23724,     0.23824,     0.23924,\n",
              "           0.24024,     0.24124,     0.24224,     0.24324,     0.24424,     0.24525,     0.24625,     0.24725,     0.24825,     0.24925,     0.25025,     0.25125,     0.25225,     0.25325,     0.25425,     0.25526,     0.25626,     0.25726,     0.25826,     0.25926,     0.26026,     0.26126,     0.26226,     0.26326,\n",
              "           0.26426,     0.26527,     0.26627,     0.26727,     0.26827,     0.26927,     0.27027,     0.27127,     0.27227,     0.27327,     0.27427,     0.27528,     0.27628,     0.27728,     0.27828,     0.27928,     0.28028,     0.28128,     0.28228,     0.28328,     0.28428,     0.28529,     0.28629,     0.28729,\n",
              "           0.28829,     0.28929,     0.29029,     0.29129,     0.29229,     0.29329,     0.29429,      0.2953,      0.2963,      0.2973,      0.2983,      0.2993,      0.3003,      0.3013,      0.3023,      0.3033,      0.3043,     0.30531,     0.30631,     0.30731,     0.30831,     0.30931,     0.31031,     0.31131,\n",
              "           0.31231,     0.31331,     0.31431,     0.31532,     0.31632,     0.31732,     0.31832,     0.31932,     0.32032,     0.32132,     0.32232,     0.32332,     0.32432,     0.32533,     0.32633,     0.32733,     0.32833,     0.32933,     0.33033,     0.33133,     0.33233,     0.33333,     0.33433,     0.33534,\n",
              "           0.33634,     0.33734,     0.33834,     0.33934,     0.34034,     0.34134,     0.34234,     0.34334,     0.34434,     0.34535,     0.34635,     0.34735,     0.34835,     0.34935,     0.35035,     0.35135,     0.35235,     0.35335,     0.35435,     0.35536,     0.35636,     0.35736,     0.35836,     0.35936,\n",
              "           0.36036,     0.36136,     0.36236,     0.36336,     0.36436,     0.36537,     0.36637,     0.36737,     0.36837,     0.36937,     0.37037,     0.37137,     0.37237,     0.37337,     0.37437,     0.37538,     0.37638,     0.37738,     0.37838,     0.37938,     0.38038,     0.38138,     0.38238,     0.38338,\n",
              "           0.38438,     0.38539,     0.38639,     0.38739,     0.38839,     0.38939,     0.39039,     0.39139,     0.39239,     0.39339,     0.39439,      0.3954,      0.3964,      0.3974,      0.3984,      0.3994,      0.4004,      0.4014,      0.4024,      0.4034,      0.4044,     0.40541,     0.40641,     0.40741,\n",
              "           0.40841,     0.40941,     0.41041,     0.41141,     0.41241,     0.41341,     0.41441,     0.41542,     0.41642,     0.41742,     0.41842,     0.41942,     0.42042,     0.42142,     0.42242,     0.42342,     0.42442,     0.42543,     0.42643,     0.42743,     0.42843,     0.42943,     0.43043,     0.43143,\n",
              "           0.43243,     0.43343,     0.43443,     0.43544,     0.43644,     0.43744,     0.43844,     0.43944,     0.44044,     0.44144,     0.44244,     0.44344,     0.44444,     0.44545,     0.44645,     0.44745,     0.44845,     0.44945,     0.45045,     0.45145,     0.45245,     0.45345,     0.45445,     0.45546,\n",
              "           0.45646,     0.45746,     0.45846,     0.45946,     0.46046,     0.46146,     0.46246,     0.46346,     0.46446,     0.46547,     0.46647,     0.46747,     0.46847,     0.46947,     0.47047,     0.47147,     0.47247,     0.47347,     0.47447,     0.47548,     0.47648,     0.47748,     0.47848,     0.47948,\n",
              "           0.48048,     0.48148,     0.48248,     0.48348,     0.48448,     0.48549,     0.48649,     0.48749,     0.48849,     0.48949,     0.49049,     0.49149,     0.49249,     0.49349,     0.49449,      0.4955,      0.4965,      0.4975,      0.4985,      0.4995,      0.5005,      0.5015,      0.5025,      0.5035,\n",
              "            0.5045,     0.50551,     0.50651,     0.50751,     0.50851,     0.50951,     0.51051,     0.51151,     0.51251,     0.51351,     0.51451,     0.51552,     0.51652,     0.51752,     0.51852,     0.51952,     0.52052,     0.52152,     0.52252,     0.52352,     0.52452,     0.52553,     0.52653,     0.52753,\n",
              "           0.52853,     0.52953,     0.53053,     0.53153,     0.53253,     0.53353,     0.53453,     0.53554,     0.53654,     0.53754,     0.53854,     0.53954,     0.54054,     0.54154,     0.54254,     0.54354,     0.54454,     0.54555,     0.54655,     0.54755,     0.54855,     0.54955,     0.55055,     0.55155,\n",
              "           0.55255,     0.55355,     0.55455,     0.55556,     0.55656,     0.55756,     0.55856,     0.55956,     0.56056,     0.56156,     0.56256,     0.56356,     0.56456,     0.56557,     0.56657,     0.56757,     0.56857,     0.56957,     0.57057,     0.57157,     0.57257,     0.57357,     0.57457,     0.57558,\n",
              "           0.57658,     0.57758,     0.57858,     0.57958,     0.58058,     0.58158,     0.58258,     0.58358,     0.58458,     0.58559,     0.58659,     0.58759,     0.58859,     0.58959,     0.59059,     0.59159,     0.59259,     0.59359,     0.59459,      0.5956,      0.5966,      0.5976,      0.5986,      0.5996,\n",
              "            0.6006,      0.6016,      0.6026,      0.6036,      0.6046,     0.60561,     0.60661,     0.60761,     0.60861,     0.60961,     0.61061,     0.61161,     0.61261,     0.61361,     0.61461,     0.61562,     0.61662,     0.61762,     0.61862,     0.61962,     0.62062,     0.62162,     0.62262,     0.62362,\n",
              "           0.62462,     0.62563,     0.62663,     0.62763,     0.62863,     0.62963,     0.63063,     0.63163,     0.63263,     0.63363,     0.63463,     0.63564,     0.63664,     0.63764,     0.63864,     0.63964,     0.64064,     0.64164,     0.64264,     0.64364,     0.64464,     0.64565,     0.64665,     0.64765,\n",
              "           0.64865,     0.64965,     0.65065,     0.65165,     0.65265,     0.65365,     0.65465,     0.65566,     0.65666,     0.65766,     0.65866,     0.65966,     0.66066,     0.66166,     0.66266,     0.66366,     0.66466,     0.66567,     0.66667,     0.66767,     0.66867,     0.66967,     0.67067,     0.67167,\n",
              "           0.67267,     0.67367,     0.67467,     0.67568,     0.67668,     0.67768,     0.67868,     0.67968,     0.68068,     0.68168,     0.68268,     0.68368,     0.68468,     0.68569,     0.68669,     0.68769,     0.68869,     0.68969,     0.69069,     0.69169,     0.69269,     0.69369,     0.69469,      0.6957,\n",
              "            0.6967,      0.6977,      0.6987,      0.6997,      0.7007,      0.7017,      0.7027,      0.7037,      0.7047,     0.70571,     0.70671,     0.70771,     0.70871,     0.70971,     0.71071,     0.71171,     0.71271,     0.71371,     0.71471,     0.71572,     0.71672,     0.71772,     0.71872,     0.71972,\n",
              "           0.72072,     0.72172,     0.72272,     0.72372,     0.72472,     0.72573,     0.72673,     0.72773,     0.72873,     0.72973,     0.73073,     0.73173,     0.73273,     0.73373,     0.73473,     0.73574,     0.73674,     0.73774,     0.73874,     0.73974,     0.74074,     0.74174,     0.74274,     0.74374,\n",
              "           0.74474,     0.74575,     0.74675,     0.74775,     0.74875,     0.74975,     0.75075,     0.75175,     0.75275,     0.75375,     0.75475,     0.75576,     0.75676,     0.75776,     0.75876,     0.75976,     0.76076,     0.76176,     0.76276,     0.76376,     0.76476,     0.76577,     0.76677,     0.76777,\n",
              "           0.76877,     0.76977,     0.77077,     0.77177,     0.77277,     0.77377,     0.77477,     0.77578,     0.77678,     0.77778,     0.77878,     0.77978,     0.78078,     0.78178,     0.78278,     0.78378,     0.78478,     0.78579,     0.78679,     0.78779,     0.78879,     0.78979,     0.79079,     0.79179,\n",
              "           0.79279,     0.79379,     0.79479,      0.7958,      0.7968,      0.7978,      0.7988,      0.7998,      0.8008,      0.8018,      0.8028,      0.8038,      0.8048,     0.80581,     0.80681,     0.80781,     0.80881,     0.80981,     0.81081,     0.81181,     0.81281,     0.81381,     0.81481,     0.81582,\n",
              "           0.81682,     0.81782,     0.81882,     0.81982,     0.82082,     0.82182,     0.82282,     0.82382,     0.82482,     0.82583,     0.82683,     0.82783,     0.82883,     0.82983,     0.83083,     0.83183,     0.83283,     0.83383,     0.83483,     0.83584,     0.83684,     0.83784,     0.83884,     0.83984,\n",
              "           0.84084,     0.84184,     0.84284,     0.84384,     0.84484,     0.84585,     0.84685,     0.84785,     0.84885,     0.84985,     0.85085,     0.85185,     0.85285,     0.85385,     0.85485,     0.85586,     0.85686,     0.85786,     0.85886,     0.85986,     0.86086,     0.86186,     0.86286,     0.86386,\n",
              "           0.86486,     0.86587,     0.86687,     0.86787,     0.86887,     0.86987,     0.87087,     0.87187,     0.87287,     0.87387,     0.87487,     0.87588,     0.87688,     0.87788,     0.87888,     0.87988,     0.88088,     0.88188,     0.88288,     0.88388,     0.88488,     0.88589,     0.88689,     0.88789,\n",
              "           0.88889,     0.88989,     0.89089,     0.89189,     0.89289,     0.89389,     0.89489,      0.8959,      0.8969,      0.8979,      0.8989,      0.8999,      0.9009,      0.9019,      0.9029,      0.9039,      0.9049,     0.90591,     0.90691,     0.90791,     0.90891,     0.90991,     0.91091,     0.91191,\n",
              "           0.91291,     0.91391,     0.91491,     0.91592,     0.91692,     0.91792,     0.91892,     0.91992,     0.92092,     0.92192,     0.92292,     0.92392,     0.92492,     0.92593,     0.92693,     0.92793,     0.92893,     0.92993,     0.93093,     0.93193,     0.93293,     0.93393,     0.93493,     0.93594,\n",
              "           0.93694,     0.93794,     0.93894,     0.93994,     0.94094,     0.94194,     0.94294,     0.94394,     0.94494,     0.94595,     0.94695,     0.94795,     0.94895,     0.94995,     0.95095,     0.95195,     0.95295,     0.95395,     0.95495,     0.95596,     0.95696,     0.95796,     0.95896,     0.95996,\n",
              "           0.96096,     0.96196,     0.96296,     0.96396,     0.96496,     0.96597,     0.96697,     0.96797,     0.96897,     0.96997,     0.97097,     0.97197,     0.97297,     0.97397,     0.97497,     0.97598,     0.97698,     0.97798,     0.97898,     0.97998,     0.98098,     0.98198,     0.98298,     0.98398,\n",
              "           0.98498,     0.98599,     0.98699,     0.98799,     0.98899,     0.98999,     0.99099,     0.99199,     0.99299,     0.99399,     0.99499,       0.996,       0.997,       0.998,       0.999,           1]), array([[          1,           1,           1,           1,           1,           1,           1,           1,           1,           1,           1,           1,           1,           1,           1,           1,           1,           1,           1,           1,           1,           1,           1,\n",
              "                  1,           1,           1,           1,           1,           1,           1,           1,           1,           1,           1,           1,           1,           1,           1,           1,           1,           1,           1,           1,           1,           1,           1,\n",
              "                  1,           1,           1,           1,           1,           1,           1,           1,           1,           1,           1,           1,           1,           1,           1,           1,           1,           1,           1,           1,           1,           1,           1,\n",
              "                  1,           1,           1,           1,           1,           1,           1,           1,           1,           1,           1,           1,           1,           1,           1,           1,           1,           1,           1,           1,           1,           1,           1,\n",
              "                  1,           1,           1,           1,           1,           1,           1,           1,           1,           1,           1,           1,           1,           1,           1,           1,           1,           1,           1,           1,           1,           1,           1,\n",
              "                  1,           1,           1,           1,           1,           1,           1,           1,           1,           1,           1,           1,           1,           1,           1,           1,           1,           1,           1,           1,           1,           1,           1,\n",
              "                  1,           1,           1,           1,           1,           1,           1,           1,           1,           1,           1,           1,           1,           1,           1,           1,           1,           1,           1,           1,           1,           1,           1,\n",
              "                  1,           1,           1,           1,           1,           1,           1,           1,           1,           1,           1,           1,           1,           1,           1,           1,           1,           1,           1,           1,           1,           1,           1,\n",
              "                  1,           1,           1,           1,           1,           1,           1,           1,           1,           1,           1,           1,           1,           1,           1,           1,           1,           1,           1,           1,           1,           1,           1,\n",
              "                  1,           1,           1,           1,           1,           1,           1,           1,           1,           1,           1,           1,           1,           1,           1,           1,           1,           1,           1,           1,           1,           1,           1,\n",
              "                  1,           1,           1,           1,           1,           1,           1,           1,           1,           1,           1,           1,           1,           1,           1,           1,           1,           1,           1,           1,           1,           1,           1,\n",
              "                  1,           1,           1,           1,           1,           1,           1,           1,           1,           1,           1,           1,           1,           1,           1,           1,           1,           1,           1,           1,           1,           1,           1,\n",
              "                  1,           1,           1,           1,           1,           1,           1,           1,           1,           1,           1,           1,           1,           1,           1,           1,           1,           1,           1,           1,           1,           1,           1,\n",
              "                  1,           1,           1,           1,           1,           1,           1,           1,           1,           1,           1,           1,           1,           1,           1,           1,           1,           1,           1,           1,           1,           1,           1,\n",
              "                  1,           1,           1,           1,           1,           1,           1,           1,           1,           1,           1,           1,           1,           1,           1,           1,           1,           1,           1,           1,           1,           1,           1,\n",
              "                  1,           1,           1,           1,           1,           1,           1,           1,           1,           1,           1,           1,           1,           1,           1,           1,           1,           1,           1,           1,           1,           1,           1,\n",
              "                  1,           1,           1,           1,           1,           1,           1,           1,           1,           1,           1,           1,           1,           1,           1,           1,           1,           1,           1,           1,           1,           1,           1,\n",
              "                  1,           1,           1,           1,           1,           1,           1,           1,           1,           1,           1,           1,           1,           1,           1,           1,           1,           1,           1,           1,           1,           1,           1,\n",
              "                  1,           1,           1,           1,           1,           1,           1,           1,           1,           1,           1,           1,           1,           1,           1,           1,           1,           1,           1,           1,           1,           1,           1,\n",
              "                  1,           1,           1,           1,           1,           1,           1,           1,           1,           1,           1,           1,           1,           1,           1,           1,           1,           1,           1,           1,           1,           1,           1,\n",
              "                  1,           1,           1,           1,           1,           1,           1,           1,           1,           1,           1,           1,           1,           1,           1,           1,           1,           1,           1,           1,           1,           1,           1,\n",
              "                  1,           1,           1,           1,           1,           1,           1,           1,           1,           1,           1,           1,           1,           1,           1,           1,           1,           1,           1,           1,           1,           1,           1,\n",
              "                  1,           1,           1,           1,           1,           1,           1,           1,           1,           1,           1,           1,           1,           1,           1,           1,           1,           1,           1,           1,           1,           1,           1,\n",
              "                  1,           1,           1,           1,           1,           1,           1,           1,           1,           1,           1,           1,           1,           1,           1,           1,           1,           1,           1,           1,           1,           1,           1,\n",
              "                  1,           1,           1,           1,           1,           1,           1,           1,           1,           1,           1,           1,           1,           1,           1,           1,           1,           1,           1,           1,           1,           1,           1,\n",
              "                  1,           1,           1,           1,     0.99485,     0.99485,     0.99485,     0.99485,     0.99485,     0.99485,     0.99485,     0.99485,     0.99485,     0.99485,     0.99485,     0.99485,     0.99485,     0.99485,     0.99485,     0.99485,     0.99485,     0.99485,     0.99485,\n",
              "            0.99485,     0.99485,     0.99485,     0.99485,     0.99485,     0.99485,     0.99485,     0.99485,     0.99485,     0.99485,     0.99485,     0.99485,     0.99485,     0.99485,     0.99485,     0.99485,     0.99485,     0.99485,     0.99485,     0.99485,     0.99485,     0.99485,     0.99485,\n",
              "            0.99485,     0.99485,     0.99485,     0.99485,     0.99485,     0.99485,     0.99485,     0.99485,     0.99485,     0.99485,     0.99485,     0.99485,     0.99485,     0.99485,     0.99485,     0.99485,     0.99485,     0.99485,     0.99485,     0.99485,     0.99485,     0.99485,     0.99485,\n",
              "            0.99485,     0.99485,     0.99485,     0.99485,     0.99485,     0.99485,     0.99485,     0.99485,     0.99485,     0.99485,     0.99485,     0.99485,     0.99485,     0.99485,     0.99485,     0.99485,     0.99485,     0.99485,     0.99485,     0.99485,     0.99485,     0.99485,     0.99485,\n",
              "            0.99485,     0.99485,     0.99485,     0.99485,     0.99485,     0.99485,     0.99485,     0.99485,     0.99485,     0.99485,     0.99485,     0.99485,     0.99485,     0.99485,     0.99485,     0.99485,     0.99485,     0.99485,     0.99485,     0.99485,     0.99485,     0.99485,     0.99485,\n",
              "            0.99485,     0.99485,     0.99485,     0.99485,     0.99485,     0.99485,     0.99485,     0.99485,     0.99485,     0.99485,     0.99485,     0.99485,     0.99485,     0.99485,     0.99485,     0.99485,     0.99485,     0.99485,     0.99485,     0.99485,     0.99485,     0.99485,     0.99485,\n",
              "            0.99485,     0.99485,     0.99485,     0.99485,     0.99485,     0.99485,     0.99485,     0.99485,     0.99485,     0.99485,     0.99485,     0.99485,     0.99115,     0.99115,     0.99115,     0.99115,     0.99115,     0.99115,     0.99115,     0.99115,     0.99115,     0.99115,     0.99115,\n",
              "            0.99115,     0.99115,     0.99115,     0.99115,     0.99115,     0.99115,     0.99115,     0.99115,     0.99115,     0.99115,     0.99115,     0.99115,     0.99115,     0.99115,     0.99115,     0.99115,     0.99115,     0.99115,     0.99115,     0.99115,     0.99115,     0.99115,     0.99115,\n",
              "            0.99115,     0.99115,     0.99115,     0.99115,     0.99115,     0.99115,     0.99115,     0.99115,     0.99115,     0.99115,     0.99115,     0.99115,     0.99115,     0.99115,     0.99115,     0.99115,     0.99115,     0.99115,     0.99115,     0.99115,     0.99115,     0.99115,     0.99115,\n",
              "            0.99115,     0.99115,     0.99115,     0.99115,     0.99115,     0.99115,     0.99115,     0.99115,     0.99115,     0.99115,     0.99115,     0.99115,     0.99115,     0.99115,     0.99115,     0.99115,     0.99115,     0.99115,     0.99115,     0.99115,     0.99115,     0.99115,     0.99115,\n",
              "            0.99115,     0.99115,     0.99115,     0.99115,     0.99115,     0.99115,     0.99115,     0.99115,     0.99115,     0.99115,     0.99115,     0.99115,     0.99115,     0.99115,     0.99115,     0.99115,     0.99115,     0.99115,     0.99115,     0.99115,     0.99115,     0.99115,     0.99115,\n",
              "            0.99115,     0.99115,     0.99115,     0.99115,     0.99115,     0.99115,     0.99115,     0.99115,     0.99115,     0.99115,     0.99115,     0.99115,     0.99115,     0.99115,      0.9881,      0.9881,      0.9881,      0.9881,      0.9881,      0.9881,      0.9881,      0.9881,      0.9881,\n",
              "             0.9881,      0.9881,      0.9881,      0.9881,      0.9881,      0.9881,      0.9881,      0.9881,      0.9881,      0.9881,      0.9881,      0.9881,      0.9881,      0.9881,      0.9881,      0.9881,      0.9881,      0.9881,      0.9881,      0.9881,      0.9881,      0.9881,      0.9881,\n",
              "             0.9881,      0.9881,      0.9881,      0.9881,      0.9881,      0.9881,      0.9881,      0.9881,      0.9881,      0.9881,      0.9881,      0.9881,      0.9881,      0.9881,      0.9881,      0.9881,      0.9881,      0.9881,      0.9881,      0.9881,      0.9881,      0.9881,      0.9881,\n",
              "             0.9881,      0.9881,      0.9881,      0.9881,      0.9881,      0.9881,      0.9881,      0.9881,      0.9881,      0.9881,      0.9881,      0.9881,      0.9881,      0.9881,      0.9881,      0.9881,      0.9881,      0.9881,      0.9881,      0.9881,      0.9881,      0.9881,      0.9881,\n",
              "             0.9881,      0.9881,      0.9881,      0.9881,      0.9881,      0.9881,      0.9881,      0.9881,      0.9881,      0.9881,      0.9881,      0.9881,      0.9881,      0.9881,      0.9881,      0.9881,     0.98425,     0.98425,     0.98425,     0.96538,     0.96538,     0.96538,     0.96538,\n",
              "            0.95149,     0.95149,     0.95149,     0.95149,     0.95149,     0.95149,     0.95149,     0.95149,     0.95149,     0.95149,     0.95149,     0.95149,     0.95149,     0.95149,     0.95149,     0.94815,     0.94815,     0.94815,     0.94815,      0.9278,      0.9278,      0.9278,      0.9278,\n",
              "            0.91489,     0.91489,     0.91489,       0.875,       0.875,       0.875,       0.875,     0.85246,     0.85246,     0.85246,     0.85246,     0.79331,     0.79331,     0.79331,     0.79331,     0.72981,     0.72981,     0.72981,     0.62175,     0.62175,     0.62175,     0.62175,     0.36264,\n",
              "            0.36264,     0.36264,     0.36264,     0.27895,      0.2391,     0.19925,      0.1594,     0.11955,    0.079699,    0.039849,           0]]), 'Recall', 'Precision'], [array([          0,    0.001001,    0.002002,    0.003003,    0.004004,    0.005005,    0.006006,    0.007007,    0.008008,    0.009009,     0.01001,    0.011011,    0.012012,    0.013013,    0.014014,    0.015015,    0.016016,    0.017017,    0.018018,    0.019019,     0.02002,    0.021021,    0.022022,    0.023023,\n",
              "          0.024024,    0.025025,    0.026026,    0.027027,    0.028028,    0.029029,     0.03003,    0.031031,    0.032032,    0.033033,    0.034034,    0.035035,    0.036036,    0.037037,    0.038038,    0.039039,     0.04004,    0.041041,    0.042042,    0.043043,    0.044044,    0.045045,    0.046046,    0.047047,\n",
              "          0.048048,    0.049049,     0.05005,    0.051051,    0.052052,    0.053053,    0.054054,    0.055055,    0.056056,    0.057057,    0.058058,    0.059059,     0.06006,    0.061061,    0.062062,    0.063063,    0.064064,    0.065065,    0.066066,    0.067067,    0.068068,    0.069069,     0.07007,    0.071071,\n",
              "          0.072072,    0.073073,    0.074074,    0.075075,    0.076076,    0.077077,    0.078078,    0.079079,     0.08008,    0.081081,    0.082082,    0.083083,    0.084084,    0.085085,    0.086086,    0.087087,    0.088088,    0.089089,     0.09009,    0.091091,    0.092092,    0.093093,    0.094094,    0.095095,\n",
              "          0.096096,    0.097097,    0.098098,    0.099099,      0.1001,      0.1011,      0.1021,      0.1031,      0.1041,     0.10511,     0.10611,     0.10711,     0.10811,     0.10911,     0.11011,     0.11111,     0.11211,     0.11311,     0.11411,     0.11512,     0.11612,     0.11712,     0.11812,     0.11912,\n",
              "           0.12012,     0.12112,     0.12212,     0.12312,     0.12412,     0.12513,     0.12613,     0.12713,     0.12813,     0.12913,     0.13013,     0.13113,     0.13213,     0.13313,     0.13413,     0.13514,     0.13614,     0.13714,     0.13814,     0.13914,     0.14014,     0.14114,     0.14214,     0.14314,\n",
              "           0.14414,     0.14515,     0.14615,     0.14715,     0.14815,     0.14915,     0.15015,     0.15115,     0.15215,     0.15315,     0.15415,     0.15516,     0.15616,     0.15716,     0.15816,     0.15916,     0.16016,     0.16116,     0.16216,     0.16316,     0.16416,     0.16517,     0.16617,     0.16717,\n",
              "           0.16817,     0.16917,     0.17017,     0.17117,     0.17217,     0.17317,     0.17417,     0.17518,     0.17618,     0.17718,     0.17818,     0.17918,     0.18018,     0.18118,     0.18218,     0.18318,     0.18418,     0.18519,     0.18619,     0.18719,     0.18819,     0.18919,     0.19019,     0.19119,\n",
              "           0.19219,     0.19319,     0.19419,      0.1952,      0.1962,      0.1972,      0.1982,      0.1992,      0.2002,      0.2012,      0.2022,      0.2032,      0.2042,     0.20521,     0.20621,     0.20721,     0.20821,     0.20921,     0.21021,     0.21121,     0.21221,     0.21321,     0.21421,     0.21522,\n",
              "           0.21622,     0.21722,     0.21822,     0.21922,     0.22022,     0.22122,     0.22222,     0.22322,     0.22422,     0.22523,     0.22623,     0.22723,     0.22823,     0.22923,     0.23023,     0.23123,     0.23223,     0.23323,     0.23423,     0.23524,     0.23624,     0.23724,     0.23824,     0.23924,\n",
              "           0.24024,     0.24124,     0.24224,     0.24324,     0.24424,     0.24525,     0.24625,     0.24725,     0.24825,     0.24925,     0.25025,     0.25125,     0.25225,     0.25325,     0.25425,     0.25526,     0.25626,     0.25726,     0.25826,     0.25926,     0.26026,     0.26126,     0.26226,     0.26326,\n",
              "           0.26426,     0.26527,     0.26627,     0.26727,     0.26827,     0.26927,     0.27027,     0.27127,     0.27227,     0.27327,     0.27427,     0.27528,     0.27628,     0.27728,     0.27828,     0.27928,     0.28028,     0.28128,     0.28228,     0.28328,     0.28428,     0.28529,     0.28629,     0.28729,\n",
              "           0.28829,     0.28929,     0.29029,     0.29129,     0.29229,     0.29329,     0.29429,      0.2953,      0.2963,      0.2973,      0.2983,      0.2993,      0.3003,      0.3013,      0.3023,      0.3033,      0.3043,     0.30531,     0.30631,     0.30731,     0.30831,     0.30931,     0.31031,     0.31131,\n",
              "           0.31231,     0.31331,     0.31431,     0.31532,     0.31632,     0.31732,     0.31832,     0.31932,     0.32032,     0.32132,     0.32232,     0.32332,     0.32432,     0.32533,     0.32633,     0.32733,     0.32833,     0.32933,     0.33033,     0.33133,     0.33233,     0.33333,     0.33433,     0.33534,\n",
              "           0.33634,     0.33734,     0.33834,     0.33934,     0.34034,     0.34134,     0.34234,     0.34334,     0.34434,     0.34535,     0.34635,     0.34735,     0.34835,     0.34935,     0.35035,     0.35135,     0.35235,     0.35335,     0.35435,     0.35536,     0.35636,     0.35736,     0.35836,     0.35936,\n",
              "           0.36036,     0.36136,     0.36236,     0.36336,     0.36436,     0.36537,     0.36637,     0.36737,     0.36837,     0.36937,     0.37037,     0.37137,     0.37237,     0.37337,     0.37437,     0.37538,     0.37638,     0.37738,     0.37838,     0.37938,     0.38038,     0.38138,     0.38238,     0.38338,\n",
              "           0.38438,     0.38539,     0.38639,     0.38739,     0.38839,     0.38939,     0.39039,     0.39139,     0.39239,     0.39339,     0.39439,      0.3954,      0.3964,      0.3974,      0.3984,      0.3994,      0.4004,      0.4014,      0.4024,      0.4034,      0.4044,     0.40541,     0.40641,     0.40741,\n",
              "           0.40841,     0.40941,     0.41041,     0.41141,     0.41241,     0.41341,     0.41441,     0.41542,     0.41642,     0.41742,     0.41842,     0.41942,     0.42042,     0.42142,     0.42242,     0.42342,     0.42442,     0.42543,     0.42643,     0.42743,     0.42843,     0.42943,     0.43043,     0.43143,\n",
              "           0.43243,     0.43343,     0.43443,     0.43544,     0.43644,     0.43744,     0.43844,     0.43944,     0.44044,     0.44144,     0.44244,     0.44344,     0.44444,     0.44545,     0.44645,     0.44745,     0.44845,     0.44945,     0.45045,     0.45145,     0.45245,     0.45345,     0.45445,     0.45546,\n",
              "           0.45646,     0.45746,     0.45846,     0.45946,     0.46046,     0.46146,     0.46246,     0.46346,     0.46446,     0.46547,     0.46647,     0.46747,     0.46847,     0.46947,     0.47047,     0.47147,     0.47247,     0.47347,     0.47447,     0.47548,     0.47648,     0.47748,     0.47848,     0.47948,\n",
              "           0.48048,     0.48148,     0.48248,     0.48348,     0.48448,     0.48549,     0.48649,     0.48749,     0.48849,     0.48949,     0.49049,     0.49149,     0.49249,     0.49349,     0.49449,      0.4955,      0.4965,      0.4975,      0.4985,      0.4995,      0.5005,      0.5015,      0.5025,      0.5035,\n",
              "            0.5045,     0.50551,     0.50651,     0.50751,     0.50851,     0.50951,     0.51051,     0.51151,     0.51251,     0.51351,     0.51451,     0.51552,     0.51652,     0.51752,     0.51852,     0.51952,     0.52052,     0.52152,     0.52252,     0.52352,     0.52452,     0.52553,     0.52653,     0.52753,\n",
              "           0.52853,     0.52953,     0.53053,     0.53153,     0.53253,     0.53353,     0.53453,     0.53554,     0.53654,     0.53754,     0.53854,     0.53954,     0.54054,     0.54154,     0.54254,     0.54354,     0.54454,     0.54555,     0.54655,     0.54755,     0.54855,     0.54955,     0.55055,     0.55155,\n",
              "           0.55255,     0.55355,     0.55455,     0.55556,     0.55656,     0.55756,     0.55856,     0.55956,     0.56056,     0.56156,     0.56256,     0.56356,     0.56456,     0.56557,     0.56657,     0.56757,     0.56857,     0.56957,     0.57057,     0.57157,     0.57257,     0.57357,     0.57457,     0.57558,\n",
              "           0.57658,     0.57758,     0.57858,     0.57958,     0.58058,     0.58158,     0.58258,     0.58358,     0.58458,     0.58559,     0.58659,     0.58759,     0.58859,     0.58959,     0.59059,     0.59159,     0.59259,     0.59359,     0.59459,      0.5956,      0.5966,      0.5976,      0.5986,      0.5996,\n",
              "            0.6006,      0.6016,      0.6026,      0.6036,      0.6046,     0.60561,     0.60661,     0.60761,     0.60861,     0.60961,     0.61061,     0.61161,     0.61261,     0.61361,     0.61461,     0.61562,     0.61662,     0.61762,     0.61862,     0.61962,     0.62062,     0.62162,     0.62262,     0.62362,\n",
              "           0.62462,     0.62563,     0.62663,     0.62763,     0.62863,     0.62963,     0.63063,     0.63163,     0.63263,     0.63363,     0.63463,     0.63564,     0.63664,     0.63764,     0.63864,     0.63964,     0.64064,     0.64164,     0.64264,     0.64364,     0.64464,     0.64565,     0.64665,     0.64765,\n",
              "           0.64865,     0.64965,     0.65065,     0.65165,     0.65265,     0.65365,     0.65465,     0.65566,     0.65666,     0.65766,     0.65866,     0.65966,     0.66066,     0.66166,     0.66266,     0.66366,     0.66466,     0.66567,     0.66667,     0.66767,     0.66867,     0.66967,     0.67067,     0.67167,\n",
              "           0.67267,     0.67367,     0.67467,     0.67568,     0.67668,     0.67768,     0.67868,     0.67968,     0.68068,     0.68168,     0.68268,     0.68368,     0.68468,     0.68569,     0.68669,     0.68769,     0.68869,     0.68969,     0.69069,     0.69169,     0.69269,     0.69369,     0.69469,      0.6957,\n",
              "            0.6967,      0.6977,      0.6987,      0.6997,      0.7007,      0.7017,      0.7027,      0.7037,      0.7047,     0.70571,     0.70671,     0.70771,     0.70871,     0.70971,     0.71071,     0.71171,     0.71271,     0.71371,     0.71471,     0.71572,     0.71672,     0.71772,     0.71872,     0.71972,\n",
              "           0.72072,     0.72172,     0.72272,     0.72372,     0.72472,     0.72573,     0.72673,     0.72773,     0.72873,     0.72973,     0.73073,     0.73173,     0.73273,     0.73373,     0.73473,     0.73574,     0.73674,     0.73774,     0.73874,     0.73974,     0.74074,     0.74174,     0.74274,     0.74374,\n",
              "           0.74474,     0.74575,     0.74675,     0.74775,     0.74875,     0.74975,     0.75075,     0.75175,     0.75275,     0.75375,     0.75475,     0.75576,     0.75676,     0.75776,     0.75876,     0.75976,     0.76076,     0.76176,     0.76276,     0.76376,     0.76476,     0.76577,     0.76677,     0.76777,\n",
              "           0.76877,     0.76977,     0.77077,     0.77177,     0.77277,     0.77377,     0.77477,     0.77578,     0.77678,     0.77778,     0.77878,     0.77978,     0.78078,     0.78178,     0.78278,     0.78378,     0.78478,     0.78579,     0.78679,     0.78779,     0.78879,     0.78979,     0.79079,     0.79179,\n",
              "           0.79279,     0.79379,     0.79479,      0.7958,      0.7968,      0.7978,      0.7988,      0.7998,      0.8008,      0.8018,      0.8028,      0.8038,      0.8048,     0.80581,     0.80681,     0.80781,     0.80881,     0.80981,     0.81081,     0.81181,     0.81281,     0.81381,     0.81481,     0.81582,\n",
              "           0.81682,     0.81782,     0.81882,     0.81982,     0.82082,     0.82182,     0.82282,     0.82382,     0.82482,     0.82583,     0.82683,     0.82783,     0.82883,     0.82983,     0.83083,     0.83183,     0.83283,     0.83383,     0.83483,     0.83584,     0.83684,     0.83784,     0.83884,     0.83984,\n",
              "           0.84084,     0.84184,     0.84284,     0.84384,     0.84484,     0.84585,     0.84685,     0.84785,     0.84885,     0.84985,     0.85085,     0.85185,     0.85285,     0.85385,     0.85485,     0.85586,     0.85686,     0.85786,     0.85886,     0.85986,     0.86086,     0.86186,     0.86286,     0.86386,\n",
              "           0.86486,     0.86587,     0.86687,     0.86787,     0.86887,     0.86987,     0.87087,     0.87187,     0.87287,     0.87387,     0.87487,     0.87588,     0.87688,     0.87788,     0.87888,     0.87988,     0.88088,     0.88188,     0.88288,     0.88388,     0.88488,     0.88589,     0.88689,     0.88789,\n",
              "           0.88889,     0.88989,     0.89089,     0.89189,     0.89289,     0.89389,     0.89489,      0.8959,      0.8969,      0.8979,      0.8989,      0.8999,      0.9009,      0.9019,      0.9029,      0.9039,      0.9049,     0.90591,     0.90691,     0.90791,     0.90891,     0.90991,     0.91091,     0.91191,\n",
              "           0.91291,     0.91391,     0.91491,     0.91592,     0.91692,     0.91792,     0.91892,     0.91992,     0.92092,     0.92192,     0.92292,     0.92392,     0.92492,     0.92593,     0.92693,     0.92793,     0.92893,     0.92993,     0.93093,     0.93193,     0.93293,     0.93393,     0.93493,     0.93594,\n",
              "           0.93694,     0.93794,     0.93894,     0.93994,     0.94094,     0.94194,     0.94294,     0.94394,     0.94494,     0.94595,     0.94695,     0.94795,     0.94895,     0.94995,     0.95095,     0.95195,     0.95295,     0.95395,     0.95495,     0.95596,     0.95696,     0.95796,     0.95896,     0.95996,\n",
              "           0.96096,     0.96196,     0.96296,     0.96396,     0.96496,     0.96597,     0.96697,     0.96797,     0.96897,     0.96997,     0.97097,     0.97197,     0.97297,     0.97397,     0.97497,     0.97598,     0.97698,     0.97798,     0.97898,     0.97998,     0.98098,     0.98198,     0.98298,     0.98398,\n",
              "           0.98498,     0.98599,     0.98699,     0.98799,     0.98899,     0.98999,     0.99099,     0.99199,     0.99299,     0.99399,     0.99499,       0.996,       0.997,       0.998,       0.999,           1]), array([[    0.45993,     0.45993,     0.62467,     0.69921,       0.733,       0.758,      0.7749,     0.78733,     0.80728,     0.81868,      0.8265,     0.83527,     0.83664,     0.84541,     0.85054,      0.8547,     0.85805,     0.86021,     0.86517,      0.8676,     0.87116,     0.87432,     0.87704,\n",
              "             0.8764,     0.87913,     0.88076,     0.88325,      0.8841,     0.88829,     0.88966,     0.89081,     0.89395,     0.89537,     0.89612,      0.8982,     0.89969,     0.90073,     0.90186,     0.90318,     0.90492,     0.90678,     0.90855,     0.90954,     0.91023,     0.91058,     0.91027,\n",
              "            0.90997,     0.90966,     0.90936,     0.90905,     0.90904,     0.91065,     0.91117,     0.91169,     0.91229,     0.91298,     0.91362,     0.91399,     0.91436,     0.91473,      0.9151,     0.91538,     0.91563,     0.91588,     0.91613,     0.91638,     0.91662,     0.91704,     0.91799,\n",
              "            0.91859,     0.91887,     0.91915,     0.91943,     0.91971,        0.92,     0.92029,     0.92058,     0.92088,     0.92117,     0.92147,     0.92137,     0.91984,     0.92019,     0.92055,      0.9209,     0.92126,     0.92236,     0.92343,     0.92402,     0.92461,     0.92806,     0.92832,\n",
              "            0.92858,     0.92883,     0.92909,     0.92935,     0.92961,     0.92986,      0.9301,     0.93034,     0.93058,     0.93082,     0.93106,     0.93129,     0.93168,     0.93219,      0.9327,     0.93317,      0.9335,     0.93383,     0.93416,     0.93449,     0.93484,     0.93535,     0.93585,\n",
              "            0.93636,      0.9369,     0.93746,     0.93802,     0.93833,     0.93853,     0.93873,     0.93894,     0.93914,     0.93934,     0.93955,     0.93975,     0.93992,     0.94001,      0.9401,     0.94018,     0.94027,     0.94036,     0.94045,     0.94054,     0.94063,     0.94072,     0.94081,\n",
              "             0.9409,     0.94099,     0.94107,     0.94116,     0.94125,     0.94134,     0.94143,     0.94152,     0.94158,     0.94079,        0.94,     0.93979,     0.93998,     0.94018,     0.94038,     0.94057,     0.94077,     0.94096,     0.94116,     0.94135,     0.94243,      0.9434,     0.94399,\n",
              "            0.94458,     0.94502,     0.94533,     0.94564,     0.94595,     0.94626,     0.94657,     0.94647,     0.94635,     0.94622,     0.94609,     0.94596,     0.94583,      0.9457,     0.94557,     0.94545,     0.94532,     0.94519,     0.94506,     0.94493,      0.9448,     0.94467,     0.94501,\n",
              "            0.94546,     0.94591,     0.94635,     0.94655,     0.94671,     0.94688,     0.94705,     0.94722,     0.94738,     0.94755,     0.94772,     0.94788,     0.94805,     0.94936,     0.95169,     0.95185,     0.95201,     0.95217,     0.95233,     0.95249,     0.95266,     0.95282,     0.95298,\n",
              "            0.95314,      0.9533,     0.95346,     0.95361,     0.95376,     0.95391,     0.95406,     0.95421,     0.95435,      0.9545,     0.95465,      0.9548,     0.95495,      0.9551,     0.95521,      0.9551,       0.955,     0.95489,     0.95479,     0.95469,     0.95458,     0.95448,     0.95437,\n",
              "            0.95427,     0.95416,     0.95406,     0.95395,     0.95385,     0.95374,     0.95364,     0.95353,     0.95343,     0.95332,     0.95332,     0.95341,      0.9535,     0.95359,     0.95368,     0.95377,     0.95386,     0.95395,     0.95404,     0.95413,     0.95422,     0.95431,      0.9544,\n",
              "            0.95449,     0.95458,     0.95467,     0.95476,     0.95485,     0.95494,     0.95503,     0.95485,     0.95458,      0.9543,     0.95402,     0.95374,     0.95347,     0.95319,     0.95308,     0.95306,     0.95303,     0.95301,     0.95299,     0.95296,     0.95294,     0.95292,     0.95289,\n",
              "            0.95287,     0.95285,     0.95282,      0.9528,     0.95278,     0.95276,     0.95273,     0.95271,     0.95269,     0.95266,     0.95264,     0.95262,     0.95259,     0.95257,     0.95255,     0.95252,      0.9525,     0.95248,     0.95245,     0.95243,     0.95241,     0.95238,     0.95236,\n",
              "            0.95234,     0.95231,     0.95229,     0.95227,     0.95224,     0.95222,      0.9522,     0.95217,     0.95215,     0.95213,      0.9521,     0.95208,     0.95206,     0.95203,     0.95201,     0.95199,     0.95196,     0.95194,     0.95192,      0.9519,     0.95187,     0.95185,     0.95183,\n",
              "             0.9518,     0.95178,     0.95176,     0.95173,     0.95171,     0.95169,     0.95166,     0.95164,     0.95162,     0.95159,     0.95157,     0.95155,     0.95152,      0.9515,     0.95148,     0.95145,     0.95143,     0.95141,     0.95138,     0.95136,     0.95134,     0.95131,     0.95129,\n",
              "            0.95127,     0.95124,     0.95122,      0.9512,     0.95117,     0.95115,     0.95112,      0.9509,     0.95068,     0.95046,     0.95025,     0.95003,     0.94981,     0.94959,     0.94937,     0.94915,     0.94907,     0.94898,      0.9489,     0.94882,     0.94873,     0.94865,     0.94857,\n",
              "            0.94848,      0.9484,     0.94831,     0.94823,     0.94815,     0.94806,     0.94798,      0.9479,     0.94781,     0.94773,     0.94764,     0.94756,     0.94748,     0.94739,     0.94731,     0.94722,     0.94719,     0.94726,     0.94732,     0.94738,     0.94745,     0.94751,     0.94758,\n",
              "            0.94764,      0.9477,     0.94777,     0.94783,      0.9479,     0.94796,     0.94802,     0.94809,     0.94815,     0.94821,     0.94828,     0.94834,     0.94841,     0.94847,     0.94853,      0.9486,     0.94866,     0.94872,     0.94879,     0.94885,     0.94892,     0.94952,     0.95082,\n",
              "            0.95101,      0.9512,     0.95139,     0.95158,     0.95177,     0.95196,     0.95215,     0.95234,     0.95253,      0.9526,     0.95264,     0.95268,     0.95272,     0.95276,      0.9528,     0.95284,     0.95288,     0.95292,     0.95296,     0.95301,     0.95305,     0.95309,     0.95313,\n",
              "            0.95317,     0.95321,     0.95325,     0.95329,     0.95333,     0.95338,     0.95342,     0.95346,      0.9535,     0.95354,     0.95358,     0.95362,     0.95366,      0.9537,     0.95374,     0.95379,     0.95383,     0.95387,     0.95391,     0.95395,     0.95399,     0.95403,     0.95407,\n",
              "            0.95411,     0.95415,      0.9542,     0.95424,     0.95428,     0.95432,     0.95436,     0.95431,     0.95422,     0.95414,     0.95405,     0.95396,     0.95387,     0.95378,     0.95369,      0.9536,     0.95352,     0.95343,     0.95334,     0.95325,     0.95316,     0.95307,     0.95298,\n",
              "            0.95289,      0.9528,     0.95272,     0.95263,     0.95254,     0.95245,     0.95239,     0.95242,     0.95245,     0.95248,     0.95251,     0.95254,     0.95257,      0.9526,     0.95262,     0.95265,     0.95268,     0.95271,     0.95274,     0.95277,      0.9528,     0.95283,     0.95286,\n",
              "            0.95289,     0.95292,     0.95295,     0.95298,     0.95301,     0.95304,     0.95307,      0.9531,     0.95313,     0.95316,     0.95319,     0.95322,     0.95325,     0.95328,     0.95331,     0.95333,     0.95336,     0.95339,     0.95342,     0.95345,     0.95348,     0.95351,     0.95354,\n",
              "            0.95357,      0.9536,     0.95363,     0.95366,     0.95369,     0.95372,     0.95375,     0.95378,     0.95381,     0.95384,     0.95387,      0.9539,     0.95393,     0.95396,     0.95399,     0.95401,     0.95404,     0.95407,      0.9541,     0.95413,     0.95416,     0.95419,     0.95437,\n",
              "            0.95459,     0.95481,     0.95503,     0.95525,     0.95547,     0.95569,     0.95591,     0.95603,     0.95606,     0.95608,     0.95611,     0.95613,     0.95616,     0.95618,     0.95621,     0.95623,     0.95626,     0.95628,     0.95631,     0.95633,     0.95636,     0.95638,     0.95641,\n",
              "            0.95643,     0.95646,     0.95648,      0.9565,     0.95653,     0.95655,     0.95658,      0.9566,     0.95663,     0.95665,     0.95668,      0.9567,     0.95673,     0.95675,     0.95678,      0.9568,     0.95683,     0.95685,     0.95688,      0.9569,     0.95692,     0.95695,     0.95697,\n",
              "              0.957,     0.95702,     0.95705,     0.95707,      0.9571,     0.95712,     0.95715,     0.95717,      0.9572,     0.95722,     0.95725,     0.95727,      0.9573,     0.95732,     0.95734,     0.95737,     0.95739,     0.95742,     0.95744,     0.95747,     0.95749,     0.95752,     0.95754,\n",
              "            0.95757,     0.95759,     0.95762,     0.95764,     0.95767,     0.95769,     0.95771,     0.95774,     0.95776,     0.95779,     0.95781,     0.95784,     0.95787,      0.9579,     0.95794,     0.95797,     0.95801,     0.95804,     0.95808,     0.95812,     0.95815,     0.95819,     0.95822,\n",
              "            0.95826,     0.95829,     0.95833,     0.95836,      0.9584,     0.95844,     0.95847,     0.95851,     0.95854,     0.95858,     0.95861,     0.95865,     0.95868,     0.95872,     0.95876,     0.95879,     0.95883,     0.95886,      0.9589,     0.95893,     0.95897,       0.959,     0.95904,\n",
              "            0.95908,     0.95911,     0.95915,     0.95918,     0.95922,     0.95925,     0.95929,     0.95932,     0.95936,      0.9594,     0.95943,     0.95947,      0.9595,     0.95954,     0.95957,     0.95961,     0.95964,     0.95968,     0.95975,     0.95983,     0.95992,     0.96001,     0.96009,\n",
              "            0.96018,     0.96026,     0.96035,     0.96044,     0.96052,     0.96061,     0.96069,     0.96078,     0.96087,     0.96095,     0.96104,     0.96112,     0.96121,     0.96129,     0.96138,     0.96147,     0.96153,     0.96145,     0.96137,     0.96129,     0.96122,     0.96114,     0.96106,\n",
              "            0.96098,     0.96091,     0.96083,     0.96075,     0.96068,      0.9606,     0.96052,     0.96044,     0.96037,     0.96029,     0.96021,     0.96013,     0.96006,     0.95998,      0.9599,     0.95982,     0.95975,     0.95967,     0.95959,     0.95977,     0.96053,     0.96129,     0.96136,\n",
              "            0.96133,      0.9613,     0.96127,     0.96124,     0.96121,     0.96118,     0.96115,     0.96112,     0.96109,     0.96106,     0.96103,       0.961,     0.96097,     0.96094,     0.96091,     0.96088,     0.96085,     0.96082,     0.96078,     0.96075,     0.96072,     0.96069,     0.96066,\n",
              "            0.96063,      0.9606,     0.96057,     0.96054,     0.96051,     0.96048,     0.96045,     0.96042,     0.96039,     0.96036,     0.96033,      0.9603,     0.96027,     0.96024,     0.96021,     0.96017,     0.96014,     0.96011,     0.96008,     0.96005,     0.96002,     0.95999,     0.95996,\n",
              "            0.95993,      0.9599,     0.95987,     0.95984,     0.95981,     0.95978,     0.95975,     0.95972,     0.95969,     0.95966,     0.95962,     0.95959,     0.95956,     0.95953,      0.9595,     0.95947,     0.95944,     0.95941,     0.95937,     0.95896,     0.95855,     0.95813,     0.95772,\n",
              "            0.95732,     0.95703,     0.95673,     0.95643,     0.95614,     0.95584,     0.95554,     0.95527,     0.95507,     0.95486,     0.95465,     0.95444,     0.95423,     0.95403,     0.95382,     0.95361,      0.9534,      0.9531,     0.95272,     0.95234,     0.95196,     0.95158,     0.95122,\n",
              "            0.95099,     0.95076,     0.95052,     0.95029,     0.95006,     0.94982,     0.94959,     0.94936,      0.9491,     0.94879,     0.94849,     0.94819,     0.94789,     0.94759,     0.94729,     0.94694,     0.94655,     0.94617,     0.94579,      0.9454,       0.945,     0.94452,     0.94405,\n",
              "            0.94358,     0.94311,     0.94283,     0.94259,     0.94236,     0.94212,     0.94188,     0.94165,     0.94141,     0.94117,     0.94092,     0.94031,     0.93969,     0.93908,      0.9384,     0.93769,     0.93697,       0.936,     0.93492,     0.93189,     0.93102,     0.93022,      0.9296,\n",
              "            0.92897,     0.92835,     0.92697,     0.92551,     0.92404,     0.92257,     0.92128,     0.92017,     0.91746,     0.91682,     0.91618,     0.91554,     0.91385,     0.91085,     0.91044,     0.91003,     0.90962,     0.90921,     0.90879,     0.91029,      0.9096,     0.90846,     0.90698,\n",
              "            0.90546,     0.90393,     0.90074,     0.89982,      0.8965,     0.89533,     0.89165,     0.88783,     0.88664,     0.88485,     0.87466,     0.87224,     0.86411,     0.86287,     0.85909,     0.85743,     0.85413,     0.85246,     0.84756,     0.84021,     0.83433,     0.83158,     0.81859,\n",
              "            0.80791,     0.79974,     0.79354,     0.78582,     0.77769,     0.77481,     0.76576,     0.74825,     0.73924,     0.73235,     0.72948,     0.72239,     0.70356,      0.6874,     0.67539,     0.66735,     0.65709,     0.64476,     0.62905,     0.61459,     0.56198,     0.54606,     0.52571,\n",
              "            0.50058,     0.47946,     0.46111,     0.42442,     0.40529,     0.37731,     0.37392,     0.35014,     0.32547,     0.31833,     0.30655,     0.28527,     0.26767,     0.25088,     0.20332,     0.19677,     0.19048,     0.16542,     0.16108,     0.15551,     0.13922,     0.13171,     0.11148,\n",
              "           0.095414,    0.071072,    0.062295,    0.054848,    0.035575,    0.030606,    0.027622,    0.025121,    0.022613,    0.017887,    0.008618,           0,           0,           0,           0,           0,           0,           0,           0,           0,           0,           0,           0,\n",
              "                  0,           0,           0,           0,           0,           0,           0,           0,           0,           0,           0]]), 'Confidence', 'F1'], [array([          0,    0.001001,    0.002002,    0.003003,    0.004004,    0.005005,    0.006006,    0.007007,    0.008008,    0.009009,     0.01001,    0.011011,    0.012012,    0.013013,    0.014014,    0.015015,    0.016016,    0.017017,    0.018018,    0.019019,     0.02002,    0.021021,    0.022022,    0.023023,\n",
              "          0.024024,    0.025025,    0.026026,    0.027027,    0.028028,    0.029029,     0.03003,    0.031031,    0.032032,    0.033033,    0.034034,    0.035035,    0.036036,    0.037037,    0.038038,    0.039039,     0.04004,    0.041041,    0.042042,    0.043043,    0.044044,    0.045045,    0.046046,    0.047047,\n",
              "          0.048048,    0.049049,     0.05005,    0.051051,    0.052052,    0.053053,    0.054054,    0.055055,    0.056056,    0.057057,    0.058058,    0.059059,     0.06006,    0.061061,    0.062062,    0.063063,    0.064064,    0.065065,    0.066066,    0.067067,    0.068068,    0.069069,     0.07007,    0.071071,\n",
              "          0.072072,    0.073073,    0.074074,    0.075075,    0.076076,    0.077077,    0.078078,    0.079079,     0.08008,    0.081081,    0.082082,    0.083083,    0.084084,    0.085085,    0.086086,    0.087087,    0.088088,    0.089089,     0.09009,    0.091091,    0.092092,    0.093093,    0.094094,    0.095095,\n",
              "          0.096096,    0.097097,    0.098098,    0.099099,      0.1001,      0.1011,      0.1021,      0.1031,      0.1041,     0.10511,     0.10611,     0.10711,     0.10811,     0.10911,     0.11011,     0.11111,     0.11211,     0.11311,     0.11411,     0.11512,     0.11612,     0.11712,     0.11812,     0.11912,\n",
              "           0.12012,     0.12112,     0.12212,     0.12312,     0.12412,     0.12513,     0.12613,     0.12713,     0.12813,     0.12913,     0.13013,     0.13113,     0.13213,     0.13313,     0.13413,     0.13514,     0.13614,     0.13714,     0.13814,     0.13914,     0.14014,     0.14114,     0.14214,     0.14314,\n",
              "           0.14414,     0.14515,     0.14615,     0.14715,     0.14815,     0.14915,     0.15015,     0.15115,     0.15215,     0.15315,     0.15415,     0.15516,     0.15616,     0.15716,     0.15816,     0.15916,     0.16016,     0.16116,     0.16216,     0.16316,     0.16416,     0.16517,     0.16617,     0.16717,\n",
              "           0.16817,     0.16917,     0.17017,     0.17117,     0.17217,     0.17317,     0.17417,     0.17518,     0.17618,     0.17718,     0.17818,     0.17918,     0.18018,     0.18118,     0.18218,     0.18318,     0.18418,     0.18519,     0.18619,     0.18719,     0.18819,     0.18919,     0.19019,     0.19119,\n",
              "           0.19219,     0.19319,     0.19419,      0.1952,      0.1962,      0.1972,      0.1982,      0.1992,      0.2002,      0.2012,      0.2022,      0.2032,      0.2042,     0.20521,     0.20621,     0.20721,     0.20821,     0.20921,     0.21021,     0.21121,     0.21221,     0.21321,     0.21421,     0.21522,\n",
              "           0.21622,     0.21722,     0.21822,     0.21922,     0.22022,     0.22122,     0.22222,     0.22322,     0.22422,     0.22523,     0.22623,     0.22723,     0.22823,     0.22923,     0.23023,     0.23123,     0.23223,     0.23323,     0.23423,     0.23524,     0.23624,     0.23724,     0.23824,     0.23924,\n",
              "           0.24024,     0.24124,     0.24224,     0.24324,     0.24424,     0.24525,     0.24625,     0.24725,     0.24825,     0.24925,     0.25025,     0.25125,     0.25225,     0.25325,     0.25425,     0.25526,     0.25626,     0.25726,     0.25826,     0.25926,     0.26026,     0.26126,     0.26226,     0.26326,\n",
              "           0.26426,     0.26527,     0.26627,     0.26727,     0.26827,     0.26927,     0.27027,     0.27127,     0.27227,     0.27327,     0.27427,     0.27528,     0.27628,     0.27728,     0.27828,     0.27928,     0.28028,     0.28128,     0.28228,     0.28328,     0.28428,     0.28529,     0.28629,     0.28729,\n",
              "           0.28829,     0.28929,     0.29029,     0.29129,     0.29229,     0.29329,     0.29429,      0.2953,      0.2963,      0.2973,      0.2983,      0.2993,      0.3003,      0.3013,      0.3023,      0.3033,      0.3043,     0.30531,     0.30631,     0.30731,     0.30831,     0.30931,     0.31031,     0.31131,\n",
              "           0.31231,     0.31331,     0.31431,     0.31532,     0.31632,     0.31732,     0.31832,     0.31932,     0.32032,     0.32132,     0.32232,     0.32332,     0.32432,     0.32533,     0.32633,     0.32733,     0.32833,     0.32933,     0.33033,     0.33133,     0.33233,     0.33333,     0.33433,     0.33534,\n",
              "           0.33634,     0.33734,     0.33834,     0.33934,     0.34034,     0.34134,     0.34234,     0.34334,     0.34434,     0.34535,     0.34635,     0.34735,     0.34835,     0.34935,     0.35035,     0.35135,     0.35235,     0.35335,     0.35435,     0.35536,     0.35636,     0.35736,     0.35836,     0.35936,\n",
              "           0.36036,     0.36136,     0.36236,     0.36336,     0.36436,     0.36537,     0.36637,     0.36737,     0.36837,     0.36937,     0.37037,     0.37137,     0.37237,     0.37337,     0.37437,     0.37538,     0.37638,     0.37738,     0.37838,     0.37938,     0.38038,     0.38138,     0.38238,     0.38338,\n",
              "           0.38438,     0.38539,     0.38639,     0.38739,     0.38839,     0.38939,     0.39039,     0.39139,     0.39239,     0.39339,     0.39439,      0.3954,      0.3964,      0.3974,      0.3984,      0.3994,      0.4004,      0.4014,      0.4024,      0.4034,      0.4044,     0.40541,     0.40641,     0.40741,\n",
              "           0.40841,     0.40941,     0.41041,     0.41141,     0.41241,     0.41341,     0.41441,     0.41542,     0.41642,     0.41742,     0.41842,     0.41942,     0.42042,     0.42142,     0.42242,     0.42342,     0.42442,     0.42543,     0.42643,     0.42743,     0.42843,     0.42943,     0.43043,     0.43143,\n",
              "           0.43243,     0.43343,     0.43443,     0.43544,     0.43644,     0.43744,     0.43844,     0.43944,     0.44044,     0.44144,     0.44244,     0.44344,     0.44444,     0.44545,     0.44645,     0.44745,     0.44845,     0.44945,     0.45045,     0.45145,     0.45245,     0.45345,     0.45445,     0.45546,\n",
              "           0.45646,     0.45746,     0.45846,     0.45946,     0.46046,     0.46146,     0.46246,     0.46346,     0.46446,     0.46547,     0.46647,     0.46747,     0.46847,     0.46947,     0.47047,     0.47147,     0.47247,     0.47347,     0.47447,     0.47548,     0.47648,     0.47748,     0.47848,     0.47948,\n",
              "           0.48048,     0.48148,     0.48248,     0.48348,     0.48448,     0.48549,     0.48649,     0.48749,     0.48849,     0.48949,     0.49049,     0.49149,     0.49249,     0.49349,     0.49449,      0.4955,      0.4965,      0.4975,      0.4985,      0.4995,      0.5005,      0.5015,      0.5025,      0.5035,\n",
              "            0.5045,     0.50551,     0.50651,     0.50751,     0.50851,     0.50951,     0.51051,     0.51151,     0.51251,     0.51351,     0.51451,     0.51552,     0.51652,     0.51752,     0.51852,     0.51952,     0.52052,     0.52152,     0.52252,     0.52352,     0.52452,     0.52553,     0.52653,     0.52753,\n",
              "           0.52853,     0.52953,     0.53053,     0.53153,     0.53253,     0.53353,     0.53453,     0.53554,     0.53654,     0.53754,     0.53854,     0.53954,     0.54054,     0.54154,     0.54254,     0.54354,     0.54454,     0.54555,     0.54655,     0.54755,     0.54855,     0.54955,     0.55055,     0.55155,\n",
              "           0.55255,     0.55355,     0.55455,     0.55556,     0.55656,     0.55756,     0.55856,     0.55956,     0.56056,     0.56156,     0.56256,     0.56356,     0.56456,     0.56557,     0.56657,     0.56757,     0.56857,     0.56957,     0.57057,     0.57157,     0.57257,     0.57357,     0.57457,     0.57558,\n",
              "           0.57658,     0.57758,     0.57858,     0.57958,     0.58058,     0.58158,     0.58258,     0.58358,     0.58458,     0.58559,     0.58659,     0.58759,     0.58859,     0.58959,     0.59059,     0.59159,     0.59259,     0.59359,     0.59459,      0.5956,      0.5966,      0.5976,      0.5986,      0.5996,\n",
              "            0.6006,      0.6016,      0.6026,      0.6036,      0.6046,     0.60561,     0.60661,     0.60761,     0.60861,     0.60961,     0.61061,     0.61161,     0.61261,     0.61361,     0.61461,     0.61562,     0.61662,     0.61762,     0.61862,     0.61962,     0.62062,     0.62162,     0.62262,     0.62362,\n",
              "           0.62462,     0.62563,     0.62663,     0.62763,     0.62863,     0.62963,     0.63063,     0.63163,     0.63263,     0.63363,     0.63463,     0.63564,     0.63664,     0.63764,     0.63864,     0.63964,     0.64064,     0.64164,     0.64264,     0.64364,     0.64464,     0.64565,     0.64665,     0.64765,\n",
              "           0.64865,     0.64965,     0.65065,     0.65165,     0.65265,     0.65365,     0.65465,     0.65566,     0.65666,     0.65766,     0.65866,     0.65966,     0.66066,     0.66166,     0.66266,     0.66366,     0.66466,     0.66567,     0.66667,     0.66767,     0.66867,     0.66967,     0.67067,     0.67167,\n",
              "           0.67267,     0.67367,     0.67467,     0.67568,     0.67668,     0.67768,     0.67868,     0.67968,     0.68068,     0.68168,     0.68268,     0.68368,     0.68468,     0.68569,     0.68669,     0.68769,     0.68869,     0.68969,     0.69069,     0.69169,     0.69269,     0.69369,     0.69469,      0.6957,\n",
              "            0.6967,      0.6977,      0.6987,      0.6997,      0.7007,      0.7017,      0.7027,      0.7037,      0.7047,     0.70571,     0.70671,     0.70771,     0.70871,     0.70971,     0.71071,     0.71171,     0.71271,     0.71371,     0.71471,     0.71572,     0.71672,     0.71772,     0.71872,     0.71972,\n",
              "           0.72072,     0.72172,     0.72272,     0.72372,     0.72472,     0.72573,     0.72673,     0.72773,     0.72873,     0.72973,     0.73073,     0.73173,     0.73273,     0.73373,     0.73473,     0.73574,     0.73674,     0.73774,     0.73874,     0.73974,     0.74074,     0.74174,     0.74274,     0.74374,\n",
              "           0.74474,     0.74575,     0.74675,     0.74775,     0.74875,     0.74975,     0.75075,     0.75175,     0.75275,     0.75375,     0.75475,     0.75576,     0.75676,     0.75776,     0.75876,     0.75976,     0.76076,     0.76176,     0.76276,     0.76376,     0.76476,     0.76577,     0.76677,     0.76777,\n",
              "           0.76877,     0.76977,     0.77077,     0.77177,     0.77277,     0.77377,     0.77477,     0.77578,     0.77678,     0.77778,     0.77878,     0.77978,     0.78078,     0.78178,     0.78278,     0.78378,     0.78478,     0.78579,     0.78679,     0.78779,     0.78879,     0.78979,     0.79079,     0.79179,\n",
              "           0.79279,     0.79379,     0.79479,      0.7958,      0.7968,      0.7978,      0.7988,      0.7998,      0.8008,      0.8018,      0.8028,      0.8038,      0.8048,     0.80581,     0.80681,     0.80781,     0.80881,     0.80981,     0.81081,     0.81181,     0.81281,     0.81381,     0.81481,     0.81582,\n",
              "           0.81682,     0.81782,     0.81882,     0.81982,     0.82082,     0.82182,     0.82282,     0.82382,     0.82482,     0.82583,     0.82683,     0.82783,     0.82883,     0.82983,     0.83083,     0.83183,     0.83283,     0.83383,     0.83483,     0.83584,     0.83684,     0.83784,     0.83884,     0.83984,\n",
              "           0.84084,     0.84184,     0.84284,     0.84384,     0.84484,     0.84585,     0.84685,     0.84785,     0.84885,     0.84985,     0.85085,     0.85185,     0.85285,     0.85385,     0.85485,     0.85586,     0.85686,     0.85786,     0.85886,     0.85986,     0.86086,     0.86186,     0.86286,     0.86386,\n",
              "           0.86486,     0.86587,     0.86687,     0.86787,     0.86887,     0.86987,     0.87087,     0.87187,     0.87287,     0.87387,     0.87487,     0.87588,     0.87688,     0.87788,     0.87888,     0.87988,     0.88088,     0.88188,     0.88288,     0.88388,     0.88488,     0.88589,     0.88689,     0.88789,\n",
              "           0.88889,     0.88989,     0.89089,     0.89189,     0.89289,     0.89389,     0.89489,      0.8959,      0.8969,      0.8979,      0.8989,      0.8999,      0.9009,      0.9019,      0.9029,      0.9039,      0.9049,     0.90591,     0.90691,     0.90791,     0.90891,     0.90991,     0.91091,     0.91191,\n",
              "           0.91291,     0.91391,     0.91491,     0.91592,     0.91692,     0.91792,     0.91892,     0.91992,     0.92092,     0.92192,     0.92292,     0.92392,     0.92492,     0.92593,     0.92693,     0.92793,     0.92893,     0.92993,     0.93093,     0.93193,     0.93293,     0.93393,     0.93493,     0.93594,\n",
              "           0.93694,     0.93794,     0.93894,     0.93994,     0.94094,     0.94194,     0.94294,     0.94394,     0.94494,     0.94595,     0.94695,     0.94795,     0.94895,     0.94995,     0.95095,     0.95195,     0.95295,     0.95395,     0.95495,     0.95596,     0.95696,     0.95796,     0.95896,     0.95996,\n",
              "           0.96096,     0.96196,     0.96296,     0.96396,     0.96496,     0.96597,     0.96697,     0.96797,     0.96897,     0.96997,     0.97097,     0.97197,     0.97297,     0.97397,     0.97497,     0.97598,     0.97698,     0.97798,     0.97898,     0.97998,     0.98098,     0.98198,     0.98298,     0.98398,\n",
              "           0.98498,     0.98599,     0.98699,     0.98799,     0.98899,     0.98999,     0.99099,     0.99199,     0.99299,     0.99399,     0.99499,       0.996,       0.997,       0.998,       0.999,           1]), array([[    0.29932,     0.29932,     0.45656,     0.54085,     0.58238,     0.61458,     0.63869,     0.65576,     0.68391,     0.70044,     0.71196,     0.72507,      0.7292,     0.74263,     0.75058,     0.75709,     0.76236,     0.76578,     0.77368,     0.77757,     0.78332,     0.78844,     0.79322,\n",
              "            0.79429,     0.79879,     0.80148,     0.80561,     0.80703,     0.81404,     0.81635,     0.81828,      0.8236,     0.82601,      0.8273,     0.83085,     0.83339,     0.83518,     0.83712,     0.83941,     0.84241,     0.84565,     0.84874,     0.85047,     0.85167,     0.85243,     0.85235,\n",
              "            0.85228,      0.8522,     0.85212,     0.85204,     0.85245,     0.85529,      0.8562,     0.85712,     0.85818,     0.85939,     0.86054,      0.8612,     0.86186,     0.86252,     0.86317,     0.86367,     0.86411,     0.86455,       0.865,     0.86544,     0.86588,     0.86662,     0.86832,\n",
              "            0.86939,      0.8699,      0.8704,     0.87091,     0.87141,     0.87192,     0.87244,     0.87297,     0.87351,     0.87404,     0.87457,     0.87492,     0.87467,     0.87531,     0.87596,      0.8766,     0.87724,     0.87924,     0.88119,     0.88227,     0.88334,     0.88966,     0.89013,\n",
              "            0.89061,     0.89109,     0.89156,     0.89204,     0.89251,     0.89297,     0.89341,     0.89386,      0.8943,     0.89474,     0.89518,     0.89562,     0.89633,     0.89728,     0.89823,      0.8991,     0.89971,     0.90033,     0.90094,     0.90155,      0.9022,     0.90315,     0.90409,\n",
              "            0.90504,     0.90606,      0.9071,     0.90815,     0.90872,      0.9091,     0.90948,     0.90987,     0.91025,     0.91063,     0.91101,     0.91139,     0.91171,     0.91188,     0.91205,     0.91221,     0.91238,     0.91255,     0.91272,     0.91288,     0.91305,     0.91322,     0.91339,\n",
              "            0.91356,     0.91372,     0.91389,     0.91406,     0.91423,     0.91439,     0.91456,     0.91473,     0.91489,     0.91477,     0.91464,     0.91481,     0.91518,     0.91555,     0.91593,      0.9163,     0.91667,     0.91704,     0.91741,     0.91779,     0.91984,     0.92168,     0.92281,\n",
              "            0.92394,     0.92478,     0.92538,     0.92597,     0.92657,     0.92716,     0.92776,     0.92778,     0.92776,     0.92775,     0.92773,     0.92771,      0.9277,     0.92768,     0.92766,     0.92764,     0.92763,     0.92761,     0.92759,     0.92757,     0.92756,     0.92754,     0.92824,\n",
              "             0.9291,     0.92996,     0.93083,      0.9312,     0.93153,     0.93185,     0.93217,      0.9325,     0.93282,     0.93315,     0.93347,     0.93379,     0.93412,     0.93666,      0.9412,     0.94152,     0.94183,     0.94215,     0.94247,     0.94278,      0.9431,     0.94342,     0.94373,\n",
              "            0.94405,     0.94437,     0.94468,     0.94497,     0.94527,     0.94556,     0.94585,     0.94614,     0.94644,     0.94673,     0.94702,     0.94731,     0.94761,      0.9479,     0.94815,     0.94814,     0.94813,     0.94812,     0.94811,     0.94809,     0.94808,     0.94807,     0.94806,\n",
              "            0.94805,     0.94804,     0.94803,     0.94802,     0.94801,       0.948,     0.94799,     0.94798,     0.94797,     0.94796,     0.94804,     0.94822,      0.9484,     0.94858,     0.94876,     0.94894,     0.94912,      0.9493,     0.94948,     0.94966,     0.94983,     0.95001,     0.95019,\n",
              "            0.95037,     0.95055,     0.95073,     0.95091,     0.95109,     0.95127,     0.95145,     0.95147,     0.95145,     0.95142,      0.9514,     0.95137,     0.95135,     0.95132,     0.95131,     0.95131,     0.95131,      0.9513,      0.9513,      0.9513,      0.9513,     0.95129,     0.95129,\n",
              "            0.95129,     0.95129,     0.95129,     0.95128,     0.95128,     0.95128,     0.95128,     0.95127,     0.95127,     0.95127,     0.95127,     0.95127,     0.95126,     0.95126,     0.95126,     0.95126,     0.95126,     0.95125,     0.95125,     0.95125,     0.95125,     0.95124,     0.95124,\n",
              "            0.95124,     0.95124,     0.95124,     0.95123,     0.95123,     0.95123,     0.95123,     0.95123,     0.95122,     0.95122,     0.95122,     0.95122,     0.95121,     0.95121,     0.95121,     0.95121,     0.95121,      0.9512,      0.9512,      0.9512,      0.9512,     0.95119,     0.95119,\n",
              "            0.95119,     0.95119,     0.95119,     0.95118,     0.95118,     0.95118,     0.95118,     0.95118,     0.95117,     0.95117,     0.95117,     0.95117,     0.95116,     0.95116,     0.95116,     0.95116,     0.95116,     0.95115,     0.95115,     0.95115,     0.95115,     0.95115,     0.95114,\n",
              "            0.95114,     0.95114,     0.95114,     0.95113,     0.95113,     0.95113,     0.95113,     0.95111,     0.95109,     0.95107,     0.95105,     0.95102,       0.951,     0.95098,     0.95096,     0.95094,     0.95094,     0.95093,     0.95092,     0.95091,      0.9509,      0.9509,     0.95089,\n",
              "            0.95088,     0.95087,     0.95086,     0.95086,     0.95085,     0.95084,     0.95083,     0.95083,     0.95082,     0.95081,      0.9508,     0.95079,     0.95079,     0.95078,     0.95077,     0.95076,      0.9508,     0.95093,     0.95106,     0.95119,     0.95132,     0.95145,     0.95158,\n",
              "            0.95171,     0.95183,     0.95196,     0.95209,     0.95222,     0.95235,     0.95248,     0.95261,     0.95274,     0.95286,     0.95299,     0.95312,     0.95325,     0.95338,     0.95351,     0.95364,     0.95377,      0.9539,     0.95402,     0.95415,     0.95428,      0.9555,     0.95814,\n",
              "            0.95853,     0.95891,      0.9593,     0.95969,     0.96007,     0.96046,     0.96084,     0.96123,     0.96161,     0.96175,     0.96184,     0.96192,     0.96201,     0.96209,     0.96217,     0.96226,     0.96234,     0.96242,     0.96251,     0.96259,     0.96268,     0.96276,     0.96284,\n",
              "            0.96293,     0.96301,     0.96309,     0.96318,     0.96326,     0.96335,     0.96343,     0.96351,      0.9636,     0.96368,     0.96377,     0.96385,     0.96393,     0.96402,      0.9641,     0.96418,     0.96427,     0.96435,     0.96444,     0.96452,      0.9646,     0.96469,     0.96477,\n",
              "            0.96485,     0.96494,     0.96502,     0.96511,     0.96519,     0.96527,     0.96536,     0.96538,     0.96537,     0.96537,     0.96536,     0.96536,     0.96535,     0.96534,     0.96534,     0.96533,     0.96533,     0.96532,     0.96532,     0.96531,      0.9653,      0.9653,     0.96529,\n",
              "            0.96529,     0.96528,     0.96527,     0.96527,     0.96526,     0.96526,     0.96527,     0.96533,     0.96539,     0.96545,     0.96551,     0.96557,     0.96563,     0.96569,     0.96575,     0.96581,     0.96587,     0.96593,       0.966,     0.96606,     0.96612,     0.96618,     0.96624,\n",
              "             0.9663,     0.96636,     0.96642,     0.96648,     0.96654,      0.9666,     0.96667,     0.96673,     0.96679,     0.96685,     0.96691,     0.96697,     0.96703,     0.96709,     0.96715,     0.96721,     0.96727,     0.96733,      0.9674,     0.96746,     0.96752,     0.96758,     0.96764,\n",
              "             0.9677,     0.96776,     0.96782,     0.96788,     0.96794,       0.968,     0.96807,     0.96813,     0.96819,     0.96825,     0.96831,     0.96837,     0.96843,     0.96849,     0.96855,     0.96861,     0.96867,     0.96873,      0.9688,     0.96886,     0.96892,     0.96898,     0.96934,\n",
              "             0.9698,     0.97025,     0.97071,     0.97116,     0.97162,     0.97207,     0.97252,     0.97279,     0.97284,     0.97289,     0.97294,     0.97299,     0.97304,     0.97309,     0.97315,      0.9732,     0.97325,      0.9733,     0.97335,      0.9734,     0.97345,      0.9735,     0.97356,\n",
              "            0.97361,     0.97366,     0.97371,     0.97376,     0.97381,     0.97386,     0.97391,     0.97397,     0.97402,     0.97407,     0.97412,     0.97417,     0.97422,     0.97427,     0.97432,     0.97438,     0.97443,     0.97448,     0.97453,     0.97458,     0.97463,     0.97468,     0.97473,\n",
              "            0.97479,     0.97484,     0.97489,     0.97494,     0.97499,     0.97504,     0.97509,     0.97514,      0.9752,     0.97525,      0.9753,     0.97535,      0.9754,     0.97545,      0.9755,     0.97555,     0.97561,     0.97566,     0.97571,     0.97576,     0.97581,     0.97586,     0.97591,\n",
              "            0.97596,     0.97602,     0.97607,     0.97612,     0.97617,     0.97622,     0.97627,     0.97632,     0.97637,     0.97643,     0.97648,     0.97653,     0.97659,     0.97666,     0.97674,     0.97681,     0.97688,     0.97696,     0.97703,     0.97711,     0.97718,     0.97725,     0.97733,\n",
              "             0.9774,     0.97748,     0.97755,     0.97762,      0.9777,     0.97777,     0.97785,     0.97792,     0.97799,     0.97807,     0.97814,     0.97822,     0.97829,     0.97836,     0.97844,     0.97851,     0.97859,     0.97866,     0.97874,     0.97881,     0.97888,     0.97896,     0.97903,\n",
              "            0.97911,     0.97918,     0.97925,     0.97933,      0.9794,     0.97948,     0.97955,     0.97962,      0.9797,     0.97977,     0.97985,     0.97992,     0.97999,     0.98007,     0.98014,     0.98022,     0.98029,     0.98036,      0.9805,     0.98068,     0.98086,     0.98104,     0.98122,\n",
              "             0.9814,     0.98158,     0.98176,     0.98194,     0.98212,      0.9823,     0.98248,     0.98266,     0.98284,     0.98302,      0.9832,     0.98338,     0.98356,     0.98374,     0.98392,      0.9841,     0.98425,     0.98425,     0.98425,     0.98424,     0.98424,     0.98424,     0.98424,\n",
              "            0.98423,     0.98423,     0.98423,     0.98423,     0.98423,     0.98422,     0.98422,     0.98422,     0.98422,     0.98421,     0.98421,     0.98421,     0.98421,      0.9842,      0.9842,      0.9842,      0.9842,     0.98419,     0.98419,     0.98469,     0.98629,     0.98789,     0.98809,\n",
              "            0.98809,     0.98809,     0.98809,     0.98809,     0.98809,     0.98809,     0.98809,     0.98809,     0.98809,     0.98809,     0.98809,     0.98809,     0.98809,     0.98808,     0.98808,     0.98808,     0.98808,     0.98808,     0.98808,     0.98808,     0.98808,     0.98808,     0.98808,\n",
              "            0.98808,     0.98808,     0.98808,     0.98808,     0.98807,     0.98807,     0.98807,     0.98807,     0.98807,     0.98807,     0.98807,     0.98807,     0.98807,     0.98807,     0.98807,     0.98807,     0.98807,     0.98807,     0.98806,     0.98806,     0.98806,     0.98806,     0.98806,\n",
              "            0.98806,     0.98806,     0.98806,     0.98806,     0.98806,     0.98806,     0.98806,     0.98806,     0.98805,     0.98805,     0.98805,     0.98805,     0.98805,     0.98805,     0.98805,     0.98805,     0.98805,     0.98805,     0.98805,     0.98804,     0.98803,     0.98802,     0.98801,\n",
              "              0.988,     0.98799,     0.98798,     0.98798,     0.98797,     0.98796,     0.98796,     0.98795,     0.98795,     0.98794,     0.98794,     0.98793,     0.98793,     0.98792,     0.98792,     0.98791,     0.98791,      0.9879,     0.98789,     0.98788,     0.98787,     0.98786,     0.98785,\n",
              "            0.98785,     0.98784,     0.98784,     0.98783,     0.98783,     0.98782,     0.98781,     0.98781,      0.9878,     0.98779,     0.98779,     0.98778,     0.98777,     0.98777,     0.98776,     0.98775,     0.98774,     0.98773,     0.98772,     0.98771,      0.9877,     0.98769,     0.98768,\n",
              "            0.98767,     0.98766,     0.98765,     0.98764,     0.98764,     0.98763,     0.98763,     0.98762,     0.98761,     0.98761,      0.9876,     0.98759,     0.98757,     0.98756,     0.98754,     0.98752,     0.98751,     0.98748,     0.98745,     0.98738,     0.98736,     0.98734,     0.98732,\n",
              "            0.98731,     0.98729,     0.98725,     0.98722,     0.98718,     0.98714,     0.98711,     0.98708,     0.98701,       0.987,     0.98698,     0.98696,     0.98692,     0.98684,     0.98683,     0.98682,     0.98681,      0.9868,     0.98679,     0.99048,     0.99113,     0.99111,     0.99109,\n",
              "            0.99106,     0.99103,     0.99097,     0.99096,      0.9909,     0.99088,     0.99081,     0.99074,     0.99072,     0.99068,     0.99049,     0.99044,     0.99029,     0.99026,     0.99019,     0.99015,     0.99009,     0.99005,     0.98995,      0.9898,     0.99479,     0.99477,     0.99462,\n",
              "             0.9945,     0.99441,     0.99434,     0.99425,     0.99415,     0.99411,       0.994,     0.99377,     0.99365,     0.99356,           1,           1,           1,           1,           1,           1,           1,           1,           1,           1,           1,           1,           1,\n",
              "                  1,           1,           1,           1,           1,           1,           1,           1,           1,           1,           1,           1,           1,           1,           1,           1,           1,           1,           1,           1,           1,           1,           1,\n",
              "                  1,           1,           1,           1,           1,           1,           1,           1,           1,           1,           1,           1,           1,           1,           1,           1,           1,           1,           1,           1,           1,           1,           1,\n",
              "                  1,           1,           1,           1,           1,           1,           1,           1,           1,           1,           1]]), 'Confidence', 'Precision'], [array([          0,    0.001001,    0.002002,    0.003003,    0.004004,    0.005005,    0.006006,    0.007007,    0.008008,    0.009009,     0.01001,    0.011011,    0.012012,    0.013013,    0.014014,    0.015015,    0.016016,    0.017017,    0.018018,    0.019019,     0.02002,    0.021021,    0.022022,    0.023023,\n",
              "          0.024024,    0.025025,    0.026026,    0.027027,    0.028028,    0.029029,     0.03003,    0.031031,    0.032032,    0.033033,    0.034034,    0.035035,    0.036036,    0.037037,    0.038038,    0.039039,     0.04004,    0.041041,    0.042042,    0.043043,    0.044044,    0.045045,    0.046046,    0.047047,\n",
              "          0.048048,    0.049049,     0.05005,    0.051051,    0.052052,    0.053053,    0.054054,    0.055055,    0.056056,    0.057057,    0.058058,    0.059059,     0.06006,    0.061061,    0.062062,    0.063063,    0.064064,    0.065065,    0.066066,    0.067067,    0.068068,    0.069069,     0.07007,    0.071071,\n",
              "          0.072072,    0.073073,    0.074074,    0.075075,    0.076076,    0.077077,    0.078078,    0.079079,     0.08008,    0.081081,    0.082082,    0.083083,    0.084084,    0.085085,    0.086086,    0.087087,    0.088088,    0.089089,     0.09009,    0.091091,    0.092092,    0.093093,    0.094094,    0.095095,\n",
              "          0.096096,    0.097097,    0.098098,    0.099099,      0.1001,      0.1011,      0.1021,      0.1031,      0.1041,     0.10511,     0.10611,     0.10711,     0.10811,     0.10911,     0.11011,     0.11111,     0.11211,     0.11311,     0.11411,     0.11512,     0.11612,     0.11712,     0.11812,     0.11912,\n",
              "           0.12012,     0.12112,     0.12212,     0.12312,     0.12412,     0.12513,     0.12613,     0.12713,     0.12813,     0.12913,     0.13013,     0.13113,     0.13213,     0.13313,     0.13413,     0.13514,     0.13614,     0.13714,     0.13814,     0.13914,     0.14014,     0.14114,     0.14214,     0.14314,\n",
              "           0.14414,     0.14515,     0.14615,     0.14715,     0.14815,     0.14915,     0.15015,     0.15115,     0.15215,     0.15315,     0.15415,     0.15516,     0.15616,     0.15716,     0.15816,     0.15916,     0.16016,     0.16116,     0.16216,     0.16316,     0.16416,     0.16517,     0.16617,     0.16717,\n",
              "           0.16817,     0.16917,     0.17017,     0.17117,     0.17217,     0.17317,     0.17417,     0.17518,     0.17618,     0.17718,     0.17818,     0.17918,     0.18018,     0.18118,     0.18218,     0.18318,     0.18418,     0.18519,     0.18619,     0.18719,     0.18819,     0.18919,     0.19019,     0.19119,\n",
              "           0.19219,     0.19319,     0.19419,      0.1952,      0.1962,      0.1972,      0.1982,      0.1992,      0.2002,      0.2012,      0.2022,      0.2032,      0.2042,     0.20521,     0.20621,     0.20721,     0.20821,     0.20921,     0.21021,     0.21121,     0.21221,     0.21321,     0.21421,     0.21522,\n",
              "           0.21622,     0.21722,     0.21822,     0.21922,     0.22022,     0.22122,     0.22222,     0.22322,     0.22422,     0.22523,     0.22623,     0.22723,     0.22823,     0.22923,     0.23023,     0.23123,     0.23223,     0.23323,     0.23423,     0.23524,     0.23624,     0.23724,     0.23824,     0.23924,\n",
              "           0.24024,     0.24124,     0.24224,     0.24324,     0.24424,     0.24525,     0.24625,     0.24725,     0.24825,     0.24925,     0.25025,     0.25125,     0.25225,     0.25325,     0.25425,     0.25526,     0.25626,     0.25726,     0.25826,     0.25926,     0.26026,     0.26126,     0.26226,     0.26326,\n",
              "           0.26426,     0.26527,     0.26627,     0.26727,     0.26827,     0.26927,     0.27027,     0.27127,     0.27227,     0.27327,     0.27427,     0.27528,     0.27628,     0.27728,     0.27828,     0.27928,     0.28028,     0.28128,     0.28228,     0.28328,     0.28428,     0.28529,     0.28629,     0.28729,\n",
              "           0.28829,     0.28929,     0.29029,     0.29129,     0.29229,     0.29329,     0.29429,      0.2953,      0.2963,      0.2973,      0.2983,      0.2993,      0.3003,      0.3013,      0.3023,      0.3033,      0.3043,     0.30531,     0.30631,     0.30731,     0.30831,     0.30931,     0.31031,     0.31131,\n",
              "           0.31231,     0.31331,     0.31431,     0.31532,     0.31632,     0.31732,     0.31832,     0.31932,     0.32032,     0.32132,     0.32232,     0.32332,     0.32432,     0.32533,     0.32633,     0.32733,     0.32833,     0.32933,     0.33033,     0.33133,     0.33233,     0.33333,     0.33433,     0.33534,\n",
              "           0.33634,     0.33734,     0.33834,     0.33934,     0.34034,     0.34134,     0.34234,     0.34334,     0.34434,     0.34535,     0.34635,     0.34735,     0.34835,     0.34935,     0.35035,     0.35135,     0.35235,     0.35335,     0.35435,     0.35536,     0.35636,     0.35736,     0.35836,     0.35936,\n",
              "           0.36036,     0.36136,     0.36236,     0.36336,     0.36436,     0.36537,     0.36637,     0.36737,     0.36837,     0.36937,     0.37037,     0.37137,     0.37237,     0.37337,     0.37437,     0.37538,     0.37638,     0.37738,     0.37838,     0.37938,     0.38038,     0.38138,     0.38238,     0.38338,\n",
              "           0.38438,     0.38539,     0.38639,     0.38739,     0.38839,     0.38939,     0.39039,     0.39139,     0.39239,     0.39339,     0.39439,      0.3954,      0.3964,      0.3974,      0.3984,      0.3994,      0.4004,      0.4014,      0.4024,      0.4034,      0.4044,     0.40541,     0.40641,     0.40741,\n",
              "           0.40841,     0.40941,     0.41041,     0.41141,     0.41241,     0.41341,     0.41441,     0.41542,     0.41642,     0.41742,     0.41842,     0.41942,     0.42042,     0.42142,     0.42242,     0.42342,     0.42442,     0.42543,     0.42643,     0.42743,     0.42843,     0.42943,     0.43043,     0.43143,\n",
              "           0.43243,     0.43343,     0.43443,     0.43544,     0.43644,     0.43744,     0.43844,     0.43944,     0.44044,     0.44144,     0.44244,     0.44344,     0.44444,     0.44545,     0.44645,     0.44745,     0.44845,     0.44945,     0.45045,     0.45145,     0.45245,     0.45345,     0.45445,     0.45546,\n",
              "           0.45646,     0.45746,     0.45846,     0.45946,     0.46046,     0.46146,     0.46246,     0.46346,     0.46446,     0.46547,     0.46647,     0.46747,     0.46847,     0.46947,     0.47047,     0.47147,     0.47247,     0.47347,     0.47447,     0.47548,     0.47648,     0.47748,     0.47848,     0.47948,\n",
              "           0.48048,     0.48148,     0.48248,     0.48348,     0.48448,     0.48549,     0.48649,     0.48749,     0.48849,     0.48949,     0.49049,     0.49149,     0.49249,     0.49349,     0.49449,      0.4955,      0.4965,      0.4975,      0.4985,      0.4995,      0.5005,      0.5015,      0.5025,      0.5035,\n",
              "            0.5045,     0.50551,     0.50651,     0.50751,     0.50851,     0.50951,     0.51051,     0.51151,     0.51251,     0.51351,     0.51451,     0.51552,     0.51652,     0.51752,     0.51852,     0.51952,     0.52052,     0.52152,     0.52252,     0.52352,     0.52452,     0.52553,     0.52653,     0.52753,\n",
              "           0.52853,     0.52953,     0.53053,     0.53153,     0.53253,     0.53353,     0.53453,     0.53554,     0.53654,     0.53754,     0.53854,     0.53954,     0.54054,     0.54154,     0.54254,     0.54354,     0.54454,     0.54555,     0.54655,     0.54755,     0.54855,     0.54955,     0.55055,     0.55155,\n",
              "           0.55255,     0.55355,     0.55455,     0.55556,     0.55656,     0.55756,     0.55856,     0.55956,     0.56056,     0.56156,     0.56256,     0.56356,     0.56456,     0.56557,     0.56657,     0.56757,     0.56857,     0.56957,     0.57057,     0.57157,     0.57257,     0.57357,     0.57457,     0.57558,\n",
              "           0.57658,     0.57758,     0.57858,     0.57958,     0.58058,     0.58158,     0.58258,     0.58358,     0.58458,     0.58559,     0.58659,     0.58759,     0.58859,     0.58959,     0.59059,     0.59159,     0.59259,     0.59359,     0.59459,      0.5956,      0.5966,      0.5976,      0.5986,      0.5996,\n",
              "            0.6006,      0.6016,      0.6026,      0.6036,      0.6046,     0.60561,     0.60661,     0.60761,     0.60861,     0.60961,     0.61061,     0.61161,     0.61261,     0.61361,     0.61461,     0.61562,     0.61662,     0.61762,     0.61862,     0.61962,     0.62062,     0.62162,     0.62262,     0.62362,\n",
              "           0.62462,     0.62563,     0.62663,     0.62763,     0.62863,     0.62963,     0.63063,     0.63163,     0.63263,     0.63363,     0.63463,     0.63564,     0.63664,     0.63764,     0.63864,     0.63964,     0.64064,     0.64164,     0.64264,     0.64364,     0.64464,     0.64565,     0.64665,     0.64765,\n",
              "           0.64865,     0.64965,     0.65065,     0.65165,     0.65265,     0.65365,     0.65465,     0.65566,     0.65666,     0.65766,     0.65866,     0.65966,     0.66066,     0.66166,     0.66266,     0.66366,     0.66466,     0.66567,     0.66667,     0.66767,     0.66867,     0.66967,     0.67067,     0.67167,\n",
              "           0.67267,     0.67367,     0.67467,     0.67568,     0.67668,     0.67768,     0.67868,     0.67968,     0.68068,     0.68168,     0.68268,     0.68368,     0.68468,     0.68569,     0.68669,     0.68769,     0.68869,     0.68969,     0.69069,     0.69169,     0.69269,     0.69369,     0.69469,      0.6957,\n",
              "            0.6967,      0.6977,      0.6987,      0.6997,      0.7007,      0.7017,      0.7027,      0.7037,      0.7047,     0.70571,     0.70671,     0.70771,     0.70871,     0.70971,     0.71071,     0.71171,     0.71271,     0.71371,     0.71471,     0.71572,     0.71672,     0.71772,     0.71872,     0.71972,\n",
              "           0.72072,     0.72172,     0.72272,     0.72372,     0.72472,     0.72573,     0.72673,     0.72773,     0.72873,     0.72973,     0.73073,     0.73173,     0.73273,     0.73373,     0.73473,     0.73574,     0.73674,     0.73774,     0.73874,     0.73974,     0.74074,     0.74174,     0.74274,     0.74374,\n",
              "           0.74474,     0.74575,     0.74675,     0.74775,     0.74875,     0.74975,     0.75075,     0.75175,     0.75275,     0.75375,     0.75475,     0.75576,     0.75676,     0.75776,     0.75876,     0.75976,     0.76076,     0.76176,     0.76276,     0.76376,     0.76476,     0.76577,     0.76677,     0.76777,\n",
              "           0.76877,     0.76977,     0.77077,     0.77177,     0.77277,     0.77377,     0.77477,     0.77578,     0.77678,     0.77778,     0.77878,     0.77978,     0.78078,     0.78178,     0.78278,     0.78378,     0.78478,     0.78579,     0.78679,     0.78779,     0.78879,     0.78979,     0.79079,     0.79179,\n",
              "           0.79279,     0.79379,     0.79479,      0.7958,      0.7968,      0.7978,      0.7988,      0.7998,      0.8008,      0.8018,      0.8028,      0.8038,      0.8048,     0.80581,     0.80681,     0.80781,     0.80881,     0.80981,     0.81081,     0.81181,     0.81281,     0.81381,     0.81481,     0.81582,\n",
              "           0.81682,     0.81782,     0.81882,     0.81982,     0.82082,     0.82182,     0.82282,     0.82382,     0.82482,     0.82583,     0.82683,     0.82783,     0.82883,     0.82983,     0.83083,     0.83183,     0.83283,     0.83383,     0.83483,     0.83584,     0.83684,     0.83784,     0.83884,     0.83984,\n",
              "           0.84084,     0.84184,     0.84284,     0.84384,     0.84484,     0.84585,     0.84685,     0.84785,     0.84885,     0.84985,     0.85085,     0.85185,     0.85285,     0.85385,     0.85485,     0.85586,     0.85686,     0.85786,     0.85886,     0.85986,     0.86086,     0.86186,     0.86286,     0.86386,\n",
              "           0.86486,     0.86587,     0.86687,     0.86787,     0.86887,     0.86987,     0.87087,     0.87187,     0.87287,     0.87387,     0.87487,     0.87588,     0.87688,     0.87788,     0.87888,     0.87988,     0.88088,     0.88188,     0.88288,     0.88388,     0.88488,     0.88589,     0.88689,     0.88789,\n",
              "           0.88889,     0.88989,     0.89089,     0.89189,     0.89289,     0.89389,     0.89489,      0.8959,      0.8969,      0.8979,      0.8989,      0.8999,      0.9009,      0.9019,      0.9029,      0.9039,      0.9049,     0.90591,     0.90691,     0.90791,     0.90891,     0.90991,     0.91091,     0.91191,\n",
              "           0.91291,     0.91391,     0.91491,     0.91592,     0.91692,     0.91792,     0.91892,     0.91992,     0.92092,     0.92192,     0.92292,     0.92392,     0.92492,     0.92593,     0.92693,     0.92793,     0.92893,     0.92993,     0.93093,     0.93193,     0.93293,     0.93393,     0.93493,     0.93594,\n",
              "           0.93694,     0.93794,     0.93894,     0.93994,     0.94094,     0.94194,     0.94294,     0.94394,     0.94494,     0.94595,     0.94695,     0.94795,     0.94895,     0.94995,     0.95095,     0.95195,     0.95295,     0.95395,     0.95495,     0.95596,     0.95696,     0.95796,     0.95896,     0.95996,\n",
              "           0.96096,     0.96196,     0.96296,     0.96396,     0.96496,     0.96597,     0.96697,     0.96797,     0.96897,     0.96997,     0.97097,     0.97197,     0.97297,     0.97397,     0.97497,     0.97598,     0.97698,     0.97798,     0.97898,     0.97998,     0.98098,     0.98198,     0.98298,     0.98398,\n",
              "           0.98498,     0.98599,     0.98699,     0.98799,     0.98899,     0.98999,     0.99099,     0.99199,     0.99299,     0.99399,     0.99499,       0.996,       0.997,       0.998,       0.999,           1]), array([[    0.99248,     0.99248,     0.98872,     0.98872,     0.98872,     0.98872,     0.98496,     0.98496,     0.98496,     0.98496,     0.98496,     0.98496,      0.9812,      0.9812,      0.9812,      0.9812,      0.9812,      0.9812,      0.9812,      0.9812,      0.9812,      0.9812,     0.98067,\n",
              "            0.97744,     0.97744,     0.97744,     0.97744,     0.97744,     0.97744,     0.97744,     0.97744,     0.97744,     0.97744,     0.97744,     0.97744,     0.97744,     0.97744,     0.97744,     0.97744,     0.97744,     0.97744,     0.97744,     0.97744,     0.97744,     0.97724,     0.97664,\n",
              "            0.97603,     0.97543,     0.97483,     0.97423,     0.97368,     0.97368,     0.97368,     0.97368,     0.97368,     0.97368,     0.97368,     0.97368,     0.97368,     0.97368,     0.97368,     0.97368,     0.97368,     0.97368,     0.97368,     0.97368,     0.97368,     0.97368,     0.97368,\n",
              "            0.97368,     0.97368,     0.97368,     0.97368,     0.97368,     0.97368,     0.97368,     0.97368,     0.97368,     0.97368,     0.97368,     0.97301,     0.96992,     0.96992,     0.96992,     0.96992,     0.96992,     0.96992,     0.96992,     0.96992,     0.96992,     0.96992,     0.96992,\n",
              "            0.96992,     0.96992,     0.96992,     0.96992,     0.96992,     0.96992,     0.96992,     0.96992,     0.96992,     0.96992,     0.96992,     0.96992,     0.96992,     0.96992,     0.96992,     0.96992,     0.96992,     0.96992,     0.96992,     0.96992,     0.96992,     0.96992,     0.96992,\n",
              "            0.96992,     0.96992,     0.96992,     0.96992,     0.96992,     0.96992,     0.96992,     0.96992,     0.96992,     0.96992,     0.96992,     0.96992,     0.96992,     0.96992,     0.96992,     0.96992,     0.96992,     0.96992,     0.96992,     0.96992,     0.96992,     0.96992,     0.96992,\n",
              "            0.96992,     0.96992,     0.96992,     0.96992,     0.96992,     0.96992,     0.96992,     0.96992,     0.96988,     0.96834,      0.9668,     0.96617,     0.96617,     0.96617,     0.96617,     0.96617,     0.96617,     0.96617,     0.96617,     0.96617,     0.96617,     0.96617,     0.96617,\n",
              "            0.96617,     0.96617,     0.96617,     0.96617,     0.96617,     0.96617,     0.96617,     0.96593,     0.96569,     0.96544,     0.96519,     0.96494,     0.96469,     0.96444,     0.96419,     0.96395,      0.9637,     0.96345,      0.9632,     0.96295,      0.9627,     0.96245,     0.96241,\n",
              "            0.96241,     0.96241,     0.96241,     0.96241,     0.96241,     0.96241,     0.96241,     0.96241,     0.96241,     0.96241,     0.96241,     0.96241,     0.96241,     0.96241,     0.96241,     0.96241,     0.96241,     0.96241,     0.96241,     0.96241,     0.96241,     0.96241,     0.96241,\n",
              "            0.96241,     0.96241,     0.96241,     0.96241,     0.96241,     0.96241,     0.96241,     0.96241,     0.96241,     0.96241,     0.96241,     0.96241,     0.96241,     0.96241,     0.96238,     0.96217,     0.96197,     0.96177,     0.96157,     0.96137,     0.96117,     0.96097,     0.96076,\n",
              "            0.96056,     0.96036,     0.96016,     0.95996,     0.95976,     0.95955,     0.95935,     0.95915,     0.95895,     0.95875,     0.95865,     0.95865,     0.95865,     0.95865,     0.95865,     0.95865,     0.95865,     0.95865,     0.95865,     0.95865,     0.95865,     0.95865,     0.95865,\n",
              "            0.95865,     0.95865,     0.95865,     0.95865,     0.95865,     0.95865,     0.95865,     0.95825,     0.95772,     0.95719,     0.95666,     0.95613,      0.9556,     0.95507,     0.95486,     0.95481,     0.95477,     0.95472,     0.95468,     0.95464,     0.95459,     0.95455,      0.9545,\n",
              "            0.95446,     0.95441,     0.95437,     0.95432,     0.95428,     0.95424,     0.95419,     0.95415,      0.9541,     0.95406,     0.95401,     0.95397,     0.95392,     0.95388,     0.95384,     0.95379,     0.95375,      0.9537,     0.95366,     0.95361,     0.95357,     0.95353,     0.95348,\n",
              "            0.95344,     0.95339,     0.95335,      0.9533,     0.95326,     0.95321,     0.95317,     0.95313,     0.95308,     0.95304,     0.95299,     0.95295,      0.9529,     0.95286,     0.95281,     0.95277,     0.95273,     0.95268,     0.95264,     0.95259,     0.95255,      0.9525,     0.95246,\n",
              "            0.95241,     0.95237,     0.95233,     0.95228,     0.95224,     0.95219,     0.95215,      0.9521,     0.95206,     0.95201,     0.95197,     0.95193,     0.95188,     0.95184,     0.95179,     0.95175,      0.9517,     0.95166,     0.95161,     0.95157,     0.95153,     0.95148,     0.95144,\n",
              "            0.95139,     0.95135,      0.9513,     0.95126,     0.95122,     0.95117,     0.95111,      0.9507,     0.95028,     0.94986,     0.94945,     0.94903,     0.94861,      0.9482,     0.94778,     0.94737,     0.94721,     0.94705,     0.94689,     0.94673,     0.94657,     0.94641,     0.94625,\n",
              "             0.9461,     0.94594,     0.94578,     0.94562,     0.94546,      0.9453,     0.94514,     0.94498,     0.94482,     0.94467,     0.94451,     0.94435,     0.94419,     0.94403,     0.94387,     0.94371,     0.94361,     0.94361,     0.94361,     0.94361,     0.94361,     0.94361,     0.94361,\n",
              "            0.94361,     0.94361,     0.94361,     0.94361,     0.94361,     0.94361,     0.94361,     0.94361,     0.94361,     0.94361,     0.94361,     0.94361,     0.94361,     0.94361,     0.94361,     0.94361,     0.94361,     0.94361,     0.94361,     0.94361,     0.94361,     0.94361,     0.94361,\n",
              "            0.94361,     0.94361,     0.94361,     0.94361,     0.94361,     0.94361,     0.94361,     0.94361,     0.94361,     0.94361,     0.94361,     0.94361,     0.94361,     0.94361,     0.94361,     0.94361,     0.94361,     0.94361,     0.94361,     0.94361,     0.94361,     0.94361,     0.94361,\n",
              "            0.94361,     0.94361,     0.94361,     0.94361,     0.94361,     0.94361,     0.94361,     0.94361,     0.94361,     0.94361,     0.94361,     0.94361,     0.94361,     0.94361,     0.94361,     0.94361,     0.94361,     0.94361,     0.94361,     0.94361,     0.94361,     0.94361,     0.94361,\n",
              "            0.94361,     0.94361,     0.94361,     0.94361,     0.94361,     0.94361,     0.94361,      0.9435,     0.94333,     0.94316,     0.94299,     0.94283,     0.94266,     0.94249,     0.94232,     0.94216,     0.94199,     0.94182,     0.94165,     0.94149,     0.94132,     0.94115,     0.94098,\n",
              "            0.94082,     0.94065,     0.94048,     0.94031,     0.94015,     0.93998,     0.93985,     0.93985,     0.93985,     0.93985,     0.93985,     0.93985,     0.93985,     0.93985,     0.93985,     0.93985,     0.93985,     0.93985,     0.93985,     0.93985,     0.93985,     0.93985,     0.93985,\n",
              "            0.93985,     0.93985,     0.93985,     0.93985,     0.93985,     0.93985,     0.93985,     0.93985,     0.93985,     0.93985,     0.93985,     0.93985,     0.93985,     0.93985,     0.93985,     0.93985,     0.93985,     0.93985,     0.93985,     0.93985,     0.93985,     0.93985,     0.93985,\n",
              "            0.93985,     0.93985,     0.93985,     0.93985,     0.93985,     0.93985,     0.93985,     0.93985,     0.93985,     0.93985,     0.93985,     0.93985,     0.93985,     0.93985,     0.93985,     0.93985,     0.93985,     0.93985,     0.93985,     0.93985,     0.93985,     0.93985,     0.93985,\n",
              "            0.93985,     0.93985,     0.93985,     0.93985,     0.93985,     0.93985,     0.93985,     0.93985,     0.93985,     0.93985,     0.93985,     0.93985,     0.93985,     0.93985,     0.93985,     0.93985,     0.93985,     0.93985,     0.93985,     0.93985,     0.93985,     0.93985,     0.93985,\n",
              "            0.93985,     0.93985,     0.93985,     0.93985,     0.93985,     0.93985,     0.93985,     0.93985,     0.93985,     0.93985,     0.93985,     0.93985,     0.93985,     0.93985,     0.93985,     0.93985,     0.93985,     0.93985,     0.93985,     0.93985,     0.93985,     0.93985,     0.93985,\n",
              "            0.93985,     0.93985,     0.93985,     0.93985,     0.93985,     0.93985,     0.93985,     0.93985,     0.93985,     0.93985,     0.93985,     0.93985,     0.93985,     0.93985,     0.93985,     0.93985,     0.93985,     0.93985,     0.93985,     0.93985,     0.93985,     0.93985,     0.93985,\n",
              "            0.93985,     0.93985,     0.93985,     0.93985,     0.93985,     0.93985,     0.93985,     0.93985,     0.93985,     0.93985,     0.93985,     0.93985,     0.93985,     0.93985,     0.93985,     0.93985,     0.93985,     0.93985,     0.93985,     0.93985,     0.93985,     0.93985,     0.93985,\n",
              "            0.93985,     0.93985,     0.93985,     0.93985,     0.93985,     0.93985,     0.93985,     0.93985,     0.93985,     0.93985,     0.93985,     0.93985,     0.93985,     0.93985,     0.93985,     0.93985,     0.93985,     0.93985,     0.93985,     0.93985,     0.93985,     0.93985,     0.93985,\n",
              "            0.93985,     0.93985,     0.93985,     0.93985,     0.93985,     0.93985,     0.93985,     0.93985,     0.93985,     0.93985,     0.93985,     0.93985,     0.93985,     0.93985,     0.93985,     0.93985,     0.93985,     0.93985,     0.93985,     0.93985,     0.93985,     0.93985,     0.93985,\n",
              "            0.93985,     0.93985,     0.93985,     0.93985,     0.93985,     0.93985,     0.93985,     0.93985,     0.93985,     0.93985,     0.93985,     0.93985,     0.93985,     0.93985,     0.93985,     0.93985,     0.93983,     0.93968,     0.93954,     0.93939,     0.93924,      0.9391,     0.93895,\n",
              "            0.93881,     0.93866,     0.93852,     0.93837,     0.93823,     0.93808,     0.93794,     0.93779,     0.93764,      0.9375,     0.93735,     0.93721,     0.93706,     0.93692,     0.93677,     0.93663,     0.93648,     0.93634,     0.93619,     0.93609,     0.93609,     0.93609,     0.93604,\n",
              "            0.93598,     0.93593,     0.93587,     0.93581,     0.93576,      0.9357,     0.93564,     0.93558,     0.93553,     0.93547,     0.93541,     0.93536,      0.9353,     0.93524,     0.93518,     0.93513,     0.93507,     0.93501,     0.93496,      0.9349,     0.93484,     0.93478,     0.93473,\n",
              "            0.93467,     0.93461,     0.93456,      0.9345,     0.93444,     0.93438,     0.93433,     0.93427,     0.93421,     0.93416,      0.9341,     0.93404,     0.93399,     0.93393,     0.93387,     0.93381,     0.93376,      0.9337,     0.93364,     0.93359,     0.93353,     0.93347,     0.93341,\n",
              "            0.93336,      0.9333,     0.93324,     0.93319,     0.93313,     0.93307,     0.93301,     0.93296,      0.9329,     0.93284,     0.93279,     0.93273,     0.93267,     0.93262,     0.93256,      0.9325,     0.93244,     0.93239,     0.93232,     0.93155,     0.93077,        0.93,     0.92923,\n",
              "            0.92849,     0.92794,     0.92739,     0.92684,     0.92629,     0.92574,     0.92519,     0.92469,     0.92431,     0.92392,     0.92354,     0.92315,     0.92276,     0.92238,     0.92199,     0.92161,     0.92122,     0.92066,     0.91996,     0.91926,     0.91856,     0.91786,     0.91721,\n",
              "            0.91678,     0.91636,     0.91593,      0.9155,     0.91507,     0.91464,     0.91421,     0.91379,     0.91331,     0.91276,     0.91221,     0.91166,     0.91111,     0.91056,        0.91,     0.90937,     0.90867,     0.90797,     0.90727,     0.90656,     0.90583,     0.90497,     0.90412,\n",
              "            0.90326,      0.9024,      0.9019,     0.90147,     0.90105,     0.90062,     0.90019,     0.89976,     0.89933,      0.8989,     0.89845,     0.89735,     0.89624,     0.89514,     0.89393,     0.89264,     0.89136,     0.88962,     0.88769,      0.8823,     0.88076,     0.87935,     0.87825,\n",
              "            0.87715,     0.87605,     0.87363,     0.87106,     0.86849,     0.86592,     0.86368,     0.86175,     0.85707,     0.85596,     0.85486,     0.85376,     0.85086,     0.84573,     0.84503,     0.84433,     0.84363,     0.84293,     0.84223,     0.84211,     0.84047,     0.83854,     0.83603,\n",
              "            0.83347,      0.8309,     0.82557,     0.82403,     0.81852,     0.81659,     0.81053,     0.80428,     0.80235,     0.79945,     0.78309,     0.77924,     0.76645,     0.76452,     0.75865,     0.75608,     0.75101,     0.74844,     0.74099,      0.7299,     0.71844,     0.71439,      0.6955,\n",
              "            0.68028,     0.66881,     0.66022,     0.64964,     0.63863,     0.63478,     0.62276,     0.60001,     0.58855,     0.57989,     0.57416,     0.56543,     0.54268,      0.5237,     0.50987,     0.50076,      0.4893,     0.47576,     0.45885,     0.44362,      0.3908,     0.37557,     0.35659,\n",
              "            0.33385,     0.31532,     0.29963,     0.26937,     0.25415,     0.23252,     0.22995,     0.21223,     0.19437,     0.18929,     0.18102,     0.16636,     0.15452,     0.14343,     0.11317,     0.10912,     0.10527,    0.090165,    0.087596,    0.084308,    0.074815,    0.070495,    0.059029,\n",
              "           0.050097,    0.036845,    0.032149,    0.028197,     0.01811,    0.015541,    0.014005,     0.01272,    0.011436,   0.0090241,   0.0043276,           0,           0,           0,           0,           0,           0,           0,           0,           0,           0,           0,           0,\n",
              "                  0,           0,           0,           0,           0,           0,           0,           0,           0,           0,           0]]), 'Confidence', 'Recall']]\n",
              "fitness: 0.9149465545023626\n",
              "keys: ['metrics/precision(B)', 'metrics/recall(B)', 'metrics/mAP50(B)', 'metrics/mAP50-95(B)']\n",
              "maps: array([     0.9076])\n",
              "names: {0: 'Keyboard'}\n",
              "plot: True\n",
              "results_dict: {'metrics/precision(B)': 0.9880938901055965, 'metrics/recall(B)': 0.935983379648097, 'metrics/mAP50(B)': 0.9810531859835516, 'metrics/mAP50-95(B)': 0.907601373226675, 'fitness': 0.9149465545023626}\n",
              "save_dir: PosixPath('runs/detect/train')\n",
              "speed: {'preprocess': 0.19738253425149357, 'inference': 1.9883889110148454, 'loss': 0.0004220743473170518, 'postprocess': 1.8119952257941752}\n",
              "task: 'detect'"
            ]
          },
          "metadata": {},
          "execution_count": 4
        }
      ]
    },
    {
      "cell_type": "code",
      "source": [
        "model.save(\"/content/drive/MyDrive/keyboard_detection_model.pt\")\n"
      ],
      "metadata": {
        "id": "5JZbrnVCzZep"
      },
      "execution_count": null,
      "outputs": []
    },
    {
      "cell_type": "code",
      "source": [
        "import cv2\n",
        "from ultralytics import YOLO\n",
        "\n",
        "# Load the trained model\n",
        "model = YOLO('/content/drive/MyDrive/keyboard_detection_model.pt')  # Update path if necessary\n",
        "\n",
        "# Open the webcam\n",
        "cap = cv2.VideoCapture(1)  # 0 is typically the default webcam\n",
        "\n",
        "while cap.isOpened():\n",
        "    ret, frame = cap.read()\n",
        "    if not ret:\n",
        "        break\n",
        "\n",
        "    # Run inference\n",
        "    results = model(frame)\n",
        "\n",
        "    # Draw the detections on the frame\n",
        "    annotated_frame = results[0].plot()\n",
        "\n",
        "    # Display the frame\n",
        "    cv2.imshow('Webcam', annotated_frame)\n",
        "\n",
        "    # Press 'q' to exit\n",
        "    if cv2.waitKey(1) & 0xFF == ord('q'):\n",
        "        break\n",
        "\n",
        "# Release the webcam and close windows\n",
        "cap.release()\n",
        "cv2.destroyAllWindows()\n"
      ],
      "metadata": {
        "id": "tEBnSxOP3rX8"
      },
      "execution_count": null,
      "outputs": []
    }
  ]
}